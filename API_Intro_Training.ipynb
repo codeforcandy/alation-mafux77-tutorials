{
  "nbformat": 4,
  "nbformat_minor": 0,
  "metadata": {
    "colab": {
      "name": "API Intro Training",
      "provenance": [],
      "authorship_tag": "ABX9TyPcsRTP1Go6zU4YS2egwaFE",
      "include_colab_link": true
    },
    "kernelspec": {
      "name": "python3",
      "display_name": "Python 3"
    },
    "language_info": {
      "name": "python"
    }
  },
  "cells": [
    {
      "cell_type": "markdown",
      "metadata": {
        "id": "view-in-github",
        "colab_type": "text"
      },
      "source": [
        "<a href=\"https://colab.research.google.com/github/mafux777/Alation_Article/blob/master/API_Intro_Training.ipynb\" target=\"_parent\"><img src=\"https://colab.research.google.com/assets/colab-badge.svg\" alt=\"Open In Colab\"/></a>"
      ]
    },
    {
      "cell_type": "code",
      "execution_count": 2,
      "metadata": {
        "id": "xkE4CKrUqqZR"
      },
      "outputs": [],
      "source": [
        "import requests\n",
        "import json\n",
        "import pandas as pd\n",
        "\n",
        "\n",
        "# Prepare the REST API call parameters\n",
        "host = \"https://2022-2-sandbox.alationproserv.com\"\n",
        "headers = dict(token='fQyJXBl_n1ZFuX3rHwJNAHRNqu7tjR1tB7pFQjiIDMg')\n",
        "\n"
      ]
    },
    {
      "cell_type": "code",
      "source": [
        "api = \"/integration/v1/article/\"\n",
        "\n",
        "my_article = {\n",
        "    \"title\": \"My first article via API\",\n",
        "    \"body\": \"<p>First row</p><p>Second row</p>\"\n",
        "}\n",
        "\n",
        "\n",
        "articles = requests.post(f\"{host}{api}\", headers=headers, json=my_article).json()\n",
        "\n",
        "articles"
      ],
      "metadata": {
        "colab": {
          "base_uri": "https://localhost:8080/"
        },
        "id": "NGFDW4svUi7n",
        "outputId": "a4f9cb42-739b-46cc-ca4b-4ab674aea26f"
      },
      "execution_count": 7,
      "outputs": [
        {
          "output_type": "execute_result",
          "data": {
            "text/plain": [
              "{'agile_approval_enabled': False,\n",
              " 'attachments': [],\n",
              " 'author': {'display_name': 'Matthias Funke',\n",
              "  'email': 'matthias.funke@alation.com',\n",
              "  'id': 1,\n",
              "  'url': '/user/1/',\n",
              "  'username': 'matthias.funke@alation.com'},\n",
              " 'body': '<div><p>First row</p><p>Second row</p></div>',\n",
              " 'children': [],\n",
              " 'custom_fields': [],\n",
              " 'custom_templates': [],\n",
              " 'editors': [{'display_name': 'Matthias Funke',\n",
              "   'email': 'matthias.funke@alation.com',\n",
              "   'id': 1,\n",
              "   'url': '/user/1/',\n",
              "   'username': 'matthias.funke@alation.com'}],\n",
              " 'has_children': False,\n",
              " 'id': 57997,\n",
              " 'private': False,\n",
              " 'title': 'My first article via API',\n",
              " 'ts_created': '2022-07-05T09:47:03.558815+02:00',\n",
              " 'ts_updated': '2022-07-05T09:47:03.576843+02:00',\n",
              " 'url': '/article/57997/my-first-article-via-api'}"
            ]
          },
          "metadata": {},
          "execution_count": 7
        }
      ]
    },
    {
      "cell_type": "code",
      "source": [
        "api = \"/integration/v1/article/\"\n",
        "id = 5\n",
        "\n",
        "articles = requests.get(f\"{host}{api}{id}\", headers=headers).json()\n",
        "\n",
        "articles"
      ],
      "metadata": {
        "colab": {
          "base_uri": "https://localhost:8080/"
        },
        "id": "v9xhJuYprANs",
        "outputId": "9c88d28a-593b-4903-ace9-a573c036c941"
      },
      "execution_count": 5,
      "outputs": [
        {
          "output_type": "execute_result",
          "data": {
            "text/plain": [
              "{'agile_approval_enabled': False,\n",
              " 'attachments': [],\n",
              " 'author': {'display_name': 'Matthias Funke',\n",
              "  'email': 'matthias.funke@alation.com',\n",
              "  'id': 1,\n",
              "  'url': '/user/1/',\n",
              "  'username': 'matthias.funke@alation.com'},\n",
              " 'body': '<p>This is an article uploaded via CSV\\n</p>',\n",
              " 'children': [],\n",
              " 'custom_fields': [],\n",
              " 'custom_templates': [{'id': 37, 'title': 'Aubergine Testing'}],\n",
              " 'editors': [{'display_name': 'Matthias Funke',\n",
              "   'email': 'matthias.funke@alation.com',\n",
              "   'id': 1,\n",
              "   'url': '/user/1/',\n",
              "   'username': 'matthias.funke@alation.com'}],\n",
              " 'has_children': False,\n",
              " 'id': 5,\n",
              " 'private': False,\n",
              " 'title': 'Ethereum Classic',\n",
              " 'ts_created': '2021-09-29T15:33:43.348095+02:00',\n",
              " 'ts_updated': '2021-09-29T15:33:43.785600+02:00',\n",
              " 'url': '/article/5/ethereum-classic'}"
            ]
          },
          "metadata": {},
          "execution_count": 5
        }
      ]
    },
    {
      "cell_type": "code",
      "source": [
        "api = \"/integration/v2/schema/\"\n",
        "\n",
        "my_schema = {\n",
        "    \"title\": \"My first schema title via API\",\n",
        "    \"description\": \"<p>First row</p><p>Second row</p>\"\n",
        "}\n",
        "\n",
        "my_query = {\n",
        "    \"id\" : 71\n",
        "}\n",
        "\n",
        "schema = requests.get(f\"{host}{api}\", headers=headers, params=my_query).json()\n",
        "\n",
        "schema"
      ],
      "metadata": {
        "id": "qQGL0n3LrEeT",
        "colab": {
          "base_uri": "https://localhost:8080/"
        },
        "outputId": "530a1ed0-c913-4645-c346-e9808f0f7f54"
      },
      "execution_count": 16,
      "outputs": [
        {
          "output_type": "execute_result",
          "data": {
            "text/plain": [
              "[{'custom_fields': [],\n",
              "  'db_comment': None,\n",
              "  'description': '',\n",
              "  'ds_id': 30,\n",
              "  'id': 71,\n",
              "  'key': '30.awsdatacatalog.raiders',\n",
              "  'name': 'AwsDataCatalog.raiders',\n",
              "  'title': '',\n",
              "  'url': '/schema/71/'}]"
            ]
          },
          "metadata": {},
          "execution_count": 16
        }
      ]
    },
    {
      "cell_type": "code",
      "source": [
        "api = \"/api/v1/bulk_metadata/custom_fields/default/mixed\"\n",
        "\n",
        "payload = {\n",
        "    \"key\":schema[0]['key'],\n",
        "    \"title\":\"A new title\",\n",
        "    \"description\": \"An awesome desc\",\n",
        "    \"color\": \"red\"\n",
        "}\n",
        "\n",
        "schema2 = requests.post(f\"{host}{api}\", headers=headers, json=payload).json()\n",
        "schema2\n"
      ],
      "metadata": {
        "colab": {
          "base_uri": "https://localhost:8080/"
        },
        "id": "cSpslBlzesoy",
        "outputId": "d84dac19-129e-4f05-8f66-73b8d69b7360"
      },
      "execution_count": 22,
      "outputs": [
        {
          "output_type": "execute_result",
          "data": {
            "text/plain": [
              "{'error': '',\n",
              " 'error_objects': [],\n",
              " 'new_objects': 0,\n",
              " 'number_received': 1,\n",
              " 'updated_objects': 1}"
            ]
          },
          "metadata": {},
          "execution_count": 22
        }
      ]
    },
    {
      "cell_type": "code",
      "source": [
        "api = \"/api/v1/bulk_metadata/custom_fields/Martedi%20Demo/article\"\n",
        "\n",
        "payload = {\n",
        "    \"key\":None,\n",
        "    \"title\": \"Demo Article\",\n",
        "    \"description\": \"Some body\",\n",
        "    \"color\":\"red\"\n",
        "}\n",
        "\n",
        "list_of_articles = []\n",
        "\n",
        "for i in range(10):\n",
        "  my_payload = payload.copy()\n",
        "  my_payload['key'] = f\"Amazing Demo {i}\"\n",
        "  list_of_articles.append(my_payload)\n",
        "\n",
        "list_of_articles"
      ],
      "metadata": {
        "colab": {
          "base_uri": "https://localhost:8080/"
        },
        "id": "SBgw0nOmfwBz",
        "outputId": "bc1deb6c-eca5-4028-fe93-01a32e0bd4f5"
      },
      "execution_count": 23,
      "outputs": [
        {
          "output_type": "execute_result",
          "data": {
            "text/plain": [
              "[{'color': 'red',\n",
              "  'description': 'Some body',\n",
              "  'key': 'Amazing Demo 0',\n",
              "  'title': 'Demo Article'},\n",
              " {'color': 'red',\n",
              "  'description': 'Some body',\n",
              "  'key': 'Amazing Demo 1',\n",
              "  'title': 'Demo Article'},\n",
              " {'color': 'red',\n",
              "  'description': 'Some body',\n",
              "  'key': 'Amazing Demo 2',\n",
              "  'title': 'Demo Article'},\n",
              " {'color': 'red',\n",
              "  'description': 'Some body',\n",
              "  'key': 'Amazing Demo 3',\n",
              "  'title': 'Demo Article'},\n",
              " {'color': 'red',\n",
              "  'description': 'Some body',\n",
              "  'key': 'Amazing Demo 4',\n",
              "  'title': 'Demo Article'},\n",
              " {'color': 'red',\n",
              "  'description': 'Some body',\n",
              "  'key': 'Amazing Demo 5',\n",
              "  'title': 'Demo Article'},\n",
              " {'color': 'red',\n",
              "  'description': 'Some body',\n",
              "  'key': 'Amazing Demo 6',\n",
              "  'title': 'Demo Article'},\n",
              " {'color': 'red',\n",
              "  'description': 'Some body',\n",
              "  'key': 'Amazing Demo 7',\n",
              "  'title': 'Demo Article'},\n",
              " {'color': 'red',\n",
              "  'description': 'Some body',\n",
              "  'key': 'Amazing Demo 8',\n",
              "  'title': 'Demo Article'},\n",
              " {'color': 'red',\n",
              "  'description': 'Some body',\n",
              "  'key': 'Amazing Demo 9',\n",
              "  'title': 'Demo Article'}]"
            ]
          },
          "metadata": {},
          "execution_count": 23
        }
      ]
    },
    {
      "cell_type": "code",
      "source": [
        "data = \"\\n\".join([json.dumps(j) for j in list_of_articles])\n",
        "data"
      ],
      "metadata": {
        "colab": {
          "base_uri": "https://localhost:8080/",
          "height": 125
        },
        "id": "1oT5YTL9gz19",
        "outputId": "2f02e0bd-55fb-48a4-a723-5c025063e141"
      },
      "execution_count": 24,
      "outputs": [
        {
          "output_type": "execute_result",
          "data": {
            "text/plain": [
              "'{\"key\": \"Amazing Demo 0\", \"title\": \"Demo Article\", \"description\": \"Some body\", \"color\": \"red\"}\\n{\"key\": \"Amazing Demo 1\", \"title\": \"Demo Article\", \"description\": \"Some body\", \"color\": \"red\"}\\n{\"key\": \"Amazing Demo 2\", \"title\": \"Demo Article\", \"description\": \"Some body\", \"color\": \"red\"}\\n{\"key\": \"Amazing Demo 3\", \"title\": \"Demo Article\", \"description\": \"Some body\", \"color\": \"red\"}\\n{\"key\": \"Amazing Demo 4\", \"title\": \"Demo Article\", \"description\": \"Some body\", \"color\": \"red\"}\\n{\"key\": \"Amazing Demo 5\", \"title\": \"Demo Article\", \"description\": \"Some body\", \"color\": \"red\"}\\n{\"key\": \"Amazing Demo 6\", \"title\": \"Demo Article\", \"description\": \"Some body\", \"color\": \"red\"}\\n{\"key\": \"Amazing Demo 7\", \"title\": \"Demo Article\", \"description\": \"Some body\", \"color\": \"red\"}\\n{\"key\": \"Amazing Demo 8\", \"title\": \"Demo Article\", \"description\": \"Some body\", \"color\": \"red\"}\\n{\"key\": \"Amazing Demo 9\", \"title\": \"Demo Article\", \"description\": \"Some body\", \"color\": \"red\"}'"
            ],
            "application/vnd.google.colaboratory.intrinsic+json": {
              "type": "string"
            }
          },
          "metadata": {},
          "execution_count": 24
        }
      ]
    },
    {
      "cell_type": "code",
      "source": [
        "articles_bulk = requests.post(f\"{host}{api}\", headers=headers, data=data).json()\n",
        "articles_bulk"
      ],
      "metadata": {
        "colab": {
          "base_uri": "https://localhost:8080/"
        },
        "id": "pgmVycYThIFb",
        "outputId": "abd0c837-d3ca-4c6c-8d0a-05820ad54f7c"
      },
      "execution_count": 25,
      "outputs": [
        {
          "output_type": "execute_result",
          "data": {
            "text/plain": [
              "{'error': '',\n",
              " 'error_objects': [],\n",
              " 'new_objects': 10,\n",
              " 'number_received': 10,\n",
              " 'updated_objects': 0}"
            ]
          },
          "metadata": {},
          "execution_count": 25
        }
      ]
    },
    {
      "cell_type": "code",
      "source": [
        "my_schema['key'] = schema[0]['key']\n",
        "my_schema['ds_id'] = schema[0]['ds_id']\n",
        "\n",
        "schema2 = requests.post(f\"{host}{api}\", \n",
        "                        headers=headers, \n",
        "                        params=dict(ds_id=my_schema['ds_id']), \n",
        "                        json=[my_schema]).json()\n",
        "schema2\n"
      ],
      "metadata": {
        "colab": {
          "base_uri": "https://localhost:8080/"
        },
        "id": "T5MAy_f2WWoj",
        "outputId": "26f7aa77-2425-4ff8-fef0-930319324842"
      },
      "execution_count": 19,
      "outputs": [
        {
          "output_type": "execute_result",
          "data": {
            "text/plain": [
              "{'job_id': 8103}"
            ]
          },
          "metadata": {},
          "execution_count": 19
        }
      ]
    },
    {
      "cell_type": "code",
      "source": [
        "schema"
      ],
      "metadata": {
        "colab": {
          "base_uri": "https://localhost:8080/"
        },
        "id": "6TJJKVlTWsiB",
        "outputId": "7886441e-43fe-42cd-a244-bbbfefe05a70"
      },
      "execution_count": 11,
      "outputs": [
        {
          "output_type": "execute_result",
          "data": {
            "text/plain": [
              "{'code': '400000', 'detail': 'Missing required query parameters: [ds_id]'}"
            ]
          },
          "metadata": {},
          "execution_count": 11
        }
      ]
    },
    {
      "cell_type": "code",
      "source": [
        ""
      ],
      "metadata": {
        "id": "82n-HpKfWtmK"
      },
      "execution_count": null,
      "outputs": []
    }
  ]
}