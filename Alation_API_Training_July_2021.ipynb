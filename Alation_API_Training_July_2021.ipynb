{
  "nbformat": 4,
  "nbformat_minor": 0,
  "metadata": {
    "colab": {
      "name": "Alation API Training July 2021.ipynb",
      "provenance": [],
      "collapsed_sections": [],
      "include_colab_link": true
    },
    "kernelspec": {
      "name": "python3",
      "display_name": "Python 3"
    }
  },
  "cells": [
    {
      "cell_type": "markdown",
      "metadata": {
        "id": "view-in-github",
        "colab_type": "text"
      },
      "source": [
        "<a href=\"https://colab.research.google.com/github/mafux777/Alation_Article/blob/master/Alation_API_Training_July_2021.ipynb\" target=\"_parent\"><img src=\"https://colab.research.google.com/assets/colab-badge.svg\" alt=\"Open In Colab\"/></a>"
      ]
    },
    {
      "cell_type": "markdown",
      "metadata": {
        "id": "iPgzL37e5JBu"
      },
      "source": [
        "# Alation API Training Worksheet"
      ]
    },
    {
      "cell_type": "markdown",
      "metadata": {
        "id": "RuPGSHBxSyFa"
      },
      "source": [
        "We need to import just a small number of libraries to create an Alation Instance. You can use this Class to test against any official or unofficial API."
      ]
    },
    {
      "cell_type": "code",
      "metadata": {
        "id": "7mjnMOlDBX08"
      },
      "source": [
        "import pandas as pd\n",
        "import os\n",
        "import requests\n",
        "\n",
        "import time\n",
        "import json\n",
        "\n",
        "import pprint\n",
        "pp = pprint.PrettyPrinter(indent=4)"
      ],
      "execution_count": 16,
      "outputs": []
    },
    {
      "cell_type": "markdown",
      "metadata": {
        "id": "UiDFzTYMS7xP"
      },
      "source": [
        "The class AlationInstance is created with a URL, username and password."
      ]
    },
    {
      "cell_type": "code",
      "metadata": {
        "id": "zWKSHd_oeMk6"
      },
      "source": [
        "import urllib\n",
        "\n",
        "# The AlationInstance class is a handle to an Alation server defined by a URL\n",
        "# A server admin user name and password needs to be provided and all API actions\n",
        "# will be run as that user\n",
        "class AlationInstance():\n",
        "    # The __init__ method is the constructor used for instantiating\n",
        "    # email: the up to 30 chars user name, often the email, but for long emails could be cut off\n",
        "    # password: could be the LDAP password, as well\n",
        "    # verify: Requests verifies SSL certificates for HTTPS requests, just like a web browser.\n",
        "    # By default, SSL verification is enabled, and Requests will throw a SSLError if it’s unable to verify the certificate\n",
        "    def __init__(self, host, account, password, verify=True):\n",
        "        self.host = host\n",
        "        self.verify = verify\n",
        "        self.account = account\n",
        "        self.password = password\n",
        "        self.token = self.get_token()\n",
        "        self.headers = self.login(account, password)\n",
        "\n",
        "    # The login method is used to obtain a session ID and relevant cookies\n",
        "    # They are cached in the headers variable\n",
        "    # account: the up to 30 chars user name, often the email, but for long emails could be cut off\n",
        "    # password: could be the LDAP password, as well\n",
        "    def login(self, account, password):\n",
        "        URL = self.host + '/login/'\n",
        "\n",
        "        s = requests.Session()\n",
        "        s.get(URL, verify=self.verify)\n",
        "\n",
        "        # get the cookie token\n",
        "        csrftoken = s.cookies.get('csrftoken')\n",
        "\n",
        "        # login with user name and password (and token)\n",
        "        payload = {\"csrfmiddlewaretoken\": csrftoken, \"ldap_user\": account, \"password\": password}\n",
        "        headers = {\"Referer\": URL}\n",
        "        log_me(\"Logging in to {}\".format(URL))\n",
        "        r = s.post(URL, data=payload, verify=self.verify, headers=headers)\n",
        "\n",
        "        # get the session ID and store it for all future API calls\n",
        "        sessionid = s.cookies.get('sessionid')\n",
        "        if not sessionid:\n",
        "            log_me('No session ID, probably wrong user name / password')\n",
        "        headers = {\"X-CSRFToken\": csrftoken,\n",
        "                   \"Cookie\": f\"csrftoken={csrftoken}; sessionid={sessionid}\",\n",
        "                   \"Referer\": URL\n",
        "                   }\n",
        "\n",
        "        return headers\n",
        "\n",
        "    def get_token(self):\n",
        "        change_token = \"/api/v1/changeToken/\"  # if you already have a token, use this url\n",
        "        new_token = \"/api/v1/getToken/\"  # if you have never generated a token, use this url\n",
        "        data = dict(username=self.account, password=self.password)\n",
        "        response = requests.post(self.host + new_token, data=data)\n",
        "        api_token = response.text\n",
        "        if api_token == \"EXISTING\":\n",
        "            response = requests.post(self.host + change_token, data=data)\n",
        "            api_token = response.text\n",
        "        return api_token\n",
        "\n",
        "    # The generic_api_post method posts a request to Alation and if necessary checks the status\n",
        "    def generic_api_post_form(self, api, params=None, data=None, official=False):\n",
        "        if official:\n",
        "            headers_final = dict(token=self.token)\n",
        "        else:\n",
        "            headers_final = self.headers\n",
        "            headers_final['Referer'] = self.host + api\n",
        "        r = requests.post(self.host + api, data=data, params=params, headers=headers_final)\n",
        "\n",
        "        if r.status_code:\n",
        "            r_parsed = r.json()\n",
        "            return r_parsed\n",
        "        else:\n",
        "            return r.content\n",
        "\n",
        "    # The generic_api_post method posts a request to Alation and if necessary checks the status\n",
        "    def generic_api_post(self, api, params=None, body=None, official=False):\n",
        "        if official:\n",
        "            headers_final = dict(token=self.token)\n",
        "        else:\n",
        "            headers_final = self.headers\n",
        "            headers_final['Referer'] = self.host + api\n",
        "        r = requests.post(self.host + api, json=body, params=params, headers=headers_final)\n",
        "\n",
        "        if r.status_code:\n",
        "            r_parsed = r.json()\n",
        "            # do we need to ask the job status API for help?\n",
        "            if 'job_id' in r_parsed:\n",
        "                params = dict(id=r_parsed['job_id'])\n",
        "                url_job = \"/api/v1/bulk_metadata/job/\"\n",
        "                # Let's wait for the job to finish\n",
        "                while (True):\n",
        "                    status = self.generic_api_get(api=url_job, params=params, official=True, verify=self.verify)\n",
        "                    if status['status'] != 'running':\n",
        "                        objects = status['result']\n",
        "                        # if objects:\n",
        "                        #     # for error in error_objects:\n",
        "                        #     print(objects)\n",
        "                        # else:\n",
        "                        #     #print(status)\n",
        "                        #     pass\n",
        "                        break\n",
        "                r_parsed = status\n",
        "            return r_parsed\n",
        "        else:\n",
        "            return r.content\n",
        "\n",
        "    # The generic_api_put method posts a request to Alation and if necessary checks the status\n",
        "    def generic_api_put(self, api, params=None, body=None):\n",
        "        r = requests.put(self.host + api, json=body, params=params, headers=self.headers, verify=self.verify)\n",
        "        return r.content\n",
        "\n",
        "    # The generic_api_patch method posts a request to Alation and if necessary checks the status\n",
        "    def generic_api_patch(self, api, params=None, body=None):\n",
        "        r = requests.patch(self.host + api, json=body, params=params, headers=self.headers, verify=self.verify)\n",
        "        return r.content\n",
        "\n",
        "    # The generic_api_get implements a REST get, with API token if official or Cookie if not.\n",
        "    # If the callers sends header, it needs to contain API or cookie\n",
        "    def generic_api_get(self, api, headers=None, params=None, official=False):\n",
        "        if headers:\n",
        "            # caller has supplied the headers\n",
        "            headers_final = headers\n",
        "        else:\n",
        "            if official:\n",
        "                headers_final = dict(token=self.token)\n",
        "            else:\n",
        "                headers_final = self.headers\n",
        "                headers_final['Referer'] = self.host + api\n",
        "        r = requests.get(self.host + api, headers=headers_final, params=params, verify=self.verify)\n",
        "        if r.status_code in [200, 201]:\n",
        "            try:\n",
        "                return r.json()\n",
        "            except:\n",
        "                return r.content # for LogicalMetadata API which does not use standard JSON\n",
        "        else:\n",
        "            return r.content\n"
      ],
      "execution_count": 17,
      "outputs": []
    },
    {
      "cell_type": "markdown",
      "metadata": {
        "id": "idfJL3vMTTuC"
      },
      "source": [
        "Let's create our first AlationInstance object:"
      ]
    },
    {
      "cell_type": "code",
      "metadata": {
        "id": "QFmoyRnJByjd",
        "colab": {
          "base_uri": "https://localhost:8080/"
        },
        "outputId": "6f34508f-eeb0-4e67-d361-a1147dc0110a"
      },
      "source": [
        "def log_me(text):\n",
        "  print(text)\n",
        "\n",
        "alation = AlationInstance('https://2021-2-sandbox.alationproserv.com/',\n",
        "                         'olen.musuk@bitcoin.com',\n",
        "                         's*7PcGDCeDJHezf')"
      ],
      "execution_count": 18,
      "outputs": [
        {
          "output_type": "stream",
          "text": [
            "Logging in to https://2021-2-sandbox.alationproserv.com//login/\n"
          ],
          "name": "stdout"
        }
      ]
    },
    {
      "cell_type": "markdown",
      "metadata": {
        "id": "ho8SJvkiQKSX"
      },
      "source": [
        "**Queries** in Alation are documents of SQL text. They can have multiple SQL statements, and their content is editable by their creator. They are associated with a single data source on creation and cannot be moved to a different data source.\n",
        "\n",
        "**Queries** can be in draft state (unsaved), saved, or published. If a **query** is published it is also saved.\n",
        "\n",
        "When a **query** is executed, each statement (CREATE, UPDATE, INSERT, SELECT, etc) is executed in turn by the database, and Alation stores metadata in an **execution event**. If the statement returns a **result**, Alation caches up to 16MB of that result on the server (unless the user is running an export, in which case only a 1000 row result preview is cached). These cached results (sometimes whole, sometimes partial) are available via API or in the Alation catalog until they expire. The expiration period is configurable on your server, but defaults to 1 week. Small **results** (by default less than 1MB) are stored indefinitely, with no expiration date.\n",
        "\n",
        "In addition to an **execution event**, there is also a **session** and a **batch** associated with the execution of a query. If a query contains multiple **statements**, then multiple **events** -- one event per query statement -- would be created and would belong to a single **execution batch**. Each execution of a query in Compose will create a new batch; a single **session** could have many such batches. In the case of scheduled queries, a new session is created for each run and each such session will have only a single batch; each scheduled query is run via a designated Celery task.\n",
        "\n",
        "# Summary\n",
        "\n",
        "\n",
        "\n",
        "---\n",
        "term | dependency | description\n",
        "---- | ---------- | -----------\n",
        "Query | N/A | a tab in compose, one more statements\n",
        "Statement | ^Query | separated by \";\"\n",
        "Session | N/A | a period of time\n",
        "(Execution) Batch | ^Session | Click on \"run\"\n",
        "(Execution) Event | ^Batch | One per statement\n",
        "(Execution) Result | ^Event | The results of one statement\n",
        "\n",
        "\n",
        "\n",
        "\n"
      ]
    },
    {
      "cell_type": "code",
      "metadata": {
        "id": "ocTrpHcNJKxY"
      },
      "source": [
        "query_text=\"\"\"\n",
        "SELECT\n",
        "  symbol,\n",
        "  name,\n",
        "  round(\"metrics.market_data.volume_last_24_hours\"/1e6) as volume\n",
        "FROM crypto.crypto_large \n",
        "WHERE \"metrics.market_data.volume_last_24_hours\" is not null\n",
        "ORDER BY 3 DESC\n",
        "\"\"\""
      ],
      "execution_count": 23,
      "outputs": []
    },
    {
      "cell_type": "code",
      "metadata": {
        "id": "Zl3C0Jz6O1W8",
        "colab": {
          "base_uri": "https://localhost:8080/"
        },
        "outputId": "1015042f-3eeb-4c58-846f-4c4fd2fb93ef"
      },
      "source": [
        "my_query = dict(\n",
        "    datasource_id=22,\n",
        "    content=query_text,\n",
        "    saved=True#,\n",
        "    #author=dict(id=9, email='matthias+2@alation.com', username='matthias+2@alation.com')\n",
        ")\n",
        "q = alation.generic_api_post('/integration/v1/query/', body=my_query, official=True)\n",
        "pp.pprint(q)\n",
        "\n"
      ],
      "execution_count": 24,
      "outputs": [
        {
          "output_type": "stream",
          "text": [
            "{   'autosave_content': '\\n'\n",
            "                        'SELECT\\n'\n",
            "                        '  symbol,\\n'\n",
            "                        '  name,\\n'\n",
            "                        '  '\n",
            "                        'round(\"metrics.market_data.volume_last_24_hours\"/1e6) '\n",
            "                        'as volume\\n'\n",
            "                        'FROM crypto.crypto_large \\n'\n",
            "                        'WHERE \"metrics.market_data.volume_last_24_hours\" is '\n",
            "                        'not null\\n'\n",
            "                        'ORDER BY 3 DESC\\n',\n",
            "    'catalog_url': '/query/22/',\n",
            "    'compose_url': '/compose/query/22/',\n",
            "    'content': '\\n'\n",
            "               'SELECT\\n'\n",
            "               '  symbol,\\n'\n",
            "               '  name,\\n'\n",
            "               '  round(\"metrics.market_data.volume_last_24_hours\"/1e6) as '\n",
            "               'volume\\n'\n",
            "               'FROM crypto.crypto_large \\n'\n",
            "               'WHERE \"metrics.market_data.volume_last_24_hours\" is not null\\n'\n",
            "               'ORDER BY 3 DESC\\n',\n",
            "    'datasource': {   'id': 22,\n",
            "                      'title': 'Demo Database',\n",
            "                      'uri': 'postgresql://fennel2.cluster-cingqyuv6npc.us-east-2.rds.amazonaws.com:5433/_MySQL__Analytics',\n",
            "                      'url': '/data/22/'},\n",
            "    'datasource_id': 22,\n",
            "    'description': '',\n",
            "    'has_unsaved_changes': False,\n",
            "    'id': 22,\n",
            "    'published': False,\n",
            "    'saved': True,\n",
            "    'schedules': [],\n",
            "    'title': '',\n",
            "    'ts_last_saved': '2021-07-20T08:33:38.785621-07:00',\n",
            "    'url': '/integration/v1/query/22/'}\n"
          ],
          "name": "stdout"
        }
      ]
    },
    {
      "cell_type": "markdown",
      "metadata": {
        "id": "U1IBycrnVfYq"
      },
      "source": [
        "The previous query, alas, has no title and no description. At least is has a number.\n",
        "\n",
        "Since there is no official API to execute the query, we will schedule a different [query](http://18.218.6.215/compose/query/85/) to run automatically and see what we get."
      ]
    },
    {
      "cell_type": "code",
      "metadata": {
        "id": "4Tjq2vOpVJcD",
        "colab": {
          "base_uri": "https://localhost:8080/"
        },
        "outputId": "7959e535-d9d6-4983-f183-0f365da6accf"
      },
      "source": [
        "q = alation.generic_api_get('/integration/v1/query/19/', official=True)\n",
        "pp.pprint(q)"
      ],
      "execution_count": 25,
      "outputs": [
        {
          "output_type": "stream",
          "text": [
            "(b'\\n\\n<!DOCTYPE html>\\n<html>\\n  <head>\\n    <link rel=\"stylesheet\" href=\"/'\n",
            " b'static/CACHE/css/output.b3389db0ad10.css\" type=\"text/css\" />\\n    <title>'\n",
            " b'\\n      Server Error - Alation\\n    </title>\\n  </head>\\n  <body>\\n    <d'\n",
            " b\"iv class='error-page'>\\n      <div class='alation-bot-image' id='robot-im\"\n",
            " b\"g-500'>\\n          <a href='/'><img src='/static/img/robot500.png'></a>\\n \"\n",
            " b\"     </div>\\n      <div class='error-text'>\\n        <p class='alation-bot\"\n",
            " b'-quote\\'>\"I seem to be experiencing technical difficulties.\"</p>\\n        '\n",
            " b\"<div class='error-message'>\\n          <p class='status-code'>500</p>\\n   \"\n",
            " b\"       <p class='status-message'>\\n            Please try again after we'\"\n",
            " b've made some repairs.\\n          </p>\\n        </div>\\n      </div>\\n    </d'\n",
            " b'iv>\\n  </body>\\n</html>\\n')\n"
          ],
          "name": "stdout"
        }
      ]
    },
    {
      "cell_type": "code",
      "metadata": {
        "id": "RwjQYs6gYrO1"
      },
      "source": [
        ""
      ],
      "execution_count": null,
      "outputs": []
    },
    {
      "cell_type": "code",
      "metadata": {
        "colab": {
          "base_uri": "https://localhost:8080/"
        },
        "id": "Xmickn7AYrwc",
        "outputId": "5c33c6f1-ce6c-4531-eb63-00b10f308cf3"
      },
      "source": [
        "q = alation.generic_api_get('/integration/v1/query/19/', official=True)\n",
        "pp.pprint(q)"
      ],
      "execution_count": 61,
      "outputs": [
        {
          "output_type": "stream",
          "text": [
            "(b'\\n\\n<!DOCTYPE html>\\n<html>\\n  <head>\\n    <link rel=\"stylesheet\" href=\"/'\n",
            " b'static/CACHE/css/output.b3389db0ad10.css\" type=\"text/css\" />\\n    <title>'\n",
            " b'\\n      Server Error - Alation\\n    </title>\\n  </head>\\n  <body>\\n    <d'\n",
            " b\"iv class='error-page'>\\n      <div class='alation-bot-image' id='robot-im\"\n",
            " b\"g-500'>\\n          <a href='/'><img src='/static/img/robot500.png'></a>\\n \"\n",
            " b\"     </div>\\n      <div class='error-text'>\\n        <p class='alation-bot\"\n",
            " b'-quote\\'>\"I seem to be experiencing technical difficulties.\"</p>\\n        '\n",
            " b\"<div class='error-message'>\\n          <p class='status-code'>500</p>\\n   \"\n",
            " b\"       <p class='status-message'>\\n            Please try again after we'\"\n",
            " b've made some repairs.\\n          </p>\\n        </div>\\n      </div>\\n    </d'\n",
            " b'iv>\\n  </body>\\n</html>\\n')\n"
          ],
          "name": "stdout"
        }
      ]
    },
    {
      "cell_type": "markdown",
      "metadata": {
        "id": "ketItSULYoCh"
      },
      "source": [
        "This output gives us interesting details about the automatically executed results. Perhaps we can use any?"
      ]
    },
    {
      "cell_type": "code",
      "metadata": {
        "id": "cPnsf-M5ZlMX",
        "colab": {
          "base_uri": "https://localhost:8080/"
        },
        "outputId": "8da821e8-8c4f-426e-b778-1bdde2dd0196"
      },
      "source": [
        "# params=dict(query_id=q['id'])\n",
        "params=dict(query_id=19)\n",
        "exec_session = alation.generic_api_get('/integration/v1/query/execution_session/', params=params, official=True)\n",
        "pp.pprint(exec_session)"
      ],
      "execution_count": 26,
      "outputs": [
        {
          "output_type": "stream",
          "text": [
            "[   {   'batch_ids': [32],\n",
            "        'client_session_id': '2021-07-20T01:15:00.403972#c44c32f0',\n",
            "        'id': 17,\n",
            "        'is_scheduled': True,\n",
            "        'query_id': 19,\n",
            "        'sandbox_id': 'schedule-1',\n",
            "        'ts_start': '2021-07-20T01:15:00.406536-07:00'},\n",
            "    {   'batch_ids': [33, 35, 36],\n",
            "        'client_session_id': '2021-07-20T08:16:03.032Z#a6ae48b646e7e',\n",
            "        'id': 18,\n",
            "        'is_scheduled': False,\n",
            "        'query_id': 19,\n",
            "        'sandbox_id': 'compose-19',\n",
            "        'ts_start': '2021-07-20T01:33:28.551237-07:00'},\n",
            "    {   'batch_ids': [37],\n",
            "        'client_session_id': '2021-07-20T02:00:00.449814#ad8a3069',\n",
            "        'id': 20,\n",
            "        'is_scheduled': True,\n",
            "        'query_id': 19,\n",
            "        'sandbox_id': 'schedule-1',\n",
            "        'ts_start': '2021-07-20T02:00:00.452403-07:00'},\n",
            "    {   'batch_ids': [39],\n",
            "        'client_session_id': '2021-07-20T09:12:45.724Z#e0bd9c5cc93f8',\n",
            "        'id': 22,\n",
            "        'is_scheduled': False,\n",
            "        'query_id': 19,\n",
            "        'sandbox_id': 'compose-19',\n",
            "        'ts_start': '2021-07-20T02:13:23.073364-07:00'},\n",
            "    {   'batch_ids': [40],\n",
            "        'client_session_id': '2021-07-20T02:30:00.385089#01581fe7',\n",
            "        'id': 23,\n",
            "        'is_scheduled': True,\n",
            "        'query_id': 19,\n",
            "        'sandbox_id': 'schedule-1',\n",
            "        'ts_start': '2021-07-20T02:30:00.387631-07:00'},\n",
            "    {   'batch_ids': [41],\n",
            "        'client_session_id': '2021-07-20T03:30:00.336210#1336bee4',\n",
            "        'id': 24,\n",
            "        'is_scheduled': True,\n",
            "        'query_id': 19,\n",
            "        'sandbox_id': 'schedule-1',\n",
            "        'ts_start': '2021-07-20T03:30:00.338836-07:00'},\n",
            "    {   'batch_ids': [42],\n",
            "        'client_session_id': '2021-07-20T04:30:00.372792#94a1efea',\n",
            "        'id': 25,\n",
            "        'is_scheduled': True,\n",
            "        'query_id': 19,\n",
            "        'sandbox_id': 'schedule-1',\n",
            "        'ts_start': '2021-07-20T04:30:00.375410-07:00'},\n",
            "    {   'batch_ids': [43],\n",
            "        'client_session_id': '2021-07-20T05:30:00.341649#0f0c5efe',\n",
            "        'id': 26,\n",
            "        'is_scheduled': True,\n",
            "        'query_id': 19,\n",
            "        'sandbox_id': 'schedule-1',\n",
            "        'ts_start': '2021-07-20T05:30:00.344247-07:00'},\n",
            "    {   'batch_ids': [44],\n",
            "        'client_session_id': '2021-07-20T06:30:00.468793#ecfe2e7a',\n",
            "        'id': 27,\n",
            "        'is_scheduled': True,\n",
            "        'query_id': 19,\n",
            "        'sandbox_id': 'schedule-1',\n",
            "        'ts_start': '2021-07-20T06:30:00.472350-07:00'},\n",
            "    {   'batch_ids': [45],\n",
            "        'client_session_id': '2021-07-20T07:30:00.415151#5e072cd9',\n",
            "        'id': 28,\n",
            "        'is_scheduled': True,\n",
            "        'query_id': 19,\n",
            "        'sandbox_id': 'schedule-1',\n",
            "        'ts_start': '2021-07-20T07:30:00.422870-07:00'},\n",
            "    {   'batch_ids': [46],\n",
            "        'client_session_id': '2021-07-20T08:30:00.355082#20a71cbe',\n",
            "        'id': 29,\n",
            "        'is_scheduled': True,\n",
            "        'query_id': 19,\n",
            "        'sandbox_id': 'schedule-1',\n",
            "        'ts_start': '2021-07-20T08:30:00.357888-07:00'},\n",
            "    {   'batch_ids': [47],\n",
            "        'client_session_id': '2021-07-20T09:22:34.249Z#b4192d6e8e22a',\n",
            "        'id': 30,\n",
            "        'is_scheduled': False,\n",
            "        'query_id': 19,\n",
            "        'sandbox_id': 'compose-19',\n",
            "        'ts_start': '2021-07-20T08:32:08.009834-07:00'}]\n"
          ],
          "name": "stdout"
        }
      ]
    },
    {
      "cell_type": "markdown",
      "metadata": {
        "id": "8N1_y9JsaRuR"
      },
      "source": [
        "The result shows a small bug in the Alation code: for a scheduled execution run, the timestamp does not show the UTC time.\n",
        "\n",
        "Let's get the batch details by using the execution batch API\n",
        "\n"
      ]
    },
    {
      "cell_type": "code",
      "metadata": {
        "id": "x9CAyFZkauXv",
        "colab": {
          "base_uri": "https://localhost:8080/"
        },
        "outputId": "502795fa-020c-4268-f414-282eceea0532"
      },
      "source": [
        "batch_id = exec_session[-1]['batch_ids'][0]\n",
        "batch = alation.generic_api_get(f'/integration/v1/query/execution_batch/{batch_id}/', official=True)\n",
        "pp.pprint(batch)"
      ],
      "execution_count": 27,
      "outputs": [
        {
          "output_type": "stream",
          "text": [
            "{   'events': [   {'id': 50, 'index_in_batch': 0},\n",
            "                  {'id': 51, 'index_in_batch': 1}],\n",
            "    'id': 47,\n",
            "    'query_id': 19,\n",
            "    'session_id': 30}\n"
          ],
          "name": "stdout"
        }
      ]
    },
    {
      "cell_type": "markdown",
      "metadata": {
        "id": "qdE3vlS5bwSZ"
      },
      "source": [
        "Let's get the execution event details."
      ]
    },
    {
      "cell_type": "code",
      "metadata": {
        "id": "7aezEhuUbseh",
        "colab": {
          "base_uri": "https://localhost:8080/"
        },
        "outputId": "422e3ba0-03b3-4cd2-a0a4-311e256183eb"
      },
      "source": [
        "base_url = \"https://2021-2-sandbox.alationproserv.com\"\n",
        "\n",
        "for event in batch['events']:\n",
        "  event_id = event['id']\n",
        "  exec_event = alation.generic_api_get(f\"/integration/v1/query/execution_event/{event_id}/\", official=True)\n",
        "  print('-----------------------------')\n",
        "  pp.pprint(exec_event)\n",
        "  print('-----------------------------')\n",
        "  print(f\"{base_url}{exec_event['result']['url']} ({exec_event['result']['title']})\")"
      ],
      "execution_count": 28,
      "outputs": [
        {
          "output_type": "stream",
          "text": [
            "-----------------------------\n",
            "{   'batch_id': 47,\n",
            "    'canceled': False,\n",
            "    'datasource': {'id': 22, 'title': 'Demo Database', 'url': '/data/22/'},\n",
            "    'db_username': 'olen.musuk',\n",
            "    'elapsed_seconds': 0.096235,\n",
            "    'execution_error': None,\n",
            "    'id': 50,\n",
            "    'index_in_batch': 0,\n",
            "    'num_result_rows': 10,\n",
            "    'query_id': 19,\n",
            "    'result': {   'byte_count': 266,\n",
            "                  'data_schema': [   {   'name': 'symbol',\n",
            "                                         'norm_type': 'STRING',\n",
            "                                         'original_name': 'symbol',\n",
            "                                         'type': 'text'},\n",
            "                                     {   'name': 'name',\n",
            "                                         'norm_type': 'STRING',\n",
            "                                         'original_name': 'name',\n",
            "                                         'type': 'text'},\n",
            "                                     {   'name': 'volume',\n",
            "                                         'norm_type': 'FLOAT',\n",
            "                                         'original_name': 'volume',\n",
            "                                         'type': 'float8'}],\n",
            "                  'deleted': False,\n",
            "                  'expired': False,\n",
            "                  'id': 22,\n",
            "                  'query': {   'description': '<div><p>This query uses messari '\n",
            "                                              'market data for a ranking of '\n",
            "                                              'the top crypto coins by volume '\n",
            "                                              'traded.</p>\\n'\n",
            "                                              '\\n'\n",
            "                                              '<p>\\xa0</p>\\n'\n",
            "                                              '</div>',\n",
            "                               'id': 19,\n",
            "                               'title': 'Top 100 Tokens by Volume (24 hrs)'},\n",
            "                  'row_count': 10,\n",
            "                  'storage_status': 'STORED_ALL',\n",
            "                  'title': '',\n",
            "                  'truncated': False,\n",
            "                  'ts_created': '2021-07-20T08:32:08.630736-07:00',\n",
            "                  'ts_expiration': None,\n",
            "                  'url': '/execution_result/22/'},\n",
            "    'session_id': 30,\n",
            "    'statement_content': 'SELECT\\n'\n",
            "                         '  symbol,\\n'\n",
            "                         '  name,\\n'\n",
            "                         '  '\n",
            "                         'round(\"metrics.market_data.volume_last_24_hours\"/1e6) '\n",
            "                         'as volume\\n'\n",
            "                         'FROM crypto.crypto_large \\n'\n",
            "                         'WHERE \"metrics.market_data.volume_last_24_hours\" is '\n",
            "                         'not null\\n'\n",
            "                         'ORDER BY 3 DESC\\n'\n",
            "                         'LIMIT 10;',\n",
            "    'ts_executed': '2021-07-20T08:32:08.516948-07:00',\n",
            "    'url': '/compose_execution_session/30/?from_event=50'}\n",
            "-----------------------------\n",
            "https://2021-2-sandbox.alationproserv.com/execution_result/22/ ()\n",
            "-----------------------------\n",
            "{   'batch_id': 47,\n",
            "    'canceled': False,\n",
            "    'datasource': {'id': 22, 'title': 'Demo Database', 'url': '/data/22/'},\n",
            "    'db_username': None,\n",
            "    'elapsed_seconds': 0.069954,\n",
            "    'execution_error': None,\n",
            "    'id': 51,\n",
            "    'index_in_batch': 1,\n",
            "    'num_result_rows': 100,\n",
            "    'query_id': 19,\n",
            "    'result': {   'byte_count': 2640,\n",
            "                  'data_schema': [   {   'name': 'symbol',\n",
            "                                         'norm_type': 'STRING',\n",
            "                                         'original_name': 'symbol',\n",
            "                                         'type': 'text'},\n",
            "                                     {   'name': 'name',\n",
            "                                         'norm_type': 'STRING',\n",
            "                                         'original_name': 'name',\n",
            "                                         'type': 'text'},\n",
            "                                     {   'name': 'volume',\n",
            "                                         'norm_type': 'FLOAT',\n",
            "                                         'original_name': 'volume',\n",
            "                                         'type': 'float8'}],\n",
            "                  'deleted': False,\n",
            "                  'expired': False,\n",
            "                  'id': 23,\n",
            "                  'query': {   'description': '<div><p>This query uses messari '\n",
            "                                              'market data for a ranking of '\n",
            "                                              'the top crypto coins by volume '\n",
            "                                              'traded.</p>\\n'\n",
            "                                              '\\n'\n",
            "                                              '<p>\\xa0</p>\\n'\n",
            "                                              '</div>',\n",
            "                               'id': 19,\n",
            "                               'title': 'Top 100 Tokens by Volume (24 hrs)'},\n",
            "                  'row_count': 100,\n",
            "                  'storage_status': 'STORED_ALL',\n",
            "                  'title': '',\n",
            "                  'truncated': False,\n",
            "                  'ts_created': '2021-07-20T08:32:08.738902-07:00',\n",
            "                  'ts_expiration': None,\n",
            "                  'url': '/execution_result/23/'},\n",
            "    'session_id': 30,\n",
            "    'statement_content': 'SELECT\\n'\n",
            "                         '  symbol,\\n'\n",
            "                         '  name,\\n'\n",
            "                         '  '\n",
            "                         'round(\"metrics.market_data.volume_last_24_hours\"/1e6) '\n",
            "                         'as volume\\n'\n",
            "                         'FROM crypto.crypto_large \\n'\n",
            "                         'WHERE \"metrics.market_data.volume_last_24_hours\" is '\n",
            "                         'not null\\n'\n",
            "                         'ORDER BY 3 DESC\\n'\n",
            "                         'LIMIT 100;',\n",
            "    'ts_executed': '2021-07-20T08:32:08.647831-07:00',\n",
            "    'url': '/compose_execution_session/30/?from_event=51'}\n",
            "-----------------------------\n",
            "https://2021-2-sandbox.alationproserv.com/execution_result/23/ ()\n"
          ],
          "name": "stdout"
        }
      ]
    },
    {
      "cell_type": "markdown",
      "metadata": {
        "id": "QBYZ7ov0gGkS"
      },
      "source": [
        "Now let's use an unoffical API to get hold of the actual result."
      ]
    },
    {
      "cell_type": "code",
      "metadata": {
        "id": "PVqgmACzgLBO",
        "colab": {
          "base_uri": "https://localhost:8080/",
          "height": 419
        },
        "outputId": "01b185ad-5705-414f-f837-ed25612ec1f8"
      },
      "source": [
        "result_id = exec_event['result']['id'] #148\n",
        "data_schema = exec_event['result']['data_schema']\n",
        "cols = [schema['name'] for schema in data_schema]\n",
        "res = alation.generic_api_get(f'/ajax/execution_result_data/{result_id}/')\n",
        "pd.DataFrame(res, columns=cols)"
      ],
      "execution_count": 29,
      "outputs": [
        {
          "output_type": "execute_result",
          "data": {
            "text/html": [
              "<div>\n",
              "<style scoped>\n",
              "    .dataframe tbody tr th:only-of-type {\n",
              "        vertical-align: middle;\n",
              "    }\n",
              "\n",
              "    .dataframe tbody tr th {\n",
              "        vertical-align: top;\n",
              "    }\n",
              "\n",
              "    .dataframe thead th {\n",
              "        text-align: right;\n",
              "    }\n",
              "</style>\n",
              "<table border=\"1\" class=\"dataframe\">\n",
              "  <thead>\n",
              "    <tr style=\"text-align: right;\">\n",
              "      <th></th>\n",
              "      <th>symbol</th>\n",
              "      <th>name</th>\n",
              "      <th>volume</th>\n",
              "    </tr>\n",
              "  </thead>\n",
              "  <tbody>\n",
              "    <tr>\n",
              "      <th>0</th>\n",
              "      <td>USDT</td>\n",
              "      <td>Tether</td>\n",
              "      <td>82033</td>\n",
              "    </tr>\n",
              "    <tr>\n",
              "      <th>1</th>\n",
              "      <td>BTC</td>\n",
              "      <td>Bitcoin</td>\n",
              "      <td>48801</td>\n",
              "    </tr>\n",
              "    <tr>\n",
              "      <th>2</th>\n",
              "      <td>ETH</td>\n",
              "      <td>Ethereum</td>\n",
              "      <td>30133</td>\n",
              "    </tr>\n",
              "    <tr>\n",
              "      <th>3</th>\n",
              "      <td>BUSD</td>\n",
              "      <td>Binance USD</td>\n",
              "      <td>5958</td>\n",
              "    </tr>\n",
              "    <tr>\n",
              "      <th>4</th>\n",
              "      <td>XRP</td>\n",
              "      <td>XRP</td>\n",
              "      <td>3703</td>\n",
              "    </tr>\n",
              "    <tr>\n",
              "      <th>...</th>\n",
              "      <td>...</td>\n",
              "      <td>...</td>\n",
              "      <td>...</td>\n",
              "    </tr>\n",
              "    <tr>\n",
              "      <th>95</th>\n",
              "      <td>XVS</td>\n",
              "      <td>VENUS</td>\n",
              "      <td>60</td>\n",
              "    </tr>\n",
              "    <tr>\n",
              "      <th>96</th>\n",
              "      <td>MANA</td>\n",
              "      <td>Decentraland</td>\n",
              "      <td>60</td>\n",
              "    </tr>\n",
              "    <tr>\n",
              "      <th>97</th>\n",
              "      <td>ZEN</td>\n",
              "      <td>Horizen</td>\n",
              "      <td>59</td>\n",
              "    </tr>\n",
              "    <tr>\n",
              "      <th>98</th>\n",
              "      <td>TRB</td>\n",
              "      <td>Tellor</td>\n",
              "      <td>57</td>\n",
              "    </tr>\n",
              "    <tr>\n",
              "      <th>99</th>\n",
              "      <td>CRO</td>\n",
              "      <td>Crypto.com Chain</td>\n",
              "      <td>56</td>\n",
              "    </tr>\n",
              "  </tbody>\n",
              "</table>\n",
              "<p>100 rows × 3 columns</p>\n",
              "</div>"
            ],
            "text/plain": [
              "   symbol              name volume\n",
              "0    USDT            Tether  82033\n",
              "1     BTC           Bitcoin  48801\n",
              "2     ETH          Ethereum  30133\n",
              "3    BUSD       Binance USD   5958\n",
              "4     XRP               XRP   3703\n",
              "..    ...               ...    ...\n",
              "95    XVS             VENUS     60\n",
              "96   MANA      Decentraland     60\n",
              "97    ZEN           Horizen     59\n",
              "98    TRB            Tellor     57\n",
              "99    CRO  Crypto.com Chain     56\n",
              "\n",
              "[100 rows x 3 columns]"
            ]
          },
          "metadata": {
            "tags": []
          },
          "execution_count": 29
        }
      ]
    },
    {
      "cell_type": "markdown",
      "metadata": {
        "id": "t32bHIshkt1I"
      },
      "source": [
        "The email which we normally get contains a link to download the file. It is created like this..."
      ]
    },
    {
      "cell_type": "code",
      "metadata": {
        "id": "AZMw01yOkuQ9",
        "colab": {
          "base_uri": "https://localhost:8080/"
        },
        "outputId": "11e40e56-3683-44e3-c3ed-f3ef1df8aa0c"
      },
      "source": [
        "print(f'{base_url}/ajax/get_result_table_data/{result_id}/?csv=1')"
      ],
      "execution_count": 11,
      "outputs": [
        {
          "output_type": "stream",
          "text": [
            "https://2021-2-sandbox.alationproserv.com/ajax/get_result_table_data/8/?csv=1\n"
          ],
          "name": "stdout"
        }
      ]
    },
    {
      "cell_type": "markdown",
      "metadata": {
        "id": "oYJ5UgOiMuih"
      },
      "source": [
        "# Alternative to using Alation Compose\n",
        "\n",
        "You can use a combination of Pandas and PsycoPG2 to get the data quickly and easily."
      ]
    },
    {
      "cell_type": "code",
      "metadata": {
        "colab": {
          "base_uri": "https://localhost:8080/",
          "height": 473
        },
        "id": "i4xX-ln5EqjC",
        "outputId": "0ddcd934-722c-4461-872b-cb58d74ecc97"
      },
      "source": [
        "from psycopg2 import connect, extensions, DatabaseError\n",
        "\n",
        "connection = connect(host='fennel2.cluster-cingqyuv6npc.us-east-2.rds.amazonaws.com',\n",
        "                     port=5433,\n",
        "                     user='olen.musuk',\n",
        "                     password='s*7PcGDCeDJHezf',\n",
        "                     dbname='_MySQL__Analytics')\n",
        "\n",
        "df = pd.read_sql(query_text, connection)\n",
        "df\n"
      ],
      "execution_count": 30,
      "outputs": [
        {
          "output_type": "stream",
          "text": [
            "/usr/local/lib/python3.7/dist-packages/psycopg2/__init__.py:144: UserWarning: The psycopg2 wheel package will be renamed from release 2.8; in order to keep installing from binary please use \"pip install psycopg2-binary\" instead. For details see: <http://initd.org/psycopg/docs/install.html#binary-install-from-pypi>.\n",
            "  \"\"\")\n"
          ],
          "name": "stderr"
        },
        {
          "output_type": "execute_result",
          "data": {
            "text/html": [
              "<div>\n",
              "<style scoped>\n",
              "    .dataframe tbody tr th:only-of-type {\n",
              "        vertical-align: middle;\n",
              "    }\n",
              "\n",
              "    .dataframe tbody tr th {\n",
              "        vertical-align: top;\n",
              "    }\n",
              "\n",
              "    .dataframe thead th {\n",
              "        text-align: right;\n",
              "    }\n",
              "</style>\n",
              "<table border=\"1\" class=\"dataframe\">\n",
              "  <thead>\n",
              "    <tr style=\"text-align: right;\">\n",
              "      <th></th>\n",
              "      <th>symbol</th>\n",
              "      <th>name</th>\n",
              "      <th>volume</th>\n",
              "    </tr>\n",
              "  </thead>\n",
              "  <tbody>\n",
              "    <tr>\n",
              "      <th>0</th>\n",
              "      <td>USDT</td>\n",
              "      <td>Tether</td>\n",
              "      <td>82033.0</td>\n",
              "    </tr>\n",
              "    <tr>\n",
              "      <th>1</th>\n",
              "      <td>BTC</td>\n",
              "      <td>Bitcoin</td>\n",
              "      <td>48801.0</td>\n",
              "    </tr>\n",
              "    <tr>\n",
              "      <th>2</th>\n",
              "      <td>ETH</td>\n",
              "      <td>Ethereum</td>\n",
              "      <td>30133.0</td>\n",
              "    </tr>\n",
              "    <tr>\n",
              "      <th>3</th>\n",
              "      <td>BUSD</td>\n",
              "      <td>Binance USD</td>\n",
              "      <td>5958.0</td>\n",
              "    </tr>\n",
              "    <tr>\n",
              "      <th>4</th>\n",
              "      <td>XRP</td>\n",
              "      <td>XRP</td>\n",
              "      <td>3703.0</td>\n",
              "    </tr>\n",
              "    <tr>\n",
              "      <th>...</th>\n",
              "      <td>...</td>\n",
              "      <td>...</td>\n",
              "      <td>...</td>\n",
              "    </tr>\n",
              "    <tr>\n",
              "      <th>1700</th>\n",
              "      <td>CS</td>\n",
              "      <td>Credits</td>\n",
              "      <td>0.0</td>\n",
              "    </tr>\n",
              "    <tr>\n",
              "      <th>1701</th>\n",
              "      <td>None</td>\n",
              "      <td>Pibble</td>\n",
              "      <td>0.0</td>\n",
              "    </tr>\n",
              "    <tr>\n",
              "      <th>1702</th>\n",
              "      <td>MEX</td>\n",
              "      <td>MEX</td>\n",
              "      <td>0.0</td>\n",
              "    </tr>\n",
              "    <tr>\n",
              "      <th>1703</th>\n",
              "      <td>XSR</td>\n",
              "      <td>XSR</td>\n",
              "      <td>0.0</td>\n",
              "    </tr>\n",
              "    <tr>\n",
              "      <th>1704</th>\n",
              "      <td>BUNNY</td>\n",
              "      <td>Rocket Bunny</td>\n",
              "      <td>-6.0</td>\n",
              "    </tr>\n",
              "  </tbody>\n",
              "</table>\n",
              "<p>1705 rows × 3 columns</p>\n",
              "</div>"
            ],
            "text/plain": [
              "     symbol          name   volume\n",
              "0      USDT        Tether  82033.0\n",
              "1       BTC       Bitcoin  48801.0\n",
              "2       ETH      Ethereum  30133.0\n",
              "3      BUSD   Binance USD   5958.0\n",
              "4       XRP           XRP   3703.0\n",
              "...     ...           ...      ...\n",
              "1700     CS       Credits      0.0\n",
              "1701   None        Pibble      0.0\n",
              "1702    MEX           MEX      0.0\n",
              "1703    XSR           XSR      0.0\n",
              "1704  BUNNY  Rocket Bunny     -6.0\n",
              "\n",
              "[1705 rows x 3 columns]"
            ]
          },
          "metadata": {
            "tags": []
          },
          "execution_count": 30
        }
      ]
    },
    {
      "cell_type": "markdown",
      "metadata": {
        "id": "Pf0XsLPXE7BA"
      },
      "source": [
        "## Trust Flags Galore\n"
      ]
    },
    {
      "cell_type": "code",
      "metadata": {
        "colab": {
          "base_uri": "https://localhost:8080/"
        },
        "id": "IBALg4seE5_p",
        "outputId": "d343d572-c2c1-482b-95d5-f000be1a1a65"
      },
      "source": [
        "# https://2021-2-sandbox.alationproserv.com/schema/40/\n",
        "\n",
        "my_tables = alation.generic_api_get(f'/integration/v2/table/', params=dict(schema_id=41), official=True)\n",
        "my_tables\n",
        "\n",
        "for t in my_tables:\n",
        "  flag = {\n",
        "    \"flag_type\" : \"WARNING\",\n",
        "    \"subject\": {\n",
        "        \"id\":t['id'],\n",
        "        \"otype\":\"table\"\n",
        "    },\n",
        "    \"flag_reason\" : f\"Table with funny name {t['name']} looks fishy.\"\n",
        "  }\n",
        "  #/integration/flag/\n",
        "  my_flag = alation.generic_api_post(f'/integration/flag/', body=flag,official=True)\n",
        "  print(my_flag)\n"
      ],
      "execution_count": 19,
      "outputs": [
        {
          "output_type": "stream",
          "text": [
            "{'id': 41, 'flag_type': 'WARNING', 'flag_reason': '<p>Table with funny name state_lu looks fishy.</p>', 'ts_created': '2021-07-20T08:10:38.351421-07:00', 'subject': {'otype': 'table', 'id': 796, 'url': '/table/796/'}, 'user': {'id': 22, 'url': '/user/22/', 'display_name': 'Olen Musuk'}}\n",
            "{'id': 42, 'flag_type': 'WARNING', 'flag_reason': '<p>Table with funny name zip_pop looks fishy.</p>', 'ts_created': '2021-07-20T08:10:38.567910-07:00', 'subject': {'otype': 'table', 'id': 834, 'url': '/table/834/'}, 'user': {'id': 22, 'url': '/user/22/', 'display_name': 'Olen Musuk'}}\n",
            "{'id': 43, 'flag_type': 'WARNING', 'flag_reason': '<p>Table with funny name census_data1 looks fishy.</p>', 'ts_created': '2021-07-20T08:10:38.774858-07:00', 'subject': {'otype': 'table', 'id': 856, 'url': '/table/856/'}, 'user': {'id': 22, 'url': '/user/22/', 'display_name': 'Olen Musuk'}}\n",
            "{'id': 44, 'flag_type': 'WARNING', 'flag_reason': '<p>Table with funny name annres_2010_2014 looks fishy.</p>', 'ts_created': '2021-07-20T08:10:38.984520-07:00', 'subject': {'otype': 'table', 'id': 871, 'url': '/table/871/'}, 'user': {'id': 22, 'url': '/user/22/', 'display_name': 'Olen Musuk'}}\n",
            "{'id': 45, 'flag_type': 'WARNING', 'flag_reason': '<p>Table with funny name census_pop_est looks fishy.</p>', 'ts_created': '2021-07-20T08:10:39.208659-07:00', 'subject': {'otype': 'table', 'id': 890, 'url': '/table/890/'}, 'user': {'id': 22, 'url': '/user/22/', 'display_name': 'Olen Musuk'}}\n",
            "{'id': 46, 'flag_type': 'WARNING', 'flag_reason': '<p>Table with funny name temptable looks fishy.</p>', 'ts_created': '2021-07-20T08:10:39.415722-07:00', 'subject': {'otype': 'table', 'id': 903, 'url': '/table/903/'}, 'user': {'id': 22, 'url': '/user/22/', 'display_name': 'Olen Musuk'}}\n",
            "{'id': 47, 'flag_type': 'WARNING', 'flag_reason': '<p>Table with funny name fips_lkp looks fishy.</p>', 'ts_created': '2021-07-20T08:10:39.622578-07:00', 'subject': {'otype': 'table', 'id': 1016, 'url': '/table/1016/'}, 'user': {'id': 22, 'url': '/user/22/', 'display_name': 'Olen Musuk'}}\n",
            "{'id': 48, 'flag_type': 'WARNING', 'flag_reason': '<p>Table with funny name test_up looks fishy.</p>', 'ts_created': '2021-07-20T08:10:39.830591-07:00', 'subject': {'otype': 'table', 'id': 1023, 'url': '/table/1023/'}, 'user': {'id': 22, 'url': '/user/22/', 'display_name': 'Olen Musuk'}}\n"
          ],
          "name": "stdout"
        }
      ]
    },
    {
      "cell_type": "code",
      "metadata": {
        "colab": {
          "base_uri": "https://localhost:8080/"
        },
        "id": "uIPA-MoFiLP5",
        "outputId": "ff40b794-35e6-479e-da12-1269eaef059a"
      },
      "source": [
        "my_tables"
      ],
      "execution_count": 22,
      "outputs": [
        {
          "output_type": "execute_result",
          "data": {
            "text/plain": [
              "[{'base_table_key': None,\n",
              "  'custom_fields': [],\n",
              "  'description': '',\n",
              "  'ds_id': 22,\n",
              "  'id': 796,\n",
              "  'key': '22.census.state_lu',\n",
              "  'name': 'state_lu',\n",
              "  'partition_columns': None,\n",
              "  'partition_definition': None,\n",
              "  'schema_id': 41,\n",
              "  'schema_name': 'census',\n",
              "  'sql': None,\n",
              "  'table_comment': 'Original source: https://demo-sales.alationcatalog.com/table/835/',\n",
              "  'table_type': 'TABLE',\n",
              "  'title': '',\n",
              "  'url': '/table/796/'},\n",
              " {'base_table_key': None,\n",
              "  'custom_fields': [],\n",
              "  'description': '',\n",
              "  'ds_id': 22,\n",
              "  'id': 834,\n",
              "  'key': '22.census.zip_pop',\n",
              "  'name': 'zip_pop',\n",
              "  'partition_columns': None,\n",
              "  'partition_definition': None,\n",
              "  'schema_id': 41,\n",
              "  'schema_name': 'census',\n",
              "  'sql': None,\n",
              "  'table_comment': 'Original source: https://demo-sales.alationcatalog.com/table/322/',\n",
              "  'table_type': 'TABLE',\n",
              "  'title': '',\n",
              "  'url': '/table/834/'},\n",
              " {'base_table_key': None,\n",
              "  'custom_fields': [],\n",
              "  'description': '',\n",
              "  'ds_id': 22,\n",
              "  'id': 856,\n",
              "  'key': '22.census.census_data1',\n",
              "  'name': 'census_data1',\n",
              "  'partition_columns': None,\n",
              "  'partition_definition': None,\n",
              "  'schema_id': 41,\n",
              "  'schema_name': 'census',\n",
              "  'sql': None,\n",
              "  'table_comment': 'Original source: https://demo-sales.alationcatalog.com/table/285/',\n",
              "  'table_type': 'TABLE',\n",
              "  'title': '',\n",
              "  'url': '/table/856/'},\n",
              " {'base_table_key': None,\n",
              "  'custom_fields': [],\n",
              "  'description': '',\n",
              "  'ds_id': 22,\n",
              "  'id': 871,\n",
              "  'key': '22.census.annres_2010_2014',\n",
              "  'name': 'annres_2010_2014',\n",
              "  'partition_columns': None,\n",
              "  'partition_definition': None,\n",
              "  'schema_id': 41,\n",
              "  'schema_name': 'census',\n",
              "  'sql': None,\n",
              "  'table_comment': 'Original source: https://demo-sales.alationcatalog.com/table/313/',\n",
              "  'table_type': 'TABLE',\n",
              "  'title': '',\n",
              "  'url': '/table/871/'},\n",
              " {'base_table_key': None,\n",
              "  'custom_fields': [],\n",
              "  'description': '',\n",
              "  'ds_id': 22,\n",
              "  'id': 890,\n",
              "  'key': '22.census.census_pop_est',\n",
              "  'name': 'census_pop_est',\n",
              "  'partition_columns': None,\n",
              "  'partition_definition': None,\n",
              "  'schema_id': 41,\n",
              "  'schema_name': 'census',\n",
              "  'sql': None,\n",
              "  'table_comment': 'Original source: https://demo-sales.alationcatalog.com/table/314/',\n",
              "  'table_type': 'TABLE',\n",
              "  'title': '',\n",
              "  'url': '/table/890/'},\n",
              " {'base_table_key': None,\n",
              "  'custom_fields': [],\n",
              "  'description': '',\n",
              "  'ds_id': 22,\n",
              "  'id': 903,\n",
              "  'key': '22.census.temptable',\n",
              "  'name': 'temptable',\n",
              "  'partition_columns': None,\n",
              "  'partition_definition': None,\n",
              "  'schema_id': 41,\n",
              "  'schema_name': 'census',\n",
              "  'sql': None,\n",
              "  'table_comment': 'Original source: https://demo-sales.alationcatalog.com/table/575/',\n",
              "  'table_type': 'TABLE',\n",
              "  'title': '',\n",
              "  'url': '/table/903/'},\n",
              " {'base_table_key': None,\n",
              "  'custom_fields': [],\n",
              "  'description': '',\n",
              "  'ds_id': 22,\n",
              "  'id': 1016,\n",
              "  'key': '22.census.fips_lkp',\n",
              "  'name': 'fips_lkp',\n",
              "  'partition_columns': None,\n",
              "  'partition_definition': None,\n",
              "  'schema_id': 41,\n",
              "  'schema_name': 'census',\n",
              "  'sql': None,\n",
              "  'table_comment': 'Original source: https://demo-sales.alationcatalog.com/table/291/',\n",
              "  'table_type': 'TABLE',\n",
              "  'title': '',\n",
              "  'url': '/table/1016/'},\n",
              " {'base_table_key': None,\n",
              "  'custom_fields': [],\n",
              "  'description': '',\n",
              "  'ds_id': 22,\n",
              "  'id': 1023,\n",
              "  'key': '22.census.test_up',\n",
              "  'name': 'test_up',\n",
              "  'partition_columns': None,\n",
              "  'partition_definition': None,\n",
              "  'schema_id': 41,\n",
              "  'schema_name': 'census',\n",
              "  'sql': None,\n",
              "  'table_comment': 'Original source: https://demo-sales.alationcatalog.com/table/838/',\n",
              "  'table_type': 'TABLE',\n",
              "  'title': '',\n",
              "  'url': '/table/1023/'}]"
            ]
          },
          "metadata": {
            "tags": []
          },
          "execution_count": 22
        }
      ]
    },
    {
      "cell_type": "code",
      "metadata": {
        "colab": {
          "base_uri": "https://localhost:8080/"
        },
        "id": "MZK0w3DTLVv8",
        "outputId": "e60041cd-56d9-41d1-a9b2-f99d8cf6592c"
      },
      "source": [
        "# https://2021-2-sandbox.alationproserv.com/ajax/change_num_sample_rows/table/753/\n",
        "t = 897\n",
        "r = alation.generic_api_post_form(f'/ajax/change_num_sample_rows/table/{t}/', data=dict(new_value=0))\n",
        "r"
      ],
      "execution_count": 20,
      "outputs": [
        {
          "output_type": "execute_result",
          "data": {
            "text/plain": [
              "{'status': 'ok'}"
            ]
          },
          "metadata": {
            "tags": []
          },
          "execution_count": 20
        }
      ]
    },
    {
      "cell_type": "code",
      "metadata": {
        "colab": {
          "base_uri": "https://localhost:8080/"
        },
        "id": "sB393ZP4Ii11",
        "outputId": "5cc3cc50-2d81-42d2-b9e8-7c2afe4433da"
      },
      "source": [
        "# https://2021-2-sandbox.alationproserv.com/ajax/set_attr_sensitivity/19759/\n",
        "col = 21357\n",
        "r = alation.generic_api_post_form(f'/ajax/set_attr_sensitivity/{col}/', data=dict(action='mark_sensitive'))\n",
        "r"
      ],
      "execution_count": 21,
      "outputs": [
        {
          "output_type": "execute_result",
          "data": {
            "text/plain": [
              "{'status': 'ok'}"
            ]
          },
          "metadata": {
            "tags": []
          },
          "execution_count": 21
        }
      ]
    },
    {
      "cell_type": "markdown",
      "metadata": {
        "id": "NZTbY_0v-3Ep"
      },
      "source": [
        "# More fun with the unofficial API\n",
        "\n",
        "Let's see what the unofficial API reveals about our Query...\n"
      ]
    },
    {
      "cell_type": "code",
      "metadata": {
        "id": "2bR3UR46HJCL",
        "colab": {
          "base_uri": "https://localhost:8080/"
        },
        "outputId": "378ff407-b150-460b-bf05-545716c03945"
      },
      "source": [
        "t = alation.generic_api_get('/api/query/')\n",
        "\n",
        "df = pd.DataFrame(t)\n",
        "df.sort_values('last_executed_at', ascending=False).iloc[0]"
      ],
      "execution_count": 52,
      "outputs": [
        {
          "output_type": "execute_result",
          "data": {
            "text/plain": [
              "id                                                                    19\n",
              "display_content        SELECT\\n  symbol,\\n  name,\\n  round(\"metrics.m...\n",
              "otype                                                              query\n",
              "icon                                                               query\n",
              "url                                                           /query/19/\n",
              "form_url                                                 /query/19/form/\n",
              "dict_url                                                       /dict/22/\n",
              "history_url                                           /query/19/history/\n",
              "num_clones                                                             0\n",
              "last_edited_at                          2021-07-20T01:11:25.641794-07:00\n",
              "last_autosaved_at                                                   None\n",
              "last_saved_at                           2021-07-20T01:11:54.175186-07:00\n",
              "last_published_at                       2021-07-20T01:11:54.184538-07:00\n",
              "last_executed_at                        2021-07-20T02:00:00.452403-07:00\n",
              "last_executed_by       {'id': 22, 'email': 'olen.musuk@bitcoin.com', ...\n",
              "public_content         SELECT\\n  symbol,\\n  name,\\n  round(\"metrics.m...\n",
              "ts_created                              2021-07-20T01:11:25.640137-07:00\n",
              "ts_updated                              2021-07-20T02:00:00.481249-07:00\n",
              "ts_deleted                                                          None\n",
              "execution_tally                                                        5\n",
              "num_favs                                                               0\n",
              "favorited_by_list                                                   None\n",
              "can_schedule                                                        True\n",
              "is_title_editable                                                   True\n",
              "permissions            [VIEW, EDIT, DELETE, CHANGE_OWNER, CHANGE_COLL...\n",
              "shared_result_users                                                   []\n",
              "author                 {'id': 22, 'url': '/user/22/', 'icon': 'user',...\n",
              "collaborators                                                         []\n",
              "ds                     {'dbtype': 'postgresql', 'enabled_in_compose':...\n",
              "schedules              [{'id': 1, 'db_credential': {'user': {'id': 22...\n",
              "saved                                                               True\n",
              "published                                                           True\n",
              "last_visited                                 2021-07-20T09:07:05.137362Z\n",
              "total_executions                                                       5\n",
              "autosave_content                                                    None\n",
              "title                                  Top 100 Tokens by Volume (24 hrs)\n",
              "description            <div><p>This query uses messari market data fo...\n",
              "content                SELECT\\n  symbol,\\n  name,\\n  round(\"metrics.m...\n",
              "published_content      SELECT\\n  symbol,\\n  name,\\n  round(\"metrics.m...\n",
              "cursor_row                                                             0\n",
              "cursor_col                                                             0\n",
              "content_for            SELECT\\n  symbol,\\n  name,\\n  round(\"metrics.m...\n",
              "discarded                                                          False\n",
              "deleted                                                            False\n",
              "tags                                                                  []\n",
              "query_group_ids                                                       []\n",
              "snippet_name                                                        None\n",
              "lock                   {'query_id': 19, 'holder': {'id': 22, 'url': '...\n",
              "Name: 10, dtype: object"
            ]
          },
          "metadata": {
            "tags": []
          },
          "execution_count": 52
        }
      ]
    },
    {
      "cell_type": "code",
      "metadata": {
        "id": "zhT1ZtZDJfd_",
        "colab": {
          "base_uri": "https://localhost:8080/"
        },
        "outputId": "fb96613b-0dfa-4333-9823-934c93e9edf7"
      },
      "source": [
        "otype='query'\n",
        "id=21\n",
        "\n",
        "p = alation.generic_api_patch(f'/api/{otype}/{id}/', body=dict(discarded=True))\n",
        "p_parsed = json.loads(p)\n",
        "p_parsed['discarded']\n"
      ],
      "execution_count": 53,
      "outputs": [
        {
          "output_type": "execute_result",
          "data": {
            "text/plain": [
              "True"
            ]
          },
          "metadata": {
            "tags": []
          },
          "execution_count": 53
        }
      ]
    },
    {
      "cell_type": "markdown",
      "metadata": {
        "id": "4Cb9qXk8nLAQ"
      },
      "source": [
        "## Get a file handle to this Notebook\n",
        "\n",
        "This code won't work for you unless you have access to the file."
      ]
    },
    {
      "cell_type": "code",
      "metadata": {
        "id": "0_7TmJSTxMlg",
        "colab": {
          "base_uri": "https://localhost:8080/",
          "height": 68
        },
        "outputId": "752a0e90-24d2-4993-cb4c-ca2909820f1d"
      },
      "source": [
        "from google.colab import auth\n",
        "auth.authenticate_user()\n",
        "from googleapiclient.discovery import build\n",
        "drive_service = build('drive', 'v3')\n",
        "\n",
        "response = drive_service.files().list(q=\"name='Alation API Training Spring 2020.ipynb'\",\n",
        "                                      spaces='drive',\n",
        "                                      fields='nextPageToken, files(id, name)').execute()\n",
        "file = response.get('files', [])[0]\n",
        "print ('Found file: {} {}' .format (file.get('name'), file.get('id')))\n",
        "alation_notebook = file.get('id')\n",
        "file\n",
        "\n"
      ],
      "execution_count": null,
      "outputs": [
        {
          "output_type": "stream",
          "text": [
            "Found file: Alation API Training Spring 2020.ipynb 16BiqA8Oy53iwQumPhIOOI3hfh-GFjntd\n"
          ],
          "name": "stdout"
        },
        {
          "output_type": "execute_result",
          "data": {
            "text/plain": [
              "{'id': '16BiqA8Oy53iwQumPhIOOI3hfh-GFjntd',\n",
              " 'name': 'Alation API Training Spring 2020.ipynb'}"
            ]
          },
          "metadata": {
            "tags": []
          },
          "execution_count": 18
        }
      ]
    },
    {
      "cell_type": "markdown",
      "metadata": {
        "id": "-nQ7L9n_xB6s"
      },
      "source": [
        "Copy the notebook (running this cell only defines the method)"
      ]
    },
    {
      "cell_type": "code",
      "metadata": {
        "id": "-3FB85hr1wDo"
      },
      "source": [
        "def copy_notebook(name):\n",
        "  body = dict(name=name)\n",
        "  response = drive_service.files().copy(fileId=alation_notebook, body=body).execute()\n",
        "  return '<p><a href=\"https://colab.research.google.com/drive/{0}\" rel=\"noopener noreferrer\" target=\"_blank\">https://colab.research.google.com/drive/{0}</a></p>'.format(response['id'])"
      ],
      "execution_count": null,
      "outputs": []
    },
    {
      "cell_type": "code",
      "metadata": {
        "id": "7YYlDiN9Y5NC",
        "colab": {
          "base_uri": "https://localhost:8080/",
          "height": 54
        },
        "outputId": "32668dc0-72c2-4ecf-d1d3-63472ab1e0fe"
      },
      "source": [
        "copy_notebook(\"My friend.ipynb\")"
      ],
      "execution_count": null,
      "outputs": [
        {
          "output_type": "execute_result",
          "data": {
            "text/plain": [
              "'<p><a href=\"https://colab.research.google.com/drive/1EhpkAbCK10rYaVBIXi39B7uKVgRODtIG\" rel=\"noopener noreferrer\" target=\"_blank\">https://colab.research.google.com/drive/1EhpkAbCK10rYaVBIXi39B7uKVgRODtIG</a></p>'"
            ]
          },
          "metadata": {
            "tags": []
          },
          "execution_count": 21
        }
      ]
    },
    {
      "cell_type": "code",
      "metadata": {
        "id": "A4hyNRbWeXcW"
      },
      "source": [
        ""
      ],
      "execution_count": null,
      "outputs": []
    }
  ]
}