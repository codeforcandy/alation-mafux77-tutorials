{
  "nbformat": 4,
  "nbformat_minor": 0,
  "metadata": {
    "colab": {
      "name": "Alation API Training Spring 2020.ipynb",
      "provenance": [],
      "collapsed_sections": [],
      "include_colab_link": true
    },
    "kernelspec": {
      "name": "python3",
      "display_name": "Python 3"
    }
  },
  "cells": [
    {
      "cell_type": "markdown",
      "metadata": {
        "id": "view-in-github",
        "colab_type": "text"
      },
      "source": [
        "<a href=\"https://colab.research.google.com/github/mafux777/Alation_Article/blob/master/Alation_API_Training_Spring_2020.ipynb\" target=\"_parent\"><img src=\"https://colab.research.google.com/assets/colab-badge.svg\" alt=\"Open In Colab\"/></a>"
      ]
    },
    {
      "cell_type": "markdown",
      "metadata": {
        "id": "iPgzL37e5JBu",
        "colab_type": "text"
      },
      "source": [
        "# Alation API Training Worksheet"
      ]
    },
    {
      "cell_type": "markdown",
      "metadata": {
        "id": "RuPGSHBxSyFa",
        "colab_type": "text"
      },
      "source": [
        "We need to import just a small number of libraries to create an Alation Instance. You can use this Class to test against any official or unofficial API."
      ]
    },
    {
      "cell_type": "code",
      "metadata": {
        "id": "7mjnMOlDBX08",
        "colab_type": "code",
        "colab": {}
      },
      "source": [
        "import pandas as pd\n",
        "import os\n",
        "import requests\n",
        "\n",
        "import time\n",
        "import json\n",
        "\n",
        "import pprint\n",
        "pp = pprint.PrettyPrinter(indent=4)"
      ],
      "execution_count": 0,
      "outputs": []
    },
    {
      "cell_type": "markdown",
      "metadata": {
        "id": "UiDFzTYMS7xP",
        "colab_type": "text"
      },
      "source": [
        "The class AlationInstance is created with a URL, username and password."
      ]
    },
    {
      "cell_type": "code",
      "metadata": {
        "id": "zWKSHd_oeMk6",
        "colab_type": "code",
        "colab": {}
      },
      "source": [
        "import urllib\n",
        "\n",
        "# The AlationInstance class is a handle to an Alation server defined by a URL\n",
        "# A server admin user name and password needs to be provided and all API actions\n",
        "# will be run as that user\n",
        "class AlationInstance():\n",
        "    # The __init__ method is the constructor used for instantiating\n",
        "    # email: the up to 30 chars user name, often the email, but for long emails could be cut off\n",
        "    # password: could be the LDAP password, as well\n",
        "    # verify: Requests verifies SSL certificates for HTTPS requests, just like a web browser.\n",
        "    # By default, SSL verification is enabled, and Requests will throw a SSLError if it’s unable to verify the certificate\n",
        "    def __init__(self, host, account, password, verify=True):\n",
        "        self.host = host\n",
        "        self.verify = verify\n",
        "        self.account = account\n",
        "        self.password = password\n",
        "        self.token = self.get_token()\n",
        "        self.headers = self.login(account, password)\n",
        "\n",
        "    # The login method is used to obtain a session ID and relevant cookies\n",
        "    # They are cached in the headers variable\n",
        "    # account: the up to 30 chars user name, often the email, but for long emails could be cut off\n",
        "    # password: could be the LDAP password, as well\n",
        "    def login(self, account, password):\n",
        "        URL = self.host + '/login/'\n",
        "\n",
        "        s = requests.Session()\n",
        "        s.get(URL, verify=self.verify)\n",
        "\n",
        "        # get the cookie token\n",
        "        csrftoken = s.cookies.get('csrftoken')\n",
        "\n",
        "        # login with user name and password (and token)\n",
        "        payload = {\"csrfmiddlewaretoken\": csrftoken, \"ldap_user\": account, \"password\": password}\n",
        "        headers = {\"Referer\": URL}\n",
        "        log_me(\"Logging in to {}\".format(URL))\n",
        "        r = s.post(URL, data=payload, verify=self.verify, headers=headers)\n",
        "\n",
        "        # get the session ID and store it for all future API calls\n",
        "        sessionid = s.cookies.get('sessionid')\n",
        "        if not sessionid:\n",
        "            log_me('No session ID, probably wrong user name / password')\n",
        "        headers = {\"X-CSRFToken\": csrftoken,\n",
        "                   \"Cookie\": f\"csrftoken={csrftoken}; sessionid={sessionid}\",\n",
        "                   \"Referer\": URL\n",
        "                   }\n",
        "\n",
        "        return headers\n",
        "\n",
        "    def get_token(self):\n",
        "        change_token = \"/api/v1/changeToken/\"  # if you already have a token, use this url\n",
        "        new_token = \"/api/v1/getToken/\"  # if you have never generated a token, use this url\n",
        "        data = dict(username=self.account, password=self.password)\n",
        "        response = requests.post(self.host + new_token, data=data)\n",
        "        api_token = response.text\n",
        "        if api_token == \"EXISTING\":\n",
        "            response = requests.post(self.host + change_token, data=data)\n",
        "            api_token = response.text\n",
        "        return api_token\n",
        "\n",
        "    # The generic_api_post method posts a request to Alation and if necessary checks the status\n",
        "    def generic_api_post(self, api, params=None, body=None, official=False):\n",
        "        if official:\n",
        "            headers_final = dict(token=self.token)\n",
        "        else:\n",
        "            headers_final = self.headers\n",
        "            headers_final['Referer'] = self.host + api\n",
        "        r = requests.post(self.host + api, json=body, params=params, headers=headers_final)\n",
        "\n",
        "        if r.status_code:\n",
        "            r_parsed = r.json()\n",
        "            # do we need to ask the job status API for help?\n",
        "            if 'job_id' in r_parsed:\n",
        "                params = dict(id=r_parsed['job_id'])\n",
        "                url_job = \"/api/v1/bulk_metadata/job/\"\n",
        "                # Let's wait for the job to finish\n",
        "                while (True):\n",
        "                    status = self.generic_api_get(api=url_job, params=params, official=True, verify=self.verify)\n",
        "                    if status['status'] != 'running':\n",
        "                        objects = status['result']\n",
        "                        # if objects:\n",
        "                        #     # for error in error_objects:\n",
        "                        #     print(objects)\n",
        "                        # else:\n",
        "                        #     #print(status)\n",
        "                        #     pass\n",
        "                        break\n",
        "                r_parsed = status\n",
        "            return r_parsed\n",
        "        else:\n",
        "            return r.content\n",
        "\n",
        "    # The generic_api_post method posts a request to Alation and if necessary checks the status\n",
        "    def generic_api_put(self, api, params=None, body=None):\n",
        "        r = requests.put(self.host + api, json=body, params=params, headers=self.headers, verify=self.verify)\n",
        "        return r.content\n",
        "\n",
        "    # The generic_api_get implements a REST get, with API token if official or Cookie if not.\n",
        "    # If the callers sends header, it needs to contain API or cookie\n",
        "    def generic_api_get(self, api, headers=None, params=None, official=False):\n",
        "        if headers:\n",
        "            # caller has supplied the headers\n",
        "            headers_final = headers\n",
        "        else:\n",
        "            if official:\n",
        "                headers_final = dict(token=self.token)\n",
        "            else:\n",
        "                headers_final = self.headers\n",
        "                headers_final['Referer'] = self.host + api\n",
        "        r = requests.get(self.host + api, headers=headers_final, params=params, verify=self.verify)\n",
        "        if r.status_code in [200, 201]:\n",
        "            try:\n",
        "                return r.json()\n",
        "            except:\n",
        "                return r.content # for LogicalMetadata API which does not use standard JSON\n",
        "        else:\n",
        "            return r.content\n",
        "\n"
      ],
      "execution_count": 0,
      "outputs": []
    },
    {
      "cell_type": "markdown",
      "metadata": {
        "id": "idfJL3vMTTuC",
        "colab_type": "text"
      },
      "source": [
        "Let's create our first AlationInstance object:"
      ]
    },
    {
      "cell_type": "code",
      "metadata": {
        "id": "QFmoyRnJByjd",
        "colab_type": "code",
        "outputId": "05499d24-4389-4593-9643-08a6ab683034",
        "colab": {
          "base_uri": "https://localhost:8080/",
          "height": 34
        }
      },
      "source": [
        "def log_me(text):\n",
        "  print(text)\n",
        "\n",
        "alation = AlationInstance('http://18.218.6.215',\n",
        "                         'matthias+1@alation.com',\n",
        "                         'FkuVnULF!hQv644VMsfo')"
      ],
      "execution_count": 27,
      "outputs": [
        {
          "output_type": "stream",
          "text": [
            "Logging in to http://18.218.6.215/login/\n"
          ],
          "name": "stdout"
        }
      ]
    },
    {
      "cell_type": "markdown",
      "metadata": {
        "id": "ho8SJvkiQKSX",
        "colab_type": "text"
      },
      "source": [
        "**Queries** in Alation are documents of SQL text. They can have multiple SQL statements, and their content is editable by their creator. They are associated with a single data source on creation and cannot be moved to a different data source.\n",
        "\n",
        "**Queries** can be in draft state (unsaved), saved, or published. If a **query** is published it is also saved.\n",
        "\n",
        "When a **query** is executed, each statement (CREATE, UPDATE, INSERT, SELECT, etc) is executed in turn by the database, and Alation stores metadata in an **execution event**. If the statement returns a **result**, Alation caches up to 16MB of that result on the server (unless the user is running an export, in which case only a 1000 row result preview is cached). These cached results (sometimes whole, sometimes partial) are available via API or in the Alation catalog until they expire. The expiration period is configurable on your server, but defaults to 1 week. Small **results** (by default less than 1MB) are stored indefinitely, with no expiration date.\n",
        "\n",
        "In addition to an **execution event**, there is also a **session** and a **batch** associated with the execution of a query. If a query contains multiple **statements**, then multiple **events** -- one event per query statement -- would be created and would belong to a single **execution batch**. Each execution of a query in Compose will create a new batch; a single **session** could have many such batches. In the case of scheduled queries, a new session is created for each run and each such session will have only a single batch; each scheduled query is run via a designated Celery task.\n",
        "\n",
        "# Summary\n",
        "\n",
        "\n",
        "\n",
        "---\n",
        "term | dependency | description\n",
        "---- | ---------- | -----------\n",
        "Query | N/A | a tab in compose, one more statements\n",
        "Statement | ^Query | separated by \";\"\n",
        "Session | N/A | a period of time\n",
        "(Execution) Batch | ^Session | Click on \"run\"\n",
        "(Execution) Event | ^Batch | One per statement\n",
        "(Execution) Result | ^Event | The results of one statement\n",
        "\n",
        "\n",
        "\n",
        "\n"
      ]
    },
    {
      "cell_type": "code",
      "metadata": {
        "id": "Zl3C0Jz6O1W8",
        "colab_type": "code",
        "colab": {
          "base_uri": "https://localhost:8080/",
          "height": 323
        },
        "outputId": "76310426-0b08-435c-a727-65395dd5fbaf"
      },
      "source": [
        "my_query = dict(\n",
        "    datasource_id=42,\n",
        "    content=\"select count(*) from banana;\",\n",
        "    saved=True,\n",
        "    author=dict(id=1, email='matthias.funke@alation.com', username='matthias.funke@alation.com')\n",
        ")\n",
        "q = alation.generic_api_post('/integration/v1/query/', body=my_query, official=True)\n",
        "pp.pprint(q)\n",
        "\n"
      ],
      "execution_count": 10,
      "outputs": [
        {
          "output_type": "stream",
          "text": [
            "{   'autosave_content': 'select count(*) from banana;',\n",
            "    'catalog_url': '/query/89/',\n",
            "    'compose_url': '/compose/query/89/',\n",
            "    'content': 'select count(*) from banana;',\n",
            "    'datasource': {   'id': 42,\n",
            "                      'title': 'Fennel',\n",
            "                      'uri': 'postgresql://fennel2.cluster-cingqyuv6npc.us-east-2.rds.amazonaws.com:5433/fennel',\n",
            "                      'url': '/data/42/'},\n",
            "    'datasource_id': 42,\n",
            "    'description': '',\n",
            "    'has_unsaved_changes': False,\n",
            "    'id': 89,\n",
            "    'published': False,\n",
            "    'saved': True,\n",
            "    'schedules': [],\n",
            "    'title': '',\n",
            "    'ts_last_saved': '2020-04-19T06:19:48.322846-07:00',\n",
            "    'url': '/integration/v1/query/89/'}\n"
          ],
          "name": "stdout"
        }
      ]
    },
    {
      "cell_type": "markdown",
      "metadata": {
        "id": "U1IBycrnVfYq",
        "colab_type": "text"
      },
      "source": [
        "The previous query, alas, has no title and no description. At least is has a number.\n",
        "\n",
        "Since there is no official API to execute the query, we will schedule a different [query](http://18.218.6.215/compose/query/85/) to run automatically and see what we get."
      ]
    },
    {
      "cell_type": "code",
      "metadata": {
        "id": "4Tjq2vOpVJcD",
        "colab_type": "code",
        "colab": {
          "base_uri": "https://localhost:8080/",
          "height": 884
        },
        "outputId": "386aa90b-8139-4d97-d16b-7def7537daf8"
      },
      "source": [
        "q = alation.generic_api_get('/integration/v1/query/85/', official=True)\n",
        "pp.pprint(q)"
      ],
      "execution_count": 11,
      "outputs": [
        {
          "output_type": "stream",
          "text": [
            "{   'autosave_content': 'select schema_name, table_name, attribute_name, '\n",
            "                        'count(1) as freq\\n'\n",
            "                        'from public.zucchini\\n'\n",
            "                        'group by 1, 2, 3\\n'\n",
            "                        'order by 4 DESC\\n'\n",
            "                        'limit 1000;\\n'\n",
            "                        '\\n'\n",
            "                        'select now();',\n",
            "    'catalog_url': '/query/85/',\n",
            "    'compose_url': '/compose/query/85/',\n",
            "    'content': 'select schema_name, table_name, attribute_name, count(1) as '\n",
            "               'freq\\n'\n",
            "               'from public.zucchini\\n'\n",
            "               'group by 1, 2, 3\\n'\n",
            "               'order by 4 DESC\\n'\n",
            "               'limit 1000;\\n'\n",
            "               '\\n'\n",
            "               'select now();',\n",
            "    'datasource': {   'id': 42,\n",
            "                      'title': 'Fennel',\n",
            "                      'uri': 'postgresql://fennel2.cluster-cingqyuv6npc.us-east-2.rds.amazonaws.com:5433/fennel',\n",
            "                      'url': '/data/42/'},\n",
            "    'datasource_id': 42,\n",
            "    'description': '<p>i have decided to publish this to enlighten the '\n",
            "                   'world</p>\\n',\n",
            "    'has_unsaved_changes': False,\n",
            "    'id': 85,\n",
            "    'published': True,\n",
            "    'saved': True,\n",
            "    'schedules': [   {   'celery_queue': 'run_scheduling',\n",
            "                         'celery_task_name': 'rosemeta.tasks.query_scheduling.run_query_1',\n",
            "                         'cron_expression': '7 * * * *',\n",
            "                         'db_connection': {   'ts_last_used': '2020-04-19T06:20:49.598451-07:00',\n",
            "                                              'ts_modified': '2020-04-19T04:35:10.519541-07:00',\n",
            "                                              'uri': 'postgresql://fennel2.cluster-cingqyuv6npc.us-east-2.rds.amazonaws.com:5433/fennel',\n",
            "                                              'username': 'matthias.funke'},\n",
            "                         'enabled': True,\n",
            "                         'latest_session': {   'batch_ids': [209],\n",
            "                                               'client_session_id': '2020-04-19T06:07:00.187095#763b7c83',\n",
            "                                               'id': 86,\n",
            "                                               'query_id': 85,\n",
            "                                               'sandbox_id': 'schedule-1',\n",
            "                                               'ts_start': '2020-04-19T06:07:00.189539-07:00'},\n",
            "                         'overdue': False,\n",
            "                         'ts_last_attempt': '2020-04-19T06:07:00.027857-07:00',\n",
            "                         'ts_next_run': '2020-04-19T14:07:00Z',\n",
            "                         'user': {   'is_active': True,\n",
            "                                     'username': 'matthias+1@alation.com'}}],\n",
            "    'title': 'base fennel query',\n",
            "    'ts_last_saved': '2020-04-19T06:03:15.107905-07:00',\n",
            "    'url': '/integration/v1/query/85/'}\n"
          ],
          "name": "stdout"
        }
      ]
    },
    {
      "cell_type": "markdown",
      "metadata": {
        "id": "ketItSULYoCh",
        "colab_type": "text"
      },
      "source": [
        "This output gives us interesting details about the automatically executed results. Perhaps we can use any?"
      ]
    },
    {
      "cell_type": "code",
      "metadata": {
        "id": "cPnsf-M5ZlMX",
        "colab_type": "code",
        "colab": {
          "base_uri": "https://localhost:8080/",
          "height": 612
        },
        "outputId": "1109f220-057f-4c4d-8d04-e15a404a151f"
      },
      "source": [
        "params=dict(query_id=q['id'])\n",
        "exec_session = alation.generic_api_get('/integration/v1/query/execution_session/', params=params, official=True)\n",
        "pp.pprint(exec_session)"
      ],
      "execution_count": 12,
      "outputs": [
        {
          "output_type": "stream",
          "text": [
            "[   {   'batch_ids': [195, 196, 199, 203, 204, 205, 206],\n",
            "        'client_session_id': '2020-04-19T11:35:08.036Z#15d15b7373134',\n",
            "        'id': 80,\n",
            "        'is_scheduled': False,\n",
            "        'query_id': 85,\n",
            "        'sandbox_id': 'compose-85',\n",
            "        'ts_start': '2020-04-19T04:36:14.269717-07:00'},\n",
            "    {   'batch_ids': [200, 201],\n",
            "        'client_session_id': '2020-04-19T05:20:00.261962#218a53c4',\n",
            "        'id': 83,\n",
            "        'is_scheduled': True,\n",
            "        'query_id': 85,\n",
            "        'sandbox_id': 'schedule-1',\n",
            "        'ts_start': '2020-04-19T05:20:00.264583-07:00'},\n",
            "    {   'batch_ids': [202, 207],\n",
            "        'client_session_id': '2020-04-19T05:41:00.208143#936dda61',\n",
            "        'id': 84,\n",
            "        'is_scheduled': True,\n",
            "        'query_id': 85,\n",
            "        'sandbox_id': 'schedule-1',\n",
            "        'ts_start': '2020-04-19T05:41:00.211132-07:00'},\n",
            "    {   'batch_ids': [208],\n",
            "        'client_session_id': '2020-04-19T06:04:00.233709#80b85921',\n",
            "        'id': 85,\n",
            "        'is_scheduled': True,\n",
            "        'query_id': 85,\n",
            "        'sandbox_id': 'schedule-1',\n",
            "        'ts_start': '2020-04-19T06:04:00.236137-07:00'},\n",
            "    {   'batch_ids': [209],\n",
            "        'client_session_id': '2020-04-19T06:07:00.187095#763b7c83',\n",
            "        'id': 86,\n",
            "        'is_scheduled': True,\n",
            "        'query_id': 85,\n",
            "        'sandbox_id': 'schedule-1',\n",
            "        'ts_start': '2020-04-19T06:07:00.189539-07:00'}]\n"
          ],
          "name": "stdout"
        }
      ]
    },
    {
      "cell_type": "markdown",
      "metadata": {
        "id": "8N1_y9JsaRuR",
        "colab_type": "text"
      },
      "source": [
        "The result shows a small bug in the Alation code: for a scheduled execution run, the timestamp does not show the UTC time.\n",
        "\n",
        "Let's get the batch details by using the execution batch API\n",
        "\n"
      ]
    },
    {
      "cell_type": "code",
      "metadata": {
        "colab_type": "code",
        "outputId": "2340aa7a-57e0-4cd5-a041-565a0aa9f500",
        "id": "x9CAyFZkauXv",
        "colab": {
          "base_uri": "https://localhost:8080/",
          "height": 102
        }
      },
      "source": [
        "batch_id = exec_session[-1]['batch_ids'][0]\n",
        "batch = alation.generic_api_get(f'/integration/v1/query/execution_batch/{batch_id}/', official=True)\n",
        "pp.pprint(batch)"
      ],
      "execution_count": 13,
      "outputs": [
        {
          "output_type": "stream",
          "text": [
            "{   'events': [   {'id': 390, 'index_in_batch': 1},\n",
            "                  {'id': 389, 'index_in_batch': 0}],\n",
            "    'id': 209,\n",
            "    'query_id': 85,\n",
            "    'session_id': 86}\n"
          ],
          "name": "stdout"
        }
      ]
    },
    {
      "cell_type": "markdown",
      "metadata": {
        "id": "qdE3vlS5bwSZ",
        "colab_type": "text"
      },
      "source": [
        "Let's get the execution event details."
      ]
    },
    {
      "cell_type": "code",
      "metadata": {
        "colab_type": "code",
        "outputId": "be8710f2-6aec-4944-c68a-bcdb55e8b548",
        "id": "7aezEhuUbseh",
        "colab": {
          "base_uri": "https://localhost:8080/",
          "height": 1000
        }
      },
      "source": [
        "base_url = \"http://18.218.6.215\"\n",
        "\n",
        "for event in batch['events']:\n",
        "  event_id = event['id']\n",
        "  exec_event = alation.generic_api_get(f\"/integration/v1/query/execution_event/{event_id}/\", official=True)\n",
        "  print('-----------------------------')\n",
        "  pp.pprint(exec_event)\n",
        "  print('-----------------------------')\n",
        "  print(f\"{base_url}{exec_event['result']['url']} ({exec_event['result']['title']})\")"
      ],
      "execution_count": 23,
      "outputs": [
        {
          "output_type": "stream",
          "text": [
            "-----------------------------\n",
            "{   'batch_id': 209,\n",
            "    'canceled': False,\n",
            "    'datasource': {'id': 42, 'title': 'Fennel', 'url': '/data/42/'},\n",
            "    'db_username': None,\n",
            "    'elapsed_seconds': 0.040502,\n",
            "    'execution_error': None,\n",
            "    'id': 390,\n",
            "    'index_in_batch': 1,\n",
            "    'num_result_rows': 1,\n",
            "    'query_id': 85,\n",
            "    'result': {   'byte_count': 35,\n",
            "                  'data_schema': [   {   'name': 'now',\n",
            "                                         'norm_type': 'TIMESTAMP',\n",
            "                                         'original_name': 'now',\n",
            "                                         'type': 'timestamptz'}],\n",
            "                  'deleted': False,\n",
            "                  'expired': False,\n",
            "                  'id': 111,\n",
            "                  'query': {   'description': '<p>i have decided to publish '\n",
            "                                              'this to enlighten the '\n",
            "                                              'world</p>\\n',\n",
            "                               'id': 85,\n",
            "                               'title': 'base fennel query'},\n",
            "                  'row_count': 1,\n",
            "                  'storage_status': 'STORED_ALL',\n",
            "                  'title': 'Scheduled result on base fennel query 2020-04-19',\n",
            "                  'truncated': False,\n",
            "                  'ts_created': '2020-04-19T06:07:00.483645-07:00',\n",
            "                  'ts_expiration': None,\n",
            "                  'url': '/execution_result/111/'},\n",
            "    'session_id': 86,\n",
            "    'statement_content': 'select now();',\n",
            "    'ts_executed': '2020-04-19T06:07:00.421118-07:00',\n",
            "    'url': '/compose_execution_session/86/?from_event=390'}\n",
            "-----------------------------\n",
            "http://18.218.6.215/execution_result/111/ (Scheduled result on base fennel query 2020-04-19)\n",
            "-----------------------------\n",
            "{   'batch_id': 209,\n",
            "    'canceled': False,\n",
            "    'datasource': {'id': 42, 'title': 'Fennel', 'url': '/data/42/'},\n",
            "    'db_username': 'matthias.funke',\n",
            "    'elapsed_seconds': 0.185365,\n",
            "    'execution_error': None,\n",
            "    'id': 389,\n",
            "    'index_in_batch': 0,\n",
            "    'num_result_rows': 1000,\n",
            "    'query_id': 85,\n",
            "    'result': {   'byte_count': 52953,\n",
            "                  'data_schema': [   {   'name': 'schema_name',\n",
            "                                         'norm_type': 'STRING',\n",
            "                                         'original_name': 'schema_name',\n",
            "                                         'type': 'text'},\n",
            "                                     {   'name': 'table_name',\n",
            "                                         'norm_type': 'STRING',\n",
            "                                         'original_name': 'table_name',\n",
            "                                         'type': 'text'},\n",
            "                                     {   'name': 'attribute_name',\n",
            "                                         'norm_type': 'STRING',\n",
            "                                         'original_name': 'attribute_name',\n",
            "                                         'type': 'text'},\n",
            "                                     {   'name': 'freq',\n",
            "                                         'norm_type': 'INT',\n",
            "                                         'original_name': 'freq',\n",
            "                                         'type': 'int8'}],\n",
            "                  'deleted': False,\n",
            "                  'expired': False,\n",
            "                  'id': 110,\n",
            "                  'query': {   'description': '<p>i have decided to publish '\n",
            "                                              'this to enlighten the '\n",
            "                                              'world</p>\\n',\n",
            "                               'id': 85,\n",
            "                               'title': 'base fennel query'},\n",
            "                  'row_count': 1000,\n",
            "                  'storage_status': 'STORED_ALL',\n",
            "                  'title': 'Scheduled result on base fennel query 2020-04-19',\n",
            "                  'truncated': False,\n",
            "                  'ts_created': '2020-04-19T06:07:00.398577-07:00',\n",
            "                  'ts_expiration': None,\n",
            "                  'url': '/execution_result/110/'},\n",
            "    'session_id': 86,\n",
            "    'statement_content': 'select schema_name, table_name, attribute_name, '\n",
            "                         'count(1) as freq\\n'\n",
            "                         'from public.zucchini\\n'\n",
            "                         'group by 1, 2, 3\\n'\n",
            "                         'order by 4 DESC\\n'\n",
            "                         'limit 1000;',\n",
            "    'ts_executed': '2020-04-19T06:07:00.189539-07:00',\n",
            "    'url': '/compose_execution_session/86/?from_event=389'}\n",
            "-----------------------------\n",
            "http://18.218.6.215/execution_result/110/ (Scheduled result on base fennel query 2020-04-19)\n"
          ],
          "name": "stdout"
        }
      ]
    },
    {
      "cell_type": "markdown",
      "metadata": {
        "id": "QBYZ7ov0gGkS",
        "colab_type": "text"
      },
      "source": [
        "Now let's use an unoffical API to get hold of the actual result."
      ]
    },
    {
      "cell_type": "code",
      "metadata": {
        "id": "PVqgmACzgLBO",
        "colab_type": "code",
        "colab": {
          "base_uri": "https://localhost:8080/",
          "height": 419
        },
        "outputId": "72561310-f59e-4d35-914b-15043221824e"
      },
      "source": [
        "result_id = exec_event['result']['id']\n",
        "data_schema = exec_event['result']['data_schema']\n",
        "cols = [schema['name'] for schema in data_schema]\n",
        "res = alation.generic_api_get(f'/ajax/execution_result_data/{result_id}/')\n",
        "pd.DataFrame(res, columns=cols)"
      ],
      "execution_count": 22,
      "outputs": [
        {
          "output_type": "execute_result",
          "data": {
            "text/html": [
              "<div>\n",
              "<style scoped>\n",
              "    .dataframe tbody tr th:only-of-type {\n",
              "        vertical-align: middle;\n",
              "    }\n",
              "\n",
              "    .dataframe tbody tr th {\n",
              "        vertical-align: top;\n",
              "    }\n",
              "\n",
              "    .dataframe thead th {\n",
              "        text-align: right;\n",
              "    }\n",
              "</style>\n",
              "<table border=\"1\" class=\"dataframe\">\n",
              "  <thead>\n",
              "    <tr style=\"text-align: right;\">\n",
              "      <th></th>\n",
              "      <th>schema_name</th>\n",
              "      <th>table_name</th>\n",
              "      <th>attribute_name</th>\n",
              "      <th>freq</th>\n",
              "    </tr>\n",
              "  </thead>\n",
              "  <tbody>\n",
              "    <tr>\n",
              "      <th>0</th>\n",
              "      <td>public</td>\n",
              "      <td>inventory</td>\n",
              "      <td>store</td>\n",
              "      <td>18</td>\n",
              "    </tr>\n",
              "    <tr>\n",
              "      <th>1</th>\n",
              "      <td>public</td>\n",
              "      <td>employees</td>\n",
              "      <td>emp_yrs</td>\n",
              "      <td>18</td>\n",
              "    </tr>\n",
              "    <tr>\n",
              "      <th>2</th>\n",
              "      <td>public</td>\n",
              "      <td>inventory</td>\n",
              "      <td>store_state</td>\n",
              "      <td>18</td>\n",
              "    </tr>\n",
              "    <tr>\n",
              "      <th>3</th>\n",
              "      <td>public</td>\n",
              "      <td>parts</td>\n",
              "      <td>cat</td>\n",
              "      <td>18</td>\n",
              "    </tr>\n",
              "    <tr>\n",
              "      <th>4</th>\n",
              "      <td>public</td>\n",
              "      <td>employees</td>\n",
              "      <td>emp_name</td>\n",
              "      <td>18</td>\n",
              "    </tr>\n",
              "    <tr>\n",
              "      <th>...</th>\n",
              "      <td>...</td>\n",
              "      <td>...</td>\n",
              "      <td>...</td>\n",
              "      <td>...</td>\n",
              "    </tr>\n",
              "    <tr>\n",
              "      <th>995</th>\n",
              "      <td>loan_data</td>\n",
              "      <td>full_loan_details_full</td>\n",
              "      <td>settlement_term</td>\n",
              "      <td>5</td>\n",
              "    </tr>\n",
              "    <tr>\n",
              "      <th>996</th>\n",
              "      <td>loan_data</td>\n",
              "      <td>full_loan_details_full</td>\n",
              "      <td>num_tl_30dpd</td>\n",
              "      <td>5</td>\n",
              "    </tr>\n",
              "    <tr>\n",
              "      <th>997</th>\n",
              "      <td>bank</td>\n",
              "      <td>uic_credit_data_2</td>\n",
              "      <td>bill_amt4</td>\n",
              "      <td>5</td>\n",
              "    </tr>\n",
              "    <tr>\n",
              "      <th>998</th>\n",
              "      <td>bank</td>\n",
              "      <td>uic_credit_data_2</td>\n",
              "      <td>education</td>\n",
              "      <td>5</td>\n",
              "    </tr>\n",
              "    <tr>\n",
              "      <th>999</th>\n",
              "      <td>bank</td>\n",
              "      <td>uic_credit_data_2</td>\n",
              "      <td>bill_amt2</td>\n",
              "      <td>5</td>\n",
              "    </tr>\n",
              "  </tbody>\n",
              "</table>\n",
              "<p>1000 rows × 4 columns</p>\n",
              "</div>"
            ],
            "text/plain": [
              "    schema_name              table_name   attribute_name freq\n",
              "0        public               inventory            store   18\n",
              "1        public               employees          emp_yrs   18\n",
              "2        public               inventory      store_state   18\n",
              "3        public                   parts              cat   18\n",
              "4        public               employees         emp_name   18\n",
              "..          ...                     ...              ...  ...\n",
              "995   loan_data  full_loan_details_full  settlement_term    5\n",
              "996   loan_data  full_loan_details_full     num_tl_30dpd    5\n",
              "997        bank       uic_credit_data_2        bill_amt4    5\n",
              "998        bank       uic_credit_data_2        education    5\n",
              "999        bank       uic_credit_data_2        bill_amt2    5\n",
              "\n",
              "[1000 rows x 4 columns]"
            ]
          },
          "metadata": {
            "tags": []
          },
          "execution_count": 22
        }
      ]
    },
    {
      "cell_type": "markdown",
      "metadata": {
        "colab_type": "text",
        "id": "NZTbY_0v-3Ep"
      },
      "source": [
        "# More fun with the unofficial API"
      ]
    },
    {
      "cell_type": "code",
      "metadata": {
        "id": "2bR3UR46HJCL",
        "colab_type": "code",
        "colab": {
          "base_uri": "https://localhost:8080/",
          "height": 1000
        },
        "outputId": "bb5553c9-b76a-4460-98aa-56ab9a732450"
      },
      "source": [
        "otype='table'\n",
        "id=869\n",
        "t = alation.generic_api_get(f'/api/{otype}/{id}/')\n",
        "\n",
        "pp.pprint(t)"
      ],
      "execution_count": 16,
      "outputs": [
        {
          "output_type": "stream",
          "text": [
            "{   'auto_title_status': 'HIGH_CONFIDENCE',\n",
            "    'base_table': None,\n",
            "    'bucket_attributes': None,\n",
            "    'constraint_text': None,\n",
            "    'custom_fields': [   {   'allowed_otypes': None,\n",
            "                             'builtin_name': None,\n",
            "                             'can_edit': True,\n",
            "                             'can_view': True,\n",
            "                             'field_type': 'PICKER',\n",
            "                             'id': 10298,\n",
            "                             'name_plural': '(01NT)Data Object',\n",
            "                             'name_singular': '(01NT)Data Object',\n",
            "                             'tooltip_text': ''},\n",
            "                         {   'allowed_otypes': [   'user',\n",
            "                                                   'groupprofile',\n",
            "                                                   'groupprofile'],\n",
            "                             'builtin_name': 'steward',\n",
            "                             'can_edit': True,\n",
            "                             'can_view': True,\n",
            "                             'field_type': 'OBJECT_SET',\n",
            "                             'id': 8,\n",
            "                             'name_plural': 'Stewards',\n",
            "                             'name_singular': 'Steward',\n",
            "                             'tooltip_text': None},\n",
            "                         {   'allowed_otypes': [   'data',\n",
            "                                                   'schema',\n",
            "                                                   'table',\n",
            "                                                   'attribute',\n",
            "                                                   'user',\n",
            "                                                   'article',\n",
            "                                                   'groupprofile',\n",
            "                                                   'groupprofile'],\n",
            "                             'builtin_name': None,\n",
            "                             'can_edit': True,\n",
            "                             'can_view': True,\n",
            "                             'field_type': 'OBJECT_SET',\n",
            "                             'id': 10542,\n",
            "                             'name_plural': 'Universal',\n",
            "                             'name_singular': 'Universal',\n",
            "                             'tooltip_text': ''}],\n",
            "    'data_location': None,\n",
            "    'db_comment': None,\n",
            "    'definition_sql': None,\n",
            "    'deleted': False,\n",
            "    'description': '<p><u>an underlined description here</u></p>',\n",
            "    'display_title': 'Marina',\n",
            "    'ds': {   'can_data_upload': True,\n",
            "              'data_upload_disabled_message': 'Your administrator has disabled '\n",
            "                                              'the Data Uploader for this Data '\n",
            "                                              'Source.',\n",
            "              'dbtype': 'postgresql',\n",
            "              'icon': 'db',\n",
            "              'id': 5,\n",
            "              'otype': 'data',\n",
            "              'title': 'funkmeister',\n",
            "              'url': '/data/5/'},\n",
            "    'ds_id': 5,\n",
            "    'enabled_in_compose': True,\n",
            "    'excluded': False,\n",
            "    'favorited_by_list': None,\n",
            "    'fp_or_id': '526051924337781255',\n",
            "    'icon': 'table',\n",
            "    'id': 869,\n",
            "    'is_gone': False,\n",
            "    'is_synonym': False,\n",
            "    'is_title_editable': None,\n",
            "    'is_view': False,\n",
            "    'is_virtual': False,\n",
            "    'mandated_constraint_type': 0,\n",
            "    'name': 'marina',\n",
            "    'num_queries': 1,\n",
            "    'otype': 'table',\n",
            "    'partitioning_attributes': None,\n",
            "    'qualified_name': 'public.marina',\n",
            "    'row_count': 0,\n",
            "    'schema': 'public',\n",
            "    'schema_obj': 10,\n",
            "    'schema_obj_id': 10,\n",
            "    'shared_catalog_sets': [],\n",
            "    'skews_info': None,\n",
            "    'sort_attributes': None,\n",
            "    'source_text_for_description': None,\n",
            "    'synonyms': [],\n",
            "    'table_alter_time': None,\n",
            "    'table_create_time': None,\n",
            "    'table_owner': 'funkmeister',\n",
            "    'title': '',\n",
            "    'true_name': 'marina',\n",
            "    'url': '/table/869/',\n",
            "    'view_sql': None,\n",
            "    'view_sql_expanded': None}\n"
          ],
          "name": "stdout"
        }
      ]
    },
    {
      "cell_type": "markdown",
      "metadata": {
        "colab_type": "text",
        "id": "4Cb9qXk8nLAQ"
      },
      "source": [
        "## Get a file handle to this Notebook\n",
        "\n",
        "This code won't work for you unless you have access to the file."
      ]
    },
    {
      "cell_type": "code",
      "metadata": {
        "id": "0_7TmJSTxMlg",
        "colab_type": "code",
        "outputId": "752a0e90-24d2-4993-cb4c-ca2909820f1d",
        "colab": {
          "base_uri": "https://localhost:8080/",
          "height": 68
        }
      },
      "source": [
        "from google.colab import auth\n",
        "auth.authenticate_user()\n",
        "from googleapiclient.discovery import build\n",
        "drive_service = build('drive', 'v3')\n",
        "\n",
        "response = drive_service.files().list(q=\"name='Alation API Training Spring 2020.ipynb'\",\n",
        "                                      spaces='drive',\n",
        "                                      fields='nextPageToken, files(id, name)').execute()\n",
        "file = response.get('files', [])[0]\n",
        "print ('Found file: {} {}' .format (file.get('name'), file.get('id')))\n",
        "alation_notebook = file.get('id')\n",
        "file\n",
        "\n"
      ],
      "execution_count": 18,
      "outputs": [
        {
          "output_type": "stream",
          "text": [
            "Found file: Alation API Training Spring 2020.ipynb 16BiqA8Oy53iwQumPhIOOI3hfh-GFjntd\n"
          ],
          "name": "stdout"
        },
        {
          "output_type": "execute_result",
          "data": {
            "text/plain": [
              "{'id': '16BiqA8Oy53iwQumPhIOOI3hfh-GFjntd',\n",
              " 'name': 'Alation API Training Spring 2020.ipynb'}"
            ]
          },
          "metadata": {
            "tags": []
          },
          "execution_count": 18
        }
      ]
    },
    {
      "cell_type": "markdown",
      "metadata": {
        "id": "-nQ7L9n_xB6s",
        "colab_type": "text"
      },
      "source": [
        "Copy the notebook (running this cell only defines the method)"
      ]
    },
    {
      "cell_type": "code",
      "metadata": {
        "id": "-3FB85hr1wDo",
        "colab_type": "code",
        "colab": {}
      },
      "source": [
        "def copy_notebook(name):\n",
        "  body = dict(name=name)\n",
        "  response = drive_service.files().copy(fileId=alation_notebook, body=body).execute()\n",
        "  return '<p><a href=\"https://colab.research.google.com/drive/{0}\" rel=\"noopener noreferrer\" target=\"_blank\">https://colab.research.google.com/drive/{0}</a></p>'.format(response['id'])"
      ],
      "execution_count": 0,
      "outputs": []
    },
    {
      "cell_type": "code",
      "metadata": {
        "id": "7YYlDiN9Y5NC",
        "colab_type": "code",
        "outputId": "32668dc0-72c2-4ecf-d1d3-63472ab1e0fe",
        "colab": {
          "base_uri": "https://localhost:8080/",
          "height": 54
        }
      },
      "source": [
        "copy_notebook(\"My friend.ipynb\")"
      ],
      "execution_count": 21,
      "outputs": [
        {
          "output_type": "execute_result",
          "data": {
            "text/plain": [
              "'<p><a href=\"https://colab.research.google.com/drive/1EhpkAbCK10rYaVBIXi39B7uKVgRODtIG\" rel=\"noopener noreferrer\" target=\"_blank\">https://colab.research.google.com/drive/1EhpkAbCK10rYaVBIXi39B7uKVgRODtIG</a></p>'"
            ]
          },
          "metadata": {
            "tags": []
          },
          "execution_count": 21
        }
      ]
    },
    {
      "cell_type": "code",
      "metadata": {
        "id": "A4hyNRbWeXcW",
        "colab_type": "code",
        "colab": {}
      },
      "source": [
        ""
      ],
      "execution_count": 0,
      "outputs": []
    }
  ]
}