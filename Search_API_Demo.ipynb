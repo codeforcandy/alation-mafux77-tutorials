{
  "nbformat": 4,
  "nbformat_minor": 0,
  "metadata": {
    "colab": {
      "name": "Search API Demo.ipynb",
      "provenance": [],
      "authorship_tag": "ABX9TyMVPdr1UyXeix6qVlN4OuXY",
      "include_colab_link": true
    },
    "kernelspec": {
      "name": "python3",
      "display_name": "Python 3"
    }
  },
  "cells": [
    {
      "cell_type": "markdown",
      "metadata": {
        "id": "view-in-github",
        "colab_type": "text"
      },
      "source": [
        "<a href=\"https://colab.research.google.com/github/mafux777/Alation_Article/blob/master/Search_API_Demo.ipynb\" target=\"_parent\"><img src=\"https://colab.research.google.com/assets/colab-badge.svg\" alt=\"Open In Colab\"/></a>"
      ]
    },
    {
      "cell_type": "code",
      "metadata": {
        "colab": {
          "base_uri": "https://localhost:8080/"
        },
        "id": "70nQmJ8q9MsC",
        "outputId": "b2cb7019-8f8a-4abe-adb1-ebce7bf4a8e8"
      },
      "source": [
        "import requests\n",
        "import json\n",
        "import pandas as pd\n",
        "\n",
        "\n",
        "# Prepare the REST API call parameters\n",
        "host = \"http://2021-1-sandbox.alationproserv.com/\"\n",
        "headers = dict(token='hQKcs_OqWLEI-qayQ__ZnpLXtSEhEzXrJD_cEXfM7mE')\n",
        "# headers = {\"token\" : 'hQKcs_OqWLEI-qayQ__ZnpLXtSEhEzXrJD_cEXfM7mE'}\n",
        "\n",
        "# Create a data source\n",
        "url = host + \"/integration/v1/search/\"\n",
        "\n",
        "params = dict(\n",
        "    q = \"crypt*\"\n",
        ")\n",
        "\n",
        "r = requests.get(url=url, headers=headers, params=params, verify=False)\n",
        "\n",
        "# get the status\n",
        "status = r.json()\n",
        "\n",
        "print(f\"Found {status['total']} results.\")\n",
        "\n",
        "\n"
      ],
      "execution_count": 8,
      "outputs": [
        {
          "output_type": "stream",
          "text": [
            "Found 8 results.\n"
          ],
          "name": "stdout"
        }
      ]
    },
    {
      "cell_type": "code",
      "metadata": {
        "id": "NfWKk5d6-awZ",
        "colab": {
          "base_uri": "https://localhost:8080/"
        },
        "outputId": "48690189-b0eb-4c0d-cb59-d49859dec8c2"
      },
      "source": [
        "status"
      ],
      "execution_count": 9,
      "outputs": [
        {
          "output_type": "execute_result",
          "data": {
            "text/plain": [
              "{'full_search_url': 'http://2021-1-sandbox.alationproserv.com/full_search/?q=crypt%2A',\n",
              " 'limit': 20,\n",
              " 'offset': 0,\n",
              " 'results': [{'breadcrumbs': [{'name': None,\n",
              "     'otype': 'data',\n",
              "     'title': '_MySQL__Analytics'},\n",
              "    {'name': 'crypto', 'otype': 'schema', 'title': None}],\n",
              "   'flags': [],\n",
              "   'highlight': {},\n",
              "   'id': '2314',\n",
              "   'name': 'crypto_aubergine',\n",
              "   'otype': 'table',\n",
              "   'recent': True,\n",
              "   'starred': False,\n",
              "   'text': '',\n",
              "   'title': 'Crypto Aubergine',\n",
              "   'url': 'http://2021-1-sandbox.alationproserv.com/table/2314/',\n",
              "   'watching': False},\n",
              "  {'breadcrumbs': [{'name': None,\n",
              "     'otype': 'data',\n",
              "     'title': '_MySQL__Analytics'},\n",
              "    {'name': 'crypto', 'otype': 'schema', 'title': None}],\n",
              "   'flags': [],\n",
              "   'highlight': {},\n",
              "   'id': '2315',\n",
              "   'name': 'crypto_large',\n",
              "   'otype': 'table',\n",
              "   'recent': True,\n",
              "   'starred': True,\n",
              "   'text': '',\n",
              "   'title': 'Crypto Large',\n",
              "   'url': 'http://2021-1-sandbox.alationproserv.com/table/2315/',\n",
              "   'watching': False},\n",
              "  {'breadcrumbs': [{'name': None,\n",
              "     'otype': 'data',\n",
              "     'title': '_MySQL__Analytics'},\n",
              "    {'name': 'flightaware', 'otype': 'schema', 'title': None}],\n",
              "   'flags': [],\n",
              "   'highlight': {},\n",
              "   'id': '261',\n",
              "   'name': 'cryptic_schedule',\n",
              "   'otype': 'table',\n",
              "   'recent': False,\n",
              "   'starred': False,\n",
              "   'text': '',\n",
              "   'title': 'Cryptic Schedule',\n",
              "   'url': 'http://2021-1-sandbox.alationproserv.com/table/261/',\n",
              "   'watching': False},\n",
              "  {'breadcrumbs': [{'name': None,\n",
              "     'otype': 'data',\n",
              "     'title': '_MySQL__Analytics'},\n",
              "    {'name': 'ipps', 'otype': 'schema', 'title': None}],\n",
              "   'flags': [],\n",
              "   'highlight': {},\n",
              "   'id': '369',\n",
              "   'name': 'cryptic_schedule',\n",
              "   'otype': 'table',\n",
              "   'recent': False,\n",
              "   'starred': False,\n",
              "   'text': '',\n",
              "   'title': 'Cryptic Schedule',\n",
              "   'url': 'http://2021-1-sandbox.alationproserv.com/table/369/',\n",
              "   'watching': False},\n",
              "  {'breadcrumbs': [{'name': None,\n",
              "     'otype': 'data',\n",
              "     'title': '_MySQL__Analytics'}],\n",
              "   'flags': [],\n",
              "   'highlight': {},\n",
              "   'id': '147',\n",
              "   'name': 'crypto',\n",
              "   'otype': 'schema',\n",
              "   'recent': True,\n",
              "   'starred': False,\n",
              "   'text': '',\n",
              "   'title': '',\n",
              "   'url': 'http://2021-1-sandbox.alationproserv.com/schema/147/',\n",
              "   'watching': False},\n",
              "  {'breadcrumbs': None,\n",
              "   'flags': [],\n",
              "   'highlight': {},\n",
              "   'id': '24',\n",
              "   'name': 'crypto',\n",
              "   'otype': 'tag',\n",
              "   'recent': True,\n",
              "   'starred': False,\n",
              "   'text': '',\n",
              "   'title': None,\n",
              "   'url': 'http://2021-1-sandbox.alationproserv.com/tag/24/',\n",
              "   'watching': False},\n",
              "  {'breadcrumbs': None,\n",
              "   'flags': [],\n",
              "   'highlight': {},\n",
              "   'id': '39',\n",
              "   'name': None,\n",
              "   'otype': 'catalog_set',\n",
              "   'recent': True,\n",
              "   'starred': False,\n",
              "   'text': '',\n",
              "   'title': 'crypto',\n",
              "   'url': 'http://2021-1-sandbox.alationproserv.com/catalog_set/39/',\n",
              "   'watching': False},\n",
              "  {'breadcrumbs': None,\n",
              "   'flags': [],\n",
              "   'highlight': {},\n",
              "   'id': '22',\n",
              "   'name': None,\n",
              "   'otype': 'query_or_statement',\n",
              "   'recent': True,\n",
              "   'starred': False,\n",
              "   'text': 'SELECT * FROM crypto.crypto_aubergine;',\n",
              "   'title': 'Crypto Aubergine',\n",
              "   'url': 'http://2021-1-sandbox.alationproserv.com/query/22/',\n",
              "   'watching': False}],\n",
              " 'total': 8}"
            ]
          },
          "metadata": {
            "tags": []
          },
          "execution_count": 9
        }
      ]
    },
    {
      "cell_type": "code",
      "metadata": {
        "id": "6Jy-8CU9GBK5"
      },
      "source": [
        "df = pd.DataFrame(status.get(\"results\"))"
      ],
      "execution_count": 5,
      "outputs": []
    },
    {
      "cell_type": "code",
      "metadata": {
        "colab": {
          "base_uri": "https://localhost:8080/",
          "height": 297
        },
        "id": "I8VhvyplGJ64",
        "outputId": "bd50969f-4ffa-4a27-f79f-6d4990c2c4bc"
      },
      "source": [
        "df"
      ],
      "execution_count": 6,
      "outputs": [
        {
          "output_type": "execute_result",
          "data": {
            "text/html": [
              "<div>\n",
              "<style scoped>\n",
              "    .dataframe tbody tr th:only-of-type {\n",
              "        vertical-align: middle;\n",
              "    }\n",
              "\n",
              "    .dataframe tbody tr th {\n",
              "        vertical-align: top;\n",
              "    }\n",
              "\n",
              "    .dataframe thead th {\n",
              "        text-align: right;\n",
              "    }\n",
              "</style>\n",
              "<table border=\"1\" class=\"dataframe\">\n",
              "  <thead>\n",
              "    <tr style=\"text-align: right;\">\n",
              "      <th></th>\n",
              "      <th>title</th>\n",
              "      <th>name</th>\n",
              "      <th>text</th>\n",
              "      <th>highlight</th>\n",
              "      <th>id</th>\n",
              "      <th>starred</th>\n",
              "      <th>recent</th>\n",
              "      <th>watching</th>\n",
              "      <th>flags</th>\n",
              "      <th>url</th>\n",
              "      <th>otype</th>\n",
              "      <th>breadcrumbs</th>\n",
              "    </tr>\n",
              "  </thead>\n",
              "  <tbody>\n",
              "    <tr>\n",
              "      <th>0</th>\n",
              "      <td>Crypto Aubergine</td>\n",
              "      <td>crypto_aubergine</td>\n",
              "      <td></td>\n",
              "      <td>{}</td>\n",
              "      <td>2314</td>\n",
              "      <td>False</td>\n",
              "      <td>True</td>\n",
              "      <td>False</td>\n",
              "      <td>[]</td>\n",
              "      <td>http://2021-1-sandbox.alationproserv.com/table...</td>\n",
              "      <td>table</td>\n",
              "      <td>[{'name': None, 'title': '_MySQL__Analytics', ...</td>\n",
              "    </tr>\n",
              "    <tr>\n",
              "      <th>1</th>\n",
              "      <td>Crypto Large</td>\n",
              "      <td>crypto_large</td>\n",
              "      <td></td>\n",
              "      <td>{}</td>\n",
              "      <td>2315</td>\n",
              "      <td>True</td>\n",
              "      <td>True</td>\n",
              "      <td>False</td>\n",
              "      <td>[]</td>\n",
              "      <td>http://2021-1-sandbox.alationproserv.com/table...</td>\n",
              "      <td>table</td>\n",
              "      <td>[{'name': None, 'title': '_MySQL__Analytics', ...</td>\n",
              "    </tr>\n",
              "    <tr>\n",
              "      <th>2</th>\n",
              "      <td>Cryptic Schedule</td>\n",
              "      <td>cryptic_schedule</td>\n",
              "      <td></td>\n",
              "      <td>{}</td>\n",
              "      <td>261</td>\n",
              "      <td>False</td>\n",
              "      <td>False</td>\n",
              "      <td>False</td>\n",
              "      <td>[]</td>\n",
              "      <td>http://2021-1-sandbox.alationproserv.com/table...</td>\n",
              "      <td>table</td>\n",
              "      <td>[{'name': None, 'title': '_MySQL__Analytics', ...</td>\n",
              "    </tr>\n",
              "    <tr>\n",
              "      <th>3</th>\n",
              "      <td>Cryptic Schedule</td>\n",
              "      <td>cryptic_schedule</td>\n",
              "      <td></td>\n",
              "      <td>{}</td>\n",
              "      <td>369</td>\n",
              "      <td>False</td>\n",
              "      <td>False</td>\n",
              "      <td>False</td>\n",
              "      <td>[]</td>\n",
              "      <td>http://2021-1-sandbox.alationproserv.com/table...</td>\n",
              "      <td>table</td>\n",
              "      <td>[{'name': None, 'title': '_MySQL__Analytics', ...</td>\n",
              "    </tr>\n",
              "    <tr>\n",
              "      <th>4</th>\n",
              "      <td></td>\n",
              "      <td>crypto</td>\n",
              "      <td></td>\n",
              "      <td>{}</td>\n",
              "      <td>147</td>\n",
              "      <td>False</td>\n",
              "      <td>True</td>\n",
              "      <td>False</td>\n",
              "      <td>[]</td>\n",
              "      <td>http://2021-1-sandbox.alationproserv.com/schem...</td>\n",
              "      <td>schema</td>\n",
              "      <td>[{'name': None, 'title': '_MySQL__Analytics', ...</td>\n",
              "    </tr>\n",
              "    <tr>\n",
              "      <th>5</th>\n",
              "      <td>None</td>\n",
              "      <td>crypto</td>\n",
              "      <td></td>\n",
              "      <td>{}</td>\n",
              "      <td>24</td>\n",
              "      <td>False</td>\n",
              "      <td>True</td>\n",
              "      <td>False</td>\n",
              "      <td>[]</td>\n",
              "      <td>http://2021-1-sandbox.alationproserv.com/tag/24/</td>\n",
              "      <td>tag</td>\n",
              "      <td>None</td>\n",
              "    </tr>\n",
              "    <tr>\n",
              "      <th>6</th>\n",
              "      <td>crypto</td>\n",
              "      <td>None</td>\n",
              "      <td></td>\n",
              "      <td>{}</td>\n",
              "      <td>39</td>\n",
              "      <td>False</td>\n",
              "      <td>True</td>\n",
              "      <td>False</td>\n",
              "      <td>[]</td>\n",
              "      <td>http://2021-1-sandbox.alationproserv.com/catal...</td>\n",
              "      <td>catalog_set</td>\n",
              "      <td>None</td>\n",
              "    </tr>\n",
              "    <tr>\n",
              "      <th>7</th>\n",
              "      <td>Crypto Aubergine</td>\n",
              "      <td>None</td>\n",
              "      <td>SELECT * FROM crypto.crypto_aubergine;</td>\n",
              "      <td>{}</td>\n",
              "      <td>22</td>\n",
              "      <td>False</td>\n",
              "      <td>True</td>\n",
              "      <td>False</td>\n",
              "      <td>[]</td>\n",
              "      <td>http://2021-1-sandbox.alationproserv.com/query...</td>\n",
              "      <td>query_or_statement</td>\n",
              "      <td>None</td>\n",
              "    </tr>\n",
              "  </tbody>\n",
              "</table>\n",
              "</div>"
            ],
            "text/plain": [
              "              title  ...                                        breadcrumbs\n",
              "0  Crypto Aubergine  ...  [{'name': None, 'title': '_MySQL__Analytics', ...\n",
              "1      Crypto Large  ...  [{'name': None, 'title': '_MySQL__Analytics', ...\n",
              "2  Cryptic Schedule  ...  [{'name': None, 'title': '_MySQL__Analytics', ...\n",
              "3  Cryptic Schedule  ...  [{'name': None, 'title': '_MySQL__Analytics', ...\n",
              "4                    ...  [{'name': None, 'title': '_MySQL__Analytics', ...\n",
              "5              None  ...                                               None\n",
              "6            crypto  ...                                               None\n",
              "7  Crypto Aubergine  ...                                               None\n",
              "\n",
              "[8 rows x 12 columns]"
            ]
          },
          "metadata": {
            "tags": []
          },
          "execution_count": 6
        }
      ]
    },
    {
      "cell_type": "code",
      "metadata": {
        "colab": {
          "base_uri": "https://localhost:8080/"
        },
        "id": "RBzkg5U5GNbu",
        "outputId": "413312d8-2c8e-4bc2-cb4f-31c5325985fb"
      },
      "source": [
        "params = dict(filters=json.dumps({\n",
        "  \"starred\": True,\n",
        "   \"otypes\": [\n",
        "    \"schema\",\n",
        "    \"table\"\n",
        "  ]\n",
        "}\n",
        ")\n",
        ")\n",
        "\n",
        "r = requests.get(url=url, headers=headers, params=params, verify=False)\n",
        "\n",
        "# get the status\n",
        "status = r.json()\n",
        "\n",
        "print(f\"Found {len(status['results'])} results.\")\n"
      ],
      "execution_count": 11,
      "outputs": [
        {
          "output_type": "stream",
          "text": [
            "Found 2 results.\n"
          ],
          "name": "stdout"
        }
      ]
    },
    {
      "cell_type": "markdown",
      "metadata": {
        "id": "oWI0-HuNvFpP"
      },
      "source": [
        ""
      ]
    },
    {
      "cell_type": "code",
      "metadata": {
        "colab": {
          "base_uri": "https://localhost:8080/"
        },
        "id": "FGaQkwS6G_qh",
        "outputId": "0d4e4fb9-5f21-4a34-d5d4-9ae9f7393a93"
      },
      "source": [
        "status"
      ],
      "execution_count": 12,
      "outputs": [
        {
          "output_type": "execute_result",
          "data": {
            "text/plain": [
              "{'full_search_url': 'http://2021-1-sandbox.alationproserv.com/full_search/?filters=%7B%22starred%22%3Atrue%2C%22otypes%22%3A%5B%22schema%22%2C%22table%22%5D%7D',\n",
              " 'limit': 20,\n",
              " 'offset': 0,\n",
              " 'results': [{'breadcrumbs': [{'name': None,\n",
              "     'otype': 'data',\n",
              "     'title': '_MySQL__Analytics'},\n",
              "    {'name': 'crypto', 'otype': 'schema', 'title': None}],\n",
              "   'flags': [],\n",
              "   'highlight': {},\n",
              "   'id': '2314',\n",
              "   'name': 'crypto_aubergine',\n",
              "   'otype': 'table',\n",
              "   'recent': True,\n",
              "   'starred': True,\n",
              "   'text': '',\n",
              "   'title': 'Crypto Aubergine',\n",
              "   'url': 'http://2021-1-sandbox.alationproserv.com/table/2314/',\n",
              "   'watching': False},\n",
              "  {'breadcrumbs': [{'name': None,\n",
              "     'otype': 'data',\n",
              "     'title': '_MySQL__Analytics'},\n",
              "    {'name': 'crypto', 'otype': 'schema', 'title': None}],\n",
              "   'flags': [],\n",
              "   'highlight': {},\n",
              "   'id': '2315',\n",
              "   'name': 'crypto_large',\n",
              "   'otype': 'table',\n",
              "   'recent': True,\n",
              "   'starred': True,\n",
              "   'text': '',\n",
              "   'title': 'Crypto Large',\n",
              "   'url': 'http://2021-1-sandbox.alationproserv.com/table/2315/',\n",
              "   'watching': False}],\n",
              " 'total': 2}"
            ]
          },
          "metadata": {
            "tags": []
          },
          "execution_count": 12
        }
      ]
    },
    {
      "cell_type": "code",
      "metadata": {
        "colab": {
          "base_uri": "https://localhost:8080/",
          "height": 35
        },
        "id": "Or3s-IPKHEsn",
        "outputId": "02febaee-0680-45b8-d19b-31ba0ba0e4d8"
      },
      "source": [
        "r.request.url"
      ],
      "execution_count": null,
      "outputs": [
        {
          "output_type": "execute_result",
          "data": {
            "application/vnd.google.colaboratory.intrinsic+json": {
              "type": "string"
            },
            "text/plain": [
              "'http://2021-1-sandbox.alationproserv.com//integration/v1/search/?filters=%7B%22starred%22%3A+true%2C+%22otypes%22%3A+%5B%22schema%22%2C+%22table%22%5D%7D'"
            ]
          },
          "metadata": {
            "tags": []
          },
          "execution_count": 26
        }
      ]
    },
    {
      "cell_type": "code",
      "metadata": {
        "colab": {
          "base_uri": "https://localhost:8080/",
          "height": 35
        },
        "id": "I8EJtyL6HpMC",
        "outputId": "865e1c3a-1c73-4665-fceb-90133dfd88cc"
      },
      "source": [
        "import urllib\n",
        "urllib.parse.unquote(_, encoding='utf-8', errors='replace')"
      ],
      "execution_count": null,
      "outputs": [
        {
          "output_type": "execute_result",
          "data": {
            "application/vnd.google.colaboratory.intrinsic+json": {
              "type": "string"
            },
            "text/plain": [
              "'http://2021-1-sandbox.alationproserv.com//integration/v1/search/?filters={\"starred\":+true,+\"otypes\":+[\"schema\",+\"table\"]}'"
            ]
          },
          "metadata": {
            "tags": []
          },
          "execution_count": 27
        }
      ]
    },
    {
      "cell_type": "code",
      "metadata": {
        "id": "m3UFkCNDIZEc"
      },
      "source": [
        "created_by_swagger = \"http://2021-1-sandbox.alationproserv.com/integration/v1/search/?q=cryp%2A&limit=20&offset=0&filters=%7B%0A%20%20%22otypes%22%3A%20%5B%0A%20%20%20%20%22schema%22%2C%0A%20%20%20%20%22table%22%0A%20%20%5D%0A%7D\""
      ],
      "execution_count": null,
      "outputs": []
    },
    {
      "cell_type": "code",
      "metadata": {
        "colab": {
          "base_uri": "https://localhost:8080/",
          "height": 35
        },
        "id": "aa-Yc0H8IkJq",
        "outputId": "389e3b55-7222-416f-dddf-9d4c114253e3"
      },
      "source": [
        "urllib.parse.unquote(created_by_swagger, encoding='utf-8', errors='replace')"
      ],
      "execution_count": null,
      "outputs": [
        {
          "output_type": "execute_result",
          "data": {
            "application/vnd.google.colaboratory.intrinsic+json": {
              "type": "string"
            },
            "text/plain": [
              "'http://2021-1-sandbox.alationproserv.com/integration/v1/search/?q=cryp*&limit=20&offset=0&filters={\\n  \"otypes\": [\\n    \"schema\",\\n    \"table\"\\n  ]\\n}'"
            ]
          },
          "metadata": {
            "tags": []
          },
          "execution_count": 29
        }
      ]
    },
    {
      "cell_type": "code",
      "metadata": {
        "colab": {
          "base_uri": "https://localhost:8080/"
        },
        "id": "n0Ve4pbhJyhI",
        "outputId": "50db8f87-e336-49c8-8bb9-3434ffd9304d"
      },
      "source": [
        "import pprint\n",
        "pp = pprint.PrettyPrinter(indent=4)\n",
        "pprint.pprint(dict(r.headers))"
      ],
      "execution_count": null,
      "outputs": [
        {
          "output_type": "stream",
          "text": [
            "{'Allow': 'GET, OPTIONS',\n",
            " 'Connection': 'keep-alive',\n",
            " 'Content-Length': '6719',\n",
            " 'Content-Security-Policy': \"default-src * 'unsafe-eval' 'unsafe-inline' blob: \"\n",
            "                            'data:',\n",
            " 'Content-Type': 'application/json',\n",
            " 'Date': 'Mon, 01 Mar 2021 14:18:00 GMT',\n",
            " 'ETag': '\"c5d14ea5ff10e63d7b9b91d28759bed9\"',\n",
            " 'Server': 'nginx',\n",
            " 'Set-Cookie': 'sessionid=nom6pzjdedai2zexpmcpja9gyod7vwmk; expires=Mon, '\n",
            "               '15-Mar-2021 14:18:00 GMT; HttpOnly; Max-Age=1209600; Path=/',\n",
            " 'Vary': 'Cookie',\n",
            " 'X-Request-Id': '0dffd9c0-ac04-4ca0-91f4-72206f13fd89',\n",
            " 'x-content-type-options': 'nosniff',\n",
            " 'x-xss-protection': '1; mode=block'}\n"
          ],
          "name": "stdout"
        }
      ]
    },
    {
      "cell_type": "code",
      "metadata": {
        "colab": {
          "base_uri": "https://localhost:8080/"
        },
        "id": "2S9Is2shJ1Y_",
        "outputId": "55fd2f3a-7c24-4a71-98eb-bc6a117e3158"
      },
      "source": [
        "limit = 20\n",
        "passes = 6\n",
        "\n",
        "for i in range(passes):\n",
        "  params = dict(\n",
        "      filters=json.dumps({\"recent\": True}),\n",
        "      limit = limit,\n",
        "      offset = i*limit\n",
        "      )\n",
        "\n",
        "  r = requests.get(url=url, headers=headers, params=params, verify=False)\n",
        "\n",
        "  # get the status\n",
        "  status = r.json()\n",
        "\n",
        "  print(f\"Found {len(status['results'])} results.\")"
      ],
      "execution_count": 13,
      "outputs": [
        {
          "output_type": "stream",
          "text": [
            "Found 20 results.\n",
            "Found 20 results.\n",
            "Found 20 results.\n",
            "Found 20 results.\n",
            "Found 20 results.\n",
            "Found 1 results.\n"
          ],
          "name": "stdout"
        }
      ]
    },
    {
      "cell_type": "code",
      "metadata": {
        "colab": {
          "base_uri": "https://localhost:8080/"
        },
        "id": "IrG00BJFLmjs",
        "outputId": "fe75a4ee-b3b2-4c96-cc2b-52be0cf665e3"
      },
      "source": [
        "status"
      ],
      "execution_count": 14,
      "outputs": [
        {
          "output_type": "execute_result",
          "data": {
            "text/plain": [
              "{'full_search_url': 'http://2021-1-sandbox.alationproserv.com/full_search/?filters=%7B%22recent%22%3Atrue%7D&limit=20&offset=100',\n",
              " 'limit': 20,\n",
              " 'offset': 100,\n",
              " 'results': [{'breadcrumbs': None,\n",
              "   'flags': [],\n",
              "   'highlight': {},\n",
              "   'id': '1',\n",
              "   'name': None,\n",
              "   'otype': 'datasource',\n",
              "   'recent': True,\n",
              "   'starred': False,\n",
              "   'text': '',\n",
              "   'title': 'PS Source',\n",
              "   'url': 'http://2021-1-sandbox.alationproserv.com/data/1/',\n",
              "   'watching': False}],\n",
              " 'total': 101}"
            ]
          },
          "metadata": {
            "tags": []
          },
          "execution_count": 14
        }
      ]
    },
    {
      "cell_type": "code",
      "metadata": {
        "id": "EoIAOx-xLtBH"
      },
      "source": [
        ""
      ],
      "execution_count": null,
      "outputs": []
    }
  ]
}