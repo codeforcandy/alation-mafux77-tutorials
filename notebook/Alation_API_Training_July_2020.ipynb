{
  "nbformat": 4,
  "nbformat_minor": 0,
  "metadata": {
    "colab": {
      "name": "Alation API Training July 2020.ipynb",
      "provenance": [],
      "collapsed_sections": [],
      "include_colab_link": true
    },
    "kernelspec": {
      "name": "python3",
      "display_name": "Python 3"
    }
  },
  "cells": [
    {
      "cell_type": "markdown",
      "metadata": {
        "id": "view-in-github",
        "colab_type": "text"
      },
      "source": [
        "<a href=\"https://colab.research.google.com/github/mafux777/Alation_Article/blob/master/Alation_API_Training_July_2020.ipynb\" target=\"_parent\"><img src=\"https://colab.research.google.com/assets/colab-badge.svg\" alt=\"Open In Colab\"/></a>"
      ]
    },
    {
      "cell_type": "markdown",
      "metadata": {
        "id": "iPgzL37e5JBu",
        "colab_type": "text"
      },
      "source": [
        "# Alation API Training Worksheet"
      ]
    },
    {
      "cell_type": "markdown",
      "metadata": {
        "id": "EKZ4UveUu1-b",
        "colab_type": "text"
      },
      "source": [
        "2020-07-21 at 1600 UTC\n",
        "Url: http://alation.zoom.us/j/296432240\n",
        "Login: Join by Zoom or phone (US) +1 877-853-5257\n",
        "\n"
      ]
    },
    {
      "cell_type": "markdown",
      "metadata": {
        "id": "RuPGSHBxSyFa",
        "colab_type": "text"
      },
      "source": [
        "We need to import just a small number of libraries to create an Alation Instance. You can use this Class to test against any official or unofficial API."
      ]
    },
    {
      "cell_type": "code",
      "metadata": {
        "id": "7mjnMOlDBX08",
        "colab_type": "code",
        "colab": {}
      },
      "source": [
        "import pandas as pd\n",
        "import os\n",
        "import requests\n",
        "\n",
        "import time\n",
        "import json\n",
        "\n",
        "import pprint\n",
        "pp = pprint.PrettyPrinter(indent=4)"
      ],
      "execution_count": 1,
      "outputs": []
    },
    {
      "cell_type": "markdown",
      "metadata": {
        "id": "UiDFzTYMS7xP",
        "colab_type": "text"
      },
      "source": [
        "The class AlationInstance is created with a URL, username and password."
      ]
    },
    {
      "cell_type": "code",
      "metadata": {
        "id": "zWKSHd_oeMk6",
        "colab_type": "code",
        "colab": {}
      },
      "source": [
        "import urllib\n",
        "\n",
        "# The AlationInstance class is a handle to an Alation server defined by a URL\n",
        "# A server admin user name and password needs to be provided and all API actions\n",
        "# will be run as that user\n",
        "class AlationInstance():\n",
        "    # The __init__ method is the constructor used for instantiating\n",
        "    # email: the up to 30 chars user name, often the email, but for long emails could be cut off\n",
        "    # password: could be the LDAP password, as well\n",
        "    # verify: Requests verifies SSL certificates for HTTPS requests, just like a web browser.\n",
        "    # By default, SSL verification is enabled, and Requests will throw a SSLError if it’s unable to verify the certificate\n",
        "    def __init__(self, host, account, password, verify=True):\n",
        "        self.host = host\n",
        "        self.verify = verify\n",
        "        self.account = account\n",
        "        self.password = password\n",
        "        self.token = self.get_token()\n",
        "        self.headers = self.login(account, password)\n",
        "\n",
        "    # The login method is used to obtain a session ID and relevant cookies\n",
        "    # They are cached in the headers variable\n",
        "    # account: the up to 30 chars user name, often the email, but for long emails could be cut off\n",
        "    # password: could be the LDAP password, as well\n",
        "    def login(self, account, password):\n",
        "        URL = self.host + '/login/'\n",
        "\n",
        "        s = requests.Session()\n",
        "        s.get(URL, verify=self.verify)\n",
        "\n",
        "        # get the cookie token\n",
        "        csrftoken = s.cookies.get('csrftoken')\n",
        "\n",
        "        # login with user name and password (and token)\n",
        "        payload = {\"csrfmiddlewaretoken\": csrftoken, \"ldap_user\": account, \"password\": password}\n",
        "        headers = {\"Referer\": URL}\n",
        "        log_me(\"Logging in to {}\".format(URL))\n",
        "        r = s.post(URL, data=payload, verify=self.verify, headers=headers)\n",
        "\n",
        "        # get the session ID and store it for all future API calls\n",
        "        sessionid = s.cookies.get('sessionid')\n",
        "        if not sessionid:\n",
        "            log_me('No session ID, probably wrong user name / password')\n",
        "        headers = {\"X-CSRFToken\": csrftoken,\n",
        "                   \"Cookie\": f\"csrftoken={csrftoken}; sessionid={sessionid}\",\n",
        "                   \"Referer\": URL\n",
        "                   }\n",
        "\n",
        "        return headers\n",
        "\n",
        "    def get_token(self):\n",
        "        change_token = \"/api/v1/changeToken/\"  # if you already have a token, use this url\n",
        "        new_token = \"/api/v1/getToken/\"  # if you have never generated a token, use this url\n",
        "        data = dict(username=self.account, password=self.password)\n",
        "        response = requests.post(self.host + new_token, data=data)\n",
        "        api_token = response.text\n",
        "        if api_token == \"EXISTING\":\n",
        "            response = requests.post(self.host + change_token, data=data)\n",
        "            api_token = response.text\n",
        "        return api_token\n",
        "\n",
        "    # The generic_api_post method posts a request to Alation and if necessary checks the status\n",
        "    def generic_api_post(self, api, params=None, body=None, official=False):\n",
        "        if official:\n",
        "            headers_final = dict(token=self.token)\n",
        "        else:\n",
        "            headers_final = self.headers\n",
        "            headers_final['Referer'] = self.host + api\n",
        "        r = requests.post(self.host + api, json=body, params=params, headers=headers_final)\n",
        "\n",
        "        return r.content # for testing in July, no parsing attempted\n",
        "        if r.status_code:\n",
        "            r_parsed = r.json()\n",
        "            # do we need to ask the job status API for help?\n",
        "            if 'job_id' in r_parsed:\n",
        "                params = dict(id=r_parsed['job_id'])\n",
        "                url_job = \"/api/v1/bulk_metadata/job/\"\n",
        "                # Let's wait for the job to finish\n",
        "                while (True):\n",
        "                    status = self.generic_api_get(api=url_job, params=params, official=True, verify=self.verify)\n",
        "                    if status['status'] != 'running':\n",
        "                        objects = status['result']\n",
        "                        # if objects:\n",
        "                        #     # for error in error_objects:\n",
        "                        #     print(objects)\n",
        "                        # else:\n",
        "                        #     #print(status)\n",
        "                        #     pass\n",
        "                        break\n",
        "                r_parsed = status\n",
        "            return r_parsed\n",
        "        else:\n",
        "            return r.content\n",
        "\n",
        "    # The generic_api_put method posts a request to Alation and if necessary checks the status\n",
        "    def generic_api_put(self, api, params=None, body=None):\n",
        "        r = requests.put(self.host + api, json=body, params=params, headers=self.headers, verify=self.verify)\n",
        "        return r.content\n",
        "\n",
        "    # The generic_api_patch method posts a request to Alation and if necessary checks the status\n",
        "    def generic_api_patch(self, api, params=None, body=None):\n",
        "        r = requests.patch(self.host + api, json=body, params=params, headers=self.headers, verify=self.verify)\n",
        "        return r.content\n",
        "\n",
        "    # The generic_api_get implements a REST get, with API token if official or Cookie if not.\n",
        "    # If the callers sends header, it needs to contain API or cookie\n",
        "    def generic_api_get(self, api, headers=None, params=None, official=False):\n",
        "        if headers:\n",
        "            # caller has supplied the headers\n",
        "            headers_final = headers\n",
        "        else:\n",
        "            if official:\n",
        "                headers_final = dict(token=self.token)\n",
        "            else:\n",
        "                headers_final = self.headers\n",
        "                headers_final['Referer'] = self.host + api\n",
        "        r = requests.get(self.host + api, headers=headers_final, params=params, verify=self.verify)\n",
        "        if r.status_code in [200, 201]:\n",
        "            try:\n",
        "                return r.json()\n",
        "            except:\n",
        "                return r.content # for LogicalMetadata API which does not use standard JSON\n",
        "        else:\n",
        "            return r.content\n",
        "\n",
        "    # The generic_api_get implements a REST get, with API token if official or Cookie if not.\n",
        "    # If the callers sends header, it needs to contain API or cookie\n",
        "    def raw_api_get(self, api, headers=None, params=None, official=False):\n",
        "        if headers:\n",
        "            # caller has supplied the headers\n",
        "            headers_final = headers\n",
        "        else:\n",
        "            if official:\n",
        "                headers_final = dict(token=self.token)\n",
        "            else:\n",
        "                headers_final = self.headers\n",
        "                headers_final['Referer'] = self.host + api\n",
        "        return requests.get(self.host + api, headers=headers_final, params=params, verify=self.verify)\n"
      ],
      "execution_count": 6,
      "outputs": []
    },
    {
      "cell_type": "markdown",
      "metadata": {
        "id": "idfJL3vMTTuC",
        "colab_type": "text"
      },
      "source": [
        "Let's create our first AlationInstance object:"
      ]
    },
    {
      "cell_type": "code",
      "metadata": {
        "id": "QFmoyRnJByjd",
        "colab_type": "code",
        "colab": {
          "base_uri": "https://localhost:8080/",
          "height": 35
        },
        "outputId": "8d9e4806-5f26-47ea-8a2e-d8a03ac8eb4b"
      },
      "source": [
        "def log_me(text):\n",
        "  print(text)\n",
        "\n",
        "alation = AlationInstance('http://r7-sandbox.alationproserv.com',\n",
        "                         'matthias@alation.com',\n",
        "                         'REMOVED')"
      ],
      "execution_count": 7,
      "outputs": [
        {
          "output_type": "stream",
          "text": [
            "Logging in to http://r7-sandbox.alationproserv.com/login/\n"
          ],
          "name": "stdout"
        }
      ]
    },
    {
      "cell_type": "markdown",
      "metadata": {
        "id": "3RjKfVEepRVr",
        "colab_type": "text"
      },
      "source": [
        "# How to deal with results bigger than 100 (or some number)\n",
        "\n",
        "You can not too be sure how many results you get when you call an API. The safest way to deal with this issue is to iterate like this.\n",
        "\n",
        "Note that \"get\" on a dict returns null if the key is not there. So the loop will break when there is no X-Next-Page.."
      ]
    },
    {
      "cell_type": "code",
      "metadata": {
        "id": "IomRCXCImWhZ",
        "colab_type": "code",
        "colab": {
          "base_uri": "https://localhost:8080/",
          "height": 1000
        },
        "outputId": "4efeec7d-fa3c-49a9-9ce5-03015aa58121"
      },
      "source": [
        "next = '/integration/v1/article/'\n",
        "while next:\n",
        "  r = alation.raw_api_get(next, official=True)\n",
        "  next = r.headers.get('X-Next-Page')\n",
        "  for n, a in enumerate(r.json()):\n",
        "    print(n, a.get('id'),a.get('title', 'No title'))"
      ],
      "execution_count": 19,
      "outputs": [
        {
          "output_type": "stream",
          "text": [
            "0 1 Getting Started for Analysts\n",
            "1 406 C. Content Layout & Taxonomy\n",
            "2 2 Quick Links for Analysts\n",
            "3 3 Getting Started for Data Stewards\n",
            "4 378 Restricted\n",
            "5 4 Quick Links for Data Stewards\n",
            "6 5 test\n",
            "7 453 C3.2 Data Steward Privacy Policy Guidelines\n",
            "8 405 A. Data Catalog Principles\n",
            "9 360 Plan Access\n",
            "10 374 Data Classification Policies\n",
            "11 468 Role: Executive Sponsor\n",
            "12 363 This is a Test Article\n",
            "13 521 address\n",
            "14 375 Public\n",
            "15 529 Test\n",
            "16 362 Article with course embedded\n",
            "17 384 소향 - 홀로 아리랑\n",
            "18 376 Secret\n",
            "19 365 KPI -- Test\n",
            "20 364 How To -- Test\n",
            "21 380 chris test\n",
            "22 408 A. Content Topics\n",
            "23 382 Jon iframe test\n",
            "24 412 B. Understanding UUIDs in Alation Analytics\n",
            "25 413 A. Understanding Articles in Alation Analytics\n",
            "26 526 Controlled Public\n",
            "27 520 PII Policy for Use\n",
            "28 513 C8.1 Cloud Migration Process Description\n",
            "29 401 A. Start Here for <User Role>\n",
            "30 402 E. DRAFT: Data Policy and Access Guidelines\n",
            "31 403 D. DRAFT: Data Catalog Status\n",
            "32 404 B. Data Catalog Organization & Guidelines\n",
            "33 407 B. Content Categories\n",
            "34 409 Chapter 29: Advanced Profiling Query Templates\n",
            "35 410 D. Alation Analytics Query Index\n",
            "36 414 A. Overview\n",
            "37 415 A. Measuring Data Quality\n",
            "38 416 Chapter 25: Building a Business Case and ROI\n",
            "39 417 Chapter 24: Catalog Visibility and Security Model\n",
            "40 418 Percent Change in Unique Users Active\n",
            "41 419 Percent Change in Total Traffic\n",
            "42 420 Percent Change in Query Traffic\n",
            "43 421 Percent Change in Query Reusability\n",
            "44 422 Query Writers\n",
            "45 423 Query Publishers\n",
            "46 424 Percent Change Metric\n",
            "47 425 Metric Type\n",
            "48 426 Metric Perspective\n",
            "49 427 Percent change in Number of Published Queries\n",
            "50 428 Percent change in Number of Articles\n",
            "51 429 Percent Change in Tagging\n",
            "52 430 Percent Change in Metadata Edits\n",
            "53 431 Percent Change in Flagging\n",
            "54 433 F. Data Source - Restricted Change\n",
            "55 435 D. Article - User Created\n",
            "56 368 Back Reference Test Article\n",
            "57 366 My New Article With Result Set\n",
            "58 369 Check this out\n",
            "59 441 C. Core Content Policy\n",
            "60 377 Confidential\n",
            "61 457 B. Design Approach\n",
            "62 460 Chapter 13:  Application Types\n",
            "63 383 Search results\n",
            "64 373 User Activity\n",
            "65 371 Top Curators\n",
            "66 367 Top Compose Users\n",
            "67 372 Most Viewed Articles\n",
            "68 400 B. Recommendations for <User Role>\n",
            "69 396 C. DRAFT: Data Catalog Implementation\n",
            "70 436 C. Article - Unrestricted Change\n",
            "71 437 B. Article - Steward Created\n",
            "72 438 A. Article - Restricted Change\n",
            "73 439 Chapter 21: Platform Topology and Sizing\n",
            "74 442 Chapter 19: Tier 1 Application Support and Operations\n",
            "75 443 A. Adoption Techniques & Tips\n",
            "76 444 Chapter 17: Branding\n",
            "77 445 Chapter 16:  Communication Planning\n",
            "78 446 D. Catalog Design Tips\n",
            "79 447 C5.1 Data Quality Integration Architecture\n",
            "80 448 C4.3 Conceptual MDM Catalog Design\n",
            "81 385 Query Share Test\n",
            "82 449 C4.2 Data Catalog Design Objects for MDM\n",
            "83 450 C4.1 Generalized Master Data Management Architecture\n",
            "84 451 C3.4 Other Data Privacy Templates\n",
            "85 452 C3.3 Responsibility Functional Decomposition\n",
            "86 456 C1. Baseline Catalog Design Template\n",
            "87 458 A. Design Objects and Relationships\n",
            "88 461 B. Associating the Catalog to Business Functions\n",
            "89 462 A. Associating the Catalog to Business Capability Models\n",
            "90 463 Chapter 11:  Franchise and Shared Services Model\n",
            "91 464 Chapter 10:  Governance, Data Management and Cataloging\n",
            "92 465 Chapter 09:  Executive Sponsorship and Key Stakeholders\n",
            "93 466 Chapter 08: Data Catalog Program Office\n",
            "94 467 Role: Technical Steward\n",
            "95 474 Role: Business Steward\n",
            "96 398 D. DRAFT: Curation/Stewardship Process\n",
            "97 522 test\n",
            "98 509 Alation Book of Knowledge\n",
            "99 459 Chapter 14: Data Models (Enterprise, Conceptual & Logical)\n",
            "0 472 Role: Change Manager\n",
            "1 475 Role: Business Curator\n",
            "2 476 Role: Alation Server Admin\n",
            "3 482 Chapter 01:  Enterprise Goals and Objectives\n",
            "4 483 B. Document History\n",
            "5 484 A. Introduction & Use\n",
            "6 485 Chapter 05: The Customer Journey - A Lifecycle Model\n",
            "7 487 Chapter 12:  Approach to Rollout Prioritization\n",
            "8 488 C3. Data Privacy Design Template\n",
            "9 489 C4. Master Data Management Template\n",
            "10 490 C5. Data Quality Conceptual Catalog Design\n",
            "11 491 C. Use Case Design Templates\n",
            "12 492 Chapter 15: Catalog Design\n",
            "13 493 B. Usage Policies & Guidelines\n",
            "14 494 Chapter 22: Agile and Guided Stewardship\n",
            "15 495 Catalog-Centric Metric\n",
            "16 496 Current State Metric\n",
            "17 497 User-Centric Metric\n",
            "18 498 Metrics\n",
            "19 500 Chapter 26:  Data Quality and the Data Catalog\n",
            "20 501 B. Deliverables\n",
            "21 502 Chapter 27: Right Start Service\n",
            "22 503 Chapter 28: Alation Analytics\n",
            "23 504 D1. Data Catalog Program\n",
            "24 505 D2. Data Catalog Usage\n",
            "25 506 D3. Training & Enablement\n",
            "26 507 D. Content Templates\n",
            "27 508 Chapter 30: Getting Started Content Templates\n",
            "28 510 C7. Project Team Usage\n",
            "29 511 C6. Data Science Design Template\n",
            "30 512 C8. Cloud Migration\n",
            "31 514 Chapter 18.  Adoption\n",
            "32 515 B. Community Building & Best Practices\n",
            "33 516 C. Enterprise Adoption Plan & Activities\n",
            "34 517 E. Frequently Asked Questions (FAQ)\n",
            "35 518 A. Five Laws of Data Cataloging\n",
            "36 397 A. DRAFT: Getting Help in Alation\n",
            "37 399 C. DRAFT: Monitoring Usage Activity\n",
            "38 411 C. Understanding Object Queries in Alation Analytics\n",
            "39 434 E. Data Source - Creation (Ingestion)\n",
            "40 440 D. Five Fundamental Catalog Principles\n",
            "41 455 C2. Right Start Design Template\n",
            "42 471 Role: Chief Catalog Steward\n",
            "43 473 Role: Catalog Program Lead\n",
            "44 477 Chapter 06: Enterprise Breadth and Depth\n",
            "45 479 Chapter 04:  Data Catalog Maturity Model\n",
            "46 480 Chapter 03: Scoping an Enterprise Implementation\n",
            "47 481 Chapter 02:  Declaring an Enterprise Program for Cataloging\n",
            "48 523 Test Article\n",
            "49 525 My PnG Example\n",
            "50 499 Chapter 23: Usage Measurement and Data Value Approach\n",
            "51 519 Chapter 20: Principles, Usage Policy & Guidelines\n",
            "52 432 G. Data Source - Unrestricted Change\n",
            "53 454 C3.1 Data Privacy Visibility and Security Model Template\n",
            "54 469 Role: Data Source Admin\n",
            "55 470 Role: Data Coach\n",
            "56 478 Alation Right Start and Enterprise Implementations\n",
            "57 527 Getting started for Stewards\n",
            "58 528 Prioritized Use Cases\n",
            "59 486 Chapter 07:  Resource Model, Roles & Responsibilities\n",
            "60 379 Jon Test\n",
            "61 531 \n",
            "62 532 %% (Jon Percent Test)\n"
          ],
          "name": "stdout"
        }
      ]
    },
    {
      "cell_type": "markdown",
      "metadata": {
        "id": "IL3quTBKqFm5",
        "colab_type": "text"
      },
      "source": [
        "# How to search for Articles by name\n",
        "\n",
        "Refer to this: [Django Doc](https://docs.djangoproject.com/en/3.0/ref/models/querysets/#id4) to see how you can query, e.g \"title starts with\" or \"contains\""
      ]
    },
    {
      "cell_type": "code",
      "metadata": {
        "id": "ZM5-yGwDqJPF",
        "colab_type": "code",
        "colab": {
          "base_uri": "https://localhost:8080/",
          "height": 104
        },
        "outputId": "81f2568e-6a5c-4550-ea0a-e354d73bb0cf"
      },
      "source": [
        "#params = dict(title__startswith='Chapter')\n",
        "params = dict(title__icontains='jon')\n",
        "art = alation.raw_api_get('/integration/v1/article/', params=params, official=True).json()\n",
        "# convert result to DataFrame\n",
        "df = pd.DataFrame(art)\n",
        "# Index of DataFrame is the Article ID\n",
        "df.index = df.id\n",
        "# Print id and title\n",
        "df.title.sort_values()"
      ],
      "execution_count": 33,
      "outputs": [
        {
          "output_type": "execute_result",
          "data": {
            "text/plain": [
              "id\n",
              "532    %% (Jon Percent Test)\n",
              "379                 Jon Test\n",
              "382          Jon iframe test\n",
              "Name: title, dtype: object"
            ]
          },
          "metadata": {
            "tags": []
          },
          "execution_count": 33
        }
      ]
    },
    {
      "cell_type": "code",
      "metadata": {
        "id": "OT-jEXM2rAG3",
        "colab_type": "code",
        "colab": {
          "base_uri": "https://localhost:8080/",
          "height": 50
        },
        "outputId": "58a89a82-10c0-4dc8-86aa-73734815a173"
      },
      "source": [
        "# http://r7-sandbox.alationproserv.com/search/?q=data%20governance&otype=article&ff=%7B%22custom_template%22%3A+33%7D\n",
        "alation.generic_api_get('/download_search_result/?q=data%20governance&otype=article&ff=%7B%22custom_template%22%3A+33%7D')"
      ],
      "execution_count": null,
      "outputs": [
        {
          "output_type": "execute_result",
          "data": {
            "text/plain": [
              "{'job_id': 5781,\n",
              " 'success': 'Your export is processing and a link will be sent to matthias@alation.com when complete. '}"
            ]
          },
          "metadata": {
            "tags": []
          },
          "execution_count": 4
        }
      ]
    },
    {
      "cell_type": "markdown",
      "metadata": {
        "id": "UiQfpr-q0ppX",
        "colab_type": "text"
      },
      "source": [
        "On the server, we use `ls -l /opt/alation/alation/opt/alation/site/downloads/search_results/` to find out the file name. Then, we can download the file like this:"
      ]
    },
    {
      "cell_type": "code",
      "metadata": {
        "id": "Czx3o2G602fq",
        "colab_type": "code",
        "colab": {
          "base_uri": "https://localhost:8080/",
          "height": 34
        },
        "outputId": "d3be231b-b7c4-4d02-939b-d0244007b5fd"
      },
      "source": [
        "filename = '16_2020-07-20T08-20-34-678697.csv'\n",
        "print(f\"http://r7-sandbox.alationproserv.com/download/search_results/{filename}\")"
      ],
      "execution_count": null,
      "outputs": [
        {
          "output_type": "stream",
          "text": [
            "http://r7-sandbox.alationproserv.com/download/search_results/16_2020-07-20T08-20-34-678697.csv\n"
          ],
          "name": "stdout"
        }
      ]
    },
    {
      "cell_type": "markdown",
      "metadata": {
        "id": "pbZrAfVM4TRi",
        "colab_type": "text"
      },
      "source": [
        "Alternatively, we can use something like this: \n",
        "\n",
        "`rsync -av ec2-user@184.169.206.190:/opt/alation/alation/opt/alation/site/downloads/search_results/ search_results`"
      ]
    },
    {
      "cell_type": "markdown",
      "metadata": {
        "id": "rPH3sfpn45gw",
        "colab_type": "text"
      },
      "source": [
        "We can also construct a query string from scratch, like this:"
      ]
    },
    {
      "cell_type": "code",
      "metadata": {
        "id": "Xcaef1sNznC1",
        "colab_type": "code",
        "colab": {
          "base_uri": "https://localhost:8080/",
          "height": 50
        },
        "outputId": "2ec8b288-55cb-48fe-e8a8-f00df26a6c47"
      },
      "source": [
        "params=dict(\n",
        "q=\"Data Governance\",\n",
        "oytpe=\"Article\",\n",
        "ff='{\"Custom Template\":+33}'\n",
        ")\n",
        "\n",
        "alation.generic_api_get('/download_search_result/', params=params)\n"
      ],
      "execution_count": null,
      "outputs": [
        {
          "output_type": "execute_result",
          "data": {
            "text/plain": [
              "{'job_id': 5782,\n",
              " 'success': 'Your export is processing and a link will be sent to matthias@alation.com when complete. '}"
            ]
          },
          "metadata": {
            "tags": []
          },
          "execution_count": 15
        }
      ]
    },
    {
      "cell_type": "code",
      "metadata": {
        "id": "A4hyNRbWeXcW",
        "colab_type": "code",
        "colab": {}
      },
      "source": [
        ""
      ],
      "execution_count": null,
      "outputs": []
    }
  ]
}