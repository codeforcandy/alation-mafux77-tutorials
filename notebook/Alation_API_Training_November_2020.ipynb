{
  "nbformat": 4,
  "nbformat_minor": 0,
  "metadata": {
    "colab": {
      "name": "Alation API Training November 2020.ipynb",
      "provenance": [],
      "collapsed_sections": [],
      "include_colab_link": true
    },
    "kernelspec": {
      "name": "python3",
      "display_name": "Python 3"
    }
  },
  "cells": [
    {
      "cell_type": "markdown",
      "metadata": {
        "id": "view-in-github",
        "colab_type": "text"
      },
      "source": [
        "<a href=\"https://colab.research.google.com/github/mafux777/Alation_Article/blob/master/Alation_API_Training_November_2020.ipynb\" target=\"_parent\"><img src=\"https://colab.research.google.com/assets/colab-badge.svg\" alt=\"Open In Colab\"/></a>"
      ]
    },
    {
      "cell_type": "markdown",
      "metadata": {
        "id": "iPgzL37e5JBu"
      },
      "source": [
        "# Alation API Training Worksheet"
      ]
    },
    {
      "cell_type": "markdown",
      "metadata": {
        "id": "RuPGSHBxSyFa"
      },
      "source": [
        "We need to import just a small number of libraries to create an Alation Instance. You can use this Class to test against any official or unofficial API."
      ]
    },
    {
      "cell_type": "code",
      "metadata": {
        "id": "7mjnMOlDBX08"
      },
      "source": [
        "import pandas as pd\n",
        "import os\n",
        "import requests\n",
        "\n",
        "import time\n",
        "import json\n",
        "\n",
        "import pprint\n",
        "pp = pprint.PrettyPrinter(indent=4)"
      ],
      "execution_count": null,
      "outputs": []
    },
    {
      "cell_type": "markdown",
      "metadata": {
        "id": "UiDFzTYMS7xP"
      },
      "source": [
        "The class AlationInstance is created with a URL, username and password."
      ]
    },
    {
      "cell_type": "code",
      "metadata": {
        "id": "zWKSHd_oeMk6"
      },
      "source": [
        "import urllib\n",
        "\n",
        "# The AlationInstance class is a handle to an Alation server defined by a URL\n",
        "# A server admin user name and password needs to be provided and all API actions\n",
        "# will be run as that user\n",
        "class AlationInstance():\n",
        "    # The __init__ method is the constructor used for instantiating\n",
        "    # email: the up to 30 chars user name, often the email, but for long emails could be cut off\n",
        "    # password: could be the LDAP password, as well\n",
        "    # verify: Requests verifies SSL certificates for HTTPS requests, just like a web browser.\n",
        "    # By default, SSL verification is enabled, and Requests will throw a SSLError if it’s unable to verify the certificate\n",
        "    def __init__(self, host, account, password, verify=True):\n",
        "        self.host = host\n",
        "        self.verify = verify\n",
        "        self.account = account\n",
        "        self.password = password\n",
        "        self.token = self.get_token()\n",
        "        self.headers = self.login(account, password)\n",
        "\n",
        "    def get_headers(self):\n",
        "      return self.headers\n",
        "\n",
        "    # The login method is used to obtain a session ID and relevant cookies\n",
        "    # They are cached in the headers variable\n",
        "    # account: the up to 30 chars user name, often the email, but for long emails could be cut off\n",
        "    # password: could be the LDAP password, as well\n",
        "    def login(self, account, password):\n",
        "        URL = self.host + '/login/'\n",
        "\n",
        "        s = requests.Session()\n",
        "        s.get(URL, verify=self.verify)\n",
        "\n",
        "        # get the cookie token\n",
        "        csrftoken = s.cookies.get('csrftoken')\n",
        "\n",
        "        # login with user name and password (and token)\n",
        "        payload = {\"csrfmiddlewaretoken\": csrftoken, \"ldap_user\": account, \"password\": password}\n",
        "        headers = {\"Referer\": URL}\n",
        "        log_me(\"Logging in to {}\".format(URL))\n",
        "        r = s.post(URL, data=payload, verify=self.verify, headers=headers)\n",
        "\n",
        "        # get the session ID and store it for all future API calls\n",
        "        sessionid = s.cookies.get('sessionid')\n",
        "        if not sessionid:\n",
        "            log_me('No session ID, probably wrong user name / password')\n",
        "        headers = {\"X-CSRFToken\": csrftoken,\n",
        "                   \"Cookie\": f\"csrftoken={csrftoken}; sessionid={sessionid}\",\n",
        "                   \"Referer\": URL\n",
        "                   }\n",
        "\n",
        "        return headers\n",
        "\n",
        "    def get_token(self):\n",
        "        change_token = \"/api/v1/changeToken/\"  # if you already have a token, use this url\n",
        "        new_token = \"/api/v1/getToken/\"  # if you have never generated a token, use this url\n",
        "        data = dict(username=self.account, password=self.password)\n",
        "        response = requests.post(self.host + new_token, data=data)\n",
        "        api_token = response.text\n",
        "        if api_token == \"EXISTING\":\n",
        "            response = requests.post(self.host + change_token, data=data)\n",
        "            api_token = response.text\n",
        "        return api_token\n",
        "\n",
        "    # The generic_api_post method posts a request to Alation and if necessary checks the status\n",
        "    def generic_api_post(self, api, params=None, body=None, official=False, raw_data=None):\n",
        "        if official:\n",
        "            headers_final = dict(token=self.token)\n",
        "        else:\n",
        "            headers_final = self.headers\n",
        "            headers_final['Referer'] = self.host + api\n",
        "        if raw_data:\n",
        "          r = requests.post(self.host + api, data=raw_data, params=params, headers=headers_final)\n",
        "        else:\n",
        "          r = requests.post(self.host + api, json=body, params=params, headers=headers_final)\n",
        "\n",
        "        if r.status_code:\n",
        "            r_parsed = r.json()\n",
        "            # do we need to ask the job status API for help?\n",
        "            if 'job_id' in r_parsed:\n",
        "                params = dict(id=r_parsed['job_id'])\n",
        "                url_job = \"/api/v1/bulk_metadata/job/\"\n",
        "                # Let's wait for the job to finish\n",
        "                while (True):\n",
        "                    time.sleep(10)\n",
        "                    print(f\"Waiting for job {params['id']}\")\n",
        "                    status = self.generic_api_get(api=url_job, params=params, official=True)\n",
        "                    if not 'status' in status:\n",
        "                      break\n",
        "                    if status['status'] != 'running':\n",
        "                        objects = status['result']\n",
        "                        # if objects:\n",
        "                        #     # for error in error_objects:\n",
        "                        #     print(objects)\n",
        "                        # else:\n",
        "                        #     #print(status)\n",
        "                        #     pass\n",
        "                        break\n",
        "                r_parsed = status\n",
        "            return r_parsed\n",
        "        else:\n",
        "            return r.content\n",
        "\n",
        "    # The generic_api_put method posts a request to Alation and if necessary checks the status\n",
        "    def generic_api_put(self, api, params=None, body=None, official=False):\n",
        "        if official:\n",
        "            headers_final = dict(token=self.token)\n",
        "        else:\n",
        "            headers_final = self.headers\n",
        "            headers_final['Referer'] = self.host + api\n",
        "        r = requests.put(self.host + api, json=body, params=params, headers=headers_final, verify=self.verify)\n",
        "        return r.content\n",
        "\n",
        "    # The generic_api_patch method posts a request to Alation and if necessary checks the status\n",
        "    def generic_api_patch(self, api, params=None, body=None):\n",
        "        r = requests.patch(self.host + api, json=body, params=params, headers=self.headers, verify=self.verify)\n",
        "        return r.content\n",
        "\n",
        "    # The generic_api_get implements a REST get, with API token if official or Cookie if not.\n",
        "    # If the callers sends header, it needs to contain API or cookie\n",
        "    def generic_api_get(self, api, headers=None, params=None, official=False):\n",
        "        if headers:\n",
        "            # caller has supplied the headers\n",
        "            headers_final = headers\n",
        "        else:\n",
        "            if official:\n",
        "                headers_final = dict(token=self.token)\n",
        "            else:\n",
        "                headers_final = self.headers\n",
        "                headers_final['Referer'] = self.host + api\n",
        "        r = requests.get(self.host + api, headers=headers_final, params=params, verify=self.verify)\n",
        "        if r.status_code in [200, 201]:\n",
        "            try:\n",
        "                return r.json()\n",
        "            except:\n",
        "                return r.content # for LogicalMetadata API which does not use standard JSON\n",
        "        else:\n",
        "            return r.content\n",
        "\n",
        "    # The generic_api_get implements a REST get, with API token if official or Cookie if not.\n",
        "    # If the callers sends header, it needs to contain API or cookie\n",
        "    def raw_api_get(self, api, headers=None, params=None, official=False):\n",
        "        if headers:\n",
        "            # caller has supplied the headers\n",
        "            headers_final = headers\n",
        "        else:\n",
        "            if official:\n",
        "                headers_final = dict(token=self.token)\n",
        "            else:\n",
        "                headers_final = self.headers\n",
        "                headers_final['Referer'] = self.host + api\n",
        "        return requests.get(self.host + api, headers=headers_final, params=params, verify=self.verify)\n"
      ],
      "execution_count": null,
      "outputs": []
    },
    {
      "cell_type": "markdown",
      "metadata": {
        "id": "idfJL3vMTTuC"
      },
      "source": [
        "Let's create our first AlationInstance object:"
      ]
    },
    {
      "cell_type": "code",
      "metadata": {
        "id": "QFmoyRnJByjd",
        "outputId": "7b28cc15-64a5-42ce-e073-a2ac5870afe2",
        "colab": {
          "base_uri": "https://localhost:8080/"
        }
      },
      "source": [
        "def log_me(text):\n",
        "  print(text)\n",
        "\n",
        "url = 'http://ec2-54-149-165-141.us-west-2.compute.amazonaws.com'\n",
        "user = 'matthias@alation.com'\n",
        "alation = AlationInstance(url, user,'password')\n",
        "h = alation.get_headers()"
      ],
      "execution_count": null,
      "outputs": [
        {
          "output_type": "stream",
          "text": [
            "Logging in to http://ec2-54-149-165-141.us-west-2.compute.amazonaws.com/login/\n"
          ],
          "name": "stdout"
        }
      ]
    },
    {
      "cell_type": "markdown",
      "metadata": {
        "id": "fXeb3vMg2liB"
      },
      "source": [
        "## Downloading a data dictionary\n"
      ]
    },
    {
      "cell_type": "code",
      "metadata": {
        "id": "qGa10ej5L5yp",
        "outputId": "a8fb279b-5d99-4a47-808e-16dd937dce6e",
        "colab": {
          "base_uri": "https://localhost:8080/"
        }
      },
      "source": [
        "body = dict(otype=\"schema\", oid=2, format=\"csv\")\n",
        "alation.generic_api_post(f'/data/download_dict/', body=body)"
      ],
      "execution_count": 15,
      "outputs": [
        {
          "output_type": "stream",
          "text": [
            "Waiting for job 249\n",
            "Waiting for job 249\n",
            "Waiting for job 249\n",
            "Waiting for job 249\n",
            "Waiting for job 249\n",
            "Waiting for job 249\n",
            "Waiting for job 249\n",
            "Waiting for job 249\n",
            "Waiting for job 249\n",
            "Waiting for job 249\n",
            "Waiting for job 249\n",
            "Waiting for job 249\n",
            "Waiting for job 249\n",
            "Waiting for job 249\n",
            "Waiting for job 249\n",
            "Waiting for job 249\n",
            "Waiting for job 249\n",
            "Waiting for job 249\n",
            "Waiting for job 249\n",
            "Waiting for job 249\n",
            "Waiting for job 249\n",
            "Waiting for job 249\n",
            "Waiting for job 249\n"
          ],
          "name": "stdout"
        },
        {
          "output_type": "execute_result",
          "data": {
            "text/plain": [
              "{'msg': 'Job finished in 29.524252 seconds at 2020-11-17 17:19:50.004685+00:00',\n",
              " 'result': None,\n",
              " 'status': 'successful'}"
            ]
          },
          "metadata": {
            "tags": []
          },
          "execution_count": 15
        }
      ]
    },
    {
      "cell_type": "markdown",
      "metadata": {
        "id": "UiQfpr-q0ppX"
      },
      "source": [
        "On the server, we use `ls -l /opt/alation/alation/opt/alation/site/downloads/data_dictionary/` to find out the file name. Then, we can download the file like this:"
      ]
    },
    {
      "cell_type": "code",
      "metadata": {
        "id": "Czx3o2G602fq",
        "outputId": "15402597-a321-4c6d-cde0-709db36cc8bd",
        "colab": {
          "base_uri": "https://localhost:8080/"
        }
      },
      "source": [
        "filename = 'schema_1_14_2020-11-16T03-23-57-090905.csv'\n",
        "print(f\"{url}/download/data_dictionary/{filename}/\")"
      ],
      "execution_count": null,
      "outputs": [
        {
          "output_type": "stream",
          "text": [
            "http://ec2-54-149-165-141.us-west-2.compute.amazonaws.com/download/data_dictionary/schema_1_14_2020-11-16T03-23-57-090905.csv/\n"
          ],
          "name": "stdout"
        }
      ]
    },
    {
      "cell_type": "code",
      "metadata": {
        "id": "Sa0cDkgCA-wO"
      },
      "source": [
        "r = requests.get(f\"{url}/download/data_dictionary/{filename}/\", headers=h)\n",
        "csv_raw = r.text[3:]"
      ],
      "execution_count": null,
      "outputs": []
    },
    {
      "cell_type": "markdown",
      "metadata": {
        "id": "j3zVcuEPtLOM"
      },
      "source": [
        "Alternatively, we can use a Linux command on our Mac:\n",
        "\n",
        "```rsync -av ec2-user@ec2-52-25-253-160.us-west-2.compute.amazonaws.com:/opt/alation/alation/opt/alation/site/downloads/ .```\n"
      ]
    },
    {
      "cell_type": "code",
      "metadata": {
        "id": "CahPMNZyqipV",
        "outputId": "ef7c9304-a00c-4fd4-fa55-a1053b557796",
        "colab": {
          "base_uri": "https://localhost:8080/",
          "height": 122
        }
      },
      "source": [
        "csv_raw"
      ],
      "execution_count": null,
      "outputs": [
        {
          "output_type": "execute_result",
          "data": {
            "application/vnd.google.colaboratory.intrinsic+json": {
              "type": "string"
            },
            "text/plain": [
              "'key,title,description,user actions,update frequency,primary feed mechanism,health description,anything:article,anything:attribute,anything:data,anything:groupprofile,anything:schema,anything:table,anything:user,security classification,steward:groupprofile,steward:user,last compliance review,associated feed jobs,quality thresholds,requires risk assessment,origination system type,uniqueness score,health classification,quality rules,least frequent patterns,sensitive category,associated regulation,least frequent values,range of values,compliance review notes,most frequent values,most frequent patterns,contains restricted data,compliance steward:groupprofile,compliance steward:user,related policy:article,related risk assessments,contains sensitive data,domain:article,sensitive indicator,technical steward:groupprofile,technical steward:user,quality score,business steward:groupprofile,business steward:user\\r\\nbank,Banksy Schema Title,\"<div>\\n <p>\\n  An important description\\n </p>\\n <p>\\n  with a picture\\n </p>\\n <p>\\n  <img class=\"\"fr-fic fr-dib\"\" src=\"\"/media/image_bank/2020-11-10-11-56-19-671061-00-00-b71e7e9f-569f-4566-8540-ae4459211f75.png\"\" style=\"\"width: 300px;\"\">\\n </p>\\n</div>\",,,ETL Tool,<p>poor health</p>,N/A,N/A,N/A,N/A,N/A,N/A,N/A,,catalog admins,,N/A,,N/A,N/A,Staged Files,N/A,Red,N/A,N/A,N/A,N/A,N/A,N/A,N/A,N/A,N/A,,,matthias@alation.com,,N/A,,N/A,N/A,,matthias@alation.com,<p>quality score seems to be here</p>,chief catalog steward,matthias@alation.com;antonio.fernandez@alation.com\\r\\nbank.profile_stats,,\"<p>\\n No description available at 2020-11-10 04:22:21.528804\\n</p>\",,N/A,N/A,,,,,,,,,,,,N/A,N/A,N/A,N/A,N/A,N/A,,N/A,N/A,N/A,N/A,N/A,N/A,N/A,N/A,N/A,,,,,N/A,,N/A,N/A,,,,,\\r\\nbank.test,,\"<p>\\n No description available at 2020-11-10 04:22:21.537935\\n</p>\",,N/A,N/A,,,,,,,,,,,,N/A,N/A,N/A,N/A,N/A,N/A,,N/A,N/A,N/A,N/A,N/A,N/A,N/A,N/A,N/A,,,,,N/A,,N/A,N/A,,,,,\\r\\nbank.account_detail,,\"<p>\\n No description available at 2020-11-10 04:22:21.533383\\n</p>\",,N/A,N/A,,,,,,,,,,,,N/A,N/A,N/A,N/A,N/A,N/A,,N/A,N/A,N/A,N/A,N/A,N/A,N/A,N/A,N/A,,,,,N/A,,N/A,N/A,,,,,\\r\\nbank.trade_transactions_rms,,\"<p>\\n No description available at 2020-11-10 04:22:21.526097\\n</p>\",,N/A,N/A,,,,,,,,,,,,N/A,N/A,N/A,N/A,N/A,N/A,,N/A,N/A,N/A,N/A,N/A,N/A,N/A,N/A,N/A,,,,,N/A,,N/A,N/A,,,,,\\r\\nbank.bank_customer,,\"<p>\\n No description available at 2020-11-10 04:22:21.532467\\n</p>\",,N/A,N/A,,,,,,,,,,,,N/A,N/A,N/A,N/A,N/A,N/A,,N/A,N/A,N/A,N/A,N/A,N/A,N/A,N/A,N/A,,,,,N/A,,N/A,N/A,,,,,\\r\\nbank.customer_country,,\"<div>\\n <p>\\n  A super nice desc\\n </p>\\n <p>\\n  <br>\\n </p>\\n</div>\",,N/A,N/A,,f.3 active data governance process;f.3.4 enlist & recruit the community,2.bank.mrkt_seg.plan_num,7,chief catalog steward,3.retail,2.ipps.cryptic_schedule,,,,,N/A,N/A,N/A,N/A,N/A,N/A,,N/A,N/A,N/A,N/A,N/A,N/A,N/A,N/A,N/A,,,,,N/A,,N/A,N/A,,,,,\\r\\nbank.trade_type_summary,,\"<p>\\n No description available at 2020-11-10 04:22:21.524212\\n</p>\",,N/A,N/A,,,,,,,,,,,,N/A,N/A,N/A,N/A,N/A,N/A,,N/A,N/A,N/A,N/A,N/A,N/A,N/A,N/A,N/A,,,,,N/A,,N/A,N/A,,,,,\\r\\nbank.trade_trxn,,\"<p>\\n No description available at 2020-11-10 04:22:21.525131\\n</p>\",,N/A,N/A,,,,,,,,,,,,N/A,N/A,N/A,N/A,N/A,N/A,,N/A,N/A,N/A,N/A,N/A,N/A,N/A,N/A,N/A,,,,,N/A,,N/A,N/A,,,,,\\r\\nbank.trade_transactions,,\"<p>\\n No description available at 2020-11-10 04:22:21.527051\\n</p>\",,N/A,N/A,,,,,,,,,,,,N/A,N/A,N/A,N/A,N/A,N/A,,N/A,N/A,N/A,N/A,N/A,N/A,N/A,N/A,N/A,,,,,N/A,,N/A,N/A,,,,,\\r\\nbank.trade_rms,,\"<p>\\n No description available at 2020-11-10 04:22:21.527927\\n</p>\",,N/A,N/A,,,,,,,,,,,,N/A,N/A,N/A,N/A,N/A,N/A,,N/A,N/A,N/A,N/A,N/A,N/A,N/A,N/A,N/A,,,,,N/A,,N/A,N/A,,,,,\\r\\nbank.dist_tradetype,,\"<p>\\n No description available at 2020-11-10 04:22:21.529707\\n</p>\",,N/A,N/A,,,,,,,,,,,,N/A,N/A,N/A,N/A,N/A,N/A,,N/A,N/A,N/A,N/A,N/A,N/A,N/A,N/A,N/A,,,,,N/A,,N/A,N/A,,,,,\\r\\nbank.customer_accounts,,\"<p>\\n No description available at 2020-11-10 04:22:21.530655\\n</p>\",,N/A,N/A,,,,,,,,,,,,N/A,N/A,N/A,N/A,N/A,N/A,,N/A,N/A,N/A,N/A,N/A,N/A,N/A,N/A,N/A,,,,,N/A,,N/A,N/A,,,,,\\r\\nbank.customer,,\"<p>\\n No description available at 2020-11-10 04:22:21.531555\\n</p>\",,N/A,N/A,,,,,,,,,,,,N/A,N/A,N/A,N/A,N/A,N/A,,N/A,N/A,N/A,N/A,N/A,N/A,N/A,N/A,N/A,,,,,N/A,,N/A,N/A,,,,,\\r\\nbank.uic_credit_data_3,,\"<p>\\n No description available at 2020-11-10 04:22:21.534319\\n</p>\",,N/A,N/A,,,,,,,,,,,,N/A,N/A,N/A,N/A,N/A,N/A,,N/A,N/A,N/A,N/A,N/A,N/A,N/A,N/A,N/A,,,,,N/A,,N/A,N/A,,,,,\\r\\nbank.uic_credit_data_2,,\"<p>\\n No description available at 2020-11-10 04:22:21.535246\\n</p>\",,N/A,N/A,,,,,,,,,,,,N/A,N/A,N/A,N/A,N/A,N/A,,N/A,N/A,N/A,N/A,N/A,N/A,N/A,N/A,N/A,,,,,N/A,,N/A,N/A,,,,,\\r\\nbank.uic_credit_card_4,,\"<p>\\n No description available at 2020-11-10 04:22:21.536138\\n</p>\",,N/A,N/A,,,,,,,,,,,,N/A,N/A,N/A,N/A,N/A,N/A,,N/A,N/A,N/A,N/A,N/A,N/A,N/A,N/A,N/A,,,,,N/A,,N/A,N/A,,,,,\\r\\nbank.uci_credit_card,,\"<p>\\n No description available at 2020-11-10 04:22:21.537041\\n</p>\",,N/A,N/A,,,,,,,,,,,,N/A,N/A,N/A,N/A,N/A,N/A,,N/A,N/A,N/A,N/A,N/A,N/A,N/A,N/A,N/A,,,,,N/A,,N/A,N/A,,,,,\\r\\nbank.sales_pipeline_from_csv,,\"<p>\\n No description available at 2020-11-10 04:22:21.538815\\n</p>\",,N/A,N/A,,,,,,,,,,,,N/A,N/A,N/A,N/A,N/A,N/A,,N/A,N/A,N/A,N/A,N/A,N/A,N/A,N/A,N/A,,,,,N/A,,N/A,N/A,,,,,\\r\\nbank.restaurants_mongo,,\"<p>\\n No description available at 2020-11-10 04:22:21.539690\\n</p>\",,N/A,N/A,,,,,,,,,,,,N/A,N/A,N/A,N/A,N/A,N/A,,N/A,N/A,N/A,N/A,N/A,N/A,N/A,N/A,N/A,,,,,N/A,,N/A,N/A,,,,,\\r\\nbank.mrkt_seg,,\"<p>\\n No description available at 2020-11-10 04:22:21.540571\\n</p>\",,N/A,N/A,,,,,,,,,,,,N/A,N/A,N/A,N/A,N/A,N/A,,N/A,N/A,N/A,N/A,N/A,N/A,N/A,N/A,N/A,,,,,N/A,,N/A,N/A,,,,,\\r\\nbank.esri_insurance,,\"<p>\\n No description available at 2020-11-10 04:22:21.541517\\n</p>\",,N/A,N/A,,,,,,,,,,,,N/A,N/A,N/A,N/A,N/A,N/A,,N/A,N/A,N/A,N/A,N/A,N/A,N/A,N/A,N/A,,,,,N/A,,N/A,N/A,,,,,\\r\\nbank.dictionary_reporting,,\"<p>\\n No description available at 2020-11-10 04:22:21.542461\\n</p>\",,N/A,N/A,,,,,,,,,,,,N/A,N/A,N/A,N/A,N/A,N/A,,N/A,N/A,N/A,N/A,N/A,N/A,N/A,N/A,N/A,,,,,N/A,,N/A,N/A,,,,,\\r\\nbank.customer_country.custid,,,,N/A,N/A,,N/A,N/A,N/A,N/A,N/A,N/A,N/A,,,,,N/A,,,N/A,,,,,,null,,,,,,N/A,,,,,N/A,,,,,,,\\r\\nbank.customer_country.firstname,,,,N/A,N/A,,N/A,N/A,N/A,N/A,N/A,N/A,N/A,,,,,N/A,,,N/A,,,,,,null,,,,,,N/A,,,,,N/A,,,,,,,\\r\\nbank.customer_country.lastname,,,,N/A,N/A,,N/A,N/A,N/A,N/A,N/A,N/A,N/A,,,,,N/A,,,N/A,,,,,,null,,,,,,N/A,,,,,N/A,,,,,,,\\r\\nbank.customer_country.city,,,,N/A,N/A,,N/A,N/A,N/A,N/A,N/A,N/A,N/A,,,,,N/A,,,N/A,,,,,,null,,,,,,N/A,,,,,N/A,,,,,,,\\r\\nbank.customer_country.state,,,,N/A,N/A,,N/A,N/A,N/A,N/A,N/A,N/A,N/A,,,,,N/A,,,N/A,,,,,,null,,,,,,N/A,,,,,N/A,,,,,,,\\r\\nbank.customer_country.acount_number,,,,N/A,N/A,,N/A,N/A,N/A,N/A,N/A,N/A,N/A,,,,,N/A,,,N/A,,,,,,null,,,,,,N/A,,,,,N/A,,,,,,,\\r\\nbank.customer_country.account_balance,,,,N/A,N/A,,N/A,N/A,N/A,N/A,N/A,N/A,N/A,,,,,N/A,,,N/A,,,,,,null,,,,,,N/A,,,,,N/A,,,,,,,\\r\\nbank.customer_country.cosigner,,,,N/A,N/A,,N/A,N/A,N/A,N/A,N/A,N/A,N/A,,,,,N/A,,,N/A,,,,,,null,,,,,,N/A,,,,,N/A,,,,,,,\\r\\nbank.customer_country.country,,,,N/A,N/A,,N/A,N/A,N/A,N/A,N/A,N/A,N/A,,,,,N/A,,,N/A,,,,,,null,,,,,,N/A,,,,,N/A,,,,,,,\\r\\nbank.dictionary_reporting.key,,,,N/A,N/A,,N/A,N/A,N/A,N/A,N/A,N/A,N/A,,,,,N/A,,,N/A,,,,,,null,,,,,,N/A,,,,,N/A,,,,,,,\\r\\nbank.dictionary_reporting.title,,,,N/A,N/A,,N/A,N/A,N/A,N/A,N/A,N/A,N/A,,,,,N/A,,,N/A,,,,,,null,,,,,,N/A,,,,,N/A,,,,,,,\\r\\nbank.dictionary_reporting.description,,,,N/A,N/A,,N/A,N/A,N/A,N/A,N/A,N/A,N/A,,,,,N/A,,,N/A,,,,,,null,,,,,,N/A,,,,,N/A,,,,,,,\\r\\nbank.dictionary_reporting.data_profile,,,,N/A,N/A,,N/A,N/A,N/A,N/A,N/A,N/A,N/A,,,,,N/A,,,N/A,,,,,,null,,,,,,N/A,,,,,N/A,,,,,,,\\r\\nbank.dictionary_reporting.technical_owner_groupprofile,,,,N/A,N/A,,N/A,N/A,N/A,N/A,N/A,N/A,N/A,,,,,N/A,,,N/A,,,,,,null,,,,,,N/A,,,,,N/A,,,,,,,\\r\\nbank.dictionary_reporting.technical_owner_user,,,,N/A,N/A,,N/A,N/A,N/A,N/A,N/A,N/A,N/A,,,,,N/A,,,N/A,,,,,,null,,,,,,N/A,,,,,N/A,,,,,,,\\r\\nbank.dictionary_reporting.cde_indicator,,,,N/A,N/A,,N/A,N/A,N/A,N/A,N/A,N/A,N/A,,,,,N/A,,,N/A,,,,,,null,,,,,,N/A,,,,,N/A,,,,,,,\\r\\nbank.dictionary_reporting.steward_groupprofile,,,,N/A,N/A,,N/A,N/A,N/A,N/A,N/A,N/A,N/A,,,,,N/A,,,N/A,,,,,,null,,,,,,N/A,,,,,N/A,,,,,,,\\r\\nbank.dictionary_reporting.steward_user,,,,N/A,N/A,,N/A,N/A,N/A,N/A,N/A,N/A,N/A,,,,,N/A,,,N/A,,,,,,null,,,,,,N/A,,,,,N/A,,,,,,,\\r\\nbank.dictionary_reporting.verification_status,,,,N/A,N/A,,N/A,N/A,N/A,N/A,N/A,N/A,N/A,,,,,N/A,,,N/A,,,,,,null,,,,,,N/A,,,,,N/A,,,,,,,\\r\\nbank.dictionary_reporting.subject_to_article,,,,N/A,N/A,,N/A,N/A,N/A,N/A,N/A,N/A,N/A,,,,,N/A,,,N/A,,,,,,null,,,,,,N/A,,,,,N/A,,,,,,,\\r\\nbank.dictionary_reporting.retention_period,,,,N/A,N/A,,N/A,N/A,N/A,N/A,N/A,N/A,N/A,,,,,N/A,,,N/A,,,,,,null,,,,,,N/A,,,,,N/A,,,,,,,\\r\\nbank.dictionary_reporting.business_criticality,,,,N/A,N/A,,N/A,N/A,N/A,N/A,N/A,N/A,N/A,,,,,N/A,,,N/A,,,,,,null,,,,,,N/A,,,,,N/A,,,,,,,\\r\\nbank.dictionary_reporting.gdpr_data_set_compliance,,,,N/A,N/A,,N/A,N/A,N/A,N/A,N/A,N/A,N/A,,,,,N/A,,,N/A,,,,,,null,,,,,,N/A,,,,,N/A,,,,,,,\\r\\nbank.dictionary_reporting.risk_sensitivity,,,,N/A,N/A,,N/A,N/A,N/A,N/A,N/A,N/A,N/A,,,,,N/A,,,N/A,,,,,,null,,,,,,N/A,,,,,N/A,,,,,,,\\r\\nbank.dictionary_reporting.status_of_development,,,,N/A,N/A,,N/A,N/A,N/A,N/A,N/A,N/A,N/A,,,,,N/A,,,N/A,,,,,,null,,,,,,N/A,,,,,N/A,,,,,,,\\r\\nbank.dictionary_reporting.data_classification,,,,N/A,N/A,,N/A,N/A,N/A,N/A,N/A,N/A,N/A,,,,,N/A,,,N/A,,,,,,null,,,,,,N/A,,,,,N/A,,,,,,,\\r\\nbank.dictionary_reporting.main_dataset_region,,,,N/A,N/A,,N/A,N/A,N/A,N/A,N/A,N/A,N/A,,,,,N/A,,,N/A,,,,,,null,,,,,,N/A,,,,,N/A,,,,,,,\\r\\nbank.dictionary_reporting.pii_compliance,,,,N/A,N/A,,N/A,N/A,N/A,N/A,N/A,N/A,N/A,,,,,N/A,,,N/A,,,,,,null,,,,,,N/A,,,,,N/A,,,,,,,\\r\\nbank.dictionary_reporting.type_of_data,,,,N/A,N/A,,N/A,N/A,N/A,N/A,N/A,N/A,N/A,,,,,N/A,,,N/A,,,,,,null,,,,,,N/A,,,,,N/A,,,,,,,\\r\\nbank.dictionary_reporting.subject_area,,,,N/A,N/A,,N/A,N/A,N/A,N/A,N/A,N/A,N/A,,,,,N/A,,,N/A,,,,,,null,,,,,,N/A,,,,,N/A,,,,,,,\\r\\nbank.dictionary_reporting.reseacher,,,,N/A,N/A,,N/A,N/A,N/A,N/A,N/A,N/A,N/A,,,,,N/A,,,N/A,,,,,,null,,,,,,N/A,,,,,N/A,,,,,,,\\r\\nbank.dictionary_reporting.contains_pii,,,,N/A,N/A,,N/A,N/A,N/A,N/A,N/A,N/A,N/A,,,,,N/A,,,N/A,,,,,,null,,,,,,N/A,,,,,N/A,,,,,,,\\r\\nbank.dictionary_reporting.asset_family,,,,N/A,N/A,,N/A,N/A,N/A,N/A,N/A,N/A,N/A,,,,,N/A,,,N/A,,,,,,null,,,,,,N/A,,,,,N/A,,,,,,,\\r\\nbank.dictionary_reporting.alias,,,,N/A,N/A,,N/A,N/A,N/A,N/A,N/A,N/A,N/A,,,,,N/A,,,N/A,,,,,,null,,,,,,N/A,,,,,N/A,,,,,,,\\r\\nbank.dictionary_reporting.relevant_dataset_table,,,,N/A,N/A,,N/A,N/A,N/A,N/A,N/A,N/A,N/A,,,,,N/A,,,N/A,,,,,,null,,,,,,N/A,,,,,N/A,,,,,,,\\r\\nbank.dictionary_reporting.archiving_date,,,,N/A,N/A,,N/A,N/A,N/A,N/A,N/A,N/A,N/A,,,,,N/A,,,N/A,,,,,,null,,,,,,N/A,,,,,N/A,,,,,,,\\r\\nbank.esri_insurance.policyid,,,,N/A,N/A,,N/A,N/A,N/A,N/A,N/A,N/A,N/A,,,,,N/A,,,N/A,,,,,,null,,,,,,N/A,,,,,N/A,,,,,,,\\r\\nbank.esri_insurance.statecode,,,,N/A,N/A,,N/A,N/A,N/A,N/A,N/A,N/A,N/A,,,,,N/A,,,N/A,,,,,,null,,,,,,N/A,,,,,N/A,,,,,,,\\r\\nbank.esri_insurance.county,,,,N/A,N/A,,N/A,N/A,N/A,N/A,N/A,N/A,N/A,,,,,N/A,,,N/A,,,,,,null,,,,,,N/A,,,,,N/A,,,,,,,\\r\\nbank.esri_insurance.eq_site_limit,,,,N/A,N/A,,N/A,N/A,N/A,N/A,N/A,N/A,N/A,,,,,N/A,,,N/A,,,,,,null,,,,,,N/A,,,,,N/A,,,,,,,\\r\\nbank.esri_insurance.hu_site_limit,,,,N/A,N/A,,N/A,N/A,N/A,N/A,N/A,N/A,N/A,,,,,N/A,,,N/A,,,,,,null,,,,,,N/A,,,,,N/A,,,,,,,\\r\\nbank.esri_insurance.fl_site_limit,,,,N/A,N/A,,N/A,N/A,N/A,N/A,N/A,N/A,N/A,,,,,N/A,,,N/A,,,,,,null,,,,,,N/A,,,,,N/A,,,,,,,\\r\\nbank.esri_insurance.fr_site_limit,,,,N/A,N/A,,N/A,N/A,N/A,N/A,N/A,N/A,N/A,,,,,N/A,,,N/A,,,,,,null,,,,,,N/A,,,,,N/A,,,,,,,\\r\\nbank.esri_insurance.tiv_2011,,,,N/A,N/A,,N/A,N/A,N/A,N/A,N/A,N/A,N/A,,,,,N/A,,,N/A,,,,,,null,,,,,,N/A,,,,,N/A,,,,,,,\\r\\nbank.esri_insurance.tiv_2012,,,,N/A,N/A,,N/A,N/A,N/A,N/A,N/A,N/A,N/A,,,,,N/A,,,N/A,,,,,,null,,,,,,N/A,,,,,N/A,,,,,,,\\r\\nbank.esri_insurance.eq_site_deductible,,,,N/A,N/A,,N/A,N/A,N/A,N/A,N/A,N/A,N/A,,,,,N/A,,,N/A,,,,,,null,,,,,,N/A,,,,,N/A,,,,,,,\\r\\nbank.esri_insurance.hu_site_deductible,,,,N/A,N/A,,N/A,N/A,N/A,N/A,N/A,N/A,N/A,,,,,N/A,,,N/A,,,,,,null,,,,,,N/A,,,,,N/A,,,,,,,\\r\\nbank.esri_insurance.fl_site_deductible,,,,N/A,N/A,,N/A,N/A,N/A,N/A,N/A,N/A,N/A,,,,,N/A,,,N/A,,,,,,null,,,,,,N/A,,,,,N/A,,,,,,,\\r\\nbank.esri_insurance.fr_site_deductible,,,,N/A,N/A,,N/A,N/A,N/A,N/A,N/A,N/A,N/A,,,,,N/A,,,N/A,,,,,,null,,,,,,N/A,,,,,N/A,,,,,,,\\r\\nbank.esri_insurance.point_latitude,,,,N/A,N/A,,N/A,N/A,N/A,N/A,N/A,N/A,N/A,,,,,N/A,,,N/A,,,,,,null,,,,,,N/A,,,,,N/A,,,,,,,\\r\\nbank.esri_insurance.point_longitude,,,,N/A,N/A,,N/A,N/A,N/A,N/A,N/A,N/A,N/A,,,,,N/A,,,N/A,,,,,,null,,,,,,N/A,,,,,N/A,,,,,,,\\r\\nbank.esri_insurance.line,,,,N/A,N/A,,N/A,N/A,N/A,N/A,N/A,N/A,N/A,,,,,N/A,,,N/A,,,,,,null,,,,,,N/A,,,,,N/A,,,,,,,\\r\\nbank.esri_insurance.construction,,,,N/A,N/A,,N/A,N/A,N/A,N/A,N/A,N/A,N/A,,,,,N/A,,,N/A,,,,,,null,,,,,,N/A,,,,,N/A,,,,,,,\\r\\nbank.esri_insurance.point_granularity,,,,N/A,N/A,,N/A,N/A,N/A,N/A,N/A,N/A,N/A,,,,,N/A,,,N/A,,,,,,null,,,,,,N/A,,,,,N/A,,,,,,,\\r\\nbank.mrkt_seg.market_segment_id,,,,N/A,N/A,,N/A,N/A,N/A,N/A,N/A,N/A,N/A,,,,,N/A,,,N/A,,,,,,null,,,,,,N/A,,,,,N/A,,,,,,,\\r\\nbank.mrkt_seg.plan_num,,,,N/A,N/A,,N/A,N/A,N/A,N/A,N/A,N/A,N/A,,,,,N/A,,,N/A,,,,,,null,,,,,,N/A,,,,,N/A,,,,,,,\\r\\nbank.mrkt_seg.vrs_flag,,,,N/A,N/A,,N/A,N/A,N/A,N/A,N/A,N/A,N/A,,,,,N/A,,,N/A,,,,,,null,,,,,,N/A,,,,,N/A,,,,,,,\\r\\nbank.mrkt_seg.plan_name1,,,,N/A,N/A,,N/A,N/A,N/A,N/A,N/A,N/A,N/A,,,,,N/A,,,N/A,,,,,,null,,,,,,N/A,,,,,N/A,,,,,,,\\r\\nbank.mrkt_seg.plan_name2,,,,N/A,N/A,,N/A,N/A,N/A,N/A,N/A,N/A,N/A,,,,,N/A,,,N/A,,,,,,null,,,,,,N/A,,,,,N/A,,,,,,,\\r\\nbank.mrkt_seg.conversion_flag,,,,N/A,N/A,,N/A,N/A,N/A,N/A,N/A,N/A,N/A,,,,,N/A,,,N/A,,,,,,null,,,,,,N/A,,,,,N/A,,,,,,,\\r\\nbank.mrkt_seg.part_internet_access_flag,,,,N/A,N/A,,N/A,N/A,N/A,N/A,N/A,N/A,N/A,,,,,N/A,,,N/A,,,,,,null,,,,,,N/A,,,,,N/A,,,,,,,\\r\\nbank.mrkt_seg.sponsor_internet_access_flag,,,,N/A,N/A,,N/A,N/A,N/A,N/A,N/A,N/A,N/A,,,,,N/A,,,N/A,,,,,,null,,,,,,N/A,,,,,N/A,,,,,,,\\r\\nbank.mrkt_seg.original_eff_date,,,,N/A,N/A,,N/A,N/A,N/A,N/A,N/A,N/A,N/A,,,,,N/A,,,N/A,,,,,,null,,,,,,N/A,,,,,N/A,,,,,,,\\r\\nbank.mrkt_seg.deferral_date,,,,N/A,N/A,,N/A,N/A,N/A,N/A,N/A,N/A,N/A,,,,,N/A,,,N/A,,,,,,null,,,,,,N/A,,,,,N/A,,,,,,,\\r\\nbank.mrkt_seg.plan_status,,,,N/A,N/A,,N/A,N/A,N/A,N/A,N/A,N/A,N/A,,,,,N/A,,,N/A,,,,,,null,,,,,,N/A,,,,,N/A,,,,,,,\\r\\nbank.mrkt_seg.plan_eff_date,,,,N/A,N/A,,N/A,N/A,N/A,N/A,N/A,N/A,N/A,,,,,N/A,,,N/A,,,,,,null,,,,,,N/A,,,,,N/A,,,,,,,\\r\\nbank.mrkt_seg.key_account_flag,,,,N/A,N/A,,N/A,N/A,N/A,N/A,N/A,N/A,N/A,,,,,N/A,,,N/A,,,,,,null,,,,,,N/A,,,,,N/A,,,,,,,\\r\\nbank.mrkt_seg.port_ind,,,,N/A,N/A,,N/A,N/A,N/A,N/A,N/A,N/A,N/A,,,,,N/A,,,N/A,,,,,,null,,,,,,N/A,,,,,N/A,,,,,,,\\r\\nbank.mrkt_seg.share_class,,,,N/A,N/A,,N/A,N/A,N/A,N/A,N/A,N/A,N/A,,,,,N/A,,,N/A,,,,,,null,,,,,,N/A,,,,,N/A,,,,,,,\\r\\nbank.mrkt_seg.turn_off_billing,,,,N/A,N/A,,N/A,N/A,N/A,N/A,N/A,N/A,N/A,,,,,N/A,,,N/A,,,,,,null,,,,,,N/A,,,,,N/A,,,,,,,\\r\\nbank.mrkt_seg.company_long_name,,,,N/A,N/A,,N/A,N/A,N/A,N/A,N/A,N/A,N/A,,,,,N/A,,,N/A,,,,,,null,,,,,,N/A,,,,,N/A,,,,,,,\\r\\nbank.mrkt_seg.transition_status,,,,N/A,N/A,,N/A,N/A,N/A,N/A,N/A,N/A,N/A,,,,,N/A,,,N/A,,,,,,null,,,,,,N/A,,,,,N/A,,,,,,,\\r\\nbank.mrkt_seg.unnamed_18,,,,N/A,N/A,,N/A,N/A,N/A,N/A,N/A,N/A,N/A,,,,,N/A,,,N/A,,,,,,null,,,,,,N/A,,,,,N/A,,,,,,,\\r\\nbank.restaurants_mongo.restaurant_id,,,,N/A,N/A,,N/A,N/A,N/A,N/A,N/A,N/A,N/A,,,,,N/A,,,N/A,,,,,,null,,,,,,N/A,,,,,N/A,,,,,,,\\r\\nbank.restaurants_mongo.name,,,,N/A,N/A,,N/A,N/A,N/A,N/A,N/A,N/A,N/A,,,,,N/A,,,N/A,,,,,,null,,,,,,N/A,,,,,N/A,,,,,,,\\r\\nbank.restaurants_mongo.cuisine,,,,N/A,N/A,,N/A,N/A,N/A,N/A,N/A,N/A,N/A,,,,,N/A,,,N/A,,,,,,null,,,,,,N/A,,,,,N/A,,,,,,,\\r\\nbank.restaurants_mongo.address_zipcode,,,,N/A,N/A,,N/A,N/A,N/A,N/A,N/A,N/A,N/A,,,,,N/A,,,N/A,,,,,,null,,,,,,N/A,,,,,N/A,,,,,,,\\r\\nbank.restaurants_mongo.added_new_column,,,,N/A,N/A,,N/A,N/A,N/A,N/A,N/A,N/A,N/A,,,,,N/A,,,N/A,,,,,,null,,,,,,N/A,,,,,N/A,,,,,,,\\r\\nbank.sales_pipeline_from_csv.director,,,,N/A,N/A,,N/A,N/A,N/A,N/A,N/A,N/A,N/A,,,,,N/A,,,N/A,,,,,,null,,,,,,N/A,,,,,N/A,,,,,,,\\r\\nbank.sales_pipeline_from_csv.region_manager,,,,N/A,N/A,,N/A,N/A,N/A,N/A,N/A,N/A,N/A,,,,,N/A,,,N/A,,,,,,null,,,,,,N/A,,,,,N/A,,,,,,,\\r\\nbank.sales_pipeline_from_csv.manager,,,,N/A,N/A,,N/A,N/A,N/A,N/A,N/A,N/A,N/A,,,,,N/A,,,N/A,,,,,,null,,,,,,N/A,,,,,N/A,,,,,,,\\r\\nbank.sales_pipeline_from_csv.representative,,,,N/A,N/A,,N/A,N/A,N/A,N/A,N/A,N/A,N/A,,,,,N/A,,,N/A,,,,,,null,,,,,,N/A,,,,,N/A,,,,,,,\\r\\nbank.sales_pipeline_from_csv.product_group,,,,N/A,N/A,,N/A,N/A,N/A,N/A,N/A,N/A,N/A,,,,,N/A,,,N/A,,,,,,null,,,,,,N/A,,,,,N/A,,,,,,,\\r\\nbank.sales_pipeline_from_csv.product_subgroup,,,,N/A,N/A,,N/A,N/A,N/A,N/A,N/A,N/A,N/A,,,,,N/A,,,N/A,,,,,,null,,,,,,N/A,,,,,N/A,,,,,,,\\r\\nbank.sales_pipeline_from_csv.product,,,,N/A,N/A,,N/A,N/A,N/A,N/A,N/A,N/A,N/A,,,,,N/A,,,N/A,,,,,,null,,,,,,N/A,,,,,N/A,,,,,,,\\r\\nbank.sales_pipeline_from_csv.region,,,,N/A,N/A,,N/A,N/A,N/A,N/A,N/A,N/A,N/A,,,,,N/A,,,N/A,,,,,,null,,,,,,N/A,,,,,N/A,,,,,,,\\r\\nbank.sales_pipeline_from_csv.state,,,,N/A,N/A,,N/A,N/A,N/A,N/A,N/A,N/A,N/A,,,,,N/A,,,N/A,,,,,,null,,,,,,N/A,,,,,N/A,,,,,,,\\r\\nbank.sales_pipeline_from_csv.route_to_market,,,,N/A,N/A,,N/A,N/A,N/A,N/A,N/A,N/A,N/A,,,,,N/A,,,N/A,,,,,,null,,,,,,N/A,,,,,N/A,,,,,,,\\r\\nbank.sales_pipeline_from_csv.opportunity_result,,,,N/A,N/A,,N/A,N/A,N/A,N/A,N/A,N/A,N/A,,,,,N/A,,,N/A,,,,,,null,,,,,,N/A,,,,,N/A,,,,,,,\\r\\nbank.sales_pipeline_from_csv.total_days_in_sales_cycle,,,,N/A,N/A,,N/A,N/A,N/A,N/A,N/A,N/A,N/A,,,,,N/A,,,N/A,,,,,,null,,,,,,N/A,,,,,N/A,,,,,,,\\r\\nbank.sales_pipeline_from_csv.sales_amount,,,,N/A,N/A,,N/A,N/A,N/A,N/A,N/A,N/A,N/A,,,,,N/A,,,N/A,,,,,,null,,,,,,N/A,,,,,N/A,,,,,,,\\r\\nbank.sales_pipeline_from_csv.client_size_by_employee_count,,,,N/A,N/A,,N/A,N/A,N/A,N/A,N/A,N/A,N/A,,,,,N/A,,,N/A,,,,,,null,,,,,,N/A,,,,,N/A,,,,,,,\\r\\nbank.sales_pipeline_from_csv.closed_opps_from_client_past_five_years,,,,N/A,N/A,,N/A,N/A,N/A,N/A,N/A,N/A,N/A,,,,,N/A,,,N/A,,,,,,null,,,,,,N/A,,,,,N/A,,,,,,,\\r\\nbank.sales_pipeline_from_csv.competitor_type,,,,N/A,N/A,,N/A,N/A,N/A,N/A,N/A,N/A,N/A,,,,,N/A,,,N/A,,,,,,null,,,,,,N/A,,,,,N/A,,,,,,,\\r\\nbank.sales_pipeline_from_csv.deal_size_category,,,,N/A,N/A,,N/A,N/A,N/A,N/A,N/A,N/A,N/A,,,,,N/A,,,N/A,,,,,,null,,,,,,N/A,,,,,N/A,,,,,,,\\r\\nbank.sales_pipeline_from_csv.opportunity_number,,,,N/A,N/A,,N/A,N/A,N/A,N/A,N/A,N/A,N/A,,,,,N/A,,,N/A,,,,,,null,,,,,,N/A,,,,,N/A,,,,,,,\\r\\nbank.sales_pipeline_from_csv.close_date,,,,N/A,N/A,,N/A,N/A,N/A,N/A,N/A,N/A,N/A,,,,,N/A,,,N/A,,,,,,null,,,,,,N/A,,,,,N/A,,,,,,,\\r\\nbank.sales_pipeline_from_csv.closed_quarter,,,,N/A,N/A,,N/A,N/A,N/A,N/A,N/A,N/A,N/A,,,,,N/A,,,N/A,,,,,,null,,,,,,N/A,,,,,N/A,,,,,,,\\r\\nbank.test.org_name,,,,N/A,N/A,,N/A,N/A,N/A,N/A,N/A,N/A,N/A,,,,,N/A,,,N/A,,,,,,null,,,,,,N/A,,,,,N/A,,,,,,,\\r\\nbank.test.org_id,,,,N/A,N/A,,N/A,N/A,N/A,N/A,N/A,N/A,N/A,,,,,N/A,,,N/A,,,,,,null,,,,,,N/A,,,,,N/A,,,,,,,\\r\\nbank.test.company_id,,,,N/A,N/A,,N/A,N/A,N/A,N/A,N/A,N/A,N/A,,,,,N/A,,,N/A,,,,,,null,,,,,,N/A,,,,,N/A,,,,,,,\\r\\nbank.uci_credit_card.id,,,,N/A,N/A,,N/A,N/A,N/A,N/A,N/A,N/A,N/A,,,,,N/A,,,N/A,,,,,,null,,,,,,N/A,,,,,N/A,,,,,,,\\r\\nbank.uci_credit_card.limit_bal,,,,N/A,N/A,,N/A,N/A,N/A,N/A,N/A,N/A,N/A,,,,,N/A,,,N/A,,,,,,null,,,,,,N/A,,,,,N/A,,,,,,,\\r\\nbank.uci_credit_card.sex,,,,N/A,N/A,,N/A,N/A,N/A,N/A,N/A,N/A,N/A,,,,,N/A,,,N/A,,,,,,null,,,,,,N/A,,,,,N/A,,,,,,,\\r\\nbank.uci_credit_card.education,,,,N/A,N/A,,N/A,N/A,N/A,N/A,N/A,N/A,N/A,,,,,N/A,,,N/A,,,,,,null,,,,,,N/A,,,,,N/A,,,,,,,\\r\\nbank.uci_credit_card.marriage,,,,N/A,N/A,,N/A,N/A,N/A,N/A,N/A,N/A,N/A,,,,,N/A,,,N/A,,,,,,null,,,,,,N/A,,,,,N/A,,,,,,,\\r\\nbank.uci_credit_card.age,,,,N/A,N/A,,N/A,N/A,N/A,N/A,N/A,N/A,N/A,,,,,N/A,,,N/A,,,,,,null,,,,,,N/A,,,,,N/A,,,,,,,\\r\\nbank.uci_credit_card.pay_0,,,,N/A,N/A,,N/A,N/A,N/A,N/A,N/A,N/A,N/A,,,,,N/A,,,N/A,,,,,,null,,,,,,N/A,,,,,N/A,,,,,,,\\r\\nbank.uci_credit_card.pay_2,,,,N/A,N/A,,N/A,N/A,N/A,N/A,N/A,N/A,N/A,,,,,N/A,,,N/A,,,,,,null,,,,,,N/A,,,,,N/A,,,,,,,\\r\\nbank.uci_credit_card.pay_3,,,,N/A,N/A,,N/A,N/A,N/A,N/A,N/A,N/A,N/A,,,,,N/A,,,N/A,,,,,,null,,,,,,N/A,,,,,N/A,,,,,,,\\r\\nbank.uci_credit_card.pay_4,,,,N/A,N/A,,N/A,N/A,N/A,N/A,N/A,N/A,N/A,,,,,N/A,,,N/A,,,,,,null,,,,,,N/A,,,,,N/A,,,,,,,\\r\\nbank.uci_credit_card.pay_5,,,,N/A,N/A,,N/A,N/A,N/A,N/A,N/A,N/A,N/A,,,,,N/A,,,N/A,,,,,,null,,,,,,N/A,,,,,N/A,,,,,,,\\r\\nbank.uci_credit_card.pay_6,,,,N/A,N/A,,N/A,N/A,N/A,N/A,N/A,N/A,N/A,,,,,N/A,,,N/A,,,,,,null,,,,,,N/A,,,,,N/A,,,,,,,\\r\\nbank.uci_credit_card.bill_amt1,,,,N/A,N/A,,N/A,N/A,N/A,N/A,N/A,N/A,N/A,,,,,N/A,,,N/A,,,,,,null,,,,,,N/A,,,,,N/A,,,,,,,\\r\\nbank.uci_credit_card.bill_amt2,,,,N/A,N/A,,N/A,N/A,N/A,N/A,N/A,N/A,N/A,,,,,N/A,,,N/A,,,,,,null,,,,,,N/A,,,,,N/A,,,,,,,\\r\\nbank.uci_credit_card.bill_amt3,,,,N/A,N/A,,N/A,N/A,N/A,N/A,N/A,N/A,N/A,,,,,N/A,,,N/A,,,,,,null,,,,,,N/A,,,,,N/A,,,,,,,\\r\\nbank.uci_credit_card.bill_amt4,,,,N/A,N/A,,N/A,N/A,N/A,N/A,N/A,N/A,N/A,,,,,N/A,,,N/A,,,,,,null,,,,,,N/A,,,,,N/A,,,,,,,\\r\\nbank.uci_credit_card.bill_amt5,,,,N/A,N/A,,N/A,N/A,N/A,N/A,N/A,N/A,N/A,,,,,N/A,,,N/A,,,,,,null,,,,,,N/A,,,,,N/A,,,,,,,\\r\\nbank.uci_credit_card.bill_amt6,,,,N/A,N/A,,N/A,N/A,N/A,N/A,N/A,N/A,N/A,,,,,N/A,,,N/A,,,,,,null,,,,,,N/A,,,,,N/A,,,,,,,\\r\\nbank.uci_credit_card.pay_amt1,,,,N/A,N/A,,N/A,N/A,N/A,N/A,N/A,N/A,N/A,,,,,N/A,,,N/A,,,,,,null,,,,,,N/A,,,,,N/A,,,,,,,\\r\\nbank.uci_credit_card.pay_amt2,,,,N/A,N/A,,N/A,N/A,N/A,N/A,N/A,N/A,N/A,,,,,N/A,,,N/A,,,,,,null,,,,,,N/A,,,,,N/A,,,,,,,\\r\\nbank.uci_credit_card.pay_amt3,,,,N/A,N/A,,N/A,N/A,N/A,N/A,N/A,N/A,N/A,,,,,N/A,,,N/A,,,,,,null,,,,,,N/A,,,,,N/A,,,,,,,\\r\\nbank.uci_credit_card.pay_amt4,,,,N/A,N/A,,N/A,N/A,N/A,N/A,N/A,N/A,N/A,,,,,N/A,,,N/A,,,,,,null,,,,,,N/A,,,,,N/A,,,,,,,\\r\\nbank.uci_credit_card.pay_amt5,,,,N/A,N/A,,N/A,N/A,N/A,N/A,N/A,N/A,N/A,,,,,N/A,,,N/A,,,,,,null,,,,,,N/A,,,,,N/A,,,,,,,\\r\\nbank.uci_credit_card.pay_amt6,,,,N/A,N/A,,N/A,N/A,N/A,N/A,N/A,N/A,N/A,,,,,N/A,,,N/A,,,,,,null,,,,,,N/A,,,,,N/A,,,,,,,\\r\\nbank.uci_credit_card.default_payment_next_month,,,,N/A,N/A,,N/A,N/A,N/A,N/A,N/A,N/A,N/A,,,,,N/A,,,N/A,,,,,,null,,,,,,N/A,,,,,N/A,,,,,,,\\r\\nbank.uic_credit_card_4.id,,,,N/A,N/A,,N/A,N/A,N/A,N/A,N/A,N/A,N/A,,,,,N/A,,,N/A,,,,,,null,,,,,,N/A,,,,,N/A,,,,,,,\\r\\nbank.uic_credit_card_4.limit_bal,,,,N/A,N/A,,N/A,N/A,N/A,N/A,N/A,N/A,N/A,,,,,N/A,,,N/A,,,,,,null,,,,,,N/A,,,,,N/A,,,,,,,\\r\\nbank.uic_credit_card_4.sex,,,,N/A,N/A,,N/A,N/A,N/A,N/A,N/A,N/A,N/A,,,,,N/A,,,N/A,,,,,,null,,,,,,N/A,,,,,N/A,,,,,,,\\r\\nbank.uic_credit_card_4.education,,,,N/A,N/A,,N/A,N/A,N/A,N/A,N/A,N/A,N/A,,,,,N/A,,,N/A,,,,,,null,,,,,,N/A,,,,,N/A,,,,,,,\\r\\nbank.uic_credit_card_4.marriage,,,,N/A,N/A,,N/A,N/A,N/A,N/A,N/A,N/A,N/A,,,,,N/A,,,N/A,,,,,,null,,,,,,N/A,,,,,N/A,,,,,,,\\r\\nbank.uic_credit_card_4.age,,,,N/A,N/A,,N/A,N/A,N/A,N/A,N/A,N/A,N/A,,,,,N/A,,,N/A,,,,,,null,,,,,,N/A,,,,,N/A,,,,,,,\\r\\nbank.uic_credit_card_4.pay_0,,,,N/A,N/A,,N/A,N/A,N/A,N/A,N/A,N/A,N/A,,,,,N/A,,,N/A,,,,,,null,,,,,,N/A,,,,,N/A,,,,,,,\\r\\nbank.uic_credit_card_4.pay_2,,,,N/A,N/A,,N/A,N/A,N/A,N/A,N/A,N/A,N/A,,,,,N/A,,,N/A,,,,,,null,,,,,,N/A,,,,,N/A,,,,,,,\\r\\nbank.uic_credit_card_4.pay_3,,,,N/A,N/A,,N/A,N/A,N/A,N/A,N/A,N/A,N/A,,,,,N/A,,,N/A,,,,,,null,,,,,,N/A,,,,,N/A,,,,,,,\\r\\nbank.uic_credit_card_4.pay_4,,,,N/A,N/A,,N/A,N/A,N/A,N/A,N/A,N/A,N/A,,,,,N/A,,,N/A,,,,,,null,,,,,,N/A,,,,,N/A,,,,,,,\\r\\nbank.uic_credit_card_4.pay_5,,,,N/A,N/A,,N/A,N/A,N/A,N/A,N/A,N/A,N/A,,,,,N/A,,,N/A,,,,,,null,,,,,,N/A,,,,,N/A,,,,,,,\\r\\nbank.uic_credit_card_4.pay_6,,,,N/A,N/A,,N/A,N/A,N/A,N/A,N/A,N/A,N/A,,,,,N/A,,,N/A,,,,,,null,,,,,,N/A,,,,,N/A,,,,,,,\\r\\nbank.uic_credit_card_4.bill_amt1,,,,N/A,N/A,,N/A,N/A,N/A,N/A,N/A,N/A,N/A,,,,,N/A,,,N/A,,,,,,null,,,,,,N/A,,,,,N/A,,,,,,,\\r\\nbank.uic_credit_card_4.bill_amt2,,,,N/A,N/A,,N/A,N/A,N/A,N/A,N/A,N/A,N/A,,,,,N/A,,,N/A,,,,,,null,,,,,,N/A,,,,,N/A,,,,,,,\\r\\nbank.uic_credit_card_4.bill_amt3,,,,N/A,N/A,,N/A,N/A,N/A,N/A,N/A,N/A,N/A,,,,,N/A,,,N/A,,,,,,null,,,,,,N/A,,,,,N/A,,,,,,,\\r\\nbank.uic_credit_card_4.bill_amt4,,,,N/A,N/A,,N/A,N/A,N/A,N/A,N/A,N/A,N/A,,,,,N/A,,,N/A,,,,,,null,,,,,,N/A,,,,,N/A,,,,,,,\\r\\nbank.uic_credit_card_4.bill_amt5,,,,N/A,N/A,,N/A,N/A,N/A,N/A,N/A,N/A,N/A,,,,,N/A,,,N/A,,,,,,null,,,,,,N/A,,,,,N/A,,,,,,,\\r\\nbank.uic_credit_card_4.bill_amt6,,,,N/A,N/A,,N/A,N/A,N/A,N/A,N/A,N/A,N/A,,,,,N/A,,,N/A,,,,,,null,,,,,,N/A,,,,,N/A,,,,,,,\\r\\nbank.uic_credit_card_4.pay_amt1,,,,N/A,N/A,,N/A,N/A,N/A,N/A,N/A,N/A,N/A,,,,,N/A,,,N/A,,,,,,null,,,,,,N/A,,,,,N/A,,,,,,,\\r\\nbank.uic_credit_card_4.pay_amt2,,,,N/A,N/A,,N/A,N/A,N/A,N/A,N/A,N/A,N/A,,,,,N/A,,,N/A,,,,,,null,,,,,,N/A,,,,,N/A,,,,,,,\\r\\nbank.uic_credit_card_4.pay_amt3,,,,N/A,N/A,,N/A,N/A,N/A,N/A,N/A,N/A,N/A,,,,,N/A,,,N/A,,,,,,null,,,,,,N/A,,,,,N/A,,,,,,,\\r\\nbank.uic_credit_card_4.pay_amt4,,,,N/A,N/A,,N/A,N/A,N/A,N/A,N/A,N/A,N/A,,,,,N/A,,,N/A,,,,,,null,,,,,,N/A,,,,,N/A,,,,,,,\\r\\nbank.uic_credit_card_4.pay_amt5,,,,N/A,N/A,,N/A,N/A,N/A,N/A,N/A,N/A,N/A,,,,,N/A,,,N/A,,,,,,null,,,,,,N/A,,,,,N/A,,,,,,,\\r\\nbank.uic_credit_card_4.pay_amt6,,,,N/A,N/A,,N/A,N/A,N/A,N/A,N/A,N/A,N/A,,,,,N/A,,,N/A,,,,,,null,,,,,,N/A,,,,,N/A,,,,,,,\\r\\nbank.uic_credit_card_4.default_payment_next_month,,,,N/A,N/A,,N/A,N/A,N/A,N/A,N/A,N/A,N/A,,,,,N/A,,,N/A,,,,,,null,,,,,,N/A,,,,,N/A,,,,,,,\\r\\nbank.uic_credit_data_2.id,,,,N/A,N/A,,N/A,N/A,N/A,N/A,N/A,N/A,N/A,,,,,N/A,,,N/A,,,,,,null,,,,,,N/A,,,,,N/A,,,,,,,\\r\\nbank.uic_credit_data_2.limit_bal,,,,N/A,N/A,,N/A,N/A,N/A,N/A,N/A,N/A,N/A,,,,,N/A,,,N/A,,,,,,null,,,,,,N/A,,,,,N/A,,,,,,,\\r\\nbank.uic_credit_data_2.sex,,,,N/A,N/A,,N/A,N/A,N/A,N/A,N/A,N/A,N/A,,,,,N/A,,,N/A,,,,,,null,,,,,,N/A,,,,,N/A,,,,,,,\\r\\nbank.uic_credit_data_2.education,,,,N/A,N/A,,N/A,N/A,N/A,N/A,N/A,N/A,N/A,,,,,N/A,,,N/A,,,,,,null,,,,,,N/A,,,,,N/A,,,,,,,\\r\\nbank.uic_credit_data_2.marriage,,,,N/A,N/A,,N/A,N/A,N/A,N/A,N/A,N/A,N/A,,,,,N/A,,,N/A,,,,,,null,,,,,,N/A,,,,,N/A,,,,,,,\\r\\nbank.uic_credit_data_2.age,,,,N/A,N/A,,N/A,N/A,N/A,N/A,N/A,N/A,N/A,,,,,N/A,,,N/A,,,,,,null,,,,,,N/A,,,,,N/A,,,,,,,\\r\\nbank.uic_credit_data_2.pay_0,,,,N/A,N/A,,N/A,N/A,N/A,N/A,N/A,N/A,N/A,,,,,N/A,,,N/A,,,,,,null,,,,,,N/A,,,,,N/A,,,,,,,\\r\\nbank.uic_credit_data_2.pay_2,,,,N/A,N/A,,N/A,N/A,N/A,N/A,N/A,N/A,N/A,,,,,N/A,,,N/A,,,,,,null,,,,,,N/A,,,,,N/A,,,,,,,\\r\\nbank.uic_credit_data_2.pay_3,,,,N/A,N/A,,N/A,N/A,N/A,N/A,N/A,N/A,N/A,,,,,N/A,,,N/A,,,,,,null,,,,,,N/A,,,,,N/A,,,,,,,\\r\\nbank.uic_credit_data_2.pay_4,,,,N/A,N/A,,N/A,N/A,N/A,N/A,N/A,N/A,N/A,,,,,N/A,,,N/A,,,,,,null,,,,,,N/A,,,,,N/A,,,,,,,\\r\\nbank.uic_credit_data_2.pay_5,,,,N/A,N/A,,N/A,N/A,N/A,N/A,N/A,N/A,N/A,,,,,N/A,,,N/A,,,,,,null,,,,,,N/A,,,,,N/A,,,,,,,\\r\\nbank.uic_credit_data_2.pay_6,,,,N/A,N/A,,N/A,N/A,N/A,N/A,N/A,N/A,N/A,,,,,N/A,,,N/A,,,,,,null,,,,,,N/A,,,,,N/A,,,,,,,\\r\\nbank.uic_credit_data_2.bill_amt1,,,,N/A,N/A,,N/A,N/A,N/A,N/A,N/A,N/A,N/A,,,,,N/A,,,N/A,,,,,,null,,,,,,N/A,,,,,N/A,,,,,,,\\r\\nbank.uic_credit_data_2.bill_amt2,,,,N/A,N/A,,N/A,N/A,N/A,N/A,N/A,N/A,N/A,,,,,N/A,,,N/A,,,,,,null,,,,,,N/A,,,,,N/A,,,,,,,\\r\\nbank.uic_credit_data_2.bill_amt3,,,,N/A,N/A,,N/A,N/A,N/A,N/A,N/A,N/A,N/A,,,,,N/A,,,N/A,,,,,,null,,,,,,N/A,,,,,N/A,,,,,,,\\r\\nbank.uic_credit_data_2.bill_amt4,,,,N/A,N/A,,N/A,N/A,N/A,N/A,N/A,N/A,N/A,,,,,N/A,,,N/A,,,,,,null,,,,,,N/A,,,,,N/A,,,,,,,\\r\\nbank.uic_credit_data_2.bill_amt5,,,,N/A,N/A,,N/A,N/A,N/A,N/A,N/A,N/A,N/A,,,,,N/A,,,N/A,,,,,,null,,,,,,N/A,,,,,N/A,,,,,,,\\r\\nbank.uic_credit_data_2.bill_amt6,,,,N/A,N/A,,N/A,N/A,N/A,N/A,N/A,N/A,N/A,,,,,N/A,,,N/A,,,,,,null,,,,,,N/A,,,,,N/A,,,,,,,\\r\\nbank.uic_credit_data_2.pay_amt1,,,,N/A,N/A,,N/A,N/A,N/A,N/A,N/A,N/A,N/A,,,,,N/A,,,N/A,,,,,,null,,,,,,N/A,,,,,N/A,,,,,,,\\r\\nbank.uic_credit_data_2.pay_amt2,,,,N/A,N/A,,N/A,N/A,N/A,N/A,N/A,N/A,N/A,,,,,N/A,,,N/A,,,,,,null,,,,,,N/A,,,,,N/A,,,,,,,\\r\\nbank.uic_credit_data_2.pay_amt3,,,,N/A,N/A,,N/A,N/A,N/A,N/A,N/A,N/A,N/A,,,,,N/A,,,N/A,,,,,,null,,,,,,N/A,,,,,N/A,,,,,,,\\r\\nbank.uic_credit_data_2.pay_amt4,,,,N/A,N/A,,N/A,N/A,N/A,N/A,N/A,N/A,N/A,,,,,N/A,,,N/A,,,,,,null,,,,,,N/A,,,,,N/A,,,,,,,\\r\\nbank.uic_credit_data_2.pay_amt5,,,,N/A,N/A,,N/A,N/A,N/A,N/A,N/A,N/A,N/A,,,,,N/A,,,N/A,,,,,,null,,,,,,N/A,,,,,N/A,,,,,,,\\r\\nbank.uic_credit_data_2.pay_amt6,,,,N/A,N/A,,N/A,N/A,N/A,N/A,N/A,N/A,N/A,,,,,N/A,,,N/A,,,,,,null,,,,,,N/A,,,,,N/A,,,,,,,\\r\\nbank.uic_credit_data_2.default_payment_next_month,,,,N/A,N/A,,N/A,N/A,N/A,N/A,N/A,N/A,N/A,,,,,N/A,,,N/A,,,,,,null,,,,,,N/A,,,,,N/A,,,,,,,\\r\\nbank.uic_credit_data_3.id,,,,N/A,N/A,,N/A,N/A,N/A,N/A,N/A,N/A,N/A,,,,,N/A,,,N/A,,,,,,null,,,,,,N/A,,,,,N/A,,,,,,,\\r\\nbank.uic_credit_data_3.limit_bal,,,,N/A,N/A,,N/A,N/A,N/A,N/A,N/A,N/A,N/A,,,,,N/A,,,N/A,,,,,,null,,,,,,N/A,,,,,N/A,,,,,,,\\r\\nbank.uic_credit_data_3.sex,,,,N/A,N/A,,N/A,N/A,N/A,N/A,N/A,N/A,N/A,,,,,N/A,,,N/A,,,,,,null,,,,,,N/A,,,,,N/A,,,,,,,\\r\\nbank.uic_credit_data_3.education,,,,N/A,N/A,,N/A,N/A,N/A,N/A,N/A,N/A,N/A,,,,,N/A,,,N/A,,,,,,null,,,,,,N/A,,,,,N/A,,,,,,,\\r\\nbank.uic_credit_data_3.marriage,,,,N/A,N/A,,N/A,N/A,N/A,N/A,N/A,N/A,N/A,,,,,N/A,,,N/A,,,,,,null,,,,,,N/A,,,,,N/A,,,,,,,\\r\\nbank.uic_credit_data_3.age,,,,N/A,N/A,,N/A,N/A,N/A,N/A,N/A,N/A,N/A,,,,,N/A,,,N/A,,,,,,null,,,,,,N/A,,,,,N/A,,,,,,,\\r\\nbank.uic_credit_data_3.pay_0,,,,N/A,N/A,,N/A,N/A,N/A,N/A,N/A,N/A,N/A,,,,,N/A,,,N/A,,,,,,null,,,,,,N/A,,,,,N/A,,,,,,,\\r\\nbank.uic_credit_data_3.pay_2,,,,N/A,N/A,,N/A,N/A,N/A,N/A,N/A,N/A,N/A,,,,,N/A,,,N/A,,,,,,null,,,,,,N/A,,,,,N/A,,,,,,,\\r\\nbank.uic_credit_data_3.pay_3,,,,N/A,N/A,,N/A,N/A,N/A,N/A,N/A,N/A,N/A,,,,,N/A,,,N/A,,,,,,null,,,,,,N/A,,,,,N/A,,,,,,,\\r\\nbank.uic_credit_data_3.pay_4,,,,N/A,N/A,,N/A,N/A,N/A,N/A,N/A,N/A,N/A,,,,,N/A,,,N/A,,,,,,null,,,,,,N/A,,,,,N/A,,,,,,,\\r\\nbank.uic_credit_data_3.pay_5,,,,N/A,N/A,,N/A,N/A,N/A,N/A,N/A,N/A,N/A,,,,,N/A,,,N/A,,,,,,null,,,,,,N/A,,,,,N/A,,,,,,,\\r\\nbank.uic_credit_data_3.pay_6,,,,N/A,N/A,,N/A,N/A,N/A,N/A,N/A,N/A,N/A,,,,,N/A,,,N/A,,,,,,null,,,,,,N/A,,,,,N/A,,,,,,,\\r\\nbank.uic_credit_data_3.bill_amt1,,,,N/A,N/A,,N/A,N/A,N/A,N/A,N/A,N/A,N/A,,,,,N/A,,,N/A,,,,,,null,,,,,,N/A,,,,,N/A,,,,,,,\\r\\nbank.uic_credit_data_3.bill_amt2,,,,N/A,N/A,,N/A,N/A,N/A,N/A,N/A,N/A,N/A,,,,,N/A,,,N/A,,,,,,null,,,,,,N/A,,,,,N/A,,,,,,,\\r\\nbank.uic_credit_data_3.bill_amt3,,,,N/A,N/A,,N/A,N/A,N/A,N/A,N/A,N/A,N/A,,,,,N/A,,,N/A,,,,,,null,,,,,,N/A,,,,,N/A,,,,,,,\\r\\nbank.uic_credit_data_3.bill_amt4,,,,N/A,N/A,,N/A,N/A,N/A,N/A,N/A,N/A,N/A,,,,,N/A,,,N/A,,,,,,null,,,,,,N/A,,,,,N/A,,,,,,,\\r\\nbank.uic_credit_data_3.bill_amt5,,,,N/A,N/A,,N/A,N/A,N/A,N/A,N/A,N/A,N/A,,,,,N/A,,,N/A,,,,,,null,,,,,,N/A,,,,,N/A,,,,,,,\\r\\nbank.uic_credit_data_3.bill_amt6,,,,N/A,N/A,,N/A,N/A,N/A,N/A,N/A,N/A,N/A,,,,,N/A,,,N/A,,,,,,null,,,,,,N/A,,,,,N/A,,,,,,,\\r\\nbank.uic_credit_data_3.pay_amt1,,,,N/A,N/A,,N/A,N/A,N/A,N/A,N/A,N/A,N/A,,,,,N/A,,,N/A,,,,,,null,,,,,,N/A,,,,,N/A,,,,,,,\\r\\nbank.uic_credit_data_3.pay_amt2,,,,N/A,N/A,,N/A,N/A,N/A,N/A,N/A,N/A,N/A,,,,,N/A,,,N/A,,,,,,null,,,,,,N/A,,,,,N/A,,,,,,,\\r\\nbank.uic_credit_data_3.pay_amt3,,,,N/A,N/A,,N/A,N/A,N/A,N/A,N/A,N/A,N/A,,,,,N/A,,,N/A,,,,,,null,,,,,,N/A,,,,,N/A,,,,,,,\\r\\nbank.uic_credit_data_3.pay_amt4,,,,N/A,N/A,,N/A,N/A,N/A,N/A,N/A,N/A,N/A,,,,,N/A,,,N/A,,,,,,null,,,,,,N/A,,,,,N/A,,,,,,,\\r\\nbank.uic_credit_data_3.pay_amt5,,,,N/A,N/A,,N/A,N/A,N/A,N/A,N/A,N/A,N/A,,,,,N/A,,,N/A,,,,,,null,,,,,,N/A,,,,,N/A,,,,,,,\\r\\nbank.uic_credit_data_3.pay_amt6,,,,N/A,N/A,,N/A,N/A,N/A,N/A,N/A,N/A,N/A,,,,,N/A,,,N/A,,,,,,null,,,,,,N/A,,,,,N/A,,,,,,,\\r\\nbank.uic_credit_data_3.default_payment_next_month,,,,N/A,N/A,,N/A,N/A,N/A,N/A,N/A,N/A,N/A,,,,,N/A,,,N/A,,,,,,null,,,,,,N/A,,,,,N/A,,,,,,,\\r\\nbank.account_detail.custid,,,,N/A,N/A,,N/A,N/A,N/A,N/A,N/A,N/A,N/A,,,,,N/A,,,N/A,,,,,,null,,,,,,N/A,,,,,N/A,,,,,,,\\r\\nbank.account_detail.firstname,,,,N/A,N/A,,N/A,N/A,N/A,N/A,N/A,N/A,N/A,,,,,N/A,,,N/A,,,,,,null,,,,,,N/A,,,,,N/A,,,,,,,\\r\\nbank.account_detail.lastname,,,,N/A,N/A,,N/A,N/A,N/A,N/A,N/A,N/A,N/A,,,,,N/A,,,N/A,,,,,,null,,,,,,N/A,,,,,N/A,,,,,,,\\r\\nbank.account_detail.city,,,,N/A,N/A,,N/A,N/A,N/A,N/A,N/A,N/A,N/A,,,,,N/A,,,N/A,,,,,,null,,,,,,N/A,,,,,N/A,,,,,,,\\r\\nbank.account_detail.state,,,,N/A,N/A,,N/A,N/A,N/A,N/A,N/A,N/A,N/A,,,,,N/A,,,N/A,,,,,,null,,,,,,N/A,,,,,N/A,,,,,,,\\r\\nbank.account_detail.acount_number,,,,N/A,N/A,,N/A,N/A,N/A,N/A,N/A,N/A,N/A,,,,,N/A,,,N/A,,,,,,null,,,,,,N/A,,,,,N/A,,,,,,,\\r\\nbank.account_detail.account_balance,,,,N/A,N/A,,N/A,N/A,N/A,N/A,N/A,N/A,N/A,,,,,N/A,,,N/A,,,,,,null,,,,,,N/A,,,,,N/A,,,,,,,\\r\\nbank.account_detail.cosigner,,,,N/A,N/A,,N/A,N/A,N/A,N/A,N/A,N/A,N/A,,,,,N/A,,,N/A,,,,,,null,,,,,,N/A,,,,,N/A,,,,,,,\\r\\nbank.account_detail.flag1,,,,N/A,N/A,,N/A,N/A,N/A,N/A,N/A,N/A,N/A,,,,,N/A,,,N/A,,,,,,null,,,,,,N/A,,,,,N/A,,,,,,,\\r\\nbank.account_detail.flag2,,,,N/A,N/A,,N/A,N/A,N/A,N/A,N/A,N/A,N/A,,,,,N/A,,,N/A,,,,,,null,,,,,,N/A,,,,,N/A,,,,,,,\\r\\nbank.account_detail.flag3,,,,N/A,N/A,,N/A,N/A,N/A,N/A,N/A,N/A,N/A,,,,,N/A,,,N/A,,,,,,null,,,,,,N/A,,,,,N/A,,,,,,,\\r\\nbank.account_detail.flag4,,,,N/A,N/A,,N/A,N/A,N/A,N/A,N/A,N/A,N/A,,,,,N/A,,,N/A,,,,,,null,,,,,,N/A,,,,,N/A,,,,,,,\\r\\nbank.account_detail.flag5,,,,N/A,N/A,,N/A,N/A,N/A,N/A,N/A,N/A,N/A,,,,,N/A,,,N/A,,,,,,null,,,,,,N/A,,,,,N/A,,,,,,,\\r\\nbank.account_detail.flag6,,,,N/A,N/A,,N/A,N/A,N/A,N/A,N/A,N/A,N/A,,,,,N/A,,,N/A,,,,,,null,,,,,,N/A,,,,,N/A,,,,,,,\\r\\nbank.account_detail.flag7,,,,N/A,N/A,,N/A,N/A,N/A,N/A,N/A,N/A,N/A,,,,,N/A,,,N/A,,,,,,null,,,,,,N/A,,,,,N/A,,,,,,,\\r\\nbank.account_detail.flag8,,,,N/A,N/A,,N/A,N/A,N/A,N/A,N/A,N/A,N/A,,,,,N/A,,,N/A,,,,,,null,,,,,,N/A,,,,,N/A,,,,,,,\\r\\nbank.account_detail.flag9,,,,N/A,N/A,,N/A,N/A,N/A,N/A,N/A,N/A,N/A,,,,,N/A,,,N/A,,,,,,null,,,,,,N/A,,,,,N/A,,,,,,,\\r\\nbank.account_detail.flag10,,,,N/A,N/A,,N/A,N/A,N/A,N/A,N/A,N/A,N/A,,,,,N/A,,,N/A,,,,,,null,,,,,,N/A,,,,,N/A,,,,,,,\\r\\nbank.account_detail.flag11,,,,N/A,N/A,,N/A,N/A,N/A,N/A,N/A,N/A,N/A,,,,,N/A,,,N/A,,,,,,null,,,,,,N/A,,,,,N/A,,,,,,,\\r\\nbank.account_detail.flag12,,,,N/A,N/A,,N/A,N/A,N/A,N/A,N/A,N/A,N/A,,,,,N/A,,,N/A,,,,,,null,,,,,,N/A,,,,,N/A,,,,,,,\\r\\nbank.account_detail.flag13,,,,N/A,N/A,,N/A,N/A,N/A,N/A,N/A,N/A,N/A,,,,,N/A,,,N/A,,,,,,null,,,,,,N/A,,,,,N/A,,,,,,,\\r\\nbank.account_detail.flag14,,,,N/A,N/A,,N/A,N/A,N/A,N/A,N/A,N/A,N/A,,,,,N/A,,,N/A,,,,,,null,,,,,,N/A,,,,,N/A,,,,,,,\\r\\nbank.account_detail.flag15,,,,N/A,N/A,,N/A,N/A,N/A,N/A,N/A,N/A,N/A,,,,,N/A,,,N/A,,,,,,null,,,,,,N/A,,,,,N/A,,,,,,,\\r\\nbank.account_detail.flag16,,,,N/A,N/A,,N/A,N/A,N/A,N/A,N/A,N/A,N/A,,,,,N/A,,,N/A,,,,,,null,,,,,,N/A,,,,,N/A,,,,,,,\\r\\nbank.account_detail.flag17,,,,N/A,N/A,,N/A,N/A,N/A,N/A,N/A,N/A,N/A,,,,,N/A,,,N/A,,,,,,null,,,,,,N/A,,,,,N/A,,,,,,,\\r\\nbank.account_detail.flag18,,,,N/A,N/A,,N/A,N/A,N/A,N/A,N/A,N/A,N/A,,,,,N/A,,,N/A,,,,,,null,,,,,,N/A,,,,,N/A,,,,,,,\\r\\nbank.account_detail.flag19,,,,N/A,N/A,,N/A,N/A,N/A,N/A,N/A,N/A,N/A,,,,,N/A,,,N/A,,,,,,null,,,,,,N/A,,,,,N/A,,,,,,,\\r\\nbank.account_detail.flag20,,,,N/A,N/A,,N/A,N/A,N/A,N/A,N/A,N/A,N/A,,,,,N/A,,,N/A,,,,,,null,,,,,,N/A,,,,,N/A,,,,,,,\\r\\nbank.account_detail.flag21,,,,N/A,N/A,,N/A,N/A,N/A,N/A,N/A,N/A,N/A,,,,,N/A,,,N/A,,,,,,null,,,,,,N/A,,,,,N/A,,,,,,,\\r\\nbank.account_detail.flag22,,,,N/A,N/A,,N/A,N/A,N/A,N/A,N/A,N/A,N/A,,,,,N/A,,,N/A,,,,,,null,,,,,,N/A,,,,,N/A,,,,,,,\\r\\nbank.account_detail.flag23,,,,N/A,N/A,,N/A,N/A,N/A,N/A,N/A,N/A,N/A,,,,,N/A,,,N/A,,,,,,null,,,,,,N/A,,,,,N/A,,,,,,,\\r\\nbank.account_detail.flag24,,,,N/A,N/A,,N/A,N/A,N/A,N/A,N/A,N/A,N/A,,,,,N/A,,,N/A,,,,,,null,,,,,,N/A,,,,,N/A,,,,,,,\\r\\nbank.account_detail.flag25,,,,N/A,N/A,,N/A,N/A,N/A,N/A,N/A,N/A,N/A,,,,,N/A,,,N/A,,,,,,null,,,,,,N/A,,,,,N/A,,,,,,,\\r\\nbank.account_detail.flag26,,,,N/A,N/A,,N/A,N/A,N/A,N/A,N/A,N/A,N/A,,,,,N/A,,,N/A,,,,,,null,,,,,,N/A,,,,,N/A,,,,,,,\\r\\nbank.account_detail.flag27,,,,N/A,N/A,,N/A,N/A,N/A,N/A,N/A,N/A,N/A,,,,,N/A,,,N/A,,,,,,null,,,,,,N/A,,,,,N/A,,,,,,,\\r\\nbank.account_detail.flag28,,,,N/A,N/A,,N/A,N/A,N/A,N/A,N/A,N/A,N/A,,,,,N/A,,,N/A,,,,,,null,,,,,,N/A,,,,,N/A,,,,,,,\\r\\nbank.account_detail.flag29,,,,N/A,N/A,,N/A,N/A,N/A,N/A,N/A,N/A,N/A,,,,,N/A,,,N/A,,,,,,null,,,,,,N/A,,,,,N/A,,,,,,,\\r\\nbank.account_detail.flag30,,,,N/A,N/A,,N/A,N/A,N/A,N/A,N/A,N/A,N/A,,,,,N/A,,,N/A,,,,,,null,,,,,,N/A,,,,,N/A,,,,,,,\\r\\nbank.account_detail.flag31,,,,N/A,N/A,,N/A,N/A,N/A,N/A,N/A,N/A,N/A,,,,,N/A,,,N/A,,,,,,null,,,,,,N/A,,,,,N/A,,,,,,,\\r\\nbank.account_detail.flag32,,,,N/A,N/A,,N/A,N/A,N/A,N/A,N/A,N/A,N/A,,,,,N/A,,,N/A,,,,,,null,,,,,,N/A,,,,,N/A,,,,,,,\\r\\nbank.account_detail.flag33,,,,N/A,N/A,,N/A,N/A,N/A,N/A,N/A,N/A,N/A,,,,,N/A,,,N/A,,,,,,null,,,,,,N/A,,,,,N/A,,,,,,,\\r\\nbank.account_detail.flag34,,,,N/A,N/A,,N/A,N/A,N/A,N/A,N/A,N/A,N/A,,,,,N/A,,,N/A,,,,,,null,,,,,,N/A,,,,,N/A,,,,,,,\\r\\nbank.account_detail.flag35,,,,N/A,N/A,,N/A,N/A,N/A,N/A,N/A,N/A,N/A,,,,,N/A,,,N/A,,,,,,null,,,,,,N/A,,,,,N/A,,,,,,,\\r\\nbank.account_detail.flag36,,,,N/A,N/A,,N/A,N/A,N/A,N/A,N/A,N/A,N/A,,,,,N/A,,,N/A,,,,,,null,,,,,,N/A,,,,,N/A,,,,,,,\\r\\nbank.account_detail.flag37,,,,N/A,N/A,,N/A,N/A,N/A,N/A,N/A,N/A,N/A,,,,,N/A,,,N/A,,,,,,null,,,,,,N/A,,,,,N/A,,,,,,,\\r\\nbank.account_detail.flag38,,,,N/A,N/A,,N/A,N/A,N/A,N/A,N/A,N/A,N/A,,,,,N/A,,,N/A,,,,,,null,,,,,,N/A,,,,,N/A,,,,,,,\\r\\nbank.account_detail.flag39,,,,N/A,N/A,,N/A,N/A,N/A,N/A,N/A,N/A,N/A,,,,,N/A,,,N/A,,,,,,null,,,,,,N/A,,,,,N/A,,,,,,,\\r\\nbank.account_detail.flag40,,,,N/A,N/A,,N/A,N/A,N/A,N/A,N/A,N/A,N/A,,,,,N/A,,,N/A,,,,,,null,,,,,,N/A,,,,,N/A,,,,,,,\\r\\nbank.account_detail.flag41,,,,N/A,N/A,,N/A,N/A,N/A,N/A,N/A,N/A,N/A,,,,,N/A,,,N/A,,,,,,null,,,,,,N/A,,,,,N/A,,,,,,,\\r\\nbank.account_detail.flag42,,,,N/A,N/A,,N/A,N/A,N/A,N/A,N/A,N/A,N/A,,,,,N/A,,,N/A,,,,,,null,,,,,,N/A,,,,,N/A,,,,,,,\\r\\nbank.account_detail.flag43,,,,N/A,N/A,,N/A,N/A,N/A,N/A,N/A,N/A,N/A,,,,,N/A,,,N/A,,,,,,null,,,,,,N/A,,,,,N/A,,,,,,,\\r\\nbank.account_detail.flag44,,,,N/A,N/A,,N/A,N/A,N/A,N/A,N/A,N/A,N/A,,,,,N/A,,,N/A,,,,,,null,,,,,,N/A,,,,,N/A,,,,,,,\\r\\nbank.account_detail.flag45,,,,N/A,N/A,,N/A,N/A,N/A,N/A,N/A,N/A,N/A,,,,,N/A,,,N/A,,,,,,null,,,,,,N/A,,,,,N/A,,,,,,,\\r\\nbank.account_detail.flag46,,,,N/A,N/A,,N/A,N/A,N/A,N/A,N/A,N/A,N/A,,,,,N/A,,,N/A,,,,,,null,,,,,,N/A,,,,,N/A,,,,,,,\\r\\nbank.account_detail.flag47,,,,N/A,N/A,,N/A,N/A,N/A,N/A,N/A,N/A,N/A,,,,,N/A,,,N/A,,,,,,null,,,,,,N/A,,,,,N/A,,,,,,,\\r\\nbank.account_detail.flag48,,,,N/A,N/A,,N/A,N/A,N/A,N/A,N/A,N/A,N/A,,,,,N/A,,,N/A,,,,,,null,,,,,,N/A,,,,,N/A,,,,,,,\\r\\nbank.account_detail.flag49,,,,N/A,N/A,,N/A,N/A,N/A,N/A,N/A,N/A,N/A,,,,,N/A,,,N/A,,,,,,null,,,,,,N/A,,,,,N/A,,,,,,,\\r\\nbank.account_detail.flag50,,,,N/A,N/A,,N/A,N/A,N/A,N/A,N/A,N/A,N/A,,,,,N/A,,,N/A,,,,,,null,,,,,,N/A,,,,,N/A,,,,,,,\\r\\nbank.account_detail.flag51,,,,N/A,N/A,,N/A,N/A,N/A,N/A,N/A,N/A,N/A,,,,,N/A,,,N/A,,,,,,null,,,,,,N/A,,,,,N/A,,,,,,,\\r\\nbank.account_detail.flag52,,,,N/A,N/A,,N/A,N/A,N/A,N/A,N/A,N/A,N/A,,,,,N/A,,,N/A,,,,,,null,,,,,,N/A,,,,,N/A,,,,,,,\\r\\nbank.account_detail.flag53,,,,N/A,N/A,,N/A,N/A,N/A,N/A,N/A,N/A,N/A,,,,,N/A,,,N/A,,,,,,null,,,,,,N/A,,,,,N/A,,,,,,,\\r\\nbank.account_detail.flag54,,,,N/A,N/A,,N/A,N/A,N/A,N/A,N/A,N/A,N/A,,,,,N/A,,,N/A,,,,,,null,,,,,,N/A,,,,,N/A,,,,,,,\\r\\nbank.account_detail.flag55,,,,N/A,N/A,,N/A,N/A,N/A,N/A,N/A,N/A,N/A,,,,,N/A,,,N/A,,,,,,null,,,,,,N/A,,,,,N/A,,,,,,,\\r\\nbank.account_detail.flag56,,,,N/A,N/A,,N/A,N/A,N/A,N/A,N/A,N/A,N/A,,,,,N/A,,,N/A,,,,,,null,,,,,,N/A,,,,,N/A,,,,,,,\\r\\nbank.account_detail.flag57,,,,N/A,N/A,,N/A,N/A,N/A,N/A,N/A,N/A,N/A,,,,,N/A,,,N/A,,,,,,null,,,,,,N/A,,,,,N/A,,,,,,,\\r\\nbank.account_detail.flag58,,,,N/A,N/A,,N/A,N/A,N/A,N/A,N/A,N/A,N/A,,,,,N/A,,,N/A,,,,,,null,,,,,,N/A,,,,,N/A,,,,,,,\\r\\nbank.account_detail.flag59,,,,N/A,N/A,,N/A,N/A,N/A,N/A,N/A,N/A,N/A,,,,,N/A,,,N/A,,,,,,null,,,,,,N/A,,,,,N/A,,,,,,,\\r\\nbank.bank_customer.custid,,,,N/A,N/A,,N/A,N/A,N/A,N/A,N/A,N/A,N/A,,,,,N/A,,,N/A,,,,,,null,,,,,,N/A,,,,,N/A,,,,,,,\\r\\nbank.bank_customer.name,,,,N/A,N/A,,N/A,N/A,N/A,N/A,N/A,N/A,N/A,,,,,N/A,,,N/A,,,,,,null,,,,,,N/A,,,,,N/A,,,,,,,\\r\\nbank.bank_customer.email,,,,N/A,N/A,,N/A,N/A,N/A,N/A,N/A,N/A,N/A,,,,,N/A,,,N/A,,,,,,null,,,,,,N/A,,,,,N/A,,,,,,,\\r\\nbank.bank_customer.state,,,,N/A,N/A,,N/A,N/A,N/A,N/A,N/A,N/A,N/A,,,,,N/A,,,N/A,,,,,,null,,,,,,N/A,,,,,N/A,,,,,,,\\r\\nbank.bank_customer.acct_num,,,,N/A,N/A,,N/A,N/A,N/A,N/A,N/A,N/A,N/A,,,,,N/A,,,N/A,,,,,,null,,,,,,N/A,,,,,N/A,,,,,,,\\r\\nbank.customer.custid,,,,N/A,N/A,,N/A,N/A,N/A,N/A,N/A,N/A,N/A,,,,,N/A,,,N/A,,,,,,null,,,,,,N/A,,,,,N/A,,,,,,,\\r\\nbank.customer.firstname,,,,N/A,N/A,,N/A,N/A,N/A,N/A,N/A,N/A,N/A,,,,,N/A,,,N/A,,,,,,null,,,,,,N/A,,,,,N/A,,,,,,,\\r\\nbank.customer.lastname,,,,N/A,N/A,,N/A,N/A,N/A,N/A,N/A,N/A,N/A,,,,,N/A,,,N/A,,,,,,null,,,,,,N/A,,,,,N/A,,,,,,,\\r\\nbank.customer.city,,,,N/A,N/A,,N/A,N/A,N/A,N/A,N/A,N/A,N/A,,,,,N/A,,,N/A,,,,,,null,,,,,,N/A,,,,,N/A,,,,,,,\\r\\nbank.customer.state,,,,N/A,N/A,,N/A,N/A,N/A,N/A,N/A,N/A,N/A,,,,,N/A,,,N/A,,,,,,null,,,,,,N/A,,,,,N/A,,,,,,,\\r\\nbank.customer.acount_number,,,,N/A,N/A,,N/A,N/A,N/A,N/A,N/A,N/A,N/A,,,,,N/A,,,N/A,,,,,,null,,,,,,N/A,,,,,N/A,,,,,,,\\r\\nbank.trade_trxn.trader,,,,N/A,N/A,,N/A,N/A,N/A,N/A,N/A,N/A,N/A,,,,,N/A,,,N/A,,,,,,null,,,,,,N/A,,,,,N/A,,,,,,,\\r\\nbank.customer_accounts.acount_number,,,,N/A,N/A,,N/A,N/A,N/A,N/A,N/A,N/A,N/A,,,,,N/A,,,N/A,,,,,,null,,,,,,N/A,,,,,N/A,,,,,,,\\r\\nbank.customer_accounts.firstname,,,,N/A,N/A,,N/A,N/A,N/A,N/A,N/A,N/A,N/A,,,,,N/A,,,N/A,,,,,,null,,,,,,N/A,,,,,N/A,,,,,,,\\r\\nbank.customer_accounts.lastname,,,,N/A,N/A,,N/A,N/A,N/A,N/A,N/A,N/A,N/A,,,,,N/A,,,N/A,,,,,,null,,,,,,N/A,,,,,N/A,,,,,,,\\r\\nbank.customer_accounts.email,,,,N/A,N/A,,N/A,N/A,N/A,N/A,N/A,N/A,N/A,,,,,N/A,,,N/A,,,,,,null,,,,,,N/A,,,,,N/A,,,,,,,\\r\\nbank.customer_accounts.multiple_accounts,,,,N/A,N/A,,N/A,N/A,N/A,N/A,N/A,N/A,N/A,,,,,N/A,,,N/A,,,,,,null,,,,,,N/A,,,,,N/A,,,,,,,\\r\\nbank.dist_tradetype.tradetype,,,,N/A,N/A,,N/A,N/A,N/A,N/A,N/A,N/A,N/A,,,,,N/A,,,N/A,,,,,,null,,,,,,N/A,,,,,N/A,,,,,,,\\r\\nbank.dist_tradetype.num,,,,N/A,N/A,,N/A,N/A,N/A,N/A,N/A,N/A,N/A,,,,,N/A,,,N/A,,,,,,null,,,,,,N/A,,,,,N/A,,,,,,,\\r\\nbank.profile_stats.count(*),,,,N/A,N/A,,N/A,N/A,N/A,N/A,N/A,N/A,N/A,,,,,N/A,,,N/A,,,,,,null,,,,,,N/A,,,,,N/A,,,,,,,\\r\\nbank.trade_rms.systemid,,,,N/A,N/A,,N/A,N/A,N/A,N/A,N/A,N/A,N/A,,,,,N/A,,,N/A,,,,,,null,,,,,,N/A,,,,,N/A,,,,,,,\\r\\nbank.trade_rms.version,,,,N/A,N/A,,N/A,N/A,N/A,N/A,N/A,N/A,N/A,,,,,N/A,,,N/A,,,,,,null,,,,,,N/A,,,,,N/A,,,,,,,\\r\\nbank.trade_rms.latestversionyn,,,,N/A,N/A,,N/A,N/A,N/A,N/A,N/A,N/A,N/A,,,,,N/A,,,N/A,,,,,,null,,,,,,N/A,,,,,N/A,,,,,,,\\r\\nbank.trade_rms.status,,,,N/A,N/A,,N/A,N/A,N/A,N/A,N/A,N/A,N/A,,,,,N/A,,,N/A,,,,,,null,,,,,,N/A,,,,,N/A,,,,,,,\\r\\nbank.trade_rms.electedsettlementsystem,,,,N/A,N/A,,N/A,N/A,N/A,N/A,N/A,N/A,N/A,,,,,N/A,,,N/A,,,,,,null,,,,,,N/A,,,,,N/A,,,,,,,\\r\\nbank.trade_rms.electedconfirmationsystem,,,,N/A,N/A,,N/A,N/A,N/A,N/A,N/A,N/A,N/A,,,,,N/A,,,N/A,,,,,,null,,,,,,N/A,,,,,N/A,,,,,,,\\r\\nbank.trade_rms.tradedate,,,,N/A,N/A,,N/A,N/A,N/A,N/A,N/A,N/A,N/A,,,,,N/A,,,N/A,,,,,,null,,,,,,N/A,,,,,N/A,,,,,,,\\r\\nbank.trade_rms.book,,,,N/A,N/A,,N/A,N/A,N/A,N/A,N/A,N/A,N/A,,,,,N/A,,,N/A,,,,,,null,,,,,,N/A,,,,,N/A,,,,,,,\\r\\nbank.trade_rms.tradetype,,,,N/A,N/A,,N/A,N/A,N/A,N/A,N/A,N/A,N/A,,,,,N/A,,,N/A,,,,,,null,,,,,,N/A,,,,,N/A,,,,,,,\\r\\nbank.trade_rms.lastupdated,,,,N/A,N/A,,N/A,N/A,N/A,N/A,N/A,N/A,N/A,,,,,N/A,,,N/A,,,,,,null,,,,,,N/A,,,,,N/A,,,,,,,\\r\\nbank.trade_rms.enteredby,,,,N/A,N/A,,N/A,N/A,N/A,N/A,N/A,N/A,N/A,,,,,N/A,,,N/A,,,,,,null,,,,,,N/A,,,,,N/A,,,,,,,\\r\\nbank.trade_rms.action,,,,N/A,N/A,,N/A,N/A,N/A,N/A,N/A,N/A,N/A,,,,,N/A,,,N/A,,,,,,null,,,,,,N/A,,,,,N/A,,,,,,,\\r\\nbank.trade_rms.counterparty,,,,N/A,N/A,,N/A,N/A,N/A,N/A,N/A,N/A,N/A,,,,,N/A,,,N/A,,,,,,null,,,,,,N/A,,,,,N/A,,,,,,,\\r\\nbank.trade_rms.counterpartysourcesystem,,,,N/A,N/A,,N/A,N/A,N/A,N/A,N/A,N/A,N/A,,,,,N/A,,,N/A,,,,,,null,,,,,,N/A,,,,,N/A,,,,,,,\\r\\nbank.trade_rms.datecreated,,,,N/A,N/A,,N/A,N/A,N/A,N/A,N/A,N/A,N/A,,,,,N/A,,,N/A,,,,,,null,,,,,,N/A,,,,,N/A,,,,,,,\\r\\nbank.trade_rms.createdby,,,,N/A,N/A,,N/A,N/A,N/A,N/A,N/A,N/A,N/A,,,,,N/A,,,N/A,,,,,,null,,,,,,N/A,,,,,N/A,,,,,,,\\r\\nbank.trade_rms.tradeid,,,,N/A,N/A,,N/A,N/A,N/A,N/A,N/A,N/A,N/A,,,,,N/A,,,N/A,,,,,,null,,,,,,N/A,,,,,N/A,,,,,,,\\r\\nbank.trade_rms.undercurrency,,,,N/A,N/A,,N/A,N/A,N/A,N/A,N/A,N/A,N/A,,,,,N/A,,,N/A,,,,,,null,,,,,,N/A,,,,,N/A,,,,,,,\\r\\nbank.trade_rms.acccurrency,,,,N/A,N/A,,N/A,N/A,N/A,N/A,N/A,N/A,N/A,,,,,N/A,,,N/A,,,,,,null,,,,,,N/A,,,,,N/A,,,,,,,\\r\\nbank.trade_rms.notional,,,,N/A,N/A,,N/A,N/A,N/A,N/A,N/A,N/A,N/A,,,,,N/A,,,N/A,,,,,,null,,,,,,N/A,,,,,N/A,,,,,,,\\r\\nbank.trade_rms.accnotional,,,,N/A,N/A,,N/A,N/A,N/A,N/A,N/A,N/A,N/A,,,,,N/A,,,N/A,,,,,,null,,,,,,N/A,,,,,N/A,,,,,,,\\r\\nbank.trade_rms.strike,,,,N/A,N/A,,N/A,N/A,N/A,N/A,N/A,N/A,N/A,,,,,N/A,,,N/A,,,,,,null,,,,,,N/A,,,,,N/A,,,,,,,\\r\\nbank.trade_rms.settlementdate,,,,N/A,N/A,,N/A,N/A,N/A,N/A,N/A,N/A,N/A,,,,,N/A,,,N/A,,,,,,null,,,,,,N/A,,,,,N/A,,,,,,,\\r\\nbank.trade_rms.fixing,,,,N/A,N/A,,N/A,N/A,N/A,N/A,N/A,N/A,N/A,,,,,N/A,,,N/A,,,,,,null,,,,,,N/A,,,,,N/A,,,,,,,\\r\\nbank.trade_rms.fixingdate,,,,N/A,N/A,,N/A,N/A,N/A,N/A,N/A,N/A,N/A,,,,,N/A,,,N/A,,,,,,null,,,,,,N/A,,,,,N/A,,,,,,,\\r\\nbank.trade_rms.fixingreference,,,,N/A,N/A,,N/A,N/A,N/A,N/A,N/A,N/A,N/A,,,,,N/A,,,N/A,,,,,,null,,,,,,N/A,,,,,N/A,,,,,,,\\r\\nbank.trade_rms.sourcesystem,,,,N/A,N/A,,N/A,N/A,N/A,N/A,N/A,N/A,N/A,,,,,N/A,,,N/A,,,,,,null,,,,,,N/A,,,,,N/A,,,,,,,\\r\\nbank.trade_rms.blotter,,,,N/A,N/A,,N/A,N/A,N/A,N/A,N/A,N/A,N/A,,,,,N/A,,,N/A,,,,,,null,,,,,,N/A,,,,,N/A,,,,,,,\\r\\nbank.trade_rms.counterpartyname,,,,N/A,N/A,,N/A,N/A,N/A,N/A,N/A,N/A,N/A,,,,,N/A,,,N/A,,,,,,null,,,,,,N/A,,,,,N/A,,,,,,,\\r\\nbank.trade_rms.dbicounterpartyid,,,,N/A,N/A,,N/A,N/A,N/A,N/A,N/A,N/A,N/A,,,,,N/A,,,N/A,,,,,,null,,,,,,N/A,,,,,N/A,,,,,,,\\r\\nbank.trade_rms.customer,,,,N/A,N/A,,N/A,N/A,N/A,N/A,N/A,N/A,N/A,,,,,N/A,,,N/A,,,,,,null,,,,,,N/A,,,,,N/A,,,,,,,\\r\\nbank.trade_rms.customersourcesystem,,,,N/A,N/A,,N/A,N/A,N/A,N/A,N/A,N/A,N/A,,,,,N/A,,,N/A,,,,,,null,,,,,,N/A,,,,,N/A,,,,,,,\\r\\nbank.trade_rms.dominantnotional,,,,N/A,N/A,,N/A,N/A,N/A,N/A,N/A,N/A,N/A,,,,,N/A,,,N/A,,,,,,null,,,,,,N/A,,,,,N/A,,,,,,,\\r\\nbank.trade_rms.strikeasentered,,,,N/A,N/A,,N/A,N/A,N/A,N/A,N/A,N/A,N/A,,,,,N/A,,,N/A,,,,,,null,,,,,,N/A,,,,,N/A,,,,,,,\\r\\nbank.trade_rms.striketermsasentered,,,,N/A,N/A,,N/A,N/A,N/A,N/A,N/A,N/A,N/A,,,,,N/A,,,N/A,,,,,,null,,,,,,N/A,,,,,N/A,,,,,,,\\r\\nbank.trade_rms.traderrate,,,,N/A,N/A,,N/A,N/A,N/A,N/A,N/A,N/A,N/A,,,,,N/A,,,N/A,,,,,,null,,,,,,N/A,,,,,N/A,,,,,,,\\r\\nbank.trade_rms.expirydate,,,,N/A,N/A,,N/A,N/A,N/A,N/A,N/A,N/A,N/A,,,,,N/A,,,N/A,,,,,,null,,,,,,N/A,,,,,N/A,,,,,,,\\r\\nbank.trade_rms.paycurrency,,,,N/A,N/A,,N/A,N/A,N/A,N/A,N/A,N/A,N/A,,,,,N/A,,,N/A,,,,,,null,,,,,,N/A,,,,,N/A,,,,,,,\\r\\nbank.trade_rms.quantolevel,,,,N/A,N/A,,N/A,N/A,N/A,N/A,N/A,N/A,N/A,,,,,N/A,,,N/A,,,,,,null,,,,,,N/A,,,,,N/A,,,,,,,\\r\\nbank.trade_rms.zonecut,,,,N/A,N/A,,N/A,N/A,N/A,N/A,N/A,N/A,N/A,,,,,N/A,,,N/A,,,,,,null,,,,,,N/A,,,,,N/A,,,,,,,\\r\\nbank.trade_rms.modeltype,,,,N/A,N/A,,N/A,N/A,N/A,N/A,N/A,N/A,N/A,,,,,N/A,,,N/A,,,,,,null,,,,,,N/A,,,,,N/A,,,,,,,\\r\\nbank.trade_rms.futurecode,,,,N/A,N/A,,N/A,N/A,N/A,N/A,N/A,N/A,N/A,,,,,N/A,,,N/A,,,,,,null,,,,,,N/A,,,,,N/A,,,,,,,\\r\\nbank.trade_rms.futuresexpirydate,,,,N/A,N/A,,N/A,N/A,N/A,N/A,N/A,N/A,N/A,,,,,N/A,,,N/A,,,,,,null,,,,,,N/A,,,,,N/A,,,,,,,\\r\\nbank.trade_rms.premiumcurrency,,,,N/A,N/A,,N/A,N/A,N/A,N/A,N/A,N/A,N/A,,,,,N/A,,,N/A,,,,,,null,,,,,,N/A,,,,,N/A,,,,,,,\\r\\nbank.trade_rms.premiumdate,,,,N/A,N/A,,N/A,N/A,N/A,N/A,N/A,N/A,N/A,,,,,N/A,,,N/A,,,,,,null,,,,,,N/A,,,,,N/A,,,,,,,\\r\\nbank.trade_rms.premiumamount,,,,N/A,N/A,,N/A,N/A,N/A,N/A,N/A,N/A,N/A,,,,,N/A,,,N/A,,,,,,null,,,,,,N/A,,,,,N/A,,,,,,,\\r\\nbank.trade_rms.premiumhaspaidyn,,,,N/A,N/A,,N/A,N/A,N/A,N/A,N/A,N/A,N/A,,,,,N/A,,,N/A,,,,,,null,,,,,,N/A,,,,,N/A,,,,,,,\\r\\nbank.trade_rms.unwindrate,,,,N/A,N/A,,N/A,N/A,N/A,N/A,N/A,N/A,N/A,,,,,N/A,,,N/A,,,,,,null,,,,,,N/A,,,,,N/A,,,,,,,\\r\\nbank.trade_rms.unwindpremiumcurrency,,,,N/A,N/A,,N/A,N/A,N/A,N/A,N/A,N/A,N/A,,,,,N/A,,,N/A,,,,,,null,,,,,,N/A,,,,,N/A,,,,,,,\\r\\nbank.trade_rms.unwindpremiumamount,,,,N/A,N/A,,N/A,N/A,N/A,N/A,N/A,N/A,N/A,,,,,N/A,,,N/A,,,,,,null,,,,,,N/A,,,,,N/A,,,,,,,\\r\\nbank.trade_rms.unwindpremiumdate,,,,N/A,N/A,,N/A,N/A,N/A,N/A,N/A,N/A,N/A,,,,,N/A,,,N/A,,,,,,null,,,,,,N/A,,,,,N/A,,,,,,,\\r\\nbank.trade_rms.marginpaymentcurrency,,,,N/A,N/A,,N/A,N/A,N/A,N/A,N/A,N/A,N/A,,,,,N/A,,,N/A,,,,,,null,,,,,,N/A,,,,,N/A,,,,,,,\\r\\nbank.trade_rms.marginpaymentamount,,,,N/A,N/A,,N/A,N/A,N/A,N/A,N/A,N/A,N/A,,,,,N/A,,,N/A,,,,,,null,,,,,,N/A,,,,,N/A,,,,,,,\\r\\nbank.trade_rms.productid,,,,N/A,N/A,,N/A,N/A,N/A,N/A,N/A,N/A,N/A,,,,,N/A,,,N/A,,,,,,null,,,,,,N/A,,,,,N/A,,,,,,,\\r\\nbank.trade_rms.productversion,,,,N/A,N/A,,N/A,N/A,N/A,N/A,N/A,N/A,N/A,,,,,N/A,,,N/A,,,,,,null,,,,,,N/A,,,,,N/A,,,,,,,\\r\\nbank.trade_rms.productlegid,,,,N/A,N/A,,N/A,N/A,N/A,N/A,N/A,N/A,N/A,,,,,N/A,,,N/A,,,,,,null,,,,,,N/A,,,,,N/A,,,,,,,\\r\\nbank.trade_rms.structureid,,,,N/A,N/A,,N/A,N/A,N/A,N/A,N/A,N/A,N/A,,,,,N/A,,,N/A,,,,,,null,,,,,,N/A,,,,,N/A,,,,,,,\\r\\nbank.trade_rms.referencespot,,,,N/A,N/A,,N/A,N/A,N/A,N/A,N/A,N/A,N/A,,,,,N/A,,,N/A,,,,,,null,,,,,,N/A,,,,,N/A,,,,,,,\\r\\nbank.trade_rms.referenceforwardpoints,,,,N/A,N/A,,N/A,N/A,N/A,N/A,N/A,N/A,N/A,,,,,N/A,,,N/A,,,,,,null,,,,,,N/A,,,,,N/A,,,,,,,\\r\\nbank.trade_rms.referencevolatility,,,,N/A,N/A,,N/A,N/A,N/A,N/A,N/A,N/A,N/A,,,,,N/A,,,N/A,,,,,,null,,,,,,N/A,,,,,N/A,,,,,,,\\r\\nbank.trade_rms.referencedeporate,,,,N/A,N/A,,N/A,N/A,N/A,N/A,N/A,N/A,N/A,,,,,N/A,,,N/A,,,,,,null,,,,,,N/A,,,,,N/A,,,,,,,\\r\\nbank.trade_rms.referencedepocurrency,,,,N/A,N/A,,N/A,N/A,N/A,N/A,N/A,N/A,N/A,,,,,N/A,,,N/A,,,,,,null,,,,,,N/A,,,,,N/A,,,,,,,\\r\\nbank.trade_rms.referencedelta,,,,N/A,N/A,,N/A,N/A,N/A,N/A,N/A,N/A,N/A,,,,,N/A,,,N/A,,,,,,null,,,,,,N/A,,,,,N/A,,,,,,,\\r\\nbank.trade_rms.referencedeltacurrency,,,,N/A,N/A,,N/A,N/A,N/A,N/A,N/A,N/A,N/A,,,,,N/A,,,N/A,,,,,,null,,,,,,N/A,,,,,N/A,,,,,,,\\r\\nbank.trade_rms.assetlocation,,,,N/A,N/A,,N/A,N/A,N/A,N/A,N/A,N/A,N/A,,,,,N/A,,,N/A,,,,,,null,,,,,,N/A,,,,,N/A,,,,,,,\\r\\nbank.trade_rms.actioneffectivedate,,,,N/A,N/A,,N/A,N/A,N/A,N/A,N/A,N/A,N/A,,,,,N/A,,,N/A,,,,,,null,,,,,,N/A,,,,,N/A,,,,,,,\\r\\nbank.trade_rms.sourcesystembook,,,,N/A,N/A,,N/A,N/A,N/A,N/A,N/A,N/A,N/A,,,,,N/A,,,N/A,,,,,,null,,,,,,N/A,,,,,N/A,,,,,,,\\r\\nbank.trade_rms.sourcesystemprofitcentre,,,,N/A,N/A,,N/A,N/A,N/A,N/A,N/A,N/A,N/A,,,,,N/A,,,N/A,,,,,,null,,,,,,N/A,,,,,N/A,,,,,,,\\r\\nbank.trade_rms.salesperson,,,,N/A,N/A,,N/A,N/A,N/A,N/A,N/A,N/A,N/A,,,,,N/A,,,N/A,,,,,,null,,,,,,N/A,,,,,N/A,,,,,,,\\r\\nbank.trade_rms.trader,,,,N/A,N/A,,N/A,N/A,N/A,N/A,N/A,N/A,N/A,,,,,N/A,,,N/A,,,,,,null,,,,,,N/A,,,,,N/A,,,,,,,\\r\\nbank.trade_rms.fundsplitid,,,,N/A,N/A,,N/A,N/A,N/A,N/A,N/A,N/A,N/A,,,,,N/A,,,N/A,,,,,,null,,,,,,N/A,,,,,N/A,,,,,,,\\r\\nbank.trade_rms.fundsplitversion,,,,N/A,N/A,,N/A,N/A,N/A,N/A,N/A,N/A,N/A,,,,,N/A,,,N/A,,,,,,null,,,,,,N/A,,,,,N/A,,,,,,,\\r\\nbank.trade_rms.structurename,,,,N/A,N/A,,N/A,N/A,N/A,N/A,N/A,N/A,N/A,,,,,N/A,,,N/A,,,,,,null,,,,,,N/A,,,,,N/A,,,,,,,\\r\\nbank.trade_rms.markupamt,,,,N/A,N/A,,N/A,N/A,N/A,N/A,N/A,N/A,N/A,,,,,N/A,,,N/A,,,,,,null,,,,,,N/A,,,,,N/A,,,,,,,\\r\\nbank.trade_rms.markupccy,,,,N/A,N/A,,N/A,N/A,N/A,N/A,N/A,N/A,N/A,,,,,N/A,,,N/A,,,,,,null,,,,,,N/A,,,,,N/A,,,,,,,\\r\\nbank.trade_rms.markuplocation,,,,N/A,N/A,,N/A,N/A,N/A,N/A,N/A,N/A,N/A,,,,,N/A,,,N/A,,,,,,null,,,,,,N/A,,,,,N/A,,,,,,,\\r\\nbank.trade_rms.atriskamt,,,,N/A,N/A,,N/A,N/A,N/A,N/A,N/A,N/A,N/A,,,,,N/A,,,N/A,,,,,,null,,,,,,N/A,,,,,N/A,,,,,,,\\r\\nbank.trade_rms.atriskccy,,,,N/A,N/A,,N/A,N/A,N/A,N/A,N/A,N/A,N/A,,,,,N/A,,,N/A,,,,,,null,,,,,,N/A,,,,,N/A,,,,,,,\\r\\nbank.trade_rms.atrisklocation,,,,N/A,N/A,,N/A,N/A,N/A,N/A,N/A,N/A,N/A,,,,,N/A,,,N/A,,,,,,null,,,,,,N/A,,,,,N/A,,,,,,,\\r\\nbank.trade_rms.atriskindicator,,,,N/A,N/A,,N/A,N/A,N/A,N/A,N/A,N/A,N/A,,,,,N/A,,,N/A,,,,,,null,,,,,,N/A,,,,,N/A,,,,,,,\\r\\nbank.trade_rms.reason,,,,N/A,N/A,,N/A,N/A,N/A,N/A,N/A,N/A,N/A,,,,,N/A,,,N/A,,,,,,null,,,,,,N/A,,,,,N/A,,,,,,,\\r\\nbank.trade_rms.notes,,,,N/A,N/A,,N/A,N/A,N/A,N/A,N/A,N/A,N/A,,,,,N/A,,,N/A,,,,,,null,,,,,,N/A,,,,,N/A,,,,,,,\\r\\nbank.trade_rms.broker,,,,N/A,N/A,,N/A,N/A,N/A,N/A,N/A,N/A,N/A,,,,,N/A,,,N/A,,,,,,null,,,,,,N/A,,,,,N/A,,,,,,,\\r\\nbank.trade_rms.brokeramt,,,,N/A,N/A,,N/A,N/A,N/A,N/A,N/A,N/A,N/A,,,,,N/A,,,N/A,,,,,,null,,,,,,N/A,,,,,N/A,,,,,,,\\r\\nbank.trade_rms.brokerccy,,,,N/A,N/A,,N/A,N/A,N/A,N/A,N/A,N/A,N/A,,,,,N/A,,,N/A,,,,,,null,,,,,,N/A,,,,,N/A,,,,,,,\\r\\nbank.trade_rms.linksystemid,,,,N/A,N/A,,N/A,N/A,N/A,N/A,N/A,N/A,N/A,,,,,N/A,,,N/A,,,,,,null,,,,,,N/A,,,,,N/A,,,,,,,\\r\\nbank.trade_rms.linktype,,,,N/A,N/A,,N/A,N/A,N/A,N/A,N/A,N/A,N/A,,,,,N/A,,,N/A,,,,,,null,,,,,,N/A,,,,,N/A,,,,,,,\\r\\nbank.trade_rms.sourcesystemid,,,,N/A,N/A,,N/A,N/A,N/A,N/A,N/A,N/A,N/A,,,,,N/A,,,N/A,,,,,,null,,,,,,N/A,,,,,N/A,,,,,,,\\r\\nbank.trade_rms.confirmas,,,,N/A,N/A,,N/A,N/A,N/A,N/A,N/A,N/A,N/A,,,,,N/A,,,N/A,,,,,,null,,,,,,N/A,,,,,N/A,,,,,,,\\r\\nbank.trade_rms.cancelssourcesystemid,,,,N/A,N/A,,N/A,N/A,N/A,N/A,N/A,N/A,N/A,,,,,N/A,,,N/A,,,,,,null,,,,,,N/A,,,,,N/A,,,,,,,\\r\\nbank.trade_rms.cancelledbysourcesystemid,,,,N/A,N/A,,N/A,N/A,N/A,N/A,N/A,N/A,N/A,,,,,N/A,,,N/A,,,,,,null,,,,,,N/A,,,,,N/A,,,,,,,\\r\\nbank.trade_rms.cancellinghalfsourcesystemid,,,,N/A,N/A,,N/A,N/A,N/A,N/A,N/A,N/A,N/A,,,,,N/A,,,N/A,,,,,,null,,,,,,N/A,,,,,N/A,,,,,,,\\r\\nbank.trade_rms.correctssourcesystemid,,,,N/A,N/A,,N/A,N/A,N/A,N/A,N/A,N/A,N/A,,,,,N/A,,,N/A,,,,,,null,,,,,,N/A,,,,,N/A,,,,,,,\\r\\nbank.trade_rms.correctedbysourcesystemid,,,,N/A,N/A,,N/A,N/A,N/A,N/A,N/A,N/A,N/A,,,,,N/A,,,N/A,,,,,,null,,,,,,N/A,,,,,N/A,,,,,,,\\r\\nbank.trade_rms.closessourcesystemid,,,,N/A,N/A,,N/A,N/A,N/A,N/A,N/A,N/A,N/A,,,,,N/A,,,N/A,,,,,,null,,,,,,N/A,,,,,N/A,,,,,,,\\r\\nbank.trade_rms.closedbysourcesystemid,,,,N/A,N/A,,N/A,N/A,N/A,N/A,N/A,N/A,N/A,,,,,N/A,,,N/A,,,,,,null,,,,,,N/A,,,,,N/A,,,,,,,\\r\\nbank.trade_rms.exercisedfromsourcesystemid,,,,N/A,N/A,,N/A,N/A,N/A,N/A,N/A,N/A,N/A,,,,,N/A,,,N/A,,,,,,null,,,,,,N/A,,,,,N/A,,,,,,,\\r\\nbank.trade_rms.closingdate,,,,N/A,N/A,,N/A,N/A,N/A,N/A,N/A,N/A,N/A,,,,,N/A,,,N/A,,,,,,null,,,,,,N/A,,,,,N/A,,,,,,,\\r\\nbank.trade_rms.legalentity,,,,N/A,N/A,,N/A,N/A,N/A,N/A,N/A,N/A,N/A,,,,,N/A,,,N/A,,,,,,null,,,,,,N/A,,,,,N/A,,,,,,,\\r\\nbank.trade_rms.dealcapturesystem,,,,N/A,N/A,,N/A,N/A,N/A,N/A,N/A,N/A,N/A,,,,,N/A,,,N/A,,,,,,null,,,,,,N/A,,,,,N/A,,,,,,,\\r\\nbank.trade_rms.dealcapturesystemid,,,,N/A,N/A,,N/A,N/A,N/A,N/A,N/A,N/A,N/A,,,,,N/A,,,N/A,,,,,,null,,,,,,N/A,,,,,N/A,,,,,,,\\r\\nbank.trade_rms.bookinglocation,,,,N/A,N/A,,N/A,N/A,N/A,N/A,N/A,N/A,N/A,,,,,N/A,,,N/A,,,,,,null,,,,,,N/A,,,,,N/A,,,,,,,\\r\\nbank.trade_rms.producttype,,,,N/A,N/A,,N/A,N/A,N/A,N/A,N/A,N/A,N/A,,,,,N/A,,,N/A,,,,,,null,,,,,,N/A,,,,,N/A,,,,,,,\\r\\nbank.trade_rms.productinstance,,,,N/A,N/A,,N/A,N/A,N/A,N/A,N/A,N/A,N/A,,,,,N/A,,,N/A,,,,,,null,,,,,,N/A,,,,,N/A,,,,,,,\\r\\nbank.trade_rms.backofficesystem,,,,N/A,N/A,,N/A,N/A,N/A,N/A,N/A,N/A,N/A,,,,,N/A,,,N/A,,,,,,null,,,,,,N/A,,,,,N/A,,,,,,,\\r\\nbank.trade_rms.backofficesystemid,,,,N/A,N/A,,N/A,N/A,N/A,N/A,N/A,N/A,N/A,,,,,N/A,,,N/A,,,,,,null,,,,,,N/A,,,,,N/A,,,,,,,\\r\\nbank.trade_rms.versionvaliduntildate,,,,N/A,N/A,,N/A,N/A,N/A,N/A,N/A,N/A,N/A,,,,,N/A,,,N/A,,,,,,null,,,,,,N/A,,,,,N/A,,,,,,,\\r\\nbank.trade_rms.tradeextradetailid,,,,N/A,N/A,,N/A,N/A,N/A,N/A,N/A,N/A,N/A,,,,,N/A,,,N/A,,,,,,null,,,,,,N/A,,,,,N/A,,,,,,,\\r\\nbank.trade_rms.tradeextradetailversion,,,,N/A,N/A,,N/A,N/A,N/A,N/A,N/A,N/A,N/A,,,,,N/A,,,N/A,,,,,,null,,,,,,N/A,,,,,N/A,,,,,,,\\r\\nbank.trade_rms.tradeclassification,,,,N/A,N/A,,N/A,N/A,N/A,N/A,N/A,N/A,N/A,,,,,N/A,,,N/A,,,,,,null,,,,,,N/A,,,,,N/A,,,,,,,\\r\\nbank.trade_rms.dealcapturesalesuser,,,,N/A,N/A,,N/A,N/A,N/A,N/A,N/A,N/A,N/A,,,,,N/A,,,N/A,,,,,,null,,,,,,N/A,,,,,N/A,,,,,,,\\r\\nbank.trade_rms.fundsplitallocationid,,,,N/A,N/A,,N/A,N/A,N/A,N/A,N/A,N/A,N/A,,,,,N/A,,,N/A,,,,,,null,,,,,,N/A,,,,,N/A,,,,,,,\\r\\nbank.trade_rms.fundsplitallocationlegid,,,,N/A,N/A,,N/A,N/A,N/A,N/A,N/A,N/A,N/A,,,,,N/A,,,N/A,,,,,,null,,,,,,N/A,,,,,N/A,,,,,,,\\r\\nbank.trade_rms.generaterisksweeptradeyn,,,,N/A,N/A,,N/A,N/A,N/A,N/A,N/A,N/A,N/A,,,,,N/A,,,N/A,,,,,,null,,,,,,N/A,,,,,N/A,,,,,,,\\r\\nbank.trade_rms.risksweeptradetype,,,,N/A,N/A,,N/A,N/A,N/A,N/A,N/A,N/A,N/A,,,,,N/A,,,N/A,,,,,,null,,,,,,N/A,,,,,N/A,,,,,,,\\r\\nbank.trade_rms.risksweepstrike,,,,N/A,N/A,,N/A,N/A,N/A,N/A,N/A,N/A,N/A,,,,,N/A,,,N/A,,,,,,null,,,,,,N/A,,,,,N/A,,,,,,,\\r\\nbank.trade_rms.risksweepsettlementdate,,,,N/A,N/A,,N/A,N/A,N/A,N/A,N/A,N/A,N/A,,,,,N/A,,,N/A,,,,,,null,,,,,,N/A,,,,,N/A,,,,,,,\\r\\nbank.trade_rms.risksweepbook,,,,N/A,N/A,,N/A,N/A,N/A,N/A,N/A,N/A,N/A,,,,,N/A,,,N/A,,,,,,null,,,,,,N/A,,,,,N/A,,,,,,,\\r\\nbank.trade_rms.risksweepundercurrency,,,,N/A,N/A,,N/A,N/A,N/A,N/A,N/A,N/A,N/A,,,,,N/A,,,N/A,,,,,,null,,,,,,N/A,,,,,N/A,,,,,,,\\r\\nbank.trade_rms.risksweepacccurrency,,,,N/A,N/A,,N/A,N/A,N/A,N/A,N/A,N/A,N/A,,,,,N/A,,,N/A,,,,,,null,,,,,,N/A,,,,,N/A,,,,,,,\\r\\nbank.trade_rms.risksweeplinkmastersystemid,,,,N/A,N/A,,N/A,N/A,N/A,N/A,N/A,N/A,N/A,,,,,N/A,,,N/A,,,,,,null,,,,,,N/A,,,,,N/A,,,,,,,\\r\\nbank.trade_rms.spotpricinglocation,,,,N/A,N/A,,N/A,N/A,N/A,N/A,N/A,N/A,N/A,,,,,N/A,,,N/A,,,,,,null,,,,,,N/A,,,,,N/A,,,,,,,\\r\\nbank.trade_rms.forwardpricinglocation,,,,N/A,N/A,,N/A,N/A,N/A,N/A,N/A,N/A,N/A,,,,,N/A,,,N/A,,,,,,null,,,,,,N/A,,,,,N/A,,,,,,,\\r\\nbank.trade_rms.settlementlegalentitylocation,,,,N/A,N/A,,N/A,N/A,N/A,N/A,N/A,N/A,N/A,,,,,N/A,,,N/A,,,,,,null,,,,,,N/A,,,,,N/A,,,,,,,\\r\\nbank.trade_rms.locallegalentitysettlementyn,,,,N/A,N/A,,N/A,N/A,N/A,N/A,N/A,N/A,N/A,,,,,N/A,,,N/A,,,,,,null,,,,,,N/A,,,,,N/A,,,,,,,\\r\\nbank.trade_rms.riskholdingbook,,,,N/A,N/A,,N/A,N/A,N/A,N/A,N/A,N/A,N/A,,,,,N/A,,,N/A,,,,,,null,,,,,,N/A,,,,,N/A,,,,,,,\\r\\nbank.trade_rms.riskholdinglinkmastersystemid,,,,N/A,N/A,,N/A,N/A,N/A,N/A,N/A,N/A,N/A,,,,,N/A,,,N/A,,,,,,null,,,,,,N/A,,,,,N/A,,,,,,,\\r\\nbank.trade_rms.generatebacktobacktradeyn,,,,N/A,N/A,,N/A,N/A,N/A,N/A,N/A,N/A,N/A,,,,,N/A,,,N/A,,,,,,null,,,,,,N/A,,,,,N/A,,,,,,,\\r\\nbank.trade_rms.childforwardpips,,,,N/A,N/A,,N/A,N/A,N/A,N/A,N/A,N/A,N/A,,,,,N/A,,,N/A,,,,,,null,,,,,,N/A,,,,,N/A,,,,,,,\\r\\nbank.trade_rms.childmarginpips,,,,N/A,N/A,,N/A,N/A,N/A,N/A,N/A,N/A,N/A,,,,,N/A,,,N/A,,,,,,null,,,,,,N/A,,,,,N/A,,,,,,,\\r\\nbank.trade_rms.scalingfactor,,,,N/A,N/A,,N/A,N/A,N/A,N/A,N/A,N/A,N/A,,,,,N/A,,,N/A,,,,,,null,,,,,,N/A,,,,,N/A,,,,,,,\\r\\nbank.trade_rms.risksweepclientstrike,,,,N/A,N/A,,N/A,N/A,N/A,N/A,N/A,N/A,N/A,,,,,N/A,,,N/A,,,,,,null,,,,,,N/A,,,,,N/A,,,,,,,\\r\\nbank.trade_rms.internalgroupid,,,,N/A,N/A,,N/A,N/A,N/A,N/A,N/A,N/A,N/A,,,,,N/A,,,N/A,,,,,,null,,,,,,N/A,,,,,N/A,,,,,,,\\r\\nbank.trade_rms.originalsettlementdate,,,,N/A,N/A,,N/A,N/A,N/A,N/A,N/A,N/A,N/A,,,,,N/A,,,N/A,,,,,,null,,,,,,N/A,,,,,N/A,,,,,,,\\r\\nbank.trade_rms.tearupid,,,,N/A,N/A,,N/A,N/A,N/A,N/A,N/A,N/A,N/A,,,,,N/A,,,N/A,,,,,,null,,,,,,N/A,,,,,N/A,,,,,,,\\r\\nbank.trade_rms.electedconfirmationruleid,,,,N/A,N/A,,N/A,N/A,N/A,N/A,N/A,N/A,N/A,,,,,N/A,,,N/A,,,,,,null,,,,,,N/A,,,,,N/A,,,,,,,\\r\\nbank.trade_rms.previousconfirmationsystem,,,,N/A,N/A,,N/A,N/A,N/A,N/A,N/A,N/A,N/A,,,,,N/A,,,N/A,,,,,,null,,,,,,N/A,,,,,N/A,,,,,,,\\r\\nbank.trade_rms.electedsettlementruleid,,,,N/A,N/A,,N/A,N/A,N/A,N/A,N/A,N/A,N/A,,,,,N/A,,,N/A,,,,,,null,,,,,,N/A,,,,,N/A,,,,,,,\\r\\nbank.trade_rms.previoussettlementsystem,,,,N/A,N/A,,N/A,N/A,N/A,N/A,N/A,N/A,N/A,,,,,N/A,,,N/A,,,,,,null,,,,,,N/A,,,,,N/A,,,,,,,\\r\\nbank.trade_rms.drawdownstartdate,,,,N/A,N/A,,N/A,N/A,N/A,N/A,N/A,N/A,N/A,,,,,N/A,,,N/A,,,,,,null,,,,,,N/A,,,,,N/A,,,,,,,\\r\\nbank.trade_rms.optionpricinglocation,,,,N/A,N/A,,N/A,N/A,N/A,N/A,N/A,N/A,N/A,,,,,N/A,,,N/A,,,,,,null,,,,,,N/A,,,,,N/A,,,,,,,\\r\\nbank.trade_rms.riskbtbgloballegstatus,,,,N/A,N/A,,N/A,N/A,N/A,N/A,N/A,N/A,N/A,,,,,N/A,,,N/A,,,,,,null,,,,,,N/A,,,,,N/A,,,,,,,\\r\\nbank.trade_rms.fromlinktype,,,,N/A,N/A,,N/A,N/A,N/A,N/A,N/A,N/A,N/A,,,,,N/A,,,N/A,,,,,,null,,,,,,N/A,,,,,N/A,,,,,,,\\r\\nbank.trade_rms.tolinktype,,,,N/A,N/A,,N/A,N/A,N/A,N/A,N/A,N/A,N/A,,,,,N/A,,,N/A,,,,,,null,,,,,,N/A,,,,,N/A,,,,,,,\\r\\nbank.trade_rms.clearingccp,,,,N/A,N/A,,N/A,N/A,N/A,N/A,N/A,N/A,N/A,,,,,N/A,,,N/A,,,,,,null,,,,,,N/A,,,,,N/A,,,,,,,\\r\\nbank.trade_rms.clearingstatus,,,,N/A,N/A,,N/A,N/A,N/A,N/A,N/A,N/A,N/A,,,,,N/A,,,N/A,,,,,,null,,,,,,N/A,,,,,N/A,,,,,,,\\r\\nbank.trade_rms.clearingeligibleyn,,,,N/A,N/A,,N/A,N/A,N/A,N/A,N/A,N/A,N/A,,,,,N/A,,,N/A,,,,,,null,,,,,,N/A,,,,,N/A,,,,,,,\\r\\nbank.trade_rms.settlementcounterparty,,,,N/A,N/A,,N/A,N/A,N/A,N/A,N/A,N/A,N/A,,,,,N/A,,,N/A,,,,,,null,,,,,,N/A,,,,,N/A,,,,,,,\\r\\nbank.trade_rms.settlementcptysourcesystem,,,,N/A,N/A,,N/A,N/A,N/A,N/A,N/A,N/A,N/A,,,,,N/A,,,N/A,,,,,,null,,,,,,N/A,,,,,N/A,,,,,,,\\r\\nbank.trade_rms.originalcounterparty,,,,N/A,N/A,,N/A,N/A,N/A,N/A,N/A,N/A,N/A,,,,,N/A,,,N/A,,,,,,null,,,,,,N/A,,,,,N/A,,,,,,,\\r\\nbank.trade_rms.originalcptysourcesystem,,,,N/A,N/A,,N/A,N/A,N/A,N/A,N/A,N/A,N/A,,,,,N/A,,,N/A,,,,,,null,,,,,,N/A,,,,,N/A,,,,,,,\\r\\nbank.trade_rms.clearinghousetradeid,,,,N/A,N/A,,N/A,N/A,N/A,N/A,N/A,N/A,N/A,,,,,N/A,,,N/A,,,,,,null,,,,,,N/A,,,,,N/A,,,,,,,\\r\\nbank.trade_rms.matchertradeid,,,,N/A,N/A,,N/A,N/A,N/A,N/A,N/A,N/A,N/A,,,,,N/A,,,N/A,,,,,,null,,,,,,N/A,,,,,N/A,,,,,,,\\r\\nbank.trade_rms.latestsource,,,,N/A,N/A,,N/A,N/A,N/A,N/A,N/A,N/A,N/A,,,,,N/A,,,N/A,,,,,,null,,,,,,N/A,,,,,N/A,,,,,,,\\r\\nbank.trade_rms.latestexecutingplatform,,,,N/A,N/A,,N/A,N/A,N/A,N/A,N/A,N/A,N/A,,,,,N/A,,,N/A,,,,,,null,,,,,,N/A,,,,,N/A,,,,,,,\\r\\nbank.trade_rms.rmssource,,,,N/A,N/A,,N/A,N/A,N/A,N/A,N/A,N/A,N/A,,,,,N/A,,,N/A,,,,,,null,,,,,,N/A,,,,,N/A,,,,,,,\\r\\nbank.trade_rms.structurer,,,,N/A,N/A,,N/A,N/A,N/A,N/A,N/A,N/A,N/A,,,,,N/A,,,N/A,,,,,,null,,,,,,N/A,,,,,N/A,,,,,,,\\r\\nbank.trade_rms.originalexecutingplatform,,,,N/A,N/A,,N/A,N/A,N/A,N/A,N/A,N/A,N/A,,,,,N/A,,,N/A,,,,,,null,,,,,,N/A,,,,,N/A,,,,,,,\\r\\nbank.trade_rms.originalsource,,,,N/A,N/A,,N/A,N/A,N/A,N/A,N/A,N/A,N/A,,,,,N/A,,,N/A,,,,,,null,,,,,,N/A,,,,,N/A,,,,,,,\\r\\nbank.trade_rms.marketspread,,,,N/A,N/A,,N/A,N/A,N/A,N/A,N/A,N/A,N/A,,,,,N/A,,,N/A,,,,,,null,,,,,,N/A,,,,,N/A,,,,,,,\\r\\nbank.trade_rms.atriskadditionalamt,,,,N/A,N/A,,N/A,N/A,N/A,N/A,N/A,N/A,N/A,,,,,N/A,,,N/A,,,,,,null,,,,,,N/A,,,,,N/A,,,,,,,\\r\\nbank.trade_rms.matcherblockid,,,,N/A,N/A,,N/A,N/A,N/A,N/A,N/A,N/A,N/A,,,,,N/A,,,N/A,,,,,,null,,,,,,N/A,,,,,N/A,,,,,,,\\r\\nbank.trade_rms.clearingcancelstatus,,,,N/A,N/A,,N/A,N/A,N/A,N/A,N/A,N/A,N/A,,,,,N/A,,,N/A,,,,,,null,,,,,,N/A,,,,,N/A,,,,,,,\\r\\nbank.trade_rms.clearingclientsourcesystem,,,,N/A,N/A,,N/A,N/A,N/A,N/A,N/A,N/A,N/A,,,,,N/A,,,N/A,,,,,,null,,,,,,N/A,,,,,N/A,,,,,,,\\r\\nbank.trade_rms.clearingclient,,,,N/A,N/A,,N/A,N/A,N/A,N/A,N/A,N/A,N/A,,,,,N/A,,,N/A,,,,,,null,,,,,,N/A,,,,,N/A,,,,,,,\\r\\nbank.trade_rms.clearingfundnamesourcesystem,,,,N/A,N/A,,N/A,N/A,N/A,N/A,N/A,N/A,N/A,,,,,N/A,,,N/A,,,,,,null,,,,,,N/A,,,,,N/A,,,,,,,\\r\\nbank.trade_rms.clearingfundname,,,,N/A,N/A,,N/A,N/A,N/A,N/A,N/A,N/A,N/A,,,,,N/A,,,N/A,,,,,,null,,,,,,N/A,,,,,N/A,,,,,,,\\r\\nbank.trade_rms.clientcbsourcesystem,,,,N/A,N/A,,N/A,N/A,N/A,N/A,N/A,N/A,N/A,,,,,N/A,,,N/A,,,,,,null,,,,,,N/A,,,,,N/A,,,,,,,\\r\\nbank.trade_rms.clientclearingbroker,,,,N/A,N/A,,N/A,N/A,N/A,N/A,N/A,N/A,N/A,,,,,N/A,,,N/A,,,,,,null,,,,,,N/A,,,,,N/A,,,,,,,\\r\\nbank.trade_rms.matcher,,,,N/A,N/A,,N/A,N/A,N/A,N/A,N/A,N/A,N/A,,,,,N/A,,,N/A,,,,,,null,,,,,,N/A,,,,,N/A,,,,,,,\\r\\nbank.trade_rms.clearingbrokeryn,,,,N/A,N/A,,N/A,N/A,N/A,N/A,N/A,N/A,N/A,,,,,N/A,,,N/A,,,,,,null,,,,,,N/A,,,,,N/A,,,,,,,\\r\\nbank.trade_rms.nextfixingdate,,,,N/A,N/A,,N/A,N/A,N/A,N/A,N/A,N/A,N/A,,,,,N/A,,,N/A,,,,,,null,,,,,,N/A,,,,,N/A,,,,,,,\\r\\nbank.trade_rms.fundedindexfixingref,,,,N/A,N/A,,N/A,N/A,N/A,N/A,N/A,N/A,N/A,,,,,N/A,,,N/A,,,,,,null,,,,,,N/A,,,,,N/A,,,,,,,\\r\\nbank.trade_rms.lastfundedindexfixing,,,,N/A,N/A,,N/A,N/A,N/A,N/A,N/A,N/A,N/A,,,,,N/A,,,N/A,,,,,,null,,,,,,N/A,,,,,N/A,,,,,,,\\r\\nbank.trade_rms.excessreturnindexfixingref,,,,N/A,N/A,,N/A,N/A,N/A,N/A,N/A,N/A,N/A,,,,,N/A,,,N/A,,,,,,null,,,,,,N/A,,,,,N/A,,,,,,,\\r\\nbank.trade_rms.lastexcessreturnindexfixing,,,,N/A,N/A,,N/A,N/A,N/A,N/A,N/A,N/A,N/A,,,,,N/A,,,N/A,,,,,,null,,,,,,N/A,,,,,N/A,,,,,,,\\r\\nbank.trade_rms.returnleverage,,,,N/A,N/A,,N/A,N/A,N/A,N/A,N/A,N/A,N/A,,,,,N/A,,,N/A,,,,,,null,,,,,,N/A,,,,,N/A,,,,,,,\\r\\nbank.trade_rms.fixingcities,,,,N/A,N/A,,N/A,N/A,N/A,N/A,N/A,N/A,N/A,,,,,N/A,,,N/A,,,,,,null,,,,,,N/A,,,,,N/A,,,,,,,\\r\\nbank.trade_rms.usinamespace,,,,N/A,N/A,,N/A,N/A,N/A,N/A,N/A,N/A,N/A,,,,,N/A,,,N/A,,,,,,null,,,,,,N/A,,,,,N/A,,,,,,,\\r\\nbank.trade_rms.usileg,,,,N/A,N/A,,N/A,N/A,N/A,N/A,N/A,N/A,N/A,,,,,N/A,,,N/A,,,,,,null,,,,,,N/A,,,,,N/A,,,,,,,\\r\\nbank.trade_rms.usiproduct,,,,N/A,N/A,,N/A,N/A,N/A,N/A,N/A,N/A,N/A,,,,,N/A,,,N/A,,,,,,null,,,,,,N/A,,,,,N/A,,,,,,,\\r\\nbank.trade_rms.dbppid,,,,N/A,N/A,,N/A,N/A,N/A,N/A,N/A,N/A,N/A,,,,,N/A,,,N/A,,,,,,null,,,,,,N/A,,,,,N/A,,,,,,,\\r\\nbank.trade_rms.dbphysicalproduct,,,,N/A,N/A,,N/A,N/A,N/A,N/A,N/A,N/A,N/A,,,,,N/A,,,N/A,,,,,,null,,,,,,N/A,,,,,N/A,,,,,,,\\r\\nbank.trade_rms.dbrpid,,,,N/A,N/A,,N/A,N/A,N/A,N/A,N/A,N/A,N/A,,,,,N/A,,,N/A,,,,,,null,,,,,,N/A,,,,,N/A,,,,,,,\\r\\nbank.trade_rms.dbriskproduct,,,,N/A,N/A,,N/A,N/A,N/A,N/A,N/A,N/A,N/A,,,,,N/A,,,N/A,,,,,,null,,,,,,N/A,,,,,N/A,,,,,,,\\r\\nbank.trade_rms.exercisedintosourcesystemid,,,,N/A,N/A,,N/A,N/A,N/A,N/A,N/A,N/A,N/A,,,,,N/A,,,N/A,,,,,,null,,,,,,N/A,,,,,N/A,,,,,,,\\r\\nbank.trade_transactions.systemid,,,,N/A,N/A,,N/A,N/A,N/A,N/A,N/A,N/A,N/A,,,,,N/A,,,N/A,,,,,,null,,,,,,N/A,,,,,N/A,,,,,,,\\r\\nbank.trade_transactions.version,,,,N/A,N/A,,N/A,N/A,N/A,N/A,N/A,N/A,N/A,,,,,N/A,,,N/A,,,,,,null,,,,,,N/A,,,,,N/A,,,,,,,\\r\\nbank.trade_transactions.latestversionyn,,,,N/A,N/A,,N/A,N/A,N/A,N/A,N/A,N/A,N/A,,,,,N/A,,,N/A,,,,,,null,,,,,,N/A,,,,,N/A,,,,,,,\\r\\nbank.trade_transactions.status,,,,N/A,N/A,,N/A,N/A,N/A,N/A,N/A,N/A,N/A,,,,,N/A,,,N/A,,,,,,null,,,,,,N/A,,,,,N/A,,,,,,,\\r\\nbank.trade_transactions.electedsettlementsystem,,,,N/A,N/A,,N/A,N/A,N/A,N/A,N/A,N/A,N/A,,,,,N/A,,,N/A,,,,,,null,,,,,,N/A,,,,,N/A,,,,,,,\\r\\nbank.trade_transactions.electedconfirmationsystem,,,,N/A,N/A,,N/A,N/A,N/A,N/A,N/A,N/A,N/A,,,,,N/A,,,N/A,,,,,,null,,,,,,N/A,,,,,N/A,,,,,,,\\r\\nbank.trade_transactions.tradedate,,,,N/A,N/A,,N/A,N/A,N/A,N/A,N/A,N/A,N/A,,,,,N/A,,,N/A,,,,,,null,,,,,,N/A,,,,,N/A,,,,,,,\\r\\nbank.trade_transactions.book,,,,N/A,N/A,,N/A,N/A,N/A,N/A,N/A,N/A,N/A,,,,,N/A,,,N/A,,,,,,null,,,,,,N/A,,,,,N/A,,,,,,,\\r\\nbank.trade_transactions.tradetype,,,,N/A,N/A,,N/A,N/A,N/A,N/A,N/A,N/A,N/A,,,,,N/A,,,N/A,,,,,,null,,,,,,N/A,,,,,N/A,,,,,,,\\r\\nbank.trade_transactions.lastupdated,,,,N/A,N/A,,N/A,N/A,N/A,N/A,N/A,N/A,N/A,,,,,N/A,,,N/A,,,,,,null,,,,,,N/A,,,,,N/A,,,,,,,\\r\\nbank.trade_transactions.enteredby,,,,N/A,N/A,,N/A,N/A,N/A,N/A,N/A,N/A,N/A,,,,,N/A,,,N/A,,,,,,null,,,,,,N/A,,,,,N/A,,,,,,,\\r\\nbank.trade_transactions.action,,,,N/A,N/A,,N/A,N/A,N/A,N/A,N/A,N/A,N/A,,,,,N/A,,,N/A,,,,,,null,,,,,,N/A,,,,,N/A,,,,,,,\\r\\nbank.trade_transactions.counterparty,,,,N/A,N/A,,N/A,N/A,N/A,N/A,N/A,N/A,N/A,,,,,N/A,,,N/A,,,,,,null,,,,,,N/A,,,,,N/A,,,,,,,\\r\\nbank.trade_transactions.counterpartysourcesystem,,,,N/A,N/A,,N/A,N/A,N/A,N/A,N/A,N/A,N/A,,,,,N/A,,,N/A,,,,,,null,,,,,,N/A,,,,,N/A,,,,,,,\\r\\nbank.trade_transactions.datecreated,,,,N/A,N/A,,N/A,N/A,N/A,N/A,N/A,N/A,N/A,,,,,N/A,,,N/A,,,,,,null,,,,,,N/A,,,,,N/A,,,,,,,\\r\\nbank.trade_transactions.createdby,,,,N/A,N/A,,N/A,N/A,N/A,N/A,N/A,N/A,N/A,,,,,N/A,,,N/A,,,,,,null,,,,,,N/A,,,,,N/A,,,,,,,\\r\\nbank.trade_transactions.tradeid,,,,N/A,N/A,,N/A,N/A,N/A,N/A,N/A,N/A,N/A,,,,,N/A,,,N/A,,,,,,null,,,,,,N/A,,,,,N/A,,,,,,,\\r\\nbank.trade_transactions.undercurrency,,,,N/A,N/A,,N/A,N/A,N/A,N/A,N/A,N/A,N/A,,,,,N/A,,,N/A,,,,,,null,,,,,,N/A,,,,,N/A,,,,,,,\\r\\nbank.trade_transactions.acccurrency,,,,N/A,N/A,,N/A,N/A,N/A,N/A,N/A,N/A,N/A,,,,,N/A,,,N/A,,,,,,null,,,,,,N/A,,,,,N/A,,,,,,,\\r\\nbank.trade_transactions.notional,,,,N/A,N/A,,N/A,N/A,N/A,N/A,N/A,N/A,N/A,,,,,N/A,,,N/A,,,,,,null,,,,,,N/A,,,,,N/A,,,,,,,\\r\\nbank.trade_transactions.accnotional,,,,N/A,N/A,,N/A,N/A,N/A,N/A,N/A,N/A,N/A,,,,,N/A,,,N/A,,,,,,null,,,,,,N/A,,,,,N/A,,,,,,,\\r\\nbank.trade_transactions.strike,,,,N/A,N/A,,N/A,N/A,N/A,N/A,N/A,N/A,N/A,,,,,N/A,,,N/A,,,,,,null,,,,,,N/A,,,,,N/A,,,,,,,\\r\\nbank.trade_transactions.settlementdate,,,,N/A,N/A,,N/A,N/A,N/A,N/A,N/A,N/A,N/A,,,,,N/A,,,N/A,,,,,,null,,,,,,N/A,,,,,N/A,,,,,,,\\r\\nbank.trade_transactions.fixing,,,,N/A,N/A,,N/A,N/A,N/A,N/A,N/A,N/A,N/A,,,,,N/A,,,N/A,,,,,,null,,,,,,N/A,,,,,N/A,,,,,,,\\r\\nbank.trade_transactions.fixingdate,,,,N/A,N/A,,N/A,N/A,N/A,N/A,N/A,N/A,N/A,,,,,N/A,,,N/A,,,,,,null,,,,,,N/A,,,,,N/A,,,,,,,\\r\\nbank.trade_transactions.fixingreference,,,,N/A,N/A,,N/A,N/A,N/A,N/A,N/A,N/A,N/A,,,,,N/A,,,N/A,,,,,,null,,,,,,N/A,,,,,N/A,,,,,,,\\r\\nbank.trade_transactions.sourcesystem,,,,N/A,N/A,,N/A,N/A,N/A,N/A,N/A,N/A,N/A,,,,,N/A,,,N/A,,,,,,null,,,,,,N/A,,,,,N/A,,,,,,,\\r\\nbank.trade_transactions.blotter,,,,N/A,N/A,,N/A,N/A,N/A,N/A,N/A,N/A,N/A,,,,,N/A,,,N/A,,,,,,null,,,,,,N/A,,,,,N/A,,,,,,,\\r\\nbank.trade_transactions.counterpartyname,,,,N/A,N/A,,N/A,N/A,N/A,N/A,N/A,N/A,N/A,,,,,N/A,,,N/A,,,,,,null,,,,,,N/A,,,,,N/A,,,,,,,\\r\\nbank.trade_transactions.dbicounterpartyid,,,,N/A,N/A,,N/A,N/A,N/A,N/A,N/A,N/A,N/A,,,,,N/A,,,N/A,,,,,,null,,,,,,N/A,,,,,N/A,,,,,,,\\r\\nbank.trade_transactions.customer,,,,N/A,N/A,,N/A,N/A,N/A,N/A,N/A,N/A,N/A,,,,,N/A,,,N/A,,,,,,null,,,,,,N/A,,,,,N/A,,,,,,,\\r\\nbank.trade_transactions.customersourcesystem,,,,N/A,N/A,,N/A,N/A,N/A,N/A,N/A,N/A,N/A,,,,,N/A,,,N/A,,,,,,null,,,,,,N/A,,,,,N/A,,,,,,,\\r\\nbank.trade_transactions.dominantnotional,,,,N/A,N/A,,N/A,N/A,N/A,N/A,N/A,N/A,N/A,,,,,N/A,,,N/A,,,,,,null,,,,,,N/A,,,,,N/A,,,,,,,\\r\\nbank.trade_transactions.strikeasentered,,,,N/A,N/A,,N/A,N/A,N/A,N/A,N/A,N/A,N/A,,,,,N/A,,,N/A,,,,,,null,,,,,,N/A,,,,,N/A,,,,,,,\\r\\nbank.trade_transactions.striketermsasentered,,,,N/A,N/A,,N/A,N/A,N/A,N/A,N/A,N/A,N/A,,,,,N/A,,,N/A,,,,,,null,,,,,,N/A,,,,,N/A,,,,,,,\\r\\nbank.trade_transactions.traderrate,,,,N/A,N/A,,N/A,N/A,N/A,N/A,N/A,N/A,N/A,,,,,N/A,,,N/A,,,,,,null,,,,,,N/A,,,,,N/A,,,,,,,\\r\\nbank.trade_transactions.expirydate,,,,N/A,N/A,,N/A,N/A,N/A,N/A,N/A,N/A,N/A,,,,,N/A,,,N/A,,,,,,null,,,,,,N/A,,,,,N/A,,,,,,,\\r\\nbank.trade_transactions.paycurrency,,,,N/A,N/A,,N/A,N/A,N/A,N/A,N/A,N/A,N/A,,,,,N/A,,,N/A,,,,,,null,,,,,,N/A,,,,,N/A,,,,,,,\\r\\nbank.trade_transactions.quantolevel,,,,N/A,N/A,,N/A,N/A,N/A,N/A,N/A,N/A,N/A,,,,,N/A,,,N/A,,,,,,null,,,,,,N/A,,,,,N/A,,,,,,,\\r\\nbank.trade_transactions.zonecut,,,,N/A,N/A,,N/A,N/A,N/A,N/A,N/A,N/A,N/A,,,,,N/A,,,N/A,,,,,,null,,,,,,N/A,,,,,N/A,,,,,,,\\r\\nbank.trade_transactions.modeltype,,,,N/A,N/A,,N/A,N/A,N/A,N/A,N/A,N/A,N/A,,,,,N/A,,,N/A,,,,,,null,,,,,,N/A,,,,,N/A,,,,,,,\\r\\nbank.trade_transactions.futurecode,,,,N/A,N/A,,N/A,N/A,N/A,N/A,N/A,N/A,N/A,,,,,N/A,,,N/A,,,,,,null,,,,,,N/A,,,,,N/A,,,,,,,\\r\\nbank.trade_transactions.futuresexpirydate,,,,N/A,N/A,,N/A,N/A,N/A,N/A,N/A,N/A,N/A,,,,,N/A,,,N/A,,,,,,null,,,,,,N/A,,,,,N/A,,,,,,,\\r\\nbank.trade_transactions.premiumcurrency,,,,N/A,N/A,,N/A,N/A,N/A,N/A,N/A,N/A,N/A,,,,,N/A,,,N/A,,,,,,null,,,,,,N/A,,,,,N/A,,,,,,,\\r\\nbank.trade_transactions.premiumdate,,,,N/A,N/A,,N/A,N/A,N/A,N/A,N/A,N/A,N/A,,,,,N/A,,,N/A,,,,,,null,,,,,,N/A,,,,,N/A,,,,,,,\\r\\nbank.trade_transactions.premiumamount,,,,N/A,N/A,,N/A,N/A,N/A,N/A,N/A,N/A,N/A,,,,,N/A,,,N/A,,,,,,null,,,,,,N/A,,,,,N/A,,,,,,,\\r\\nbank.trade_transactions.premiumhaspaidyn,,,,N/A,N/A,,N/A,N/A,N/A,N/A,N/A,N/A,N/A,,,,,N/A,,,N/A,,,,,,null,,,,,,N/A,,,,,N/A,,,,,,,\\r\\nbank.trade_transactions.unwindrate,,,,N/A,N/A,,N/A,N/A,N/A,N/A,N/A,N/A,N/A,,,,,N/A,,,N/A,,,,,,null,,,,,,N/A,,,,,N/A,,,,,,,\\r\\nbank.trade_transactions.unwindpremiumcurrency,,,,N/A,N/A,,N/A,N/A,N/A,N/A,N/A,N/A,N/A,,,,,N/A,,,N/A,,,,,,null,,,,,,N/A,,,,,N/A,,,,,,,\\r\\nbank.trade_transactions.unwindpremiumamount,,,,N/A,N/A,,N/A,N/A,N/A,N/A,N/A,N/A,N/A,,,,,N/A,,,N/A,,,,,,null,,,,,,N/A,,,,,N/A,,,,,,,\\r\\nbank.trade_transactions.unwindpremiumdate,,,,N/A,N/A,,N/A,N/A,N/A,N/A,N/A,N/A,N/A,,,,,N/A,,,N/A,,,,,,null,,,,,,N/A,,,,,N/A,,,,,,,\\r\\nbank.trade_transactions.marginpaymentcurrency,,,,N/A,N/A,,N/A,N/A,N/A,N/A,N/A,N/A,N/A,,,,,N/A,,,N/A,,,,,,null,,,,,,N/A,,,,,N/A,,,,,,,\\r\\nbank.trade_transactions.marginpaymentamount,,,,N/A,N/A,,N/A,N/A,N/A,N/A,N/A,N/A,N/A,,,,,N/A,,,N/A,,,,,,null,,,,,,N/A,,,,,N/A,,,,,,,\\r\\nbank.trade_transactions.productid,,,,N/A,N/A,,N/A,N/A,N/A,N/A,N/A,N/A,N/A,,,,,N/A,,,N/A,,,,,,null,,,,,,N/A,,,,,N/A,,,,,,,\\r\\nbank.trade_transactions.productversion,,,,N/A,N/A,,N/A,N/A,N/A,N/A,N/A,N/A,N/A,,,,,N/A,,,N/A,,,,,,null,,,,,,N/A,,,,,N/A,,,,,,,\\r\\nbank.trade_transactions.productlegid,,,,N/A,N/A,,N/A,N/A,N/A,N/A,N/A,N/A,N/A,,,,,N/A,,,N/A,,,,,,null,,,,,,N/A,,,,,N/A,,,,,,,\\r\\nbank.trade_transactions.structureid,,,,N/A,N/A,,N/A,N/A,N/A,N/A,N/A,N/A,N/A,,,,,N/A,,,N/A,,,,,,null,,,,,,N/A,,,,,N/A,,,,,,,\\r\\nbank.trade_transactions.referencespot,,,,N/A,N/A,,N/A,N/A,N/A,N/A,N/A,N/A,N/A,,,,,N/A,,,N/A,,,,,,null,,,,,,N/A,,,,,N/A,,,,,,,\\r\\nbank.trade_transactions.referenceforwardpoints,,,,N/A,N/A,,N/A,N/A,N/A,N/A,N/A,N/A,N/A,,,,,N/A,,,N/A,,,,,,null,,,,,,N/A,,,,,N/A,,,,,,,\\r\\nbank.trade_transactions.referencevolatility,,,,N/A,N/A,,N/A,N/A,N/A,N/A,N/A,N/A,N/A,,,,,N/A,,,N/A,,,,,,null,,,,,,N/A,,,,,N/A,,,,,,,\\r\\nbank.trade_transactions.referencedeporate,,,,N/A,N/A,,N/A,N/A,N/A,N/A,N/A,N/A,N/A,,,,,N/A,,,N/A,,,,,,null,,,,,,N/A,,,,,N/A,,,,,,,\\r\\nbank.trade_transactions.referencedepocurrency,,,,N/A,N/A,,N/A,N/A,N/A,N/A,N/A,N/A,N/A,,,,,N/A,,,N/A,,,,,,null,,,,,,N/A,,,,,N/A,,,,,,,\\r\\nbank.trade_transactions.referencedelta,,,,N/A,N/A,,N/A,N/A,N/A,N/A,N/A,N/A,N/A,,,,,N/A,,,N/A,,,,,,null,,,,,,N/A,,,,,N/A,,,,,,,\\r\\nbank.trade_transactions.referencedeltacurrency,,,,N/A,N/A,,N/A,N/A,N/A,N/A,N/A,N/A,N/A,,,,,N/A,,,N/A,,,,,,null,,,,,,N/A,,,,,N/A,,,,,,,\\r\\nbank.trade_transactions.assetlocation,,,,N/A,N/A,,N/A,N/A,N/A,N/A,N/A,N/A,N/A,,,,,N/A,,,N/A,,,,,,null,,,,,,N/A,,,,,N/A,,,,,,,\\r\\nbank.trade_transactions.actioneffectivedate,,,,N/A,N/A,,N/A,N/A,N/A,N/A,N/A,N/A,N/A,,,,,N/A,,,N/A,,,,,,null,,,,,,N/A,,,,,N/A,,,,,,,\\r\\nbank.trade_transactions.sourcesystembook,,,,N/A,N/A,,N/A,N/A,N/A,N/A,N/A,N/A,N/A,,,,,N/A,,,N/A,,,,,,null,,,,,,N/A,,,,,N/A,,,,,,,\\r\\nbank.trade_transactions.sourcesystemprofitcentre,,,,N/A,N/A,,N/A,N/A,N/A,N/A,N/A,N/A,N/A,,,,,N/A,,,N/A,,,,,,null,,,,,,N/A,,,,,N/A,,,,,,,\\r\\nbank.trade_transactions.salesperson,,,,N/A,N/A,,N/A,N/A,N/A,N/A,N/A,N/A,N/A,,,,,N/A,,,N/A,,,,,,null,,,,,,N/A,,,,,N/A,,,,,,,\\r\\nbank.trade_transactions.trader,,,,N/A,N/A,,N/A,N/A,N/A,N/A,N/A,N/A,N/A,,,,,N/A,,,N/A,,,,,,null,,,,,,N/A,,,,,N/A,,,,,,,\\r\\nbank.trade_transactions.fundsplitid,,,,N/A,N/A,,N/A,N/A,N/A,N/A,N/A,N/A,N/A,,,,,N/A,,,N/A,,,,,,null,,,,,,N/A,,,,,N/A,,,,,,,\\r\\nbank.trade_transactions.fundsplitversion,,,,N/A,N/A,,N/A,N/A,N/A,N/A,N/A,N/A,N/A,,,,,N/A,,,N/A,,,,,,null,,,,,,N/A,,,,,N/A,,,,,,,\\r\\nbank.trade_transactions.structurename,,,,N/A,N/A,,N/A,N/A,N/A,N/A,N/A,N/A,N/A,,,,,N/A,,,N/A,,,,,,null,,,,,,N/A,,,,,N/A,,,,,,,\\r\\nbank.trade_transactions.markupamt,,,,N/A,N/A,,N/A,N/A,N/A,N/A,N/A,N/A,N/A,,,,,N/A,,,N/A,,,,,,null,,,,,,N/A,,,,,N/A,,,,,,,\\r\\nbank.trade_transactions.markupccy,,,,N/A,N/A,,N/A,N/A,N/A,N/A,N/A,N/A,N/A,,,,,N/A,,,N/A,,,,,,null,,,,,,N/A,,,,,N/A,,,,,,,\\r\\nbank.trade_transactions.markuplocation,,,,N/A,N/A,,N/A,N/A,N/A,N/A,N/A,N/A,N/A,,,,,N/A,,,N/A,,,,,,null,,,,,,N/A,,,,,N/A,,,,,,,\\r\\nbank.trade_transactions.atriskamt,,,,N/A,N/A,,N/A,N/A,N/A,N/A,N/A,N/A,N/A,,,,,N/A,,,N/A,,,,,,null,,,,,,N/A,,,,,N/A,,,,,,,\\r\\nbank.trade_transactions.atriskccy,,,,N/A,N/A,,N/A,N/A,N/A,N/A,N/A,N/A,N/A,,,,,N/A,,,N/A,,,,,,null,,,,,,N/A,,,,,N/A,,,,,,,\\r\\nbank.trade_transactions.atrisklocation,,,,N/A,N/A,,N/A,N/A,N/A,N/A,N/A,N/A,N/A,,,,,N/A,,,N/A,,,,,,null,,,,,,N/A,,,,,N/A,,,,,,,\\r\\nbank.trade_transactions.atriskindicator,,,,N/A,N/A,,N/A,N/A,N/A,N/A,N/A,N/A,N/A,,,,,N/A,,,N/A,,,,,,null,,,,,,N/A,,,,,N/A,,,,,,,\\r\\nbank.trade_transactions.reason,,,,N/A,N/A,,N/A,N/A,N/A,N/A,N/A,N/A,N/A,,,,,N/A,,,N/A,,,,,,null,,,,,,N/A,,,,,N/A,,,,,,,\\r\\nbank.trade_transactions.notes,,,,N/A,N/A,,N/A,N/A,N/A,N/A,N/A,N/A,N/A,,,,,N/A,,,N/A,,,,,,null,,,,,,N/A,,,,,N/A,,,,,,,\\r\\nbank.trade_transactions.broker,,,,N/A,N/A,,N/A,N/A,N/A,N/A,N/A,N/A,N/A,,,,,N/A,,,N/A,,,,,,null,,,,,,N/A,,,,,N/A,,,,,,,\\r\\nbank.trade_transactions.brokeramt,,,,N/A,N/A,,N/A,N/A,N/A,N/A,N/A,N/A,N/A,,,,,N/A,,,N/A,,,,,,null,,,,,,N/A,,,,,N/A,,,,,,,\\r\\nbank.trade_transactions.brokerccy,,,,N/A,N/A,,N/A,N/A,N/A,N/A,N/A,N/A,N/A,,,,,N/A,,,N/A,,,,,,null,,,,,,N/A,,,,,N/A,,,,,,,\\r\\nbank.trade_transactions.linksystemid,,,,N/A,N/A,,N/A,N/A,N/A,N/A,N/A,N/A,N/A,,,,,N/A,,,N/A,,,,,,null,,,,,,N/A,,,,,N/A,,,,,,,\\r\\nbank.trade_transactions.linktype,,,,N/A,N/A,,N/A,N/A,N/A,N/A,N/A,N/A,N/A,,,,,N/A,,,N/A,,,,,,null,,,,,,N/A,,,,,N/A,,,,,,,\\r\\nbank.trade_transactions.sourcesystemid,,,,N/A,N/A,,N/A,N/A,N/A,N/A,N/A,N/A,N/A,,,,,N/A,,,N/A,,,,,,null,,,,,,N/A,,,,,N/A,,,,,,,\\r\\nbank.trade_transactions.confirmas,,,,N/A,N/A,,N/A,N/A,N/A,N/A,N/A,N/A,N/A,,,,,N/A,,,N/A,,,,,,null,,,,,,N/A,,,,,N/A,,,,,,,\\r\\nbank.trade_transactions.cancelssourcesystemid,,,,N/A,N/A,,N/A,N/A,N/A,N/A,N/A,N/A,N/A,,,,,N/A,,,N/A,,,,,,null,,,,,,N/A,,,,,N/A,,,,,,,\\r\\nbank.trade_transactions.cancelledbysourcesystemid,,,,N/A,N/A,,N/A,N/A,N/A,N/A,N/A,N/A,N/A,,,,,N/A,,,N/A,,,,,,null,,,,,,N/A,,,,,N/A,,,,,,,\\r\\nbank.trade_transactions.cancellinghalfsourcesystemid,,,,N/A,N/A,,N/A,N/A,N/A,N/A,N/A,N/A,N/A,,,,,N/A,,,N/A,,,,,,null,,,,,,N/A,,,,,N/A,,,,,,,\\r\\nbank.trade_transactions.correctssourcesystemid,,,,N/A,N/A,,N/A,N/A,N/A,N/A,N/A,N/A,N/A,,,,,N/A,,,N/A,,,,,,null,,,,,,N/A,,,,,N/A,,,,,,,\\r\\nbank.trade_transactions.correctedbysourcesystemid,,,,N/A,N/A,,N/A,N/A,N/A,N/A,N/A,N/A,N/A,,,,,N/A,,,N/A,,,,,,null,,,,,,N/A,,,,,N/A,,,,,,,\\r\\nbank.trade_transactions.closessourcesystemid,,,,N/A,N/A,,N/A,N/A,N/A,N/A,N/A,N/A,N/A,,,,,N/A,,,N/A,,,,,,null,,,,,,N/A,,,,,N/A,,,,,,,\\r\\nbank.trade_transactions.closedbysourcesystemid,,,,N/A,N/A,,N/A,N/A,N/A,N/A,N/A,N/A,N/A,,,,,N/A,,,N/A,,,,,,null,,,,,,N/A,,,,,N/A,,,,,,,\\r\\nbank.trade_transactions.exercisedfromsourcesystemid,,,,N/A,N/A,,N/A,N/A,N/A,N/A,N/A,N/A,N/A,,,,,N/A,,,N/A,,,,,,null,,,,,,N/A,,,,,N/A,,,,,,,\\r\\nbank.trade_transactions.closingdate,,,,N/A,N/A,,N/A,N/A,N/A,N/A,N/A,N/A,N/A,,,,,N/A,,,N/A,,,,,,null,,,,,,N/A,,,,,N/A,,,,,,,\\r\\nbank.trade_transactions.legalentity,,,,N/A,N/A,,N/A,N/A,N/A,N/A,N/A,N/A,N/A,,,,,N/A,,,N/A,,,,,,null,,,,,,N/A,,,,,N/A,,,,,,,\\r\\nbank.trade_transactions.dealcapturesystem,,,,N/A,N/A,,N/A,N/A,N/A,N/A,N/A,N/A,N/A,,,,,N/A,,,N/A,,,,,,null,,,,,,N/A,,,,,N/A,,,,,,,\\r\\nbank.trade_transactions.dealcapturesystemid,,,,N/A,N/A,,N/A,N/A,N/A,N/A,N/A,N/A,N/A,,,,,N/A,,,N/A,,,,,,null,,,,,,N/A,,,,,N/A,,,,,,,\\r\\nbank.trade_transactions.bookinglocation,,,,N/A,N/A,,N/A,N/A,N/A,N/A,N/A,N/A,N/A,,,,,N/A,,,N/A,,,,,,null,,,,,,N/A,,,,,N/A,,,,,,,\\r\\nbank.trade_transactions.producttype,,,,N/A,N/A,,N/A,N/A,N/A,N/A,N/A,N/A,N/A,,,,,N/A,,,N/A,,,,,,null,,,,,,N/A,,,,,N/A,,,,,,,\\r\\nbank.trade_transactions.productinstance,,,,N/A,N/A,,N/A,N/A,N/A,N/A,N/A,N/A,N/A,,,,,N/A,,,N/A,,,,,,null,,,,,,N/A,,,,,N/A,,,,,,,\\r\\nbank.trade_transactions.backofficesystem,,,,N/A,N/A,,N/A,N/A,N/A,N/A,N/A,N/A,N/A,,,,,N/A,,,N/A,,,,,,null,,,,,,N/A,,,,,N/A,,,,,,,\\r\\nbank.trade_transactions.backofficesystemid,,,,N/A,N/A,,N/A,N/A,N/A,N/A,N/A,N/A,N/A,,,,,N/A,,,N/A,,,,,,null,,,,,,N/A,,,,,N/A,,,,,,,\\r\\nbank.trade_transactions.versionvaliduntildate,,,,N/A,N/A,,N/A,N/A,N/A,N/A,N/A,N/A,N/A,,,,,N/A,,,N/A,,,,,,null,,,,,,N/A,,,,,N/A,,,,,,,\\r\\nbank.trade_transactions.tradeextradetailid,,,,N/A,N/A,,N/A,N/A,N/A,N/A,N/A,N/A,N/A,,,,,N/A,,,N/A,,,,,,null,,,,,,N/A,,,,,N/A,,,,,,,\\r\\nbank.trade_transactions.tradeextradetailversion,,,,N/A,N/A,,N/A,N/A,N/A,N/A,N/A,N/A,N/A,,,,,N/A,,,N/A,,,,,,null,,,,,,N/A,,,,,N/A,,,,,,,\\r\\nbank.trade_transactions.tradeclassification,,,,N/A,N/A,,N/A,N/A,N/A,N/A,N/A,N/A,N/A,,,,,N/A,,,N/A,,,,,,null,,,,,,N/A,,,,,N/A,,,,,,,\\r\\nbank.trade_transactions.dealcapturesalesuser,,,,N/A,N/A,,N/A,N/A,N/A,N/A,N/A,N/A,N/A,,,,,N/A,,,N/A,,,,,,null,,,,,,N/A,,,,,N/A,,,,,,,\\r\\nbank.trade_transactions.fundsplitallocationid,,,,N/A,N/A,,N/A,N/A,N/A,N/A,N/A,N/A,N/A,,,,,N/A,,,N/A,,,,,,null,,,,,,N/A,,,,,N/A,,,,,,,\\r\\nbank.trade_transactions.fundsplitallocationlegid,,,,N/A,N/A,,N/A,N/A,N/A,N/A,N/A,N/A,N/A,,,,,N/A,,,N/A,,,,,,null,,,,,,N/A,,,,,N/A,,,,,,,\\r\\nbank.trade_transactions.generaterisksweeptradeyn,,,,N/A,N/A,,N/A,N/A,N/A,N/A,N/A,N/A,N/A,,,,,N/A,,,N/A,,,,,,null,,,,,,N/A,,,,,N/A,,,,,,,\\r\\nbank.trade_transactions.risksweeptradetype,,,,N/A,N/A,,N/A,N/A,N/A,N/A,N/A,N/A,N/A,,,,,N/A,,,N/A,,,,,,null,,,,,,N/A,,,,,N/A,,,,,,,\\r\\nbank.trade_transactions.risksweepstrike,,,,N/A,N/A,,N/A,N/A,N/A,N/A,N/A,N/A,N/A,,,,,N/A,,,N/A,,,,,,null,,,,,,N/A,,,,,N/A,,,,,,,\\r\\nbank.trade_transactions.risksweepsettlementdate,,,,N/A,N/A,,N/A,N/A,N/A,N/A,N/A,N/A,N/A,,,,,N/A,,,N/A,,,,,,null,,,,,,N/A,,,,,N/A,,,,,,,\\r\\nbank.trade_transactions.risksweepbook,,,,N/A,N/A,,N/A,N/A,N/A,N/A,N/A,N/A,N/A,,,,,N/A,,,N/A,,,,,,null,,,,,,N/A,,,,,N/A,,,,,,,\\r\\nbank.trade_transactions.risksweepundercurrency,,,,N/A,N/A,,N/A,N/A,N/A,N/A,N/A,N/A,N/A,,,,,N/A,,,N/A,,,,,,null,,,,,,N/A,,,,,N/A,,,,,,,\\r\\nbank.trade_transactions.risksweepacccurrency,,,,N/A,N/A,,N/A,N/A,N/A,N/A,N/A,N/A,N/A,,,,,N/A,,,N/A,,,,,,null,,,,,,N/A,,,,,N/A,,,,,,,\\r\\nbank.trade_transactions.risksweeplinkmastersystemid,,,,N/A,N/A,,N/A,N/A,N/A,N/A,N/A,N/A,N/A,,,,,N/A,,,N/A,,,,,,null,,,,,,N/A,,,,,N/A,,,,,,,\\r\\nbank.trade_transactions.spotpricinglocation,,,,N/A,N/A,,N/A,N/A,N/A,N/A,N/A,N/A,N/A,,,,,N/A,,,N/A,,,,,,null,,,,,,N/A,,,,,N/A,,,,,,,\\r\\nbank.trade_transactions.forwardpricinglocation,,,,N/A,N/A,,N/A,N/A,N/A,N/A,N/A,N/A,N/A,,,,,N/A,,,N/A,,,,,,null,,,,,,N/A,,,,,N/A,,,,,,,\\r\\nbank.trade_transactions.settlementlegalentitylocation,,,,N/A,N/A,,N/A,N/A,N/A,N/A,N/A,N/A,N/A,,,,,N/A,,,N/A,,,,,,null,,,,,,N/A,,,,,N/A,,,,,,,\\r\\nbank.trade_transactions.locallegalentitysettlementyn,,,,N/A,N/A,,N/A,N/A,N/A,N/A,N/A,N/A,N/A,,,,,N/A,,,N/A,,,,,,null,,,,,,N/A,,,,,N/A,,,,,,,\\r\\nbank.trade_transactions.riskholdingbook,,,,N/A,N/A,,N/A,N/A,N/A,N/A,N/A,N/A,N/A,,,,,N/A,,,N/A,,,,,,null,,,,,,N/A,,,,,N/A,,,,,,,\\r\\nbank.trade_transactions.riskholdinglinkmastersystemid,,,,N/A,N/A,,N/A,N/A,N/A,N/A,N/A,N/A,N/A,,,,,N/A,,,N/A,,,,,,null,,,,,,N/A,,,,,N/A,,,,,,,\\r\\nbank.trade_transactions.generatebacktobacktradeyn,,,,N/A,N/A,,N/A,N/A,N/A,N/A,N/A,N/A,N/A,,,,,N/A,,,N/A,,,,,,null,,,,,,N/A,,,,,N/A,,,,,,,\\r\\nbank.trade_transactions.childforwardpips,,,,N/A,N/A,,N/A,N/A,N/A,N/A,N/A,N/A,N/A,,,,,N/A,,,N/A,,,,,,null,,,,,,N/A,,,,,N/A,,,,,,,\\r\\nbank.trade_transactions.childmarginpips,,,,N/A,N/A,,N/A,N/A,N/A,N/A,N/A,N/A,N/A,,,,,N/A,,,N/A,,,,,,null,,,,,,N/A,,,,,N/A,,,,,,,\\r\\nbank.trade_transactions.scalingfactor,,,,N/A,N/A,,N/A,N/A,N/A,N/A,N/A,N/A,N/A,,,,,N/A,,,N/A,,,,,,null,,,,,,N/A,,,,,N/A,,,,,,,\\r\\nbank.trade_transactions.risksweepclientstrike,,,,N/A,N/A,,N/A,N/A,N/A,N/A,N/A,N/A,N/A,,,,,N/A,,,N/A,,,,,,null,,,,,,N/A,,,,,N/A,,,,,,,\\r\\nbank.trade_transactions.internalgroupid,,,,N/A,N/A,,N/A,N/A,N/A,N/A,N/A,N/A,N/A,,,,,N/A,,,N/A,,,,,,null,,,,,,N/A,,,,,N/A,,,,,,,\\r\\nbank.trade_transactions.originalsettlementdate,,,,N/A,N/A,,N/A,N/A,N/A,N/A,N/A,N/A,N/A,,,,,N/A,,,N/A,,,,,,null,,,,,,N/A,,,,,N/A,,,,,,,\\r\\nbank.trade_transactions.tearupid,,,,N/A,N/A,,N/A,N/A,N/A,N/A,N/A,N/A,N/A,,,,,N/A,,,N/A,,,,,,null,,,,,,N/A,,,,,N/A,,,,,,,\\r\\nbank.trade_transactions.electedconfirmationruleid,,,,N/A,N/A,,N/A,N/A,N/A,N/A,N/A,N/A,N/A,,,,,N/A,,,N/A,,,,,,null,,,,,,N/A,,,,,N/A,,,,,,,\\r\\nbank.trade_transactions.previousconfirmationsystem,,,,N/A,N/A,,N/A,N/A,N/A,N/A,N/A,N/A,N/A,,,,,N/A,,,N/A,,,,,,null,,,,,,N/A,,,,,N/A,,,,,,,\\r\\nbank.trade_transactions.electedsettlementruleid,,,,N/A,N/A,,N/A,N/A,N/A,N/A,N/A,N/A,N/A,,,,,N/A,,,N/A,,,,,,null,,,,,,N/A,,,,,N/A,,,,,,,\\r\\nbank.trade_transactions.previoussettlementsystem,,,,N/A,N/A,,N/A,N/A,N/A,N/A,N/A,N/A,N/A,,,,,N/A,,,N/A,,,,,,null,,,,,,N/A,,,,,N/A,,,,,,,\\r\\nbank.trade_transactions.drawdownstartdate,,,,N/A,N/A,,N/A,N/A,N/A,N/A,N/A,N/A,N/A,,,,,N/A,,,N/A,,,,,,null,,,,,,N/A,,,,,N/A,,,,,,,\\r\\nbank.trade_transactions.optionpricinglocation,,,,N/A,N/A,,N/A,N/A,N/A,N/A,N/A,N/A,N/A,,,,,N/A,,,N/A,,,,,,null,,,,,,N/A,,,,,N/A,,,,,,,\\r\\nbank.trade_transactions.riskbtbgloballegstatus,,,,N/A,N/A,,N/A,N/A,N/A,N/A,N/A,N/A,N/A,,,,,N/A,,,N/A,,,,,,null,,,,,,N/A,,,,,N/A,,,,,,,\\r\\nbank.trade_transactions.fromlinktype,,,,N/A,N/A,,N/A,N/A,N/A,N/A,N/A,N/A,N/A,,,,,N/A,,,N/A,,,,,,null,,,,,,N/A,,,,,N/A,,,,,,,\\r\\nbank.trade_transactions.tolinktype,,,,N/A,N/A,,N/A,N/A,N/A,N/A,N/A,N/A,N/A,,,,,N/A,,,N/A,,,,,,null,,,,,,N/A,,,,,N/A,,,,,,,\\r\\nbank.trade_transactions.clearingccp,,,,N/A,N/A,,N/A,N/A,N/A,N/A,N/A,N/A,N/A,,,,,N/A,,,N/A,,,,,,null,,,,,,N/A,,,,,N/A,,,,,,,\\r\\nbank.trade_transactions.clearingstatus,,,,N/A,N/A,,N/A,N/A,N/A,N/A,N/A,N/A,N/A,,,,,N/A,,,N/A,,,,,,null,,,,,,N/A,,,,,N/A,,,,,,,\\r\\nbank.trade_transactions.clearingeligibleyn,,,,N/A,N/A,,N/A,N/A,N/A,N/A,N/A,N/A,N/A,,,,,N/A,,,N/A,,,,,,null,,,,,,N/A,,,,,N/A,,,,,,,\\r\\nbank.trade_transactions.settlementcounterparty,,,,N/A,N/A,,N/A,N/A,N/A,N/A,N/A,N/A,N/A,,,,,N/A,,,N/A,,,,,,null,,,,,,N/A,,,,,N/A,,,,,,,\\r\\nbank.trade_transactions.settlementcptysourcesystem,,,,N/A,N/A,,N/A,N/A,N/A,N/A,N/A,N/A,N/A,,,,,N/A,,,N/A,,,,,,null,,,,,,N/A,,,,,N/A,,,,,,,\\r\\nbank.trade_transactions.originalcounterparty,,,,N/A,N/A,,N/A,N/A,N/A,N/A,N/A,N/A,N/A,,,,,N/A,,,N/A,,,,,,null,,,,,,N/A,,,,,N/A,,,,,,,\\r\\nbank.trade_transactions.originalcptysourcesystem,,,,N/A,N/A,,N/A,N/A,N/A,N/A,N/A,N/A,N/A,,,,,N/A,,,N/A,,,,,,null,,,,,,N/A,,,,,N/A,,,,,,,\\r\\nbank.trade_transactions.clearinghousetradeid,,,,N/A,N/A,,N/A,N/A,N/A,N/A,N/A,N/A,N/A,,,,,N/A,,,N/A,,,,,,null,,,,,,N/A,,,,,N/A,,,,,,,\\r\\nbank.trade_transactions.matchertradeid,,,,N/A,N/A,,N/A,N/A,N/A,N/A,N/A,N/A,N/A,,,,,N/A,,,N/A,,,,,,null,,,,,,N/A,,,,,N/A,,,,,,,\\r\\nbank.trade_transactions.latestsource,,,,N/A,N/A,,N/A,N/A,N/A,N/A,N/A,N/A,N/A,,,,,N/A,,,N/A,,,,,,null,,,,,,N/A,,,,,N/A,,,,,,,\\r\\nbank.trade_transactions.latestexecutingplatform,,,,N/A,N/A,,N/A,N/A,N/A,N/A,N/A,N/A,N/A,,,,,N/A,,,N/A,,,,,,null,,,,,,N/A,,,,,N/A,,,,,,,\\r\\nbank.trade_transactions.rmssource,,,,N/A,N/A,,N/A,N/A,N/A,N/A,N/A,N/A,N/A,,,,,N/A,,,N/A,,,,,,null,,,,,,N/A,,,,,N/A,,,,,,,\\r\\nbank.trade_transactions.structurer,,,,N/A,N/A,,N/A,N/A,N/A,N/A,N/A,N/A,N/A,,,,,N/A,,,N/A,,,,,,null,,,,,,N/A,,,,,N/A,,,,,,,\\r\\nbank.trade_transactions.originalexecutingplatform,,,,N/A,N/A,,N/A,N/A,N/A,N/A,N/A,N/A,N/A,,,,,N/A,,,N/A,,,,,,null,,,,,,N/A,,,,,N/A,,,,,,,\\r\\nbank.trade_transactions.originalsource,,,,N/A,N/A,,N/A,N/A,N/A,N/A,N/A,N/A,N/A,,,,,N/A,,,N/A,,,,,,null,,,,,,N/A,,,,,N/A,,,,,,,\\r\\nbank.trade_transactions.marketspread,,,,N/A,N/A,,N/A,N/A,N/A,N/A,N/A,N/A,N/A,,,,,N/A,,,N/A,,,,,,null,,,,,,N/A,,,,,N/A,,,,,,,\\r\\nbank.trade_transactions.atriskadditionalamt,,,,N/A,N/A,,N/A,N/A,N/A,N/A,N/A,N/A,N/A,,,,,N/A,,,N/A,,,,,,null,,,,,,N/A,,,,,N/A,,,,,,,\\r\\nbank.trade_transactions.matcherblockid,,,,N/A,N/A,,N/A,N/A,N/A,N/A,N/A,N/A,N/A,,,,,N/A,,,N/A,,,,,,null,,,,,,N/A,,,,,N/A,,,,,,,\\r\\nbank.trade_transactions.clearingcancelstatus,,,,N/A,N/A,,N/A,N/A,N/A,N/A,N/A,N/A,N/A,,,,,N/A,,,N/A,,,,,,null,,,,,,N/A,,,,,N/A,,,,,,,\\r\\nbank.trade_transactions.clearingclientsourcesystem,,,,N/A,N/A,,N/A,N/A,N/A,N/A,N/A,N/A,N/A,,,,,N/A,,,N/A,,,,,,null,,,,,,N/A,,,,,N/A,,,,,,,\\r\\nbank.trade_transactions.clearingclient,,,,N/A,N/A,,N/A,N/A,N/A,N/A,N/A,N/A,N/A,,,,,N/A,,,N/A,,,,,,null,,,,,,N/A,,,,,N/A,,,,,,,\\r\\nbank.trade_transactions.clearingfundnamesourcesystem,,,,N/A,N/A,,N/A,N/A,N/A,N/A,N/A,N/A,N/A,,,,,N/A,,,N/A,,,,,,null,,,,,,N/A,,,,,N/A,,,,,,,\\r\\nbank.trade_transactions.clearingfundname,,,,N/A,N/A,,N/A,N/A,N/A,N/A,N/A,N/A,N/A,,,,,N/A,,,N/A,,,,,,null,,,,,,N/A,,,,,N/A,,,,,,,\\r\\nbank.trade_transactions.clientcbsourcesystem,,,,N/A,N/A,,N/A,N/A,N/A,N/A,N/A,N/A,N/A,,,,,N/A,,,N/A,,,,,,null,,,,,,N/A,,,,,N/A,,,,,,,\\r\\nbank.trade_transactions.clientclearingbroker,,,,N/A,N/A,,N/A,N/A,N/A,N/A,N/A,N/A,N/A,,,,,N/A,,,N/A,,,,,,null,,,,,,N/A,,,,,N/A,,,,,,,\\r\\nbank.trade_transactions.matcher,,,,N/A,N/A,,N/A,N/A,N/A,N/A,N/A,N/A,N/A,,,,,N/A,,,N/A,,,,,,null,,,,,,N/A,,,,,N/A,,,,,,,\\r\\nbank.trade_transactions.clearingbrokeryn,,,,N/A,N/A,,N/A,N/A,N/A,N/A,N/A,N/A,N/A,,,,,N/A,,,N/A,,,,,,null,,,,,,N/A,,,,,N/A,,,,,,,\\r\\nbank.trade_transactions.nextfixingdate,,,,N/A,N/A,,N/A,N/A,N/A,N/A,N/A,N/A,N/A,,,,,N/A,,,N/A,,,,,,null,,,,,,N/A,,,,,N/A,,,,,,,\\r\\nbank.trade_transactions.fundedindexfixingref,,,,N/A,N/A,,N/A,N/A,N/A,N/A,N/A,N/A,N/A,,,,,N/A,,,N/A,,,,,,null,,,,,,N/A,,,,,N/A,,,,,,,\\r\\nbank.trade_transactions.lastfundedindexfixing,,,,N/A,N/A,,N/A,N/A,N/A,N/A,N/A,N/A,N/A,,,,,N/A,,,N/A,,,,,,null,,,,,,N/A,,,,,N/A,,,,,,,\\r\\nbank.trade_transactions.excessreturnindexfixingref,,,,N/A,N/A,,N/A,N/A,N/A,N/A,N/A,N/A,N/A,,,,,N/A,,,N/A,,,,,,null,,,,,,N/A,,,,,N/A,,,,,,,\\r\\nbank.trade_transactions.lastexcessreturnindexfixing,,,,N/A,N/A,,N/A,N/A,N/A,N/A,N/A,N/A,N/A,,,,,N/A,,,N/A,,,,,,null,,,,,,N/A,,,,,N/A,,,,,,,\\r\\nbank.trade_transactions.returnleverage,,,,N/A,N/A,,N/A,N/A,N/A,N/A,N/A,N/A,N/A,,,,,N/A,,,N/A,,,,,,null,,,,,,N/A,,,,,N/A,,,,,,,\\r\\nbank.trade_transactions.fixingcities,,,,N/A,N/A,,N/A,N/A,N/A,N/A,N/A,N/A,N/A,,,,,N/A,,,N/A,,,,,,null,,,,,,N/A,,,,,N/A,,,,,,,\\r\\nbank.trade_transactions.usinamespace,,,,N/A,N/A,,N/A,N/A,N/A,N/A,N/A,N/A,N/A,,,,,N/A,,,N/A,,,,,,null,,,,,,N/A,,,,,N/A,,,,,,,\\r\\nbank.trade_transactions.usileg,,,,N/A,N/A,,N/A,N/A,N/A,N/A,N/A,N/A,N/A,,,,,N/A,,,N/A,,,,,,null,,,,,,N/A,,,,,N/A,,,,,,,\\r\\nbank.trade_transactions.usiproduct,,,,N/A,N/A,,N/A,N/A,N/A,N/A,N/A,N/A,N/A,,,,,N/A,,,N/A,,,,,,null,,,,,,N/A,,,,,N/A,,,,,,,\\r\\nbank.trade_transactions.dbppid,,,,N/A,N/A,,N/A,N/A,N/A,N/A,N/A,N/A,N/A,,,,,N/A,,,N/A,,,,,,null,,,,,,N/A,,,,,N/A,,,,,,,\\r\\nbank.trade_transactions.dbphysicalproduct,,,,N/A,N/A,,N/A,N/A,N/A,N/A,N/A,N/A,N/A,,,,,N/A,,,N/A,,,,,,null,,,,,,N/A,,,,,N/A,,,,,,,\\r\\nbank.trade_transactions.dbrpid,,,,N/A,N/A,,N/A,N/A,N/A,N/A,N/A,N/A,N/A,,,,,N/A,,,N/A,,,,,,null,,,,,,N/A,,,,,N/A,,,,,,,\\r\\nbank.trade_transactions.dbriskproduct,,,,N/A,N/A,,N/A,N/A,N/A,N/A,N/A,N/A,N/A,,,,,N/A,,,N/A,,,,,,null,,,,,,N/A,,,,,N/A,,,,,,,\\r\\nbank.trade_transactions.exercisedintosourcesystemid,,,,N/A,N/A,,N/A,N/A,N/A,N/A,N/A,N/A,N/A,,,,,N/A,,,N/A,,,,,,null,,,,,,N/A,,,,,N/A,,,,,,,\\r\\nbank.trade_transactions_rms.systemid,,,,N/A,N/A,,N/A,N/A,N/A,N/A,N/A,N/A,N/A,,,,,N/A,,,N/A,,,,,,null,,,,,,N/A,,,,,N/A,,,,,,,\\r\\nbank.trade_transactions_rms.version,,,,N/A,N/A,,N/A,N/A,N/A,N/A,N/A,N/A,N/A,,,,,N/A,,,N/A,,,,,,null,,,,,,N/A,,,,,N/A,,,,,,,\\r\\nbank.trade_transactions_rms.latestversionyn,,,,N/A,N/A,,N/A,N/A,N/A,N/A,N/A,N/A,N/A,,,,,N/A,,,N/A,,,,,,null,,,,,,N/A,,,,,N/A,,,,,,,\\r\\nbank.trade_transactions_rms.status,,,,N/A,N/A,,N/A,N/A,N/A,N/A,N/A,N/A,N/A,,,,,N/A,,,N/A,,,,,,null,,,,,,N/A,,,,,N/A,,,,,,,\\r\\nbank.trade_transactions_rms.electedsettlementsystem,,,,N/A,N/A,,N/A,N/A,N/A,N/A,N/A,N/A,N/A,,,,,N/A,,,N/A,,,,,,null,,,,,,N/A,,,,,N/A,,,,,,,\\r\\nbank.trade_transactions_rms.electedconfirmationsystem,,,,N/A,N/A,,N/A,N/A,N/A,N/A,N/A,N/A,N/A,,,,,N/A,,,N/A,,,,,,null,,,,,,N/A,,,,,N/A,,,,,,,\\r\\nbank.trade_transactions_rms.tradedate,,,,N/A,N/A,,N/A,N/A,N/A,N/A,N/A,N/A,N/A,,,,,N/A,,,N/A,,,,,,null,,,,,,N/A,,,,,N/A,,,,,,,\\r\\nbank.trade_transactions_rms.book,,,,N/A,N/A,,N/A,N/A,N/A,N/A,N/A,N/A,N/A,,,,,N/A,,,N/A,,,,,,null,,,,,,N/A,,,,,N/A,,,,,,,\\r\\nbank.trade_transactions_rms.tradetype,,,,N/A,N/A,,N/A,N/A,N/A,N/A,N/A,N/A,N/A,,,,,N/A,,,N/A,,,,,,null,,,,,,N/A,,,,,N/A,,,,,,,\\r\\nbank.trade_transactions_rms.lastupdated,,,,N/A,N/A,,N/A,N/A,N/A,N/A,N/A,N/A,N/A,,,,,N/A,,,N/A,,,,,,null,,,,,,N/A,,,,,N/A,,,,,,,\\r\\nbank.trade_transactions_rms.enteredby,,,,N/A,N/A,,N/A,N/A,N/A,N/A,N/A,N/A,N/A,,,,,N/A,,,N/A,,,,,,null,,,,,,N/A,,,,,N/A,,,,,,,\\r\\nbank.trade_transactions_rms.action,,,,N/A,N/A,,N/A,N/A,N/A,N/A,N/A,N/A,N/A,,,,,N/A,,,N/A,,,,,,null,,,,,,N/A,,,,,N/A,,,,,,,\\r\\nbank.trade_transactions_rms.counterparty,,,,N/A,N/A,,N/A,N/A,N/A,N/A,N/A,N/A,N/A,,,,,N/A,,,N/A,,,,,,null,,,,,,N/A,,,,,N/A,,,,,,,\\r\\nbank.trade_transactions_rms.counterpartysourcesystem,,,,N/A,N/A,,N/A,N/A,N/A,N/A,N/A,N/A,N/A,,,,,N/A,,,N/A,,,,,,null,,,,,,N/A,,,,,N/A,,,,,,,\\r\\nbank.trade_transactions_rms.datecreated,,,,N/A,N/A,,N/A,N/A,N/A,N/A,N/A,N/A,N/A,,,,,N/A,,,N/A,,,,,,null,,,,,,N/A,,,,,N/A,,,,,,,\\r\\nbank.trade_transactions_rms.createdby,,,,N/A,N/A,,N/A,N/A,N/A,N/A,N/A,N/A,N/A,,,,,N/A,,,N/A,,,,,,null,,,,,,N/A,,,,,N/A,,,,,,,\\r\\nbank.trade_transactions_rms.tradeid,,,,N/A,N/A,,N/A,N/A,N/A,N/A,N/A,N/A,N/A,,,,,N/A,,,N/A,,,,,,null,,,,,,N/A,,,,,N/A,,,,,,,\\r\\nbank.trade_transactions_rms.undercurrency,,,,N/A,N/A,,N/A,N/A,N/A,N/A,N/A,N/A,N/A,,,,,N/A,,,N/A,,,,,,null,,,,,,N/A,,,,,N/A,,,,,,,\\r\\nbank.trade_transactions_rms.acccurrency,,,,N/A,N/A,,N/A,N/A,N/A,N/A,N/A,N/A,N/A,,,,,N/A,,,N/A,,,,,,null,,,,,,N/A,,,,,N/A,,,,,,,\\r\\nbank.trade_transactions_rms.notional,,,,N/A,N/A,,N/A,N/A,N/A,N/A,N/A,N/A,N/A,,,,,N/A,,,N/A,,,,,,null,,,,,,N/A,,,,,N/A,,,,,,,\\r\\nbank.trade_transactions_rms.accnotional,,,,N/A,N/A,,N/A,N/A,N/A,N/A,N/A,N/A,N/A,,,,,N/A,,,N/A,,,,,,null,,,,,,N/A,,,,,N/A,,,,,,,\\r\\nbank.trade_transactions_rms.strike,,,,N/A,N/A,,N/A,N/A,N/A,N/A,N/A,N/A,N/A,,,,,N/A,,,N/A,,,,,,null,,,,,,N/A,,,,,N/A,,,,,,,\\r\\nbank.trade_transactions_rms.settlementdate,,,,N/A,N/A,,N/A,N/A,N/A,N/A,N/A,N/A,N/A,,,,,N/A,,,N/A,,,,,,null,,,,,,N/A,,,,,N/A,,,,,,,\\r\\nbank.trade_transactions_rms.fixing,,,,N/A,N/A,,N/A,N/A,N/A,N/A,N/A,N/A,N/A,,,,,N/A,,,N/A,,,,,,null,,,,,,N/A,,,,,N/A,,,,,,,\\r\\nbank.trade_transactions_rms.fixingdate,,,,N/A,N/A,,N/A,N/A,N/A,N/A,N/A,N/A,N/A,,,,,N/A,,,N/A,,,,,,null,,,,,,N/A,,,,,N/A,,,,,,,\\r\\nbank.trade_transactions_rms.fixingreference,,,,N/A,N/A,,N/A,N/A,N/A,N/A,N/A,N/A,N/A,,,,,N/A,,,N/A,,,,,,null,,,,,,N/A,,,,,N/A,,,,,,,\\r\\nbank.trade_transactions_rms.sourcesystem,,,,N/A,N/A,,N/A,N/A,N/A,N/A,N/A,N/A,N/A,,,,,N/A,,,N/A,,,,,,null,,,,,,N/A,,,,,N/A,,,,,,,\\r\\nbank.trade_transactions_rms.blotter,,,,N/A,N/A,,N/A,N/A,N/A,N/A,N/A,N/A,N/A,,,,,N/A,,,N/A,,,,,,null,,,,,,N/A,,,,,N/A,,,,,,,\\r\\nbank.trade_transactions_rms.counterpartyname,,,,N/A,N/A,,N/A,N/A,N/A,N/A,N/A,N/A,N/A,,,,,N/A,,,N/A,,,,,,null,,,,,,N/A,,,,,N/A,,,,,,,\\r\\nbank.trade_transactions_rms.dbicounterpartyid,,,,N/A,N/A,,N/A,N/A,N/A,N/A,N/A,N/A,N/A,,,,,N/A,,,N/A,,,,,,null,,,,,,N/A,,,,,N/A,,,,,,,\\r\\nbank.trade_transactions_rms.customer,,,,N/A,N/A,,N/A,N/A,N/A,N/A,N/A,N/A,N/A,,,,,N/A,,,N/A,,,,,,null,,,,,,N/A,,,,,N/A,,,,,,,\\r\\nbank.trade_transactions_rms.customersourcesystem,,,,N/A,N/A,,N/A,N/A,N/A,N/A,N/A,N/A,N/A,,,,,N/A,,,N/A,,,,,,null,,,,,,N/A,,,,,N/A,,,,,,,\\r\\nbank.trade_transactions_rms.dominantnotional,,,,N/A,N/A,,N/A,N/A,N/A,N/A,N/A,N/A,N/A,,,,,N/A,,,N/A,,,,,,null,,,,,,N/A,,,,,N/A,,,,,,,\\r\\nbank.trade_transactions_rms.strikeasentered,,,,N/A,N/A,,N/A,N/A,N/A,N/A,N/A,N/A,N/A,,,,,N/A,,,N/A,,,,,,null,,,,,,N/A,,,,,N/A,,,,,,,\\r\\nbank.trade_transactions_rms.striketermsasentered,,,,N/A,N/A,,N/A,N/A,N/A,N/A,N/A,N/A,N/A,,,,,N/A,,,N/A,,,,,,null,,,,,,N/A,,,,,N/A,,,,,,,\\r\\nbank.trade_transactions_rms.traderrate,,,,N/A,N/A,,N/A,N/A,N/A,N/A,N/A,N/A,N/A,,,,,N/A,,,N/A,,,,,,null,,,,,,N/A,,,,,N/A,,,,,,,\\r\\nbank.trade_transactions_rms.expirydate,,,,N/A,N/A,,N/A,N/A,N/A,N/A,N/A,N/A,N/A,,,,,N/A,,,N/A,,,,,,null,,,,,,N/A,,,,,N/A,,,,,,,\\r\\nbank.trade_transactions_rms.paycurrency,,,,N/A,N/A,,N/A,N/A,N/A,N/A,N/A,N/A,N/A,,,,,N/A,,,N/A,,,,,,null,,,,,,N/A,,,,,N/A,,,,,,,\\r\\nbank.trade_transactions_rms.quantolevel,,,,N/A,N/A,,N/A,N/A,N/A,N/A,N/A,N/A,N/A,,,,,N/A,,,N/A,,,,,,null,,,,,,N/A,,,,,N/A,,,,,,,\\r\\nbank.trade_transactions_rms.zonecut,,,,N/A,N/A,,N/A,N/A,N/A,N/A,N/A,N/A,N/A,,,,,N/A,,,N/A,,,,,,null,,,,,,N/A,,,,,N/A,,,,,,,\\r\\nbank.trade_transactions_rms.modeltype,,,,N/A,N/A,,N/A,N/A,N/A,N/A,N/A,N/A,N/A,,,,,N/A,,,N/A,,,,,,null,,,,,,N/A,,,,,N/A,,,,,,,\\r\\nbank.trade_transactions_rms.futurecode,,,,N/A,N/A,,N/A,N/A,N/A,N/A,N/A,N/A,N/A,,,,,N/A,,,N/A,,,,,,null,,,,,,N/A,,,,,N/A,,,,,,,\\r\\nbank.trade_transactions_rms.futuresexpirydate,,,,N/A,N/A,,N/A,N/A,N/A,N/A,N/A,N/A,N/A,,,,,N/A,,,N/A,,,,,,null,,,,,,N/A,,,,,N/A,,,,,,,\\r\\nbank.trade_transactions_rms.premiumcurrency,,,,N/A,N/A,,N/A,N/A,N/A,N/A,N/A,N/A,N/A,,,,,N/A,,,N/A,,,,,,null,,,,,,N/A,,,,,N/A,,,,,,,\\r\\nbank.trade_transactions_rms.premiumdate,,,,N/A,N/A,,N/A,N/A,N/A,N/A,N/A,N/A,N/A,,,,,N/A,,,N/A,,,,,,null,,,,,,N/A,,,,,N/A,,,,,,,\\r\\nbank.trade_transactions_rms.premiumamount,,,,N/A,N/A,,N/A,N/A,N/A,N/A,N/A,N/A,N/A,,,,,N/A,,,N/A,,,,,,null,,,,,,N/A,,,,,N/A,,,,,,,\\r\\nbank.trade_transactions_rms.premiumhaspaidyn,,,,N/A,N/A,,N/A,N/A,N/A,N/A,N/A,N/A,N/A,,,,,N/A,,,N/A,,,,,,null,,,,,,N/A,,,,,N/A,,,,,,,\\r\\nbank.trade_transactions_rms.unwindrate,,,,N/A,N/A,,N/A,N/A,N/A,N/A,N/A,N/A,N/A,,,,,N/A,,,N/A,,,,,,null,,,,,,N/A,,,,,N/A,,,,,,,\\r\\nbank.trade_transactions_rms.unwindpremiumcurrency,,,,N/A,N/A,,N/A,N/A,N/A,N/A,N/A,N/A,N/A,,,,,N/A,,,N/A,,,,,,null,,,,,,N/A,,,,,N/A,,,,,,,\\r\\nbank.trade_transactions_rms.unwindpremiumamount,,,,N/A,N/A,,N/A,N/A,N/A,N/A,N/A,N/A,N/A,,,,,N/A,,,N/A,,,,,,null,,,,,,N/A,,,,,N/A,,,,,,,\\r\\nbank.trade_transactions_rms.unwindpremiumdate,,,,N/A,N/A,,N/A,N/A,N/A,N/A,N/A,N/A,N/A,,,,,N/A,,,N/A,,,,,,null,,,,,,N/A,,,,,N/A,,,,,,,\\r\\nbank.trade_transactions_rms.marginpaymentcurrency,,,,N/A,N/A,,N/A,N/A,N/A,N/A,N/A,N/A,N/A,,,,,N/A,,,N/A,,,,,,null,,,,,,N/A,,,,,N/A,,,,,,,\\r\\nbank.trade_transactions_rms.marginpaymentamount,,,,N/A,N/A,,N/A,N/A,N/A,N/A,N/A,N/A,N/A,,,,,N/A,,,N/A,,,,,,null,,,,,,N/A,,,,,N/A,,,,,,,\\r\\nbank.trade_transactions_rms.productid,,,,N/A,N/A,,N/A,N/A,N/A,N/A,N/A,N/A,N/A,,,,,N/A,,,N/A,,,,,,null,,,,,,N/A,,,,,N/A,,,,,,,\\r\\nbank.trade_transactions_rms.productversion,,,,N/A,N/A,,N/A,N/A,N/A,N/A,N/A,N/A,N/A,,,,,N/A,,,N/A,,,,,,null,,,,,,N/A,,,,,N/A,,,,,,,\\r\\nbank.trade_transactions_rms.productlegid,,,,N/A,N/A,,N/A,N/A,N/A,N/A,N/A,N/A,N/A,,,,,N/A,,,N/A,,,,,,null,,,,,,N/A,,,,,N/A,,,,,,,\\r\\nbank.trade_transactions_rms.structureid,,,,N/A,N/A,,N/A,N/A,N/A,N/A,N/A,N/A,N/A,,,,,N/A,,,N/A,,,,,,null,,,,,,N/A,,,,,N/A,,,,,,,\\r\\nbank.trade_transactions_rms.referencespot,,,,N/A,N/A,,N/A,N/A,N/A,N/A,N/A,N/A,N/A,,,,,N/A,,,N/A,,,,,,null,,,,,,N/A,,,,,N/A,,,,,,,\\r\\nbank.trade_transactions_rms.referenceforwardpoints,,,,N/A,N/A,,N/A,N/A,N/A,N/A,N/A,N/A,N/A,,,,,N/A,,,N/A,,,,,,null,,,,,,N/A,,,,,N/A,,,,,,,\\r\\nbank.trade_transactions_rms.referencevolatility,,,,N/A,N/A,,N/A,N/A,N/A,N/A,N/A,N/A,N/A,,,,,N/A,,,N/A,,,,,,null,,,,,,N/A,,,,,N/A,,,,,,,\\r\\nbank.trade_transactions_rms.referencedeporate,,,,N/A,N/A,,N/A,N/A,N/A,N/A,N/A,N/A,N/A,,,,,N/A,,,N/A,,,,,,null,,,,,,N/A,,,,,N/A,,,,,,,\\r\\nbank.trade_transactions_rms.referencedepocurrency,,,,N/A,N/A,,N/A,N/A,N/A,N/A,N/A,N/A,N/A,,,,,N/A,,,N/A,,,,,,null,,,,,,N/A,,,,,N/A,,,,,,,\\r\\nbank.trade_transactions_rms.referencedelta,,,,N/A,N/A,,N/A,N/A,N/A,N/A,N/A,N/A,N/A,,,,,N/A,,,N/A,,,,,,null,,,,,,N/A,,,,,N/A,,,,,,,\\r\\nbank.trade_transactions_rms.referencedeltacurrency,,,,N/A,N/A,,N/A,N/A,N/A,N/A,N/A,N/A,N/A,,,,,N/A,,,N/A,,,,,,null,,,,,,N/A,,,,,N/A,,,,,,,\\r\\nbank.trade_transactions_rms.assetlocation,,,,N/A,N/A,,N/A,N/A,N/A,N/A,N/A,N/A,N/A,,,,,N/A,,,N/A,,,,,,null,,,,,,N/A,,,,,N/A,,,,,,,\\r\\nbank.trade_transactions_rms.actioneffectivedate,,,,N/A,N/A,,N/A,N/A,N/A,N/A,N/A,N/A,N/A,,,,,N/A,,,N/A,,,,,,null,,,,,,N/A,,,,,N/A,,,,,,,\\r\\nbank.trade_transactions_rms.sourcesystembook,,,,N/A,N/A,,N/A,N/A,N/A,N/A,N/A,N/A,N/A,,,,,N/A,,,N/A,,,,,,null,,,,,,N/A,,,,,N/A,,,,,,,\\r\\nbank.trade_transactions_rms.sourcesystemprofitcentre,,,,N/A,N/A,,N/A,N/A,N/A,N/A,N/A,N/A,N/A,,,,,N/A,,,N/A,,,,,,null,,,,,,N/A,,,,,N/A,,,,,,,\\r\\nbank.trade_transactions_rms.salesperson,,,,N/A,N/A,,N/A,N/A,N/A,N/A,N/A,N/A,N/A,,,,,N/A,,,N/A,,,,,,null,,,,,,N/A,,,,,N/A,,,,,,,\\r\\nbank.trade_transactions_rms.trader,,,,N/A,N/A,,N/A,N/A,N/A,N/A,N/A,N/A,N/A,,,,,N/A,,,N/A,,,,,,null,,,,,,N/A,,,,,N/A,,,,,,,\\r\\nbank.trade_transactions_rms.fundsplitid,,,,N/A,N/A,,N/A,N/A,N/A,N/A,N/A,N/A,N/A,,,,,N/A,,,N/A,,,,,,null,,,,,,N/A,,,,,N/A,,,,,,,\\r\\nbank.trade_transactions_rms.fundsplitversion,,,,N/A,N/A,,N/A,N/A,N/A,N/A,N/A,N/A,N/A,,,,,N/A,,,N/A,,,,,,null,,,,,,N/A,,,,,N/A,,,,,,,\\r\\nbank.trade_transactions_rms.structurename,,,,N/A,N/A,,N/A,N/A,N/A,N/A,N/A,N/A,N/A,,,,,N/A,,,N/A,,,,,,null,,,,,,N/A,,,,,N/A,,,,,,,\\r\\nbank.trade_transactions_rms.markupamt,,,,N/A,N/A,,N/A,N/A,N/A,N/A,N/A,N/A,N/A,,,,,N/A,,,N/A,,,,,,null,,,,,,N/A,,,,,N/A,,,,,,,\\r\\nbank.trade_transactions_rms.markupccy,,,,N/A,N/A,,N/A,N/A,N/A,N/A,N/A,N/A,N/A,,,,,N/A,,,N/A,,,,,,null,,,,,,N/A,,,,,N/A,,,,,,,\\r\\nbank.trade_transactions_rms.markuplocation,,,,N/A,N/A,,N/A,N/A,N/A,N/A,N/A,N/A,N/A,,,,,N/A,,,N/A,,,,,,null,,,,,,N/A,,,,,N/A,,,,,,,\\r\\nbank.trade_transactions_rms.atriskamt,,,,N/A,N/A,,N/A,N/A,N/A,N/A,N/A,N/A,N/A,,,,,N/A,,,N/A,,,,,,null,,,,,,N/A,,,,,N/A,,,,,,,\\r\\nbank.trade_transactions_rms.atriskccy,,,,N/A,N/A,,N/A,N/A,N/A,N/A,N/A,N/A,N/A,,,,,N/A,,,N/A,,,,,,null,,,,,,N/A,,,,,N/A,,,,,,,\\r\\nbank.trade_transactions_rms.atrisklocation,,,,N/A,N/A,,N/A,N/A,N/A,N/A,N/A,N/A,N/A,,,,,N/A,,,N/A,,,,,,null,,,,,,N/A,,,,,N/A,,,,,,,\\r\\nbank.trade_transactions_rms.atriskindicator,,,,N/A,N/A,,N/A,N/A,N/A,N/A,N/A,N/A,N/A,,,,,N/A,,,N/A,,,,,,null,,,,,,N/A,,,,,N/A,,,,,,,\\r\\nbank.trade_transactions_rms.reason,,,,N/A,N/A,,N/A,N/A,N/A,N/A,N/A,N/A,N/A,,,,,N/A,,,N/A,,,,,,null,,,,,,N/A,,,,,N/A,,,,,,,\\r\\nbank.trade_transactions_rms.notes,,,,N/A,N/A,,N/A,N/A,N/A,N/A,N/A,N/A,N/A,,,,,N/A,,,N/A,,,,,,null,,,,,,N/A,,,,,N/A,,,,,,,\\r\\nbank.trade_transactions_rms.broker,,,,N/A,N/A,,N/A,N/A,N/A,N/A,N/A,N/A,N/A,,,,,N/A,,,N/A,,,,,,null,,,,,,N/A,,,,,N/A,,,,,,,\\r\\nbank.trade_transactions_rms.brokeramt,,,,N/A,N/A,,N/A,N/A,N/A,N/A,N/A,N/A,N/A,,,,,N/A,,,N/A,,,,,,null,,,,,,N/A,,,,,N/A,,,,,,,\\r\\nbank.trade_transactions_rms.brokerccy,,,,N/A,N/A,,N/A,N/A,N/A,N/A,N/A,N/A,N/A,,,,,N/A,,,N/A,,,,,,null,,,,,,N/A,,,,,N/A,,,,,,,\\r\\nbank.trade_transactions_rms.linksystemid,,,,N/A,N/A,,N/A,N/A,N/A,N/A,N/A,N/A,N/A,,,,,N/A,,,N/A,,,,,,null,,,,,,N/A,,,,,N/A,,,,,,,\\r\\nbank.trade_transactions_rms.linktype,,,,N/A,N/A,,N/A,N/A,N/A,N/A,N/A,N/A,N/A,,,,,N/A,,,N/A,,,,,,null,,,,,,N/A,,,,,N/A,,,,,,,\\r\\nbank.trade_transactions_rms.sourcesystemid,,,,N/A,N/A,,N/A,N/A,N/A,N/A,N/A,N/A,N/A,,,,,N/A,,,N/A,,,,,,null,,,,,,N/A,,,,,N/A,,,,,,,\\r\\nbank.trade_transactions_rms.confirmas,,,,N/A,N/A,,N/A,N/A,N/A,N/A,N/A,N/A,N/A,,,,,N/A,,,N/A,,,,,,null,,,,,,N/A,,,,,N/A,,,,,,,\\r\\nbank.trade_transactions_rms.cancelssourcesystemid,,,,N/A,N/A,,N/A,N/A,N/A,N/A,N/A,N/A,N/A,,,,,N/A,,,N/A,,,,,,null,,,,,,N/A,,,,,N/A,,,,,,,\\r\\nbank.trade_transactions_rms.cancelledbysourcesystemid,,,,N/A,N/A,,N/A,N/A,N/A,N/A,N/A,N/A,N/A,,,,,N/A,,,N/A,,,,,,null,,,,,,N/A,,,,,N/A,,,,,,,\\r\\nbank.trade_transactions_rms.cancellinghalfsourcesystemid,,,,N/A,N/A,,N/A,N/A,N/A,N/A,N/A,N/A,N/A,,,,,N/A,,,N/A,,,,,,null,,,,,,N/A,,,,,N/A,,,,,,,\\r\\nbank.trade_transactions_rms.correctssourcesystemid,,,,N/A,N/A,,N/A,N/A,N/A,N/A,N/A,N/A,N/A,,,,,N/A,,,N/A,,,,,,null,,,,,,N/A,,,,,N/A,,,,,,,\\r\\nbank.trade_transactions_rms.correctedbysourcesystemid,,,,N/A,N/A,,N/A,N/A,N/A,N/A,N/A,N/A,N/A,,,,,N/A,,,N/A,,,,,,null,,,,,,N/A,,,,,N/A,,,,,,,\\r\\nbank.trade_transactions_rms.closessourcesystemid,,,,N/A,N/A,,N/A,N/A,N/A,N/A,N/A,N/A,N/A,,,,,N/A,,,N/A,,,,,,null,,,,,,N/A,,,,,N/A,,,,,,,\\r\\nbank.trade_transactions_rms.closedbysourcesystemid,,,,N/A,N/A,,N/A,N/A,N/A,N/A,N/A,N/A,N/A,,,,,N/A,,,N/A,,,,,,null,,,,,,N/A,,,,,N/A,,,,,,,\\r\\nbank.trade_transactions_rms.exercisedfromsourcesystemid,,,,N/A,N/A,,N/A,N/A,N/A,N/A,N/A,N/A,N/A,,,,,N/A,,,N/A,,,,,,null,,,,,,N/A,,,,,N/A,,,,,,,\\r\\nbank.trade_transactions_rms.closingdate,,,,N/A,N/A,,N/A,N/A,N/A,N/A,N/A,N/A,N/A,,,,,N/A,,,N/A,,,,,,null,,,,,,N/A,,,,,N/A,,,,,,,\\r\\nbank.trade_transactions_rms.legalentity,,,,N/A,N/A,,N/A,N/A,N/A,N/A,N/A,N/A,N/A,,,,,N/A,,,N/A,,,,,,null,,,,,,N/A,,,,,N/A,,,,,,,\\r\\nbank.trade_transactions_rms.dealcapturesystem,,,,N/A,N/A,,N/A,N/A,N/A,N/A,N/A,N/A,N/A,,,,,N/A,,,N/A,,,,,,null,,,,,,N/A,,,,,N/A,,,,,,,\\r\\nbank.trade_transactions_rms.dealcapturesystemid,,,,N/A,N/A,,N/A,N/A,N/A,N/A,N/A,N/A,N/A,,,,,N/A,,,N/A,,,,,,null,,,,,,N/A,,,,,N/A,,,,,,,\\r\\nbank.trade_transactions_rms.bookinglocation,,,,N/A,N/A,,N/A,N/A,N/A,N/A,N/A,N/A,N/A,,,,,N/A,,,N/A,,,,,,null,,,,,,N/A,,,,,N/A,,,,,,,\\r\\nbank.trade_transactions_rms.producttype,,,,N/A,N/A,,N/A,N/A,N/A,N/A,N/A,N/A,N/A,,,,,N/A,,,N/A,,,,,,null,,,,,,N/A,,,,,N/A,,,,,,,\\r\\nbank.trade_transactions_rms.productinstance,,,,N/A,N/A,,N/A,N/A,N/A,N/A,N/A,N/A,N/A,,,,,N/A,,,N/A,,,,,,null,,,,,,N/A,,,,,N/A,,,,,,,\\r\\nbank.trade_transactions_rms.backofficesystem,,,,N/A,N/A,,N/A,N/A,N/A,N/A,N/A,N/A,N/A,,,,,N/A,,,N/A,,,,,,null,,,,,,N/A,,,,,N/A,,,,,,,\\r\\nbank.trade_transactions_rms.backofficesystemid,,,,N/A,N/A,,N/A,N/A,N/A,N/A,N/A,N/A,N/A,,,,,N/A,,,N/A,,,,,,null,,,,,,N/A,,,,,N/A,,,,,,,\\r\\nbank.trade_transactions_rms.versionvaliduntildate,,,,N/A,N/A,,N/A,N/A,N/A,N/A,N/A,N/A,N/A,,,,,N/A,,,N/A,,,,,,null,,,,,,N/A,,,,,N/A,,,,,,,\\r\\nbank.trade_trxn.dbrpid,,,,N/A,N/A,,N/A,N/A,N/A,N/A,N/A,N/A,N/A,,,,,N/A,,,N/A,,,,,,null,,,,,,N/A,,,,,N/A,,,,,,,\\r\\nbank.trade_transactions_rms.tradeextradetailid,,,,N/A,N/A,,N/A,N/A,N/A,N/A,N/A,N/A,N/A,,,,,N/A,,,N/A,,,,,,null,,,,,,N/A,,,,,N/A,,,,,,,\\r\\nbank.trade_transactions_rms.tradeextradetailversion,,,,N/A,N/A,,N/A,N/A,N/A,N/A,N/A,N/A,N/A,,,,,N/A,,,N/A,,,,,,null,,,,,,N/A,,,,,N/A,,,,,,,\\r\\nbank.trade_transactions_rms.tradeclassification,,,,N/A,N/A,,N/A,N/A,N/A,N/A,N/A,N/A,N/A,,,,,N/A,,,N/A,,,,,,null,,,,,,N/A,,,,,N/A,,,,,,,\\r\\nbank.trade_transactions_rms.dealcapturesalesuser,,,,N/A,N/A,,N/A,N/A,N/A,N/A,N/A,N/A,N/A,,,,,N/A,,,N/A,,,,,,null,,,,,,N/A,,,,,N/A,,,,,,,\\r\\nbank.trade_transactions_rms.fundsplitallocationid,,,,N/A,N/A,,N/A,N/A,N/A,N/A,N/A,N/A,N/A,,,,,N/A,,,N/A,,,,,,null,,,,,,N/A,,,,,N/A,,,,,,,\\r\\nbank.trade_transactions_rms.fundsplitallocationlegid,,,,N/A,N/A,,N/A,N/A,N/A,N/A,N/A,N/A,N/A,,,,,N/A,,,N/A,,,,,,null,,,,,,N/A,,,,,N/A,,,,,,,\\r\\nbank.trade_transactions_rms.generaterisksweeptradeyn,,,,N/A,N/A,,N/A,N/A,N/A,N/A,N/A,N/A,N/A,,,,,N/A,,,N/A,,,,,,null,,,,,,N/A,,,,,N/A,,,,,,,\\r\\nbank.trade_transactions_rms.risksweeptradetype,,,,N/A,N/A,,N/A,N/A,N/A,N/A,N/A,N/A,N/A,,,,,N/A,,,N/A,,,,,,null,,,,,,N/A,,,,,N/A,,,,,,,\\r\\nbank.trade_transactions_rms.risksweepstrike,,,,N/A,N/A,,N/A,N/A,N/A,N/A,N/A,N/A,N/A,,,,,N/A,,,N/A,,,,,,null,,,,,,N/A,,,,,N/A,,,,,,,\\r\\nbank.trade_transactions_rms.risksweepsettlementdate,,,,N/A,N/A,,N/A,N/A,N/A,N/A,N/A,N/A,N/A,,,,,N/A,,,N/A,,,,,,null,,,,,,N/A,,,,,N/A,,,,,,,\\r\\nbank.trade_transactions_rms.risksweepbook,,,,N/A,N/A,,N/A,N/A,N/A,N/A,N/A,N/A,N/A,,,,,N/A,,,N/A,,,,,,null,,,,,,N/A,,,,,N/A,,,,,,,\\r\\nbank.trade_transactions_rms.risksweepundercurrency,,,,N/A,N/A,,N/A,N/A,N/A,N/A,N/A,N/A,N/A,,,,,N/A,,,N/A,,,,,,null,,,,,,N/A,,,,,N/A,,,,,,,\\r\\nbank.trade_transactions_rms.risksweepacccurrency,,,,N/A,N/A,,N/A,N/A,N/A,N/A,N/A,N/A,N/A,,,,,N/A,,,N/A,,,,,,null,,,,,,N/A,,,,,N/A,,,,,,,\\r\\nbank.trade_transactions_rms.risksweeplinkmastersystemid,,,,N/A,N/A,,N/A,N/A,N/A,N/A,N/A,N/A,N/A,,,,,N/A,,,N/A,,,,,,null,,,,,,N/A,,,,,N/A,,,,,,,\\r\\nbank.trade_transactions_rms.spotpricinglocation,,,,N/A,N/A,,N/A,N/A,N/A,N/A,N/A,N/A,N/A,,,,,N/A,,,N/A,,,,,,null,,,,,,N/A,,,,,N/A,,,,,,,\\r\\nbank.trade_transactions_rms.forwardpricinglocation,,,,N/A,N/A,,N/A,N/A,N/A,N/A,N/A,N/A,N/A,,,,,N/A,,,N/A,,,,,,null,,,,,,N/A,,,,,N/A,,,,,,,\\r\\nbank.trade_transactions_rms.settlementlegalentitylocation,,,,N/A,N/A,,N/A,N/A,N/A,N/A,N/A,N/A,N/A,,,,,N/A,,,N/A,,,,,,null,,,,,,N/A,,,,,N/A,,,,,,,\\r\\nbank.trade_transactions_rms.locallegalentitysettlementyn,,,,N/A,N/A,,N/A,N/A,N/A,N/A,N/A,N/A,N/A,,,,,N/A,,,N/A,,,,,,null,,,,,,N/A,,,,,N/A,,,,,,,\\r\\nbank.trade_transactions_rms.riskholdingbook,,,,N/A,N/A,,N/A,N/A,N/A,N/A,N/A,N/A,N/A,,,,,N/A,,,N/A,,,,,,null,,,,,,N/A,,,,,N/A,,,,,,,\\r\\nbank.trade_transactions_rms.riskholdinglinkmastersystemid,,,,N/A,N/A,,N/A,N/A,N/A,N/A,N/A,N/A,N/A,,,,,N/A,,,N/A,,,,,,null,,,,,,N/A,,,,,N/A,,,,,,,\\r\\nbank.trade_transactions_rms.generatebacktobacktradeyn,,,,N/A,N/A,,N/A,N/A,N/A,N/A,N/A,N/A,N/A,,,,,N/A,,,N/A,,,,,,null,,,,,,N/A,,,,,N/A,,,,,,,\\r\\nbank.trade_transactions_rms.childforwardpips,,,,N/A,N/A,,N/A,N/A,N/A,N/A,N/A,N/A,N/A,,,,,N/A,,,N/A,,,,,,null,,,,,,N/A,,,,,N/A,,,,,,,\\r\\nbank.trade_transactions_rms.childmarginpips,,,,N/A,N/A,,N/A,N/A,N/A,N/A,N/A,N/A,N/A,,,,,N/A,,,N/A,,,,,,null,,,,,,N/A,,,,,N/A,,,,,,,\\r\\nbank.trade_transactions_rms.scalingfactor,,,,N/A,N/A,,N/A,N/A,N/A,N/A,N/A,N/A,N/A,,,,,N/A,,,N/A,,,,,,null,,,,,,N/A,,,,,N/A,,,,,,,\\r\\nbank.trade_transactions_rms.risksweepclientstrike,,,,N/A,N/A,,N/A,N/A,N/A,N/A,N/A,N/A,N/A,,,,,N/A,,,N/A,,,,,,null,,,,,,N/A,,,,,N/A,,,,,,,\\r\\nbank.trade_transactions_rms.internalgroupid,,,,N/A,N/A,,N/A,N/A,N/A,N/A,N/A,N/A,N/A,,,,,N/A,,,N/A,,,,,,null,,,,,,N/A,,,,,N/A,,,,,,,\\r\\nbank.trade_transactions_rms.originalsettlementdate,,,,N/A,N/A,,N/A,N/A,N/A,N/A,N/A,N/A,N/A,,,,,N/A,,,N/A,,,,,,null,,,,,,N/A,,,,,N/A,,,,,,,\\r\\nbank.trade_transactions_rms.tearupid,,,,N/A,N/A,,N/A,N/A,N/A,N/A,N/A,N/A,N/A,,,,,N/A,,,N/A,,,,,,null,,,,,,N/A,,,,,N/A,,,,,,,\\r\\nbank.trade_transactions_rms.electedconfirmationruleid,,,,N/A,N/A,,N/A,N/A,N/A,N/A,N/A,N/A,N/A,,,,,N/A,,,N/A,,,,,,null,,,,,,N/A,,,,,N/A,,,,,,,\\r\\nbank.trade_transactions_rms.previousconfirmationsystem,,,,N/A,N/A,,N/A,N/A,N/A,N/A,N/A,N/A,N/A,,,,,N/A,,,N/A,,,,,,null,,,,,,N/A,,,,,N/A,,,,,,,\\r\\nbank.trade_transactions_rms.electedsettlementruleid,,,,N/A,N/A,,N/A,N/A,N/A,N/A,N/A,N/A,N/A,,,,,N/A,,,N/A,,,,,,null,,,,,,N/A,,,,,N/A,,,,,,,\\r\\nbank.trade_transactions_rms.previoussettlementsystem,,,,N/A,N/A,,N/A,N/A,N/A,N/A,N/A,N/A,N/A,,,,,N/A,,,N/A,,,,,,null,,,,,,N/A,,,,,N/A,,,,,,,\\r\\nbank.trade_transactions_rms.drawdownstartdate,,,,N/A,N/A,,N/A,N/A,N/A,N/A,N/A,N/A,N/A,,,,,N/A,,,N/A,,,,,,null,,,,,,N/A,,,,,N/A,,,,,,,\\r\\nbank.trade_transactions_rms.optionpricinglocation,,,,N/A,N/A,,N/A,N/A,N/A,N/A,N/A,N/A,N/A,,,,,N/A,,,N/A,,,,,,null,,,,,,N/A,,,,,N/A,,,,,,,\\r\\nbank.trade_transactions_rms.riskbtbgloballegstatus,,,,N/A,N/A,,N/A,N/A,N/A,N/A,N/A,N/A,N/A,,,,,N/A,,,N/A,,,,,,null,,,,,,N/A,,,,,N/A,,,,,,,\\r\\nbank.trade_transactions_rms.fromlinktype,,,,N/A,N/A,,N/A,N/A,N/A,N/A,N/A,N/A,N/A,,,,,N/A,,,N/A,,,,,,null,,,,,,N/A,,,,,N/A,,,,,,,\\r\\nbank.trade_transactions_rms.tolinktype,,,,N/A,N/A,,N/A,N/A,N/A,N/A,N/A,N/A,N/A,,,,,N/A,,,N/A,,,,,,null,,,,,,N/A,,,,,N/A,,,,,,,\\r\\nbank.trade_transactions_rms.clearingccp,,,,N/A,N/A,,N/A,N/A,N/A,N/A,N/A,N/A,N/A,,,,,N/A,,,N/A,,,,,,null,,,,,,N/A,,,,,N/A,,,,,,,\\r\\nbank.trade_transactions_rms.clearingstatus,,,,N/A,N/A,,N/A,N/A,N/A,N/A,N/A,N/A,N/A,,,,,N/A,,,N/A,,,,,,null,,,,,,N/A,,,,,N/A,,,,,,,\\r\\nbank.trade_transactions_rms.clearingeligibleyn,,,,N/A,N/A,,N/A,N/A,N/A,N/A,N/A,N/A,N/A,,,,,N/A,,,N/A,,,,,,null,,,,,,N/A,,,,,N/A,,,,,,,\\r\\nbank.trade_transactions_rms.settlementcounterparty,,,,N/A,N/A,,N/A,N/A,N/A,N/A,N/A,N/A,N/A,,,,,N/A,,,N/A,,,,,,null,,,,,,N/A,,,,,N/A,,,,,,,\\r\\nbank.trade_transactions_rms.settlementcptysourcesystem,,,,N/A,N/A,,N/A,N/A,N/A,N/A,N/A,N/A,N/A,,,,,N/A,,,N/A,,,,,,null,,,,,,N/A,,,,,N/A,,,,,,,\\r\\nbank.trade_transactions_rms.originalcounterparty,,,,N/A,N/A,,N/A,N/A,N/A,N/A,N/A,N/A,N/A,,,,,N/A,,,N/A,,,,,,null,,,,,,N/A,,,,,N/A,,,,,,,\\r\\nbank.trade_transactions_rms.originalcptysourcesystem,,,,N/A,N/A,,N/A,N/A,N/A,N/A,N/A,N/A,N/A,,,,,N/A,,,N/A,,,,,,null,,,,,,N/A,,,,,N/A,,,,,,,\\r\\nbank.trade_transactions_rms.clearinghousetradeid,,,,N/A,N/A,,N/A,N/A,N/A,N/A,N/A,N/A,N/A,,,,,N/A,,,N/A,,,,,,null,,,,,,N/A,,,,,N/A,,,,,,,\\r\\nbank.trade_transactions_rms.matchertradeid,,,,N/A,N/A,,N/A,N/A,N/A,N/A,N/A,N/A,N/A,,,,,N/A,,,N/A,,,,,,null,,,,,,N/A,,,,,N/A,,,,,,,\\r\\nbank.trade_transactions_rms.latestsource,,,,N/A,N/A,,N/A,N/A,N/A,N/A,N/A,N/A,N/A,,,,,N/A,,,N/A,,,,,,null,,,,,,N/A,,,,,N/A,,,,,,,\\r\\nbank.trade_transactions_rms.latestexecutingplatform,,,,N/A,N/A,,N/A,N/A,N/A,N/A,N/A,N/A,N/A,,,,,N/A,,,N/A,,,,,,null,,,,,,N/A,,,,,N/A,,,,,,,\\r\\nbank.trade_transactions_rms.rmssource,,,,N/A,N/A,,N/A,N/A,N/A,N/A,N/A,N/A,N/A,,,,,N/A,,,N/A,,,,,,null,,,,,,N/A,,,,,N/A,,,,,,,\\r\\nbank.trade_transactions_rms.structurer,,,,N/A,N/A,,N/A,N/A,N/A,N/A,N/A,N/A,N/A,,,,,N/A,,,N/A,,,,,,null,,,,,,N/A,,,,,N/A,,,,,,,\\r\\nbank.trade_transactions_rms.originalexecutingplatform,,,,N/A,N/A,,N/A,N/A,N/A,N/A,N/A,N/A,N/A,,,,,N/A,,,N/A,,,,,,null,,,,,,N/A,,,,,N/A,,,,,,,\\r\\nbank.trade_transactions_rms.originalsource,,,,N/A,N/A,,N/A,N/A,N/A,N/A,N/A,N/A,N/A,,,,,N/A,,,N/A,,,,,,null,,,,,,N/A,,,,,N/A,,,,,,,\\r\\nbank.trade_transactions_rms.marketspread,,,,N/A,N/A,,N/A,N/A,N/A,N/A,N/A,N/A,N/A,,,,,N/A,,,N/A,,,,,,null,,,,,,N/A,,,,,N/A,,,,,,,\\r\\nbank.trade_transactions_rms.atriskadditionalamt,,,,N/A,N/A,,N/A,N/A,N/A,N/A,N/A,N/A,N/A,,,,,N/A,,,N/A,,,,,,null,,,,,,N/A,,,,,N/A,,,,,,,\\r\\nbank.trade_transactions_rms.matcherblockid,,,,N/A,N/A,,N/A,N/A,N/A,N/A,N/A,N/A,N/A,,,,,N/A,,,N/A,,,,,,null,,,,,,N/A,,,,,N/A,,,,,,,\\r\\nbank.trade_transactions_rms.clearingcancelstatus,,,,N/A,N/A,,N/A,N/A,N/A,N/A,N/A,N/A,N/A,,,,,N/A,,,N/A,,,,,,null,,,,,,N/A,,,,,N/A,,,,,,,\\r\\nbank.trade_transactions_rms.clearingclientsourcesystem,,,,N/A,N/A,,N/A,N/A,N/A,N/A,N/A,N/A,N/A,,,,,N/A,,,N/A,,,,,,null,,,,,,N/A,,,,,N/A,,,,,,,\\r\\nbank.trade_transactions_rms.clearingclient,,,,N/A,N/A,,N/A,N/A,N/A,N/A,N/A,N/A,N/A,,,,,N/A,,,N/A,,,,,,null,,,,,,N/A,,,,,N/A,,,,,,,\\r\\nbank.trade_transactions_rms.clearingfundnamesourcesystem,,,,N/A,N/A,,N/A,N/A,N/A,N/A,N/A,N/A,N/A,,,,,N/A,,,N/A,,,,,,null,,,,,,N/A,,,,,N/A,,,,,,,\\r\\nbank.trade_transactions_rms.clearingfundname,,,,N/A,N/A,,N/A,N/A,N/A,N/A,N/A,N/A,N/A,,,,,N/A,,,N/A,,,,,,null,,,,,,N/A,,,,,N/A,,,,,,,\\r\\nbank.trade_transactions_rms.clientcbsourcesystem,,,,N/A,N/A,,N/A,N/A,N/A,N/A,N/A,N/A,N/A,,,,,N/A,,,N/A,,,,,,null,,,,,,N/A,,,,,N/A,,,,,,,\\r\\nbank.trade_transactions_rms.clientclearingbroker,,,,N/A,N/A,,N/A,N/A,N/A,N/A,N/A,N/A,N/A,,,,,N/A,,,N/A,,,,,,null,,,,,,N/A,,,,,N/A,,,,,,,\\r\\nbank.trade_transactions_rms.matcher,,,,N/A,N/A,,N/A,N/A,N/A,N/A,N/A,N/A,N/A,,,,,N/A,,,N/A,,,,,,null,,,,,,N/A,,,,,N/A,,,,,,,\\r\\nbank.trade_transactions_rms.clearingbrokeryn,,,,N/A,N/A,,N/A,N/A,N/A,N/A,N/A,N/A,N/A,,,,,N/A,,,N/A,,,,,,null,,,,,,N/A,,,,,N/A,,,,,,,\\r\\nbank.trade_transactions_rms.nextfixingdate,,,,N/A,N/A,,N/A,N/A,N/A,N/A,N/A,N/A,N/A,,,,,N/A,,,N/A,,,,,,null,,,,,,N/A,,,,,N/A,,,,,,,\\r\\nbank.trade_transactions_rms.fundedindexfixingref,,,,N/A,N/A,,N/A,N/A,N/A,N/A,N/A,N/A,N/A,,,,,N/A,,,N/A,,,,,,null,,,,,,N/A,,,,,N/A,,,,,,,\\r\\nbank.trade_transactions_rms.lastfundedindexfixing,,,,N/A,N/A,,N/A,N/A,N/A,N/A,N/A,N/A,N/A,,,,,N/A,,,N/A,,,,,,null,,,,,,N/A,,,,,N/A,,,,,,,\\r\\nbank.trade_transactions_rms.excessreturnindexfixingref,,,,N/A,N/A,,N/A,N/A,N/A,N/A,N/A,N/A,N/A,,,,,N/A,,,N/A,,,,,,null,,,,,,N/A,,,,,N/A,,,,,,,\\r\\nbank.trade_transactions_rms.lastexcessreturnindexfixing,,,,N/A,N/A,,N/A,N/A,N/A,N/A,N/A,N/A,N/A,,,,,N/A,,,N/A,,,,,,null,,,,,,N/A,,,,,N/A,,,,,,,\\r\\nbank.trade_transactions_rms.returnleverage,,,,N/A,N/A,,N/A,N/A,N/A,N/A,N/A,N/A,N/A,,,,,N/A,,,N/A,,,,,,null,,,,,,N/A,,,,,N/A,,,,,,,\\r\\nbank.trade_transactions_rms.fixingcities,,,,N/A,N/A,,N/A,N/A,N/A,N/A,N/A,N/A,N/A,,,,,N/A,,,N/A,,,,,,null,,,,,,N/A,,,,,N/A,,,,,,,\\r\\nbank.trade_transactions_rms.usinamespace,,,,N/A,N/A,,N/A,N/A,N/A,N/A,N/A,N/A,N/A,,,,,N/A,,,N/A,,,,,,null,,,,,,N/A,,,,,N/A,,,,,,,\\r\\nbank.trade_transactions_rms.usileg,,,,N/A,N/A,,N/A,N/A,N/A,N/A,N/A,N/A,N/A,,,,,N/A,,,N/A,,,,,,null,,,,,,N/A,,,,,N/A,,,,,,,\\r\\nbank.trade_transactions_rms.usiproduct,,,,N/A,N/A,,N/A,N/A,N/A,N/A,N/A,N/A,N/A,,,,,N/A,,,N/A,,,,,,null,,,,,,N/A,,,,,N/A,,,,,,,\\r\\nbank.trade_transactions_rms.dbppid,,,,N/A,N/A,,N/A,N/A,N/A,N/A,N/A,N/A,N/A,,,,,N/A,,,N/A,,,,,,null,,,,,,N/A,,,,,N/A,,,,,,,\\r\\nbank.trade_transactions_rms.dbphysicalproduct,,,,N/A,N/A,,N/A,N/A,N/A,N/A,N/A,N/A,N/A,,,,,N/A,,,N/A,,,,,,null,,,,,,N/A,,,,,N/A,,,,,,,\\r\\nbank.trade_transactions_rms.dbrpid,,,,N/A,N/A,,N/A,N/A,N/A,N/A,N/A,N/A,N/A,,,,,N/A,,,N/A,,,,,,null,,,,,,N/A,,,,,N/A,,,,,,,\\r\\nbank.trade_transactions_rms.dbriskproduct,,,,N/A,N/A,,N/A,N/A,N/A,N/A,N/A,N/A,N/A,,,,,N/A,,,N/A,,,,,,null,,,,,,N/A,,,,,N/A,,,,,,,\\r\\nbank.trade_transactions_rms.exercisedintosourcesystemid,,,,N/A,N/A,,N/A,N/A,N/A,N/A,N/A,N/A,N/A,,,,,N/A,,,N/A,,,,,,null,,,,,,N/A,,,,,N/A,,,,,,,\\r\\nbank.trade_trxn.systemid,,,,N/A,N/A,,N/A,N/A,N/A,N/A,N/A,N/A,N/A,,,,,N/A,,,N/A,,,,,,null,,,,,,N/A,,,,,N/A,,,,,,,\\r\\nbank.trade_trxn.version,,,,N/A,N/A,,N/A,N/A,N/A,N/A,N/A,N/A,N/A,,,,,N/A,,,N/A,,,,,,null,,,,,,N/A,,,,,N/A,,,,,,,\\r\\nbank.trade_trxn.latestversionyn,,,,N/A,N/A,,N/A,N/A,N/A,N/A,N/A,N/A,N/A,,,,,N/A,,,N/A,,,,,,null,,,,,,N/A,,,,,N/A,,,,,,,\\r\\nbank.trade_trxn.status,,,,N/A,N/A,,N/A,N/A,N/A,N/A,N/A,N/A,N/A,,,,,N/A,,,N/A,,,,,,null,,,,,,N/A,,,,,N/A,,,,,,,\\r\\nbank.trade_trxn.electedsettlementsystem,,,,N/A,N/A,,N/A,N/A,N/A,N/A,N/A,N/A,N/A,,,,,N/A,,,N/A,,,,,,null,,,,,,N/A,,,,,N/A,,,,,,,\\r\\nbank.trade_trxn.electedconfirmationsystem,,,,N/A,N/A,,N/A,N/A,N/A,N/A,N/A,N/A,N/A,,,,,N/A,,,N/A,,,,,,null,,,,,,N/A,,,,,N/A,,,,,,,\\r\\nbank.trade_trxn.tradedate,,,,N/A,N/A,,N/A,N/A,N/A,N/A,N/A,N/A,N/A,,,,,N/A,,,N/A,,,,,,null,,,,,,N/A,,,,,N/A,,,,,,,\\r\\nbank.trade_trxn.book,,,,N/A,N/A,,N/A,N/A,N/A,N/A,N/A,N/A,N/A,,,,,N/A,,,N/A,,,,,,null,,,,,,N/A,,,,,N/A,,,,,,,\\r\\nbank.trade_trxn.tradetype,,,,N/A,N/A,,N/A,N/A,N/A,N/A,N/A,N/A,N/A,,,,,N/A,,,N/A,,,,,,null,,,,,,N/A,,,,,N/A,,,,,,,\\r\\nbank.trade_trxn.lastupdated,,,,N/A,N/A,,N/A,N/A,N/A,N/A,N/A,N/A,N/A,,,,,N/A,,,N/A,,,,,,null,,,,,,N/A,,,,,N/A,,,,,,,\\r\\nbank.trade_trxn.enteredby,,,,N/A,N/A,,N/A,N/A,N/A,N/A,N/A,N/A,N/A,,,,,N/A,,,N/A,,,,,,null,,,,,,N/A,,,,,N/A,,,,,,,\\r\\nbank.trade_trxn.action,,,,N/A,N/A,,N/A,N/A,N/A,N/A,N/A,N/A,N/A,,,,,N/A,,,N/A,,,,,,null,,,,,,N/A,,,,,N/A,,,,,,,\\r\\nbank.trade_trxn.counterparty,,,,N/A,N/A,,N/A,N/A,N/A,N/A,N/A,N/A,N/A,,,,,N/A,,,N/A,,,,,,null,,,,,,N/A,,,,,N/A,,,,,,,\\r\\nbank.trade_trxn.counterpartysourcesystem,,,,N/A,N/A,,N/A,N/A,N/A,N/A,N/A,N/A,N/A,,,,,N/A,,,N/A,,,,,,null,,,,,,N/A,,,,,N/A,,,,,,,\\r\\nbank.trade_trxn.datecreated,,,,N/A,N/A,,N/A,N/A,N/A,N/A,N/A,N/A,N/A,,,,,N/A,,,N/A,,,,,,null,,,,,,N/A,,,,,N/A,,,,,,,\\r\\nbank.trade_trxn.createdby,,,,N/A,N/A,,N/A,N/A,N/A,N/A,N/A,N/A,N/A,,,,,N/A,,,N/A,,,,,,null,,,,,,N/A,,,,,N/A,,,,,,,\\r\\nbank.trade_trxn.tradeid,,,,N/A,N/A,,N/A,N/A,N/A,N/A,N/A,N/A,N/A,,,,,N/A,,,N/A,,,,,,null,,,,,,N/A,,,,,N/A,,,,,,,\\r\\nbank.trade_trxn.undercurrency,,,,N/A,N/A,,N/A,N/A,N/A,N/A,N/A,N/A,N/A,,,,,N/A,,,N/A,,,,,,null,,,,,,N/A,,,,,N/A,,,,,,,\\r\\nbank.trade_trxn.acccurrency,,,,N/A,N/A,,N/A,N/A,N/A,N/A,N/A,N/A,N/A,,,,,N/A,,,N/A,,,,,,null,,,,,,N/A,,,,,N/A,,,,,,,\\r\\nbank.trade_trxn.notional,,,,N/A,N/A,,N/A,N/A,N/A,N/A,N/A,N/A,N/A,,,,,N/A,,,N/A,,,,,,null,,,,,,N/A,,,,,N/A,,,,,,,\\r\\nbank.trade_trxn.accnotional,,,,N/A,N/A,,N/A,N/A,N/A,N/A,N/A,N/A,N/A,,,,,N/A,,,N/A,,,,,,null,,,,,,N/A,,,,,N/A,,,,,,,\\r\\nbank.trade_trxn.strike,,,,N/A,N/A,,N/A,N/A,N/A,N/A,N/A,N/A,N/A,,,,,N/A,,,N/A,,,,,,null,,,,,,N/A,,,,,N/A,,,,,,,\\r\\nbank.trade_trxn.settlementdate,,,,N/A,N/A,,N/A,N/A,N/A,N/A,N/A,N/A,N/A,,,,,N/A,,,N/A,,,,,,null,,,,,,N/A,,,,,N/A,,,,,,,\\r\\nbank.trade_trxn.fixing,,,,N/A,N/A,,N/A,N/A,N/A,N/A,N/A,N/A,N/A,,,,,N/A,,,N/A,,,,,,null,,,,,,N/A,,,,,N/A,,,,,,,\\r\\nbank.trade_trxn.fixingdate,,,,N/A,N/A,,N/A,N/A,N/A,N/A,N/A,N/A,N/A,,,,,N/A,,,N/A,,,,,,null,,,,,,N/A,,,,,N/A,,,,,,,\\r\\nbank.trade_trxn.fixingreference,,,,N/A,N/A,,N/A,N/A,N/A,N/A,N/A,N/A,N/A,,,,,N/A,,,N/A,,,,,,null,,,,,,N/A,,,,,N/A,,,,,,,\\r\\nbank.trade_trxn.sourcesystem,,,,N/A,N/A,,N/A,N/A,N/A,N/A,N/A,N/A,N/A,,,,,N/A,,,N/A,,,,,,null,,,,,,N/A,,,,,N/A,,,,,,,\\r\\nbank.trade_trxn.blotter,,,,N/A,N/A,,N/A,N/A,N/A,N/A,N/A,N/A,N/A,,,,,N/A,,,N/A,,,,,,null,,,,,,N/A,,,,,N/A,,,,,,,\\r\\nbank.trade_trxn.counterpartyname,,,,N/A,N/A,,N/A,N/A,N/A,N/A,N/A,N/A,N/A,,,,,N/A,,,N/A,,,,,,null,,,,,,N/A,,,,,N/A,,,,,,,\\r\\nbank.trade_trxn.dbicounterpartyid,,,,N/A,N/A,,N/A,N/A,N/A,N/A,N/A,N/A,N/A,,,,,N/A,,,N/A,,,,,,null,,,,,,N/A,,,,,N/A,,,,,,,\\r\\nbank.trade_trxn.customer,,,,N/A,N/A,,N/A,N/A,N/A,N/A,N/A,N/A,N/A,,,,,N/A,,,N/A,,,,,,null,,,,,,N/A,,,,,N/A,,,,,,,\\r\\nbank.trade_trxn.customersourcesystem,,,,N/A,N/A,,N/A,N/A,N/A,N/A,N/A,N/A,N/A,,,,,N/A,,,N/A,,,,,,null,,,,,,N/A,,,,,N/A,,,,,,,\\r\\nbank.trade_trxn.dominantnotional,,,,N/A,N/A,,N/A,N/A,N/A,N/A,N/A,N/A,N/A,,,,,N/A,,,N/A,,,,,,null,,,,,,N/A,,,,,N/A,,,,,,,\\r\\nbank.trade_trxn.strikeasentered,,,,N/A,N/A,,N/A,N/A,N/A,N/A,N/A,N/A,N/A,,,,,N/A,,,N/A,,,,,,null,,,,,,N/A,,,,,N/A,,,,,,,\\r\\nbank.trade_trxn.striketermsasentered,,,,N/A,N/A,,N/A,N/A,N/A,N/A,N/A,N/A,N/A,,,,,N/A,,,N/A,,,,,,null,,,,,,N/A,,,,,N/A,,,,,,,\\r\\nbank.trade_trxn.traderrate,,,,N/A,N/A,,N/A,N/A,N/A,N/A,N/A,N/A,N/A,,,,,N/A,,,N/A,,,,,,null,,,,,,N/A,,,,,N/A,,,,,,,\\r\\nbank.trade_trxn.expirydate,,,,N/A,N/A,,N/A,N/A,N/A,N/A,N/A,N/A,N/A,,,,,N/A,,,N/A,,,,,,null,,,,,,N/A,,,,,N/A,,,,,,,\\r\\nbank.trade_trxn.paycurrency,,,,N/A,N/A,,N/A,N/A,N/A,N/A,N/A,N/A,N/A,,,,,N/A,,,N/A,,,,,,null,,,,,,N/A,,,,,N/A,,,,,,,\\r\\nbank.trade_trxn.quantolevel,,,,N/A,N/A,,N/A,N/A,N/A,N/A,N/A,N/A,N/A,,,,,N/A,,,N/A,,,,,,null,,,,,,N/A,,,,,N/A,,,,,,,\\r\\nbank.trade_trxn.zonecut,,,,N/A,N/A,,N/A,N/A,N/A,N/A,N/A,N/A,N/A,,,,,N/A,,,N/A,,,,,,null,,,,,,N/A,,,,,N/A,,,,,,,\\r\\nbank.trade_trxn.modeltype,,,,N/A,N/A,,N/A,N/A,N/A,N/A,N/A,N/A,N/A,,,,,N/A,,,N/A,,,,,,null,,,,,,N/A,,,,,N/A,,,,,,,\\r\\nbank.trade_trxn.futurecode,,,,N/A,N/A,,N/A,N/A,N/A,N/A,N/A,N/A,N/A,,,,,N/A,,,N/A,,,,,,null,,,,,,N/A,,,,,N/A,,,,,,,\\r\\nbank.trade_trxn.futuresexpirydate,,,,N/A,N/A,,N/A,N/A,N/A,N/A,N/A,N/A,N/A,,,,,N/A,,,N/A,,,,,,null,,,,,,N/A,,,,,N/A,,,,,,,\\r\\nbank.trade_trxn.premiumcurrency,,,,N/A,N/A,,N/A,N/A,N/A,N/A,N/A,N/A,N/A,,,,,N/A,,,N/A,,,,,,null,,,,,,N/A,,,,,N/A,,,,,,,\\r\\nbank.trade_trxn.premiumdate,,,,N/A,N/A,,N/A,N/A,N/A,N/A,N/A,N/A,N/A,,,,,N/A,,,N/A,,,,,,null,,,,,,N/A,,,,,N/A,,,,,,,\\r\\nbank.trade_trxn.premiumamount,,,,N/A,N/A,,N/A,N/A,N/A,N/A,N/A,N/A,N/A,,,,,N/A,,,N/A,,,,,,null,,,,,,N/A,,,,,N/A,,,,,,,\\r\\nbank.trade_trxn.premiumhaspaidyn,,,,N/A,N/A,,N/A,N/A,N/A,N/A,N/A,N/A,N/A,,,,,N/A,,,N/A,,,,,,null,,,,,,N/A,,,,,N/A,,,,,,,\\r\\nbank.trade_trxn.unwindrate,,,,N/A,N/A,,N/A,N/A,N/A,N/A,N/A,N/A,N/A,,,,,N/A,,,N/A,,,,,,null,,,,,,N/A,,,,,N/A,,,,,,,\\r\\nbank.trade_trxn.unwindpremiumcurrency,,,,N/A,N/A,,N/A,N/A,N/A,N/A,N/A,N/A,N/A,,,,,N/A,,,N/A,,,,,,null,,,,,,N/A,,,,,N/A,,,,,,,\\r\\nbank.trade_trxn.unwindpremiumamount,,,,N/A,N/A,,N/A,N/A,N/A,N/A,N/A,N/A,N/A,,,,,N/A,,,N/A,,,,,,null,,,,,,N/A,,,,,N/A,,,,,,,\\r\\nbank.trade_trxn.unwindpremiumdate,,,,N/A,N/A,,N/A,N/A,N/A,N/A,N/A,N/A,N/A,,,,,N/A,,,N/A,,,,,,null,,,,,,N/A,,,,,N/A,,,,,,,\\r\\nbank.trade_trxn.marginpaymentcurrency,,,,N/A,N/A,,N/A,N/A,N/A,N/A,N/A,N/A,N/A,,,,,N/A,,,N/A,,,,,,null,,,,,,N/A,,,,,N/A,,,,,,,\\r\\nbank.trade_trxn.marginpaymentamount,,,,N/A,N/A,,N/A,N/A,N/A,N/A,N/A,N/A,N/A,,,,,N/A,,,N/A,,,,,,null,,,,,,N/A,,,,,N/A,,,,,,,\\r\\nbank.trade_trxn.productid,,,,N/A,N/A,,N/A,N/A,N/A,N/A,N/A,N/A,N/A,,,,,N/A,,,N/A,,,,,,null,,,,,,N/A,,,,,N/A,,,,,,,\\r\\nbank.trade_trxn.productversion,,,,N/A,N/A,,N/A,N/A,N/A,N/A,N/A,N/A,N/A,,,,,N/A,,,N/A,,,,,,null,,,,,,N/A,,,,,N/A,,,,,,,\\r\\nbank.trade_trxn.productlegid,,,,N/A,N/A,,N/A,N/A,N/A,N/A,N/A,N/A,N/A,,,,,N/A,,,N/A,,,,,,null,,,,,,N/A,,,,,N/A,,,,,,,\\r\\nbank.trade_trxn.structureid,,,,N/A,N/A,,N/A,N/A,N/A,N/A,N/A,N/A,N/A,,,,,N/A,,,N/A,,,,,,null,,,,,,N/A,,,,,N/A,,,,,,,\\r\\nbank.trade_trxn.referencespot,,,,N/A,N/A,,N/A,N/A,N/A,N/A,N/A,N/A,N/A,,,,,N/A,,,N/A,,,,,,null,,,,,,N/A,,,,,N/A,,,,,,,\\r\\nbank.trade_trxn.referenceforwardpoints,,,,N/A,N/A,,N/A,N/A,N/A,N/A,N/A,N/A,N/A,,,,,N/A,,,N/A,,,,,,null,,,,,,N/A,,,,,N/A,,,,,,,\\r\\nbank.trade_trxn.referencevolatility,,,,N/A,N/A,,N/A,N/A,N/A,N/A,N/A,N/A,N/A,,,,,N/A,,,N/A,,,,,,null,,,,,,N/A,,,,,N/A,,,,,,,\\r\\nbank.trade_trxn.referencedeporate,,,,N/A,N/A,,N/A,N/A,N/A,N/A,N/A,N/A,N/A,,,,,N/A,,,N/A,,,,,,null,,,,,,N/A,,,,,N/A,,,,,,,\\r\\nbank.trade_trxn.referencedepocurrency,,,,N/A,N/A,,N/A,N/A,N/A,N/A,N/A,N/A,N/A,,,,,N/A,,,N/A,,,,,,null,,,,,,N/A,,,,,N/A,,,,,,,\\r\\nbank.trade_trxn.referencedelta,,,,N/A,N/A,,N/A,N/A,N/A,N/A,N/A,N/A,N/A,,,,,N/A,,,N/A,,,,,,null,,,,,,N/A,,,,,N/A,,,,,,,\\r\\nbank.trade_trxn.referencedeltacurrency,,,,N/A,N/A,,N/A,N/A,N/A,N/A,N/A,N/A,N/A,,,,,N/A,,,N/A,,,,,,null,,,,,,N/A,,,,,N/A,,,,,,,\\r\\nbank.trade_trxn.assetlocation,,,,N/A,N/A,,N/A,N/A,N/A,N/A,N/A,N/A,N/A,,,,,N/A,,,N/A,,,,,,null,,,,,,N/A,,,,,N/A,,,,,,,\\r\\nbank.trade_trxn.actioneffectivedate,,,,N/A,N/A,,N/A,N/A,N/A,N/A,N/A,N/A,N/A,,,,,N/A,,,N/A,,,,,,null,,,,,,N/A,,,,,N/A,,,,,,,\\r\\nbank.trade_trxn.sourcesystembook,,,,N/A,N/A,,N/A,N/A,N/A,N/A,N/A,N/A,N/A,,,,,N/A,,,N/A,,,,,,null,,,,,,N/A,,,,,N/A,,,,,,,\\r\\nbank.trade_trxn.sourcesystemprofitcentre,,,,N/A,N/A,,N/A,N/A,N/A,N/A,N/A,N/A,N/A,,,,,N/A,,,N/A,,,,,,null,,,,,,N/A,,,,,N/A,,,,,,,\\r\\nbank.trade_trxn.salesperson,,,,N/A,N/A,,N/A,N/A,N/A,N/A,N/A,N/A,N/A,,,,,N/A,,,N/A,,,,,,null,,,,,,N/A,,,,,N/A,,,,,,,\\r\\nbank.trade_trxn.fundsplitid,,,,N/A,N/A,,N/A,N/A,N/A,N/A,N/A,N/A,N/A,,,,,N/A,,,N/A,,,,,,null,,,,,,N/A,,,,,N/A,,,,,,,\\r\\nbank.trade_trxn.fundsplitversion,,,,N/A,N/A,,N/A,N/A,N/A,N/A,N/A,N/A,N/A,,,,,N/A,,,N/A,,,,,,null,,,,,,N/A,,,,,N/A,,,,,,,\\r\\nbank.trade_trxn.structurename,,,,N/A,N/A,,N/A,N/A,N/A,N/A,N/A,N/A,N/A,,,,,N/A,,,N/A,,,,,,null,,,,,,N/A,,,,,N/A,,,,,,,\\r\\nbank.trade_trxn.markupamt,,,,N/A,N/A,,N/A,N/A,N/A,N/A,N/A,N/A,N/A,,,,,N/A,,,N/A,,,,,,null,,,,,,N/A,,,,,N/A,,,,,,,\\r\\nbank.trade_trxn.markupccy,,,,N/A,N/A,,N/A,N/A,N/A,N/A,N/A,N/A,N/A,,,,,N/A,,,N/A,,,,,,null,,,,,,N/A,,,,,N/A,,,,,,,\\r\\nbank.trade_trxn.markuplocation,,,,N/A,N/A,,N/A,N/A,N/A,N/A,N/A,N/A,N/A,,,,,N/A,,,N/A,,,,,,null,,,,,,N/A,,,,,N/A,,,,,,,\\r\\nbank.trade_trxn.atriskamt,,,,N/A,N/A,,N/A,N/A,N/A,N/A,N/A,N/A,N/A,,,,,N/A,,,N/A,,,,,,null,,,,,,N/A,,,,,N/A,,,,,,,\\r\\nbank.trade_trxn.atriskccy,,,,N/A,N/A,,N/A,N/A,N/A,N/A,N/A,N/A,N/A,,,,,N/A,,,N/A,,,,,,null,,,,,,N/A,,,,,N/A,,,,,,,\\r\\nbank.trade_trxn.atrisklocation,,,,N/A,N/A,,N/A,N/A,N/A,N/A,N/A,N/A,N/A,,,,,N/A,,,N/A,,,,,,null,,,,,,N/A,,,,,N/A,,,,,,,\\r\\nbank.trade_trxn.atriskindicator,,,,N/A,N/A,,N/A,N/A,N/A,N/A,N/A,N/A,N/A,,,,,N/A,,,N/A,,,,,,null,,,,,,N/A,,,,,N/A,,,,,,,\\r\\nbank.trade_trxn.reason,,,,N/A,N/A,,N/A,N/A,N/A,N/A,N/A,N/A,N/A,,,,,N/A,,,N/A,,,,,,null,,,,,,N/A,,,,,N/A,,,,,,,\\r\\nbank.trade_trxn.notes,,,,N/A,N/A,,N/A,N/A,N/A,N/A,N/A,N/A,N/A,,,,,N/A,,,N/A,,,,,,null,,,,,,N/A,,,,,N/A,,,,,,,\\r\\nbank.trade_trxn.broker,,,,N/A,N/A,,N/A,N/A,N/A,N/A,N/A,N/A,N/A,,,,,N/A,,,N/A,,,,,,null,,,,,,N/A,,,,,N/A,,,,,,,\\r\\nbank.trade_trxn.brokeramt,,,,N/A,N/A,,N/A,N/A,N/A,N/A,N/A,N/A,N/A,,,,,N/A,,,N/A,,,,,,null,,,,,,N/A,,,,,N/A,,,,,,,\\r\\nbank.trade_trxn.brokerccy,,,,N/A,N/A,,N/A,N/A,N/A,N/A,N/A,N/A,N/A,,,,,N/A,,,N/A,,,,,,null,,,,,,N/A,,,,,N/A,,,,,,,\\r\\nbank.trade_trxn.linksystemid,,,,N/A,N/A,,N/A,N/A,N/A,N/A,N/A,N/A,N/A,,,,,N/A,,,N/A,,,,,,null,,,,,,N/A,,,,,N/A,,,,,,,\\r\\nbank.trade_trxn.linktype,,,,N/A,N/A,,N/A,N/A,N/A,N/A,N/A,N/A,N/A,,,,,N/A,,,N/A,,,,,,null,,,,,,N/A,,,,,N/A,,,,,,,\\r\\nbank.trade_trxn.sourcesystemid,,,,N/A,N/A,,N/A,N/A,N/A,N/A,N/A,N/A,N/A,,,,,N/A,,,N/A,,,,,,null,,,,,,N/A,,,,,N/A,,,,,,,\\r\\nbank.trade_trxn.confirmas,,,,N/A,N/A,,N/A,N/A,N/A,N/A,N/A,N/A,N/A,,,,,N/A,,,N/A,,,,,,null,,,,,,N/A,,,,,N/A,,,,,,,\\r\\nbank.trade_trxn.cancelssourcesystemid,,,,N/A,N/A,,N/A,N/A,N/A,N/A,N/A,N/A,N/A,,,,,N/A,,,N/A,,,,,,null,,,,,,N/A,,,,,N/A,,,,,,,\\r\\nbank.trade_trxn.cancelledbysourcesystemid,,,,N/A,N/A,,N/A,N/A,N/A,N/A,N/A,N/A,N/A,,,,,N/A,,,N/A,,,,,,null,,,,,,N/A,,,,,N/A,,,,,,,\\r\\nbank.trade_trxn.cancellinghalfsourcesystemid,,,,N/A,N/A,,N/A,N/A,N/A,N/A,N/A,N/A,N/A,,,,,N/A,,,N/A,,,,,,null,,,,,,N/A,,,,,N/A,,,,,,,\\r\\nbank.trade_trxn.correctssourcesystemid,,,,N/A,N/A,,N/A,N/A,N/A,N/A,N/A,N/A,N/A,,,,,N/A,,,N/A,,,,,,null,,,,,,N/A,,,,,N/A,,,,,,,\\r\\nbank.trade_trxn.correctedbysourcesystemid,,,,N/A,N/A,,N/A,N/A,N/A,N/A,N/A,N/A,N/A,,,,,N/A,,,N/A,,,,,,null,,,,,,N/A,,,,,N/A,,,,,,,\\r\\nbank.trade_trxn.closessourcesystemid,,,,N/A,N/A,,N/A,N/A,N/A,N/A,N/A,N/A,N/A,,,,,N/A,,,N/A,,,,,,null,,,,,,N/A,,,,,N/A,,,,,,,\\r\\nbank.trade_trxn.closedbysourcesystemid,,,,N/A,N/A,,N/A,N/A,N/A,N/A,N/A,N/A,N/A,,,,,N/A,,,N/A,,,,,,null,,,,,,N/A,,,,,N/A,,,,,,,\\r\\nbank.trade_trxn.exercisedfromsourcesystemid,,,,N/A,N/A,,N/A,N/A,N/A,N/A,N/A,N/A,N/A,,,,,N/A,,,N/A,,,,,,null,,,,,,N/A,,,,,N/A,,,,,,,\\r\\nbank.trade_trxn.closingdate,,,,N/A,N/A,,N/A,N/A,N/A,N/A,N/A,N/A,N/A,,,,,N/A,,,N/A,,,,,,null,,,,,,N/A,,,,,N/A,,,,,,,\\r\\nbank.trade_trxn.legalentity,,,,N/A,N/A,,N/A,N/A,N/A,N/A,N/A,N/A,N/A,,,,,N/A,,,N/A,,,,,,null,,,,,,N/A,,,,,N/A,,,,,,,\\r\\nbank.trade_trxn.dealcapturesystem,,,,N/A,N/A,,N/A,N/A,N/A,N/A,N/A,N/A,N/A,,,,,N/A,,,N/A,,,,,,null,,,,,,N/A,,,,,N/A,,,,,,,\\r\\nbank.trade_trxn.dealcapturesystemid,,,,N/A,N/A,,N/A,N/A,N/A,N/A,N/A,N/A,N/A,,,,,N/A,,,N/A,,,,,,null,,,,,,N/A,,,,,N/A,,,,,,,\\r\\nbank.trade_trxn.bookinglocation,,,,N/A,N/A,,N/A,N/A,N/A,N/A,N/A,N/A,N/A,,,,,N/A,,,N/A,,,,,,null,,,,,,N/A,,,,,N/A,,,,,,,\\r\\nbank.trade_trxn.producttype,,,,N/A,N/A,,N/A,N/A,N/A,N/A,N/A,N/A,N/A,,,,,N/A,,,N/A,,,,,,null,,,,,,N/A,,,,,N/A,,,,,,,\\r\\nbank.trade_trxn.productinstance,,,,N/A,N/A,,N/A,N/A,N/A,N/A,N/A,N/A,N/A,,,,,N/A,,,N/A,,,,,,null,,,,,,N/A,,,,,N/A,,,,,,,\\r\\nbank.trade_trxn.backofficesystem,,,,N/A,N/A,,N/A,N/A,N/A,N/A,N/A,N/A,N/A,,,,,N/A,,,N/A,,,,,,null,,,,,,N/A,,,,,N/A,,,,,,,\\r\\nbank.trade_trxn.backofficesystemid,,,,N/A,N/A,,N/A,N/A,N/A,N/A,N/A,N/A,N/A,,,,,N/A,,,N/A,,,,,,null,,,,,,N/A,,,,,N/A,,,,,,,\\r\\nbank.trade_trxn.versionvaliduntildate,,,,N/A,N/A,,N/A,N/A,N/A,N/A,N/A,N/A,N/A,,,,,N/A,,,N/A,,,,,,null,,,,,,N/A,,,,,N/A,,,,,,,\\r\\nbank.trade_trxn.tradeextradetailid,,,,N/A,N/A,,N/A,N/A,N/A,N/A,N/A,N/A,N/A,,,,,N/A,,,N/A,,,,,,null,,,,,,N/A,,,,,N/A,,,,,,,\\r\\nbank.trade_trxn.tradeextradetailversion,,,,N/A,N/A,,N/A,N/A,N/A,N/A,N/A,N/A,N/A,,,,,N/A,,,N/A,,,,,,null,,,,,,N/A,,,,,N/A,,,,,,,\\r\\nbank.trade_trxn.tradeclassification,,,,N/A,N/A,,N/A,N/A,N/A,N/A,N/A,N/A,N/A,,,,,N/A,,,N/A,,,,,,null,,,,,,N/A,,,,,N/A,,,,,,,\\r\\nbank.trade_trxn.dealcapturesalesuser,,,,N/A,N/A,,N/A,N/A,N/A,N/A,N/A,N/A,N/A,,,,,N/A,,,N/A,,,,,,null,,,,,,N/A,,,,,N/A,,,,,,,\\r\\nbank.trade_trxn.fundsplitallocationid,,,,N/A,N/A,,N/A,N/A,N/A,N/A,N/A,N/A,N/A,,,,,N/A,,,N/A,,,,,,null,,,,,,N/A,,,,,N/A,,,,,,,\\r\\nbank.trade_trxn.fundsplitallocationlegid,,,,N/A,N/A,,N/A,N/A,N/A,N/A,N/A,N/A,N/A,,,,,N/A,,,N/A,,,,,,null,,,,,,N/A,,,,,N/A,,,,,,,\\r\\nbank.trade_trxn.generaterisksweeptradeyn,,,,N/A,N/A,,N/A,N/A,N/A,N/A,N/A,N/A,N/A,,,,,N/A,,,N/A,,,,,,null,,,,,,N/A,,,,,N/A,,,,,,,\\r\\nbank.trade_trxn.risksweeptradetype,,,,N/A,N/A,,N/A,N/A,N/A,N/A,N/A,N/A,N/A,,,,,N/A,,,N/A,,,,,,null,,,,,,N/A,,,,,N/A,,,,,,,\\r\\nbank.trade_trxn.risksweepstrike,,,,N/A,N/A,,N/A,N/A,N/A,N/A,N/A,N/A,N/A,,,,,N/A,,,N/A,,,,,,null,,,,,,N/A,,,,,N/A,,,,,,,\\r\\nbank.trade_trxn.risksweepsettlementdate,,,,N/A,N/A,,N/A,N/A,N/A,N/A,N/A,N/A,N/A,,,,,N/A,,,N/A,,,,,,null,,,,,,N/A,,,,,N/A,,,,,,,\\r\\nbank.trade_trxn.risksweepbook,,,,N/A,N/A,,N/A,N/A,N/A,N/A,N/A,N/A,N/A,,,,,N/A,,,N/A,,,,,,null,,,,,,N/A,,,,,N/A,,,,,,,\\r\\nbank.trade_trxn.risksweepundercurrency,,,,N/A,N/A,,N/A,N/A,N/A,N/A,N/A,N/A,N/A,,,,,N/A,,,N/A,,,,,,null,,,,,,N/A,,,,,N/A,,,,,,,\\r\\nbank.trade_trxn.risksweepacccurrency,,,,N/A,N/A,,N/A,N/A,N/A,N/A,N/A,N/A,N/A,,,,,N/A,,,N/A,,,,,,null,,,,,,N/A,,,,,N/A,,,,,,,\\r\\nbank.trade_trxn.risksweeplinkmastersystemid,,,,N/A,N/A,,N/A,N/A,N/A,N/A,N/A,N/A,N/A,,,,,N/A,,,N/A,,,,,,null,,,,,,N/A,,,,,N/A,,,,,,,\\r\\nbank.trade_trxn.spotpricinglocation,,,,N/A,N/A,,N/A,N/A,N/A,N/A,N/A,N/A,N/A,,,,,N/A,,,N/A,,,,,,null,,,,,,N/A,,,,,N/A,,,,,,,\\r\\nbank.trade_trxn.forwardpricinglocation,,,,N/A,N/A,,N/A,N/A,N/A,N/A,N/A,N/A,N/A,,,,,N/A,,,N/A,,,,,,null,,,,,,N/A,,,,,N/A,,,,,,,\\r\\nbank.trade_trxn.settlementlegalentitylocation,,,,N/A,N/A,,N/A,N/A,N/A,N/A,N/A,N/A,N/A,,,,,N/A,,,N/A,,,,,,null,,,,,,N/A,,,,,N/A,,,,,,,\\r\\nbank.trade_trxn.locallegalentitysettlementyn,,,,N/A,N/A,,N/A,N/A,N/A,N/A,N/A,N/A,N/A,,,,,N/A,,,N/A,,,,,,null,,,,,,N/A,,,,,N/A,,,,,,,\\r\\nbank.trade_trxn.riskholdingbook,,,,N/A,N/A,,N/A,N/A,N/A,N/A,N/A,N/A,N/A,,,,,N/A,,,N/A,,,,,,null,,,,,,N/A,,,,,N/A,,,,,,,\\r\\nbank.trade_trxn.riskholdinglinkmastersystemid,,,,N/A,N/A,,N/A,N/A,N/A,N/A,N/A,N/A,N/A,,,,,N/A,,,N/A,,,,,,null,,,,,,N/A,,,,,N/A,,,,,,,\\r\\nbank.trade_trxn.generatebacktobacktradeyn,,,,N/A,N/A,,N/A,N/A,N/A,N/A,N/A,N/A,N/A,,,,,N/A,,,N/A,,,,,,null,,,,,,N/A,,,,,N/A,,,,,,,\\r\\nbank.trade_trxn.childforwardpips,,,,N/A,N/A,,N/A,N/A,N/A,N/A,N/A,N/A,N/A,,,,,N/A,,,N/A,,,,,,null,,,,,,N/A,,,,,N/A,,,,,,,\\r\\nbank.trade_trxn.childmarginpips,,,,N/A,N/A,,N/A,N/A,N/A,N/A,N/A,N/A,N/A,,,,,N/A,,,N/A,,,,,,null,,,,,,N/A,,,,,N/A,,,,,,,\\r\\nbank.trade_trxn.scalingfactor,,,,N/A,N/A,,N/A,N/A,N/A,N/A,N/A,N/A,N/A,,,,,N/A,,,N/A,,,,,,null,,,,,,N/A,,,,,N/A,,,,,,,\\r\\nbank.trade_trxn.risksweepclientstrike,,,,N/A,N/A,,N/A,N/A,N/A,N/A,N/A,N/A,N/A,,,,,N/A,,,N/A,,,,,,null,,,,,,N/A,,,,,N/A,,,,,,,\\r\\nbank.trade_trxn.internalgroupid,,,,N/A,N/A,,N/A,N/A,N/A,N/A,N/A,N/A,N/A,,,,,N/A,,,N/A,,,,,,null,,,,,,N/A,,,,,N/A,,,,,,,\\r\\nbank.trade_trxn.originalsettlementdate,,,,N/A,N/A,,N/A,N/A,N/A,N/A,N/A,N/A,N/A,,,,,N/A,,,N/A,,,,,,null,,,,,,N/A,,,,,N/A,,,,,,,\\r\\nbank.trade_trxn.tearupid,,,,N/A,N/A,,N/A,N/A,N/A,N/A,N/A,N/A,N/A,,,,,N/A,,,N/A,,,,,,null,,,,,,N/A,,,,,N/A,,,,,,,\\r\\nbank.trade_trxn.electedconfirmationruleid,,,,N/A,N/A,,N/A,N/A,N/A,N/A,N/A,N/A,N/A,,,,,N/A,,,N/A,,,,,,null,,,,,,N/A,,,,,N/A,,,,,,,\\r\\nbank.trade_trxn.previousconfirmationsystem,,,,N/A,N/A,,N/A,N/A,N/A,N/A,N/A,N/A,N/A,,,,,N/A,,,N/A,,,,,,null,,,,,,N/A,,,,,N/A,,,,,,,\\r\\nbank.trade_trxn.electedsettlementruleid,,,,N/A,N/A,,N/A,N/A,N/A,N/A,N/A,N/A,N/A,,,,,N/A,,,N/A,,,,,,null,,,,,,N/A,,,,,N/A,,,,,,,\\r\\nbank.trade_trxn.previoussettlementsystem,,,,N/A,N/A,,N/A,N/A,N/A,N/A,N/A,N/A,N/A,,,,,N/A,,,N/A,,,,,,null,,,,,,N/A,,,,,N/A,,,,,,,\\r\\nbank.trade_trxn.drawdownstartdate,,,,N/A,N/A,,N/A,N/A,N/A,N/A,N/A,N/A,N/A,,,,,N/A,,,N/A,,,,,,null,,,,,,N/A,,,,,N/A,,,,,,,\\r\\nbank.trade_trxn.optionpricinglocation,,,,N/A,N/A,,N/A,N/A,N/A,N/A,N/A,N/A,N/A,,,,,N/A,,,N/A,,,,,,null,,,,,,N/A,,,,,N/A,,,,,,,\\r\\nbank.trade_trxn.riskbtbgloballegstatus,,,,N/A,N/A,,N/A,N/A,N/A,N/A,N/A,N/A,N/A,,,,,N/A,,,N/A,,,,,,null,,,,,,N/A,,,,,N/A,,,,,,,\\r\\nbank.trade_trxn.fromlinktype,,,,N/A,N/A,,N/A,N/A,N/A,N/A,N/A,N/A,N/A,,,,,N/A,,,N/A,,,,,,null,,,,,,N/A,,,,,N/A,,,,,,,\\r\\nbank.trade_trxn.tolinktype,,,,N/A,N/A,,N/A,N/A,N/A,N/A,N/A,N/A,N/A,,,,,N/A,,,N/A,,,,,,null,,,,,,N/A,,,,,N/A,,,,,,,\\r\\nbank.trade_trxn.clearingccp,,,,N/A,N/A,,N/A,N/A,N/A,N/A,N/A,N/A,N/A,,,,,N/A,,,N/A,,,,,,null,,,,,,N/A,,,,,N/A,,,,,,,\\r\\nbank.trade_trxn.clearingstatus,,,,N/A,N/A,,N/A,N/A,N/A,N/A,N/A,N/A,N/A,,,,,N/A,,,N/A,,,,,,null,,,,,,N/A,,,,,N/A,,,,,,,\\r\\nbank.trade_trxn.clearingeligibleyn,,,,N/A,N/A,,N/A,N/A,N/A,N/A,N/A,N/A,N/A,,,,,N/A,,,N/A,,,,,,null,,,,,,N/A,,,,,N/A,,,,,,,\\r\\nbank.trade_trxn.settlementcounterparty,,,,N/A,N/A,,N/A,N/A,N/A,N/A,N/A,N/A,N/A,,,,,N/A,,,N/A,,,,,,null,,,,,,N/A,,,,,N/A,,,,,,,\\r\\nbank.trade_trxn.settlementcptysourcesystem,,,,N/A,N/A,,N/A,N/A,N/A,N/A,N/A,N/A,N/A,,,,,N/A,,,N/A,,,,,,null,,,,,,N/A,,,,,N/A,,,,,,,\\r\\nbank.trade_trxn.originalcounterparty,,,,N/A,N/A,,N/A,N/A,N/A,N/A,N/A,N/A,N/A,,,,,N/A,,,N/A,,,,,,null,,,,,,N/A,,,,,N/A,,,,,,,\\r\\nbank.trade_trxn.originalcptysourcesystem,,,,N/A,N/A,,N/A,N/A,N/A,N/A,N/A,N/A,N/A,,,,,N/A,,,N/A,,,,,,null,,,,,,N/A,,,,,N/A,,,,,,,\\r\\nbank.trade_trxn.clearinghousetradeid,,,,N/A,N/A,,N/A,N/A,N/A,N/A,N/A,N/A,N/A,,,,,N/A,,,N/A,,,,,,null,,,,,,N/A,,,,,N/A,,,,,,,\\r\\nbank.trade_trxn.matchertradeid,,,,N/A,N/A,,N/A,N/A,N/A,N/A,N/A,N/A,N/A,,,,,N/A,,,N/A,,,,,,null,,,,,,N/A,,,,,N/A,,,,,,,\\r\\nbank.trade_trxn.latestsource,,,,N/A,N/A,,N/A,N/A,N/A,N/A,N/A,N/A,N/A,,,,,N/A,,,N/A,,,,,,null,,,,,,N/A,,,,,N/A,,,,,,,\\r\\nbank.trade_trxn.latestexecutingplatform,,,,N/A,N/A,,N/A,N/A,N/A,N/A,N/A,N/A,N/A,,,,,N/A,,,N/A,,,,,,null,,,,,,N/A,,,,,N/A,,,,,,,\\r\\nbank.trade_trxn.rmssource,,,,N/A,N/A,,N/A,N/A,N/A,N/A,N/A,N/A,N/A,,,,,N/A,,,N/A,,,,,,null,,,,,,N/A,,,,,N/A,,,,,,,\\r\\nbank.trade_trxn.structurer,,,,N/A,N/A,,N/A,N/A,N/A,N/A,N/A,N/A,N/A,,,,,N/A,,,N/A,,,,,,null,,,,,,N/A,,,,,N/A,,,,,,,\\r\\nbank.trade_trxn.originalexecutingplatform,,,,N/A,N/A,,N/A,N/A,N/A,N/A,N/A,N/A,N/A,,,,,N/A,,,N/A,,,,,,null,,,,,,N/A,,,,,N/A,,,,,,,\\r\\nbank.trade_trxn.originalsource,,,,N/A,N/A,,N/A,N/A,N/A,N/A,N/A,N/A,N/A,,,,,N/A,,,N/A,,,,,,null,,,,,,N/A,,,,,N/A,,,,,,,\\r\\nbank.trade_trxn.marketspread,,,,N/A,N/A,,N/A,N/A,N/A,N/A,N/A,N/A,N/A,,,,,N/A,,,N/A,,,,,,null,,,,,,N/A,,,,,N/A,,,,,,,\\r\\nbank.trade_trxn.atriskadditionalamt,,,,N/A,N/A,,N/A,N/A,N/A,N/A,N/A,N/A,N/A,,,,,N/A,,,N/A,,,,,,null,,,,,,N/A,,,,,N/A,,,,,,,\\r\\nbank.trade_trxn.matcherblockid,,,,N/A,N/A,,N/A,N/A,N/A,N/A,N/A,N/A,N/A,,,,,N/A,,,N/A,,,,,,null,,,,,,N/A,,,,,N/A,,,,,,,\\r\\nbank.trade_trxn.clearingcancelstatus,,,,N/A,N/A,,N/A,N/A,N/A,N/A,N/A,N/A,N/A,,,,,N/A,,,N/A,,,,,,null,,,,,,N/A,,,,,N/A,,,,,,,\\r\\nbank.trade_trxn.clearingclientsourcesystem,,,,N/A,N/A,,N/A,N/A,N/A,N/A,N/A,N/A,N/A,,,,,N/A,,,N/A,,,,,,null,,,,,,N/A,,,,,N/A,,,,,,,\\r\\nbank.trade_trxn.clearingclient,,,,N/A,N/A,,N/A,N/A,N/A,N/A,N/A,N/A,N/A,,,,,N/A,,,N/A,,,,,,null,,,,,,N/A,,,,,N/A,,,,,,,\\r\\nbank.trade_trxn.clearingfundnamesourcesystem,,,,N/A,N/A,,N/A,N/A,N/A,N/A,N/A,N/A,N/A,,,,,N/A,,,N/A,,,,,,null,,,,,,N/A,,,,,N/A,,,,,,,\\r\\nbank.trade_trxn.clearingfundname,,,,N/A,N/A,,N/A,N/A,N/A,N/A,N/A,N/A,N/A,,,,,N/A,,,N/A,,,,,,null,,,,,,N/A,,,,,N/A,,,,,,,\\r\\nbank.trade_trxn.clientcbsourcesystem,,,,N/A,N/A,,N/A,N/A,N/A,N/A,N/A,N/A,N/A,,,,,N/A,,,N/A,,,,,,null,,,,,,N/A,,,,,N/A,,,,,,,\\r\\nbank.trade_trxn.clientclearingbroker,,,,N/A,N/A,,N/A,N/A,N/A,N/A,N/A,N/A,N/A,,,,,N/A,,,N/A,,,,,,null,,,,,,N/A,,,,,N/A,,,,,,,\\r\\nbank.trade_trxn.matcher,,,,N/A,N/A,,N/A,N/A,N/A,N/A,N/A,N/A,N/A,,,,,N/A,,,N/A,,,,,,null,,,,,,N/A,,,,,N/A,,,,,,,\\r\\nbank.trade_trxn.clearingbrokeryn,,,,N/A,N/A,,N/A,N/A,N/A,N/A,N/A,N/A,N/A,,,,,N/A,,,N/A,,,,,,null,,,,,,N/A,,,,,N/A,,,,,,,\\r\\nbank.trade_trxn.nextfixingdate,,,,N/A,N/A,,N/A,N/A,N/A,N/A,N/A,N/A,N/A,,,,,N/A,,,N/A,,,,,,null,,,,,,N/A,,,,,N/A,,,,,,,\\r\\nbank.trade_trxn.fundedindexfixingref,,,,N/A,N/A,,N/A,N/A,N/A,N/A,N/A,N/A,N/A,,,,,N/A,,,N/A,,,,,,null,,,,,,N/A,,,,,N/A,,,,,,,\\r\\nbank.trade_trxn.lastfundedindexfixing,,,,N/A,N/A,,N/A,N/A,N/A,N/A,N/A,N/A,N/A,,,,,N/A,,,N/A,,,,,,null,,,,,,N/A,,,,,N/A,,,,,,,\\r\\nbank.trade_trxn.excessreturnindexfixingref,,,,N/A,N/A,,N/A,N/A,N/A,N/A,N/A,N/A,N/A,,,,,N/A,,,N/A,,,,,,null,,,,,,N/A,,,,,N/A,,,,,,,\\r\\nbank.trade_trxn.lastexcessreturnindexfixing,,,,N/A,N/A,,N/A,N/A,N/A,N/A,N/A,N/A,N/A,,,,,N/A,,,N/A,,,,,,null,,,,,,N/A,,,,,N/A,,,,,,,\\r\\nbank.trade_trxn.returnleverage,,,,N/A,N/A,,N/A,N/A,N/A,N/A,N/A,N/A,N/A,,,,,N/A,,,N/A,,,,,,null,,,,,,N/A,,,,,N/A,,,,,,,\\r\\nbank.trade_trxn.fixingcities,,,,N/A,N/A,,N/A,N/A,N/A,N/A,N/A,N/A,N/A,,,,,N/A,,,N/A,,,,,,null,,,,,,N/A,,,,,N/A,,,,,,,\\r\\nbank.trade_trxn.usinamespace,,,,N/A,N/A,,N/A,N/A,N/A,N/A,N/A,N/A,N/A,,,,,N/A,,,N/A,,,,,,null,,,,,,N/A,,,,,N/A,,,,,,,\\r\\nbank.trade_trxn.usileg,,,,N/A,N/A,,N/A,N/A,N/A,N/A,N/A,N/A,N/A,,,,,N/A,,,N/A,,,,,,null,,,,,,N/A,,,,,N/A,,,,,,,\\r\\nbank.trade_trxn.usiproduct,,,,N/A,N/A,,N/A,N/A,N/A,N/A,N/A,N/A,N/A,,,,,N/A,,,N/A,,,,,,null,,,,,,N/A,,,,,N/A,,,,,,,\\r\\nbank.trade_trxn.dbppid,,,,N/A,N/A,,N/A,N/A,N/A,N/A,N/A,N/A,N/A,,,,,N/A,,,N/A,,,,,,null,,,,,,N/A,,,,,N/A,,,,,,,\\r\\nbank.trade_trxn.dbphysicalproduct,,,,N/A,N/A,,N/A,N/A,N/A,N/A,N/A,N/A,N/A,,,,,N/A,,,N/A,,,,,,null,,,,,,N/A,,,,,N/A,,,,,,,\\r\\nbank.trade_trxn.dbriskproduct,,,,N/A,N/A,,N/A,N/A,N/A,N/A,N/A,N/A,N/A,,,,,N/A,,,N/A,,,,,,null,,,,,,N/A,,,,,N/A,,,,,,,\\r\\nbank.trade_trxn.exercisedintosourcesystemid,,,,N/A,N/A,,N/A,N/A,N/A,N/A,N/A,N/A,N/A,,,,,N/A,,,N/A,,,,,,null,,,,,,N/A,,,,,N/A,,,,,,,\\r\\nbank.trade_type_summary.tradedate_yr,,,,N/A,N/A,,N/A,N/A,N/A,N/A,N/A,N/A,N/A,,,,,N/A,,,N/A,,,,,,null,,,,,,N/A,,,,,N/A,,,,,,,\\r\\nbank.trade_type_summary.tradedate_mth,,,,N/A,N/A,,N/A,N/A,N/A,N/A,N/A,N/A,N/A,,,,,N/A,,,N/A,,,,,,null,,,,,,N/A,,,,,N/A,,,,,,,\\r\\nbank.trade_type_summary.num,,,,N/A,N/A,,N/A,N/A,N/A,N/A,N/A,N/A,N/A,,,,,N/A,,,N/A,,,,,,null,,,,,,N/A,,,,,N/A,,,,,,,\\r\\nbank.trade_type_summary.tradetype,,,,N/A,N/A,,N/A,N/A,N/A,N/A,N/A,N/A,N/A,,,,,N/A,,,N/A,,,,,,null,,,,,,N/A,,,,,N/A,,,,,,,\\r\\n'"
            ]
          },
          "metadata": {
            "tags": []
          },
          "execution_count": 8
        }
      ]
    },
    {
      "cell_type": "code",
      "metadata": {
        "id": "yd6p8dz0qADx",
        "outputId": "f0a7d70a-da46-47a6-ad21-999775d7a4cc",
        "colab": {
          "base_uri": "https://localhost:8080/",
          "height": 837
        }
      },
      "source": [
        "import io\n",
        "f = io.StringIO(csv_raw)\n",
        "df = pd.read_csv(f)\n",
        "df['key'] = df.key.apply(lambda t: f\"1.{t}\")\n",
        "df.index = df['key']\n",
        "df"
      ],
      "execution_count": null,
      "outputs": [
        {
          "output_type": "execute_result",
          "data": {
            "text/html": [
              "<div>\n",
              "<style scoped>\n",
              "    .dataframe tbody tr th:only-of-type {\n",
              "        vertical-align: middle;\n",
              "    }\n",
              "\n",
              "    .dataframe tbody tr th {\n",
              "        vertical-align: top;\n",
              "    }\n",
              "\n",
              "    .dataframe thead th {\n",
              "        text-align: right;\n",
              "    }\n",
              "</style>\n",
              "<table border=\"1\" class=\"dataframe\">\n",
              "  <thead>\n",
              "    <tr style=\"text-align: right;\">\n",
              "      <th></th>\n",
              "      <th>key</th>\n",
              "      <th>title</th>\n",
              "      <th>description</th>\n",
              "      <th>user actions</th>\n",
              "      <th>update frequency</th>\n",
              "      <th>primary feed mechanism</th>\n",
              "      <th>health description</th>\n",
              "      <th>anything:article</th>\n",
              "      <th>anything:attribute</th>\n",
              "      <th>anything:data</th>\n",
              "      <th>anything:groupprofile</th>\n",
              "      <th>anything:schema</th>\n",
              "      <th>anything:table</th>\n",
              "      <th>anything:user</th>\n",
              "      <th>security classification</th>\n",
              "      <th>steward:groupprofile</th>\n",
              "      <th>steward:user</th>\n",
              "      <th>last compliance review</th>\n",
              "      <th>associated feed jobs</th>\n",
              "      <th>quality thresholds</th>\n",
              "      <th>requires risk assessment</th>\n",
              "      <th>origination system type</th>\n",
              "      <th>uniqueness score</th>\n",
              "      <th>health classification</th>\n",
              "      <th>quality rules</th>\n",
              "      <th>least frequent patterns</th>\n",
              "      <th>sensitive category</th>\n",
              "      <th>associated regulation</th>\n",
              "      <th>least frequent values</th>\n",
              "      <th>range of values</th>\n",
              "      <th>compliance review notes</th>\n",
              "      <th>most frequent values</th>\n",
              "      <th>most frequent patterns</th>\n",
              "      <th>contains restricted data</th>\n",
              "      <th>compliance steward:groupprofile</th>\n",
              "      <th>compliance steward:user</th>\n",
              "      <th>related policy:article</th>\n",
              "      <th>related risk assessments</th>\n",
              "      <th>contains sensitive data</th>\n",
              "      <th>domain:article</th>\n",
              "      <th>sensitive indicator</th>\n",
              "      <th>technical steward:groupprofile</th>\n",
              "      <th>technical steward:user</th>\n",
              "      <th>quality score</th>\n",
              "      <th>business steward:groupprofile</th>\n",
              "      <th>business steward:user</th>\n",
              "    </tr>\n",
              "    <tr>\n",
              "      <th>key</th>\n",
              "      <th></th>\n",
              "      <th></th>\n",
              "      <th></th>\n",
              "      <th></th>\n",
              "      <th></th>\n",
              "      <th></th>\n",
              "      <th></th>\n",
              "      <th></th>\n",
              "      <th></th>\n",
              "      <th></th>\n",
              "      <th></th>\n",
              "      <th></th>\n",
              "      <th></th>\n",
              "      <th></th>\n",
              "      <th></th>\n",
              "      <th></th>\n",
              "      <th></th>\n",
              "      <th></th>\n",
              "      <th></th>\n",
              "      <th></th>\n",
              "      <th></th>\n",
              "      <th></th>\n",
              "      <th></th>\n",
              "      <th></th>\n",
              "      <th></th>\n",
              "      <th></th>\n",
              "      <th></th>\n",
              "      <th></th>\n",
              "      <th></th>\n",
              "      <th></th>\n",
              "      <th></th>\n",
              "      <th></th>\n",
              "      <th></th>\n",
              "      <th></th>\n",
              "      <th></th>\n",
              "      <th></th>\n",
              "      <th></th>\n",
              "      <th></th>\n",
              "      <th></th>\n",
              "      <th></th>\n",
              "      <th></th>\n",
              "      <th></th>\n",
              "      <th></th>\n",
              "      <th></th>\n",
              "      <th></th>\n",
              "      <th></th>\n",
              "    </tr>\n",
              "  </thead>\n",
              "  <tbody>\n",
              "    <tr>\n",
              "      <th>1.bank</th>\n",
              "      <td>1.bank</td>\n",
              "      <td>Banksy Schema Title</td>\n",
              "      <td>&lt;div&gt;\\n &lt;p&gt;\\n  An important description\\n &lt;/p&gt;...</td>\n",
              "      <td>NaN</td>\n",
              "      <td>NaN</td>\n",
              "      <td>ETL Tool</td>\n",
              "      <td>&lt;p&gt;poor health&lt;/p&gt;</td>\n",
              "      <td>NaN</td>\n",
              "      <td>NaN</td>\n",
              "      <td>NaN</td>\n",
              "      <td>NaN</td>\n",
              "      <td>NaN</td>\n",
              "      <td>NaN</td>\n",
              "      <td>NaN</td>\n",
              "      <td>NaN</td>\n",
              "      <td>catalog admins</td>\n",
              "      <td>NaN</td>\n",
              "      <td>NaN</td>\n",
              "      <td>NaN</td>\n",
              "      <td>NaN</td>\n",
              "      <td>NaN</td>\n",
              "      <td>Staged Files</td>\n",
              "      <td>NaN</td>\n",
              "      <td>Red</td>\n",
              "      <td>NaN</td>\n",
              "      <td>NaN</td>\n",
              "      <td>NaN</td>\n",
              "      <td>NaN</td>\n",
              "      <td>NaN</td>\n",
              "      <td>NaN</td>\n",
              "      <td>NaN</td>\n",
              "      <td>NaN</td>\n",
              "      <td>NaN</td>\n",
              "      <td>NaN</td>\n",
              "      <td>NaN</td>\n",
              "      <td>matthias@alation.com</td>\n",
              "      <td>NaN</td>\n",
              "      <td>NaN</td>\n",
              "      <td>NaN</td>\n",
              "      <td>NaN</td>\n",
              "      <td>NaN</td>\n",
              "      <td>NaN</td>\n",
              "      <td>matthias@alation.com</td>\n",
              "      <td>&lt;p&gt;quality score seems to be here&lt;/p&gt;</td>\n",
              "      <td>chief catalog steward</td>\n",
              "      <td>matthias@alation.com;antonio.fernandez@alation...</td>\n",
              "    </tr>\n",
              "    <tr>\n",
              "      <th>1.bank.profile_stats</th>\n",
              "      <td>1.bank.profile_stats</td>\n",
              "      <td>NaN</td>\n",
              "      <td>&lt;p&gt;\\n No description available at 2020-11-10 0...</td>\n",
              "      <td>NaN</td>\n",
              "      <td>NaN</td>\n",
              "      <td>NaN</td>\n",
              "      <td>NaN</td>\n",
              "      <td>NaN</td>\n",
              "      <td>NaN</td>\n",
              "      <td>NaN</td>\n",
              "      <td>NaN</td>\n",
              "      <td>NaN</td>\n",
              "      <td>NaN</td>\n",
              "      <td>NaN</td>\n",
              "      <td>NaN</td>\n",
              "      <td>NaN</td>\n",
              "      <td>NaN</td>\n",
              "      <td>NaN</td>\n",
              "      <td>NaN</td>\n",
              "      <td>NaN</td>\n",
              "      <td>NaN</td>\n",
              "      <td>NaN</td>\n",
              "      <td>NaN</td>\n",
              "      <td>NaN</td>\n",
              "      <td>NaN</td>\n",
              "      <td>NaN</td>\n",
              "      <td>NaN</td>\n",
              "      <td>NaN</td>\n",
              "      <td>NaN</td>\n",
              "      <td>NaN</td>\n",
              "      <td>NaN</td>\n",
              "      <td>NaN</td>\n",
              "      <td>NaN</td>\n",
              "      <td>NaN</td>\n",
              "      <td>NaN</td>\n",
              "      <td>NaN</td>\n",
              "      <td>NaN</td>\n",
              "      <td>NaN</td>\n",
              "      <td>NaN</td>\n",
              "      <td>NaN</td>\n",
              "      <td>NaN</td>\n",
              "      <td>NaN</td>\n",
              "      <td>NaN</td>\n",
              "      <td>NaN</td>\n",
              "      <td>NaN</td>\n",
              "      <td>NaN</td>\n",
              "    </tr>\n",
              "    <tr>\n",
              "      <th>1.bank.test</th>\n",
              "      <td>1.bank.test</td>\n",
              "      <td>NaN</td>\n",
              "      <td>&lt;p&gt;\\n No description available at 2020-11-10 0...</td>\n",
              "      <td>NaN</td>\n",
              "      <td>NaN</td>\n",
              "      <td>NaN</td>\n",
              "      <td>NaN</td>\n",
              "      <td>NaN</td>\n",
              "      <td>NaN</td>\n",
              "      <td>NaN</td>\n",
              "      <td>NaN</td>\n",
              "      <td>NaN</td>\n",
              "      <td>NaN</td>\n",
              "      <td>NaN</td>\n",
              "      <td>NaN</td>\n",
              "      <td>NaN</td>\n",
              "      <td>NaN</td>\n",
              "      <td>NaN</td>\n",
              "      <td>NaN</td>\n",
              "      <td>NaN</td>\n",
              "      <td>NaN</td>\n",
              "      <td>NaN</td>\n",
              "      <td>NaN</td>\n",
              "      <td>NaN</td>\n",
              "      <td>NaN</td>\n",
              "      <td>NaN</td>\n",
              "      <td>NaN</td>\n",
              "      <td>NaN</td>\n",
              "      <td>NaN</td>\n",
              "      <td>NaN</td>\n",
              "      <td>NaN</td>\n",
              "      <td>NaN</td>\n",
              "      <td>NaN</td>\n",
              "      <td>NaN</td>\n",
              "      <td>NaN</td>\n",
              "      <td>NaN</td>\n",
              "      <td>NaN</td>\n",
              "      <td>NaN</td>\n",
              "      <td>NaN</td>\n",
              "      <td>NaN</td>\n",
              "      <td>NaN</td>\n",
              "      <td>NaN</td>\n",
              "      <td>NaN</td>\n",
              "      <td>NaN</td>\n",
              "      <td>NaN</td>\n",
              "      <td>NaN</td>\n",
              "    </tr>\n",
              "    <tr>\n",
              "      <th>1.bank.account_detail</th>\n",
              "      <td>1.bank.account_detail</td>\n",
              "      <td>NaN</td>\n",
              "      <td>&lt;p&gt;\\n No description available at 2020-11-10 0...</td>\n",
              "      <td>NaN</td>\n",
              "      <td>NaN</td>\n",
              "      <td>NaN</td>\n",
              "      <td>NaN</td>\n",
              "      <td>NaN</td>\n",
              "      <td>NaN</td>\n",
              "      <td>NaN</td>\n",
              "      <td>NaN</td>\n",
              "      <td>NaN</td>\n",
              "      <td>NaN</td>\n",
              "      <td>NaN</td>\n",
              "      <td>NaN</td>\n",
              "      <td>NaN</td>\n",
              "      <td>NaN</td>\n",
              "      <td>NaN</td>\n",
              "      <td>NaN</td>\n",
              "      <td>NaN</td>\n",
              "      <td>NaN</td>\n",
              "      <td>NaN</td>\n",
              "      <td>NaN</td>\n",
              "      <td>NaN</td>\n",
              "      <td>NaN</td>\n",
              "      <td>NaN</td>\n",
              "      <td>NaN</td>\n",
              "      <td>NaN</td>\n",
              "      <td>NaN</td>\n",
              "      <td>NaN</td>\n",
              "      <td>NaN</td>\n",
              "      <td>NaN</td>\n",
              "      <td>NaN</td>\n",
              "      <td>NaN</td>\n",
              "      <td>NaN</td>\n",
              "      <td>NaN</td>\n",
              "      <td>NaN</td>\n",
              "      <td>NaN</td>\n",
              "      <td>NaN</td>\n",
              "      <td>NaN</td>\n",
              "      <td>NaN</td>\n",
              "      <td>NaN</td>\n",
              "      <td>NaN</td>\n",
              "      <td>NaN</td>\n",
              "      <td>NaN</td>\n",
              "      <td>NaN</td>\n",
              "    </tr>\n",
              "    <tr>\n",
              "      <th>1.bank.trade_transactions_rms</th>\n",
              "      <td>1.bank.trade_transactions_rms</td>\n",
              "      <td>NaN</td>\n",
              "      <td>&lt;p&gt;\\n No description available at 2020-11-10 0...</td>\n",
              "      <td>NaN</td>\n",
              "      <td>NaN</td>\n",
              "      <td>NaN</td>\n",
              "      <td>NaN</td>\n",
              "      <td>NaN</td>\n",
              "      <td>NaN</td>\n",
              "      <td>NaN</td>\n",
              "      <td>NaN</td>\n",
              "      <td>NaN</td>\n",
              "      <td>NaN</td>\n",
              "      <td>NaN</td>\n",
              "      <td>NaN</td>\n",
              "      <td>NaN</td>\n",
              "      <td>NaN</td>\n",
              "      <td>NaN</td>\n",
              "      <td>NaN</td>\n",
              "      <td>NaN</td>\n",
              "      <td>NaN</td>\n",
              "      <td>NaN</td>\n",
              "      <td>NaN</td>\n",
              "      <td>NaN</td>\n",
              "      <td>NaN</td>\n",
              "      <td>NaN</td>\n",
              "      <td>NaN</td>\n",
              "      <td>NaN</td>\n",
              "      <td>NaN</td>\n",
              "      <td>NaN</td>\n",
              "      <td>NaN</td>\n",
              "      <td>NaN</td>\n",
              "      <td>NaN</td>\n",
              "      <td>NaN</td>\n",
              "      <td>NaN</td>\n",
              "      <td>NaN</td>\n",
              "      <td>NaN</td>\n",
              "      <td>NaN</td>\n",
              "      <td>NaN</td>\n",
              "      <td>NaN</td>\n",
              "      <td>NaN</td>\n",
              "      <td>NaN</td>\n",
              "      <td>NaN</td>\n",
              "      <td>NaN</td>\n",
              "      <td>NaN</td>\n",
              "      <td>NaN</td>\n",
              "    </tr>\n",
              "    <tr>\n",
              "      <th>...</th>\n",
              "      <td>...</td>\n",
              "      <td>...</td>\n",
              "      <td>...</td>\n",
              "      <td>...</td>\n",
              "      <td>...</td>\n",
              "      <td>...</td>\n",
              "      <td>...</td>\n",
              "      <td>...</td>\n",
              "      <td>...</td>\n",
              "      <td>...</td>\n",
              "      <td>...</td>\n",
              "      <td>...</td>\n",
              "      <td>...</td>\n",
              "      <td>...</td>\n",
              "      <td>...</td>\n",
              "      <td>...</td>\n",
              "      <td>...</td>\n",
              "      <td>...</td>\n",
              "      <td>...</td>\n",
              "      <td>...</td>\n",
              "      <td>...</td>\n",
              "      <td>...</td>\n",
              "      <td>...</td>\n",
              "      <td>...</td>\n",
              "      <td>...</td>\n",
              "      <td>...</td>\n",
              "      <td>...</td>\n",
              "      <td>...</td>\n",
              "      <td>...</td>\n",
              "      <td>...</td>\n",
              "      <td>...</td>\n",
              "      <td>...</td>\n",
              "      <td>...</td>\n",
              "      <td>...</td>\n",
              "      <td>...</td>\n",
              "      <td>...</td>\n",
              "      <td>...</td>\n",
              "      <td>...</td>\n",
              "      <td>...</td>\n",
              "      <td>...</td>\n",
              "      <td>...</td>\n",
              "      <td>...</td>\n",
              "      <td>...</td>\n",
              "      <td>...</td>\n",
              "      <td>...</td>\n",
              "      <td>...</td>\n",
              "    </tr>\n",
              "    <tr>\n",
              "      <th>1.bank.trade_trxn.exercisedintosourcesystemid</th>\n",
              "      <td>1.bank.trade_trxn.exercisedintosourcesystemid</td>\n",
              "      <td>NaN</td>\n",
              "      <td>NaN</td>\n",
              "      <td>NaN</td>\n",
              "      <td>NaN</td>\n",
              "      <td>NaN</td>\n",
              "      <td>NaN</td>\n",
              "      <td>NaN</td>\n",
              "      <td>NaN</td>\n",
              "      <td>NaN</td>\n",
              "      <td>NaN</td>\n",
              "      <td>NaN</td>\n",
              "      <td>NaN</td>\n",
              "      <td>NaN</td>\n",
              "      <td>NaN</td>\n",
              "      <td>NaN</td>\n",
              "      <td>NaN</td>\n",
              "      <td>NaN</td>\n",
              "      <td>NaN</td>\n",
              "      <td>NaN</td>\n",
              "      <td>NaN</td>\n",
              "      <td>NaN</td>\n",
              "      <td>NaN</td>\n",
              "      <td>NaN</td>\n",
              "      <td>NaN</td>\n",
              "      <td>NaN</td>\n",
              "      <td>NaN</td>\n",
              "      <td>NaN</td>\n",
              "      <td>NaN</td>\n",
              "      <td>NaN</td>\n",
              "      <td>NaN</td>\n",
              "      <td>NaN</td>\n",
              "      <td>NaN</td>\n",
              "      <td>NaN</td>\n",
              "      <td>NaN</td>\n",
              "      <td>NaN</td>\n",
              "      <td>NaN</td>\n",
              "      <td>NaN</td>\n",
              "      <td>NaN</td>\n",
              "      <td>NaN</td>\n",
              "      <td>NaN</td>\n",
              "      <td>NaN</td>\n",
              "      <td>NaN</td>\n",
              "      <td>NaN</td>\n",
              "      <td>NaN</td>\n",
              "      <td>NaN</td>\n",
              "    </tr>\n",
              "    <tr>\n",
              "      <th>1.bank.trade_type_summary.tradedate_yr</th>\n",
              "      <td>1.bank.trade_type_summary.tradedate_yr</td>\n",
              "      <td>NaN</td>\n",
              "      <td>NaN</td>\n",
              "      <td>NaN</td>\n",
              "      <td>NaN</td>\n",
              "      <td>NaN</td>\n",
              "      <td>NaN</td>\n",
              "      <td>NaN</td>\n",
              "      <td>NaN</td>\n",
              "      <td>NaN</td>\n",
              "      <td>NaN</td>\n",
              "      <td>NaN</td>\n",
              "      <td>NaN</td>\n",
              "      <td>NaN</td>\n",
              "      <td>NaN</td>\n",
              "      <td>NaN</td>\n",
              "      <td>NaN</td>\n",
              "      <td>NaN</td>\n",
              "      <td>NaN</td>\n",
              "      <td>NaN</td>\n",
              "      <td>NaN</td>\n",
              "      <td>NaN</td>\n",
              "      <td>NaN</td>\n",
              "      <td>NaN</td>\n",
              "      <td>NaN</td>\n",
              "      <td>NaN</td>\n",
              "      <td>NaN</td>\n",
              "      <td>NaN</td>\n",
              "      <td>NaN</td>\n",
              "      <td>NaN</td>\n",
              "      <td>NaN</td>\n",
              "      <td>NaN</td>\n",
              "      <td>NaN</td>\n",
              "      <td>NaN</td>\n",
              "      <td>NaN</td>\n",
              "      <td>NaN</td>\n",
              "      <td>NaN</td>\n",
              "      <td>NaN</td>\n",
              "      <td>NaN</td>\n",
              "      <td>NaN</td>\n",
              "      <td>NaN</td>\n",
              "      <td>NaN</td>\n",
              "      <td>NaN</td>\n",
              "      <td>NaN</td>\n",
              "      <td>NaN</td>\n",
              "      <td>NaN</td>\n",
              "    </tr>\n",
              "    <tr>\n",
              "      <th>1.bank.trade_type_summary.tradedate_mth</th>\n",
              "      <td>1.bank.trade_type_summary.tradedate_mth</td>\n",
              "      <td>NaN</td>\n",
              "      <td>NaN</td>\n",
              "      <td>NaN</td>\n",
              "      <td>NaN</td>\n",
              "      <td>NaN</td>\n",
              "      <td>NaN</td>\n",
              "      <td>NaN</td>\n",
              "      <td>NaN</td>\n",
              "      <td>NaN</td>\n",
              "      <td>NaN</td>\n",
              "      <td>NaN</td>\n",
              "      <td>NaN</td>\n",
              "      <td>NaN</td>\n",
              "      <td>NaN</td>\n",
              "      <td>NaN</td>\n",
              "      <td>NaN</td>\n",
              "      <td>NaN</td>\n",
              "      <td>NaN</td>\n",
              "      <td>NaN</td>\n",
              "      <td>NaN</td>\n",
              "      <td>NaN</td>\n",
              "      <td>NaN</td>\n",
              "      <td>NaN</td>\n",
              "      <td>NaN</td>\n",
              "      <td>NaN</td>\n",
              "      <td>NaN</td>\n",
              "      <td>NaN</td>\n",
              "      <td>NaN</td>\n",
              "      <td>NaN</td>\n",
              "      <td>NaN</td>\n",
              "      <td>NaN</td>\n",
              "      <td>NaN</td>\n",
              "      <td>NaN</td>\n",
              "      <td>NaN</td>\n",
              "      <td>NaN</td>\n",
              "      <td>NaN</td>\n",
              "      <td>NaN</td>\n",
              "      <td>NaN</td>\n",
              "      <td>NaN</td>\n",
              "      <td>NaN</td>\n",
              "      <td>NaN</td>\n",
              "      <td>NaN</td>\n",
              "      <td>NaN</td>\n",
              "      <td>NaN</td>\n",
              "      <td>NaN</td>\n",
              "    </tr>\n",
              "    <tr>\n",
              "      <th>1.bank.trade_type_summary.num</th>\n",
              "      <td>1.bank.trade_type_summary.num</td>\n",
              "      <td>NaN</td>\n",
              "      <td>NaN</td>\n",
              "      <td>NaN</td>\n",
              "      <td>NaN</td>\n",
              "      <td>NaN</td>\n",
              "      <td>NaN</td>\n",
              "      <td>NaN</td>\n",
              "      <td>NaN</td>\n",
              "      <td>NaN</td>\n",
              "      <td>NaN</td>\n",
              "      <td>NaN</td>\n",
              "      <td>NaN</td>\n",
              "      <td>NaN</td>\n",
              "      <td>NaN</td>\n",
              "      <td>NaN</td>\n",
              "      <td>NaN</td>\n",
              "      <td>NaN</td>\n",
              "      <td>NaN</td>\n",
              "      <td>NaN</td>\n",
              "      <td>NaN</td>\n",
              "      <td>NaN</td>\n",
              "      <td>NaN</td>\n",
              "      <td>NaN</td>\n",
              "      <td>NaN</td>\n",
              "      <td>NaN</td>\n",
              "      <td>NaN</td>\n",
              "      <td>NaN</td>\n",
              "      <td>NaN</td>\n",
              "      <td>NaN</td>\n",
              "      <td>NaN</td>\n",
              "      <td>NaN</td>\n",
              "      <td>NaN</td>\n",
              "      <td>NaN</td>\n",
              "      <td>NaN</td>\n",
              "      <td>NaN</td>\n",
              "      <td>NaN</td>\n",
              "      <td>NaN</td>\n",
              "      <td>NaN</td>\n",
              "      <td>NaN</td>\n",
              "      <td>NaN</td>\n",
              "      <td>NaN</td>\n",
              "      <td>NaN</td>\n",
              "      <td>NaN</td>\n",
              "      <td>NaN</td>\n",
              "      <td>NaN</td>\n",
              "    </tr>\n",
              "    <tr>\n",
              "      <th>1.bank.trade_type_summary.tradetype</th>\n",
              "      <td>1.bank.trade_type_summary.tradetype</td>\n",
              "      <td>NaN</td>\n",
              "      <td>NaN</td>\n",
              "      <td>NaN</td>\n",
              "      <td>NaN</td>\n",
              "      <td>NaN</td>\n",
              "      <td>NaN</td>\n",
              "      <td>NaN</td>\n",
              "      <td>NaN</td>\n",
              "      <td>NaN</td>\n",
              "      <td>NaN</td>\n",
              "      <td>NaN</td>\n",
              "      <td>NaN</td>\n",
              "      <td>NaN</td>\n",
              "      <td>NaN</td>\n",
              "      <td>NaN</td>\n",
              "      <td>NaN</td>\n",
              "      <td>NaN</td>\n",
              "      <td>NaN</td>\n",
              "      <td>NaN</td>\n",
              "      <td>NaN</td>\n",
              "      <td>NaN</td>\n",
              "      <td>NaN</td>\n",
              "      <td>NaN</td>\n",
              "      <td>NaN</td>\n",
              "      <td>NaN</td>\n",
              "      <td>NaN</td>\n",
              "      <td>NaN</td>\n",
              "      <td>NaN</td>\n",
              "      <td>NaN</td>\n",
              "      <td>NaN</td>\n",
              "      <td>NaN</td>\n",
              "      <td>NaN</td>\n",
              "      <td>NaN</td>\n",
              "      <td>NaN</td>\n",
              "      <td>NaN</td>\n",
              "      <td>NaN</td>\n",
              "      <td>NaN</td>\n",
              "      <td>NaN</td>\n",
              "      <td>NaN</td>\n",
              "      <td>NaN</td>\n",
              "      <td>NaN</td>\n",
              "      <td>NaN</td>\n",
              "      <td>NaN</td>\n",
              "      <td>NaN</td>\n",
              "      <td>NaN</td>\n",
              "    </tr>\n",
              "  </tbody>\n",
              "</table>\n",
              "<p>1058 rows × 46 columns</p>\n",
              "</div>"
            ],
            "text/plain": [
              "                                                                                         key  ...                              business steward:user\n",
              "key                                                                                           ...                                                   \n",
              "1.bank                                                                                1.bank  ...  matthias@alation.com;antonio.fernandez@alation...\n",
              "1.bank.profile_stats                                                    1.bank.profile_stats  ...                                                NaN\n",
              "1.bank.test                                                                      1.bank.test  ...                                                NaN\n",
              "1.bank.account_detail                                                  1.bank.account_detail  ...                                                NaN\n",
              "1.bank.trade_transactions_rms                                  1.bank.trade_transactions_rms  ...                                                NaN\n",
              "...                                                                                      ...  ...                                                ...\n",
              "1.bank.trade_trxn.exercisedintosourcesystemid  1.bank.trade_trxn.exercisedintosourcesystemid  ...                                                NaN\n",
              "1.bank.trade_type_summary.tradedate_yr                1.bank.trade_type_summary.tradedate_yr  ...                                                NaN\n",
              "1.bank.trade_type_summary.tradedate_mth              1.bank.trade_type_summary.tradedate_mth  ...                                                NaN\n",
              "1.bank.trade_type_summary.num                                  1.bank.trade_type_summary.num  ...                                                NaN\n",
              "1.bank.trade_type_summary.tradetype                      1.bank.trade_type_summary.tradetype  ...                                                NaN\n",
              "\n",
              "[1058 rows x 46 columns]"
            ]
          },
          "metadata": {
            "tags": []
          },
          "execution_count": 9
        }
      ]
    },
    {
      "cell_type": "code",
      "metadata": {
        "id": "ZBe2b0H0vAf5",
        "outputId": "d9c0e5ef-3bf4-4fdd-97df-a4eaa7655aa3",
        "colab": {
          "base_uri": "https://localhost:8080/"
        }
      },
      "source": [
        "my_row = dict(df.loc[\"1.bank\"])\n",
        "\n",
        "keys_to_delete = []\n",
        "\n",
        "for k, v in my_row.items():\n",
        "  if pd.isnull(v):\n",
        "    keys_to_delete.append(k)\n",
        "\n",
        "for k in keys_to_delete:\n",
        "    del my_row[k]\n",
        "\n",
        "my_row"
      ],
      "execution_count": null,
      "outputs": [
        {
          "output_type": "execute_result",
          "data": {
            "text/plain": [
              "{'business steward:groupprofile': 'chief catalog steward',\n",
              " 'business steward:user': 'matthias@alation.com;antonio.fernandez@alation.com',\n",
              " 'compliance steward:user': 'matthias@alation.com',\n",
              " 'description': '<div>\\n <p>\\n  An important description\\n </p>\\n <p>\\n  with a picture\\n </p>\\n <p>\\n  <img class=\"fr-fic fr-dib\" src=\"/media/image_bank/2020-11-10-11-56-19-671061-00-00-b71e7e9f-569f-4566-8540-ae4459211f75.png\" style=\"width: 300px;\">\\n </p>\\n</div>',\n",
              " 'health classification': 'Red',\n",
              " 'health description': '<p>poor health</p>',\n",
              " 'key': '1.bank',\n",
              " 'origination system type': 'Staged Files',\n",
              " 'primary feed mechanism': 'ETL Tool',\n",
              " 'quality score': '<p>quality score seems to be here</p>',\n",
              " 'steward:groupprofile': 'catalog admins',\n",
              " 'technical steward:user': 'matthias@alation.com',\n",
              " 'title': 'Banksy Schema Title'}"
            ]
          },
          "metadata": {
            "tags": []
          },
          "execution_count": 10
        }
      ]
    },
    {
      "cell_type": "code",
      "metadata": {
        "id": "aZpj8mq-wiPe",
        "outputId": "946d60eb-5acd-4442-f2b0-b01023127945",
        "colab": {
          "base_uri": "https://localhost:8080/"
        }
      },
      "source": [
        "from collections import defaultdict\n",
        "\n",
        "list_of_objects = []\n",
        "new_dict = defaultdict(list)\n",
        "\n",
        "for k, v in my_row.items():\n",
        "  if \":\" in k:\n",
        "    list_of_objects.append(k)\n",
        "    components = k.split(\":\")\n",
        "    my_obj = components[0]\n",
        "    my_values = v.split(\";\")\n",
        "    for v0 in my_values:\n",
        "      new_dict[my_obj].append(dict(type=components[1], key=v0))\n",
        "\n",
        "for k in list_of_objects:\n",
        "    del my_row[k]\n",
        "\n",
        "d = dict(**my_row, **new_dict)\n",
        "d"
      ],
      "execution_count": null,
      "outputs": [
        {
          "output_type": "execute_result",
          "data": {
            "text/plain": [
              "{'business steward': [{'key': 'chief catalog steward', 'type': 'groupprofile'},\n",
              "  {'key': 'matthias@alation.com', 'type': 'user'},\n",
              "  {'key': 'antonio.fernandez@alation.com', 'type': 'user'}],\n",
              " 'compliance steward': [{'key': 'matthias@alation.com', 'type': 'user'}],\n",
              " 'description': '<div>\\n <p>\\n  An important description\\n </p>\\n <p>\\n  with a picture\\n </p>\\n <p>\\n  <img class=\"fr-fic fr-dib\" src=\"/media/image_bank/2020-11-10-11-56-19-671061-00-00-b71e7e9f-569f-4566-8540-ae4459211f75.png\" style=\"width: 300px;\">\\n </p>\\n</div>',\n",
              " 'health classification': 'Red',\n",
              " 'health description': '<p>poor health</p>',\n",
              " 'key': '1.bank',\n",
              " 'origination system type': 'Staged Files',\n",
              " 'primary feed mechanism': 'ETL Tool',\n",
              " 'quality score': '<p>quality score seems to be here</p>',\n",
              " 'steward': [{'key': 'catalog admins', 'type': 'groupprofile'}],\n",
              " 'technical steward': [{'key': 'matthias@alation.com', 'type': 'user'}],\n",
              " 'title': 'Banksy Schema Title'}"
            ]
          },
          "metadata": {
            "tags": []
          },
          "execution_count": 11
        }
      ]
    },
    {
      "cell_type": "code",
      "metadata": {
        "id": "rXydxdB_yrVW",
        "outputId": "f1b56f58-3cf3-48af-c6e3-e667c6d45a7b",
        "colab": {
          "base_uri": "https://localhost:8080/"
        }
      },
      "source": [
        "d['key'] = \"2.census\"\n",
        "d['title'] = \"A flashy title for the census schema\"\n",
        "del d['quality score']\n",
        "del d['health description']\n",
        "d"
      ],
      "execution_count": null,
      "outputs": [
        {
          "output_type": "execute_result",
          "data": {
            "text/plain": [
              "{'business steward': [{'key': 'chief catalog steward', 'type': 'groupprofile'},\n",
              "  {'key': 'matthias@alation.com', 'type': 'user'},\n",
              "  {'key': 'antonio.fernandez@alation.com', 'type': 'user'}],\n",
              " 'compliance steward': [{'key': 'matthias@alation.com', 'type': 'user'}],\n",
              " 'description': '<div>\\n <p>\\n  An important description\\n </p>\\n <p>\\n  with a picture\\n </p>\\n <p>\\n  <img class=\"fr-fic fr-dib\" src=\"/media/image_bank/2020-11-10-11-56-19-671061-00-00-b71e7e9f-569f-4566-8540-ae4459211f75.png\" style=\"width: 300px;\">\\n </p>\\n</div>',\n",
              " 'health classification': 'Red',\n",
              " 'key': '2.census',\n",
              " 'origination system type': 'Staged Files',\n",
              " 'primary feed mechanism': 'ETL Tool',\n",
              " 'steward': [{'key': 'catalog admins', 'type': 'groupprofile'}],\n",
              " 'technical steward': [{'key': 'matthias@alation.com', 'type': 'user'}],\n",
              " 'title': 'A flashy title for the census schema'}"
            ]
          },
          "metadata": {
            "tags": []
          },
          "execution_count": 12
        }
      ]
    },
    {
      "cell_type": "code",
      "metadata": {
        "id": "reMs1TDTvWqO",
        "outputId": "5988ac7b-bb33-42d2-a95f-e3fea2b76e7d",
        "colab": {
          "base_uri": "https://localhost:8080/",
          "height": 105
        }
      },
      "source": [
        "import json\n",
        "json_row = json.dumps(d)\n",
        "json_row"
      ],
      "execution_count": null,
      "outputs": [
        {
          "output_type": "execute_result",
          "data": {
            "application/vnd.google.colaboratory.intrinsic+json": {
              "type": "string"
            },
            "text/plain": [
              "'{\"key\": \"2.census\", \"title\": \"A flashy title for the census schema\", \"description\": \"<div>\\\\n <p>\\\\n  An important description\\\\n </p>\\\\n <p>\\\\n  with a picture\\\\n </p>\\\\n <p>\\\\n  <img class=\\\\\"fr-fic fr-dib\\\\\" src=\\\\\"/media/image_bank/2020-11-10-11-56-19-671061-00-00-b71e7e9f-569f-4566-8540-ae4459211f75.png\\\\\" style=\\\\\"width: 300px;\\\\\">\\\\n </p>\\\\n</div>\", \"primary feed mechanism\": \"ETL Tool\", \"origination system type\": \"Staged Files\", \"health classification\": \"Red\", \"steward\": [{\"type\": \"groupprofile\", \"key\": \"catalog admins\"}], \"compliance steward\": [{\"type\": \"user\", \"key\": \"matthias@alation.com\"}], \"technical steward\": [{\"type\": \"user\", \"key\": \"matthias@alation.com\"}], \"business steward\": [{\"type\": \"groupprofile\", \"key\": \"chief catalog steward\"}, {\"type\": \"user\", \"key\": \"matthias@alation.com\"}, {\"type\": \"user\", \"key\": \"antonio.fernandez@alation.com\"}]}'"
            ]
          },
          "metadata": {
            "tags": []
          },
          "execution_count": 13
        }
      ]
    },
    {
      "cell_type": "code",
      "metadata": {
        "id": "IUgZnkNiypwS",
        "outputId": "33896f31-09dc-433a-b4b9-202bb8b338d6",
        "colab": {
          "base_uri": "https://localhost:8080/"
        }
      },
      "source": [
        "params = dict(replace_values=True)\n",
        "alation.generic_api_post(\"/api/v1/bulk_metadata/custom_fields/default/mixed\", raw_data=json_row, params=params)"
      ],
      "execution_count": null,
      "outputs": [
        {
          "output_type": "execute_result",
          "data": {
            "text/plain": [
              "{'error': '',\n",
              " 'error_objects': [],\n",
              " 'new_objects': 0,\n",
              " 'number_received': 1,\n",
              " 'updated_objects': 1}"
            ]
          },
          "metadata": {
            "tags": []
          },
          "execution_count": 14
        }
      ]
    },
    {
      "cell_type": "code",
      "metadata": {
        "id": "F7GW88FL0RXn",
        "outputId": "757208a8-f3dd-4b84-d32c-fb79fa4ba645",
        "colab": {
          "base_uri": "https://localhost:8080/"
        }
      },
      "source": [
        "alation.generic_api_get(\"/integration/v2/dataflow/\")"
      ],
      "execution_count": 16,
      "outputs": [
        {
          "output_type": "execute_result",
          "data": {
            "text/plain": [
              "{'dataflow_objects': [], 'paths': []}"
            ]
          },
          "metadata": {
            "tags": []
          },
          "execution_count": 16
        }
      ]
    },
    {
      "cell_type": "code",
      "metadata": {
        "id": "oXG9ro2xFcOh"
      },
      "source": [
        ""
      ],
      "execution_count": null,
      "outputs": []
    }
  ]
}