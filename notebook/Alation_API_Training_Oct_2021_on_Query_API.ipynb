{
  "nbformat": 4,
  "nbformat_minor": 0,
  "metadata": {
    "colab": {
      "name": "Alation API Training Oct 2021 on Query API.ipynb",
      "provenance": [],
      "collapsed_sections": [],
      "include_colab_link": true
    },
    "kernelspec": {
      "name": "python3",
      "display_name": "Python 3"
    }
  },
  "cells": [
    {
      "cell_type": "markdown",
      "metadata": {
        "id": "view-in-github",
        "colab_type": "text"
      },
      "source": [
        "<a href=\"https://colab.research.google.com/github/mafux777/Alation_Article/blob/master/Alation_API_Training_Oct_2021_on_Query_API.ipynb\" target=\"_parent\"><img src=\"https://colab.research.google.com/assets/colab-badge.svg\" alt=\"Open In Colab\"/></a>"
      ]
    },
    {
      "cell_type": "markdown",
      "metadata": {
        "id": "iPgzL37e5JBu"
      },
      "source": [
        "# Alation API Training Worksheet"
      ]
    },
    {
      "cell_type": "markdown",
      "metadata": {
        "id": "RuPGSHBxSyFa"
      },
      "source": [
        "We need to import just a small number of libraries to create an Alation Instance. You can use this Class to test against any official or unofficial API."
      ]
    },
    {
      "cell_type": "code",
      "metadata": {
        "id": "7mjnMOlDBX08"
      },
      "source": [
        "import pandas as pd\n",
        "import os\n",
        "import requests\n",
        "\n",
        "import time\n",
        "import json\n",
        "\n",
        "import pprint\n",
        "pp = pprint.PrettyPrinter(indent=4)"
      ],
      "execution_count": null,
      "outputs": []
    },
    {
      "cell_type": "markdown",
      "metadata": {
        "id": "UiDFzTYMS7xP"
      },
      "source": [
        "The class AlationInstance is created with a URL, username and password."
      ]
    },
    {
      "cell_type": "code",
      "metadata": {
        "id": "zWKSHd_oeMk6"
      },
      "source": [
        "import urllib\n",
        "\n",
        "# The AlationInstance class is a handle to an Alation server defined by a URL\n",
        "# A server admin user name and password needs to be provided and all API actions\n",
        "# will be run as that user\n",
        "class AlationInstance():\n",
        "    # The __init__ method is the constructor used for instantiating\n",
        "    # email: the up to 30 chars user name, often the email, but for long emails could be cut off\n",
        "    # password: could be the LDAP password, as well\n",
        "    # verify: Requests verifies SSL certificates for HTTPS requests, just like a web browser.\n",
        "    # By default, SSL verification is enabled, and Requests will throw a SSLError if it’s unable to verify the certificate\n",
        "    def __init__(self, host, account, password, verify=True):\n",
        "        self.host = host\n",
        "        self.verify = verify\n",
        "        self.account = account\n",
        "        self.password = password\n",
        "        self.token = self.get_token()\n",
        "        self.headers = self.login(account, password)\n",
        "\n",
        "    # The login method is used to obtain a session ID and relevant cookies\n",
        "    # They are cached in the headers variable\n",
        "    # account: the up to 30 chars user name, often the email, but for long emails could be cut off\n",
        "    # password: could be the LDAP password, as well\n",
        "    def login(self, account, password):\n",
        "        URL = self.host + '/login/'\n",
        "\n",
        "        s = requests.Session()\n",
        "        s.get(URL, verify=self.verify)\n",
        "\n",
        "        # get the cookie token\n",
        "        csrftoken = s.cookies.get('csrftoken')\n",
        "\n",
        "        # login with user name and password (and token)\n",
        "        payload = {\"csrfmiddlewaretoken\": csrftoken, \"ldap_user\": account, \"password\": password}\n",
        "        headers = {\"Referer\": URL}\n",
        "        log_me(\"Logging in to {}\".format(URL))\n",
        "        r = s.post(URL, data=payload, verify=self.verify, headers=headers)\n",
        "\n",
        "        # get the session ID and store it for all future API calls\n",
        "        sessionid = s.cookies.get('sessionid')\n",
        "        if not sessionid:\n",
        "            log_me('No session ID, probably wrong user name / password')\n",
        "        headers = {\"X-CSRFToken\": csrftoken,\n",
        "                   \"Cookie\": f\"csrftoken={csrftoken}; sessionid={sessionid}\",\n",
        "                   \"Referer\": URL\n",
        "                   }\n",
        "\n",
        "        return headers\n",
        "\n",
        "    def get_token(self):\n",
        "        change_token = \"/api/v1/changeToken/\"  # if you already have a token, use this url\n",
        "        new_token = \"/api/v1/getToken/\"  # if you have never generated a token, use this url\n",
        "        data = dict(username=self.account, password=self.password)\n",
        "        response = requests.post(self.host + new_token, data=data)\n",
        "        api_token = response.text\n",
        "        if api_token == \"EXISTING\":\n",
        "            response = requests.post(self.host + change_token, data=data)\n",
        "            api_token = response.text\n",
        "        return api_token\n",
        "\n",
        "    # The generic_api_post method posts a request to Alation and if necessary checks the status\n",
        "    def generic_api_post(self, api, params=None, body=None, official=False):\n",
        "        if official:\n",
        "            headers_final = dict(token=self.token)\n",
        "        else:\n",
        "            headers_final = self.headers\n",
        "            headers_final['Referer'] = self.host + api\n",
        "        r = requests.post(self.host + api, json=body, params=params, headers=headers_final)\n",
        "\n",
        "        if r.status_code:\n",
        "            r_parsed = r.json()\n",
        "            # do we need to ask the job status API for help?\n",
        "            if 'job_id' in r_parsed:\n",
        "                params = dict(id=r_parsed['job_id'])\n",
        "                url_job = \"/api/v1/bulk_metadata/job/\"\n",
        "                # Let's wait for the job to finish\n",
        "                while (True):\n",
        "                    status = self.generic_api_get(api=url_job, params=params, official=True, verify=self.verify)\n",
        "                    if status['status'] != 'running':\n",
        "                        objects = status['result']\n",
        "                        # if objects:\n",
        "                        #     # for error in error_objects:\n",
        "                        #     print(objects)\n",
        "                        # else:\n",
        "                        #     #print(status)\n",
        "                        #     pass\n",
        "                        break\n",
        "                r_parsed = status\n",
        "            return r_parsed\n",
        "        else:\n",
        "            return r.content\n",
        "\n",
        "    # The generic_api_put method posts a request to Alation and if necessary checks the status\n",
        "    def generic_api_put(self, api, params=None, body=None):\n",
        "        r = requests.put(self.host + api, json=body, params=params, headers=self.headers, verify=self.verify)\n",
        "        return r.content\n",
        "\n",
        "    # The generic_api_patch method posts a request to Alation and if necessary checks the status\n",
        "    def generic_api_patch(self, api, params=None, body=None):\n",
        "        r = requests.patch(self.host + api, json=body, params=params, headers=self.headers, verify=self.verify)\n",
        "        return r.content\n",
        "\n",
        "    # The generic_api_get implements a REST get, with API token if official or Cookie if not.\n",
        "    # If the callers sends header, it needs to contain API or cookie\n",
        "    def generic_api_get(self, api, headers=None, params=None, official=False):\n",
        "        if headers:\n",
        "            # caller has supplied the headers\n",
        "            headers_final = headers\n",
        "        else:\n",
        "            if official:\n",
        "                headers_final = dict(token=self.token)\n",
        "            else:\n",
        "                headers_final = self.headers\n",
        "                headers_final['Referer'] = self.host + api\n",
        "        r = requests.get(self.host + api, headers=headers_final, params=params, verify=self.verify)\n",
        "        if r.status_code in [200, 201]:\n",
        "            try:\n",
        "                return r.json()\n",
        "            except:\n",
        "                return r.content # for LogicalMetadata API which does not use standard JSON\n",
        "        else:\n",
        "            return r.content\n",
        "\n"
      ],
      "execution_count": null,
      "outputs": []
    },
    {
      "cell_type": "markdown",
      "metadata": {
        "id": "idfJL3vMTTuC"
      },
      "source": [
        "Let's create our first AlationInstance object:"
      ]
    },
    {
      "cell_type": "code",
      "metadata": {
        "id": "QFmoyRnJByjd"
      },
      "source": [
        "def log_me(text):\n",
        "  print(text)\n",
        "\n",
        "alation = AlationInstance('https://2021-4-sandbox.alationproserv.com',\n",
        "                         'matthias.funke@alation.com',\n",
        "                         'somepassword')"
      ],
      "execution_count": null,
      "outputs": []
    },
    {
      "cell_type": "markdown",
      "metadata": {
        "id": "ho8SJvkiQKSX"
      },
      "source": [
        "**Queries** in Alation are documents of SQL text. They can have multiple SQL statements, and their content is editable by their creator. They are associated with a single data source on creation and cannot be moved to a different data source.\n",
        "\n",
        "**Queries** can be in draft state (unsaved), saved, or published. If a **query** is published it is also saved.\n",
        "\n",
        "When a **query** is executed, each statement (CREATE, UPDATE, INSERT, SELECT, etc) is executed in turn by the database, and Alation stores metadata in an **execution event**. If the statement returns a **result**, Alation caches up to 16MB of that result on the server (unless the user is running an export, in which case only a 1000 row result preview is cached). These cached results (sometimes whole, sometimes partial) are available via API or in the Alation catalog until they expire. The expiration period is configurable on your server, but defaults to 1 week. Small **results** (by default less than 1MB) are stored indefinitely, with no expiration date.\n",
        "\n",
        "In addition to an **execution event**, there is also a **session** and a **batch** associated with the execution of a query. If a query contains multiple **statements**, then multiple **events** -- one event per query statement -- would be created and would belong to a single **execution batch**. Each execution of a query in Compose will create a new batch; a single **session** could have many such batches. In the case of scheduled queries, a new session is created for each run and each such session will have only a single batch; each scheduled query is run via a designated Celery task.\n",
        "\n",
        "# Summary\n",
        "\n",
        "\n",
        "\n",
        "---\n",
        "term | dependency | description\n",
        "---- | ---------- | -----------\n",
        "Query | N/A | a tab in compose, one more statements\n",
        "Statement | ^Query | separated by \";\"\n",
        "Session | N/A | a period of time\n",
        "(Execution) Batch | ^Session | Click on \"run\"\n",
        "(Execution) Event | ^Batch | One per statement\n",
        "(Execution) Result | ^Event | The results of one statement\n",
        "\n",
        "\n",
        "\n",
        "\n"
      ]
    },
    {
      "cell_type": "code",
      "metadata": {
        "id": "Zl3C0Jz6O1W8"
      },
      "source": [
        "content = \"\"\"\n",
        "-- STATEMENT 1\n",
        "WITH last_block as\n",
        "(\n",
        "SELECT max(number) as last_block  \n",
        "FROM public.block\n",
        ")\n",
        "\n",
        "SELECT miner as miner_id, \n",
        "  count(*) as count\n",
        "FROM\n",
        "  public.block\n",
        "WHERE\n",
        "  number >= (select last_block from last_block)-1000\n",
        "GROUP BY 1\n",
        "ORDER BY 2 DESC;\n",
        "\"\"\"\n",
        "\n",
        "\n",
        "my_query = dict(\n",
        "    datasource_id=5,\n",
        "    content=content,\n",
        "    saved=True#,\n",
        "    #author=dict(id=9, email='matthias+2@alation.com', username='matthias+2@alation.com')\n",
        ")\n",
        "q = alation.generic_api_post('/integration/v1/query/', body=my_query, official=True)\n",
        "pp.pprint(q)\n",
        "\n"
      ],
      "execution_count": null,
      "outputs": []
    },
    {
      "cell_type": "markdown",
      "metadata": {
        "id": "U1IBycrnVfYq"
      },
      "source": [
        "The previous query, alas, has no title and no description. At least is has a number.\n",
        "\n",
        "Since there is no official API to execute the query, we will schedule a different [query](http://18.218.6.215/compose/query/85/) to run automatically and see what we get."
      ]
    },
    {
      "cell_type": "code",
      "metadata": {
        "id": "4Tjq2vOpVJcD"
      },
      "source": [
        "q = alation.generic_api_get('/integration/v1/query/1/', official=True)\n",
        "pp.pprint(q)"
      ],
      "execution_count": null,
      "outputs": []
    },
    {
      "cell_type": "markdown",
      "metadata": {
        "id": "ketItSULYoCh"
      },
      "source": [
        "This output gives us interesting details about the automatically executed results. Perhaps we can use any?"
      ]
    },
    {
      "cell_type": "code",
      "metadata": {
        "id": "cPnsf-M5ZlMX"
      },
      "source": [
        "params=dict(query_id=q['id'])\n",
        "exec_session = alation.generic_api_get('/integration/v1/query/execution_session/', params=params, official=True)\n",
        "pp.pprint(exec_session)"
      ],
      "execution_count": null,
      "outputs": []
    },
    {
      "cell_type": "markdown",
      "metadata": {
        "id": "8N1_y9JsaRuR"
      },
      "source": [
        "The result shows a small bug in the Alation code: for a scheduled execution run, the timestamp does not show the UTC time.\n",
        "\n",
        "Let's get the batch details by using the execution batch API\n",
        "\n"
      ]
    },
    {
      "cell_type": "code",
      "metadata": {
        "id": "x9CAyFZkauXv"
      },
      "source": [
        "batch_id = exec_session[-1]['batch_ids'][0]\n",
        "batch = alation.generic_api_get(f'/integration/v1/query/execution_batch/{batch_id}/', official=True)\n",
        "pp.pprint(batch)"
      ],
      "execution_count": null,
      "outputs": []
    },
    {
      "cell_type": "markdown",
      "metadata": {
        "id": "qdE3vlS5bwSZ"
      },
      "source": [
        "Let's get the execution event details."
      ]
    },
    {
      "cell_type": "code",
      "metadata": {
        "id": "7aezEhuUbseh"
      },
      "source": [
        "base_url = \"https://2021-4-sandbox.alationproserv.com\"\n",
        "my_len = len(batch['events'])\n",
        "for event in batch['events'][::-1]:\n",
        "  event_id = event['id']\n",
        "  exec_event = alation.generic_api_get(f\"/integration/v1/query/execution_event/{event_id}/\", official=True)\n",
        "  print('-----------------------------')\n",
        "  pp.pprint(exec_event)\n",
        "  print('-----------------------------')\n",
        "  print(f\"{base_url}{exec_event['result']['url']} ({exec_event['result']['title']})\")"
      ],
      "execution_count": null,
      "outputs": []
    },
    {
      "cell_type": "markdown",
      "metadata": {
        "id": "QBYZ7ov0gGkS"
      },
      "source": [
        "Now let's use an unoffical API to get hold of the actual result."
      ]
    },
    {
      "cell_type": "code",
      "metadata": {
        "id": "PVqgmACzgLBO"
      },
      "source": [
        "result_id = exec_event['result']['id']\n",
        "data_schema = exec_event['result']['data_schema']\n",
        "cols = [schema['name'] for schema in data_schema]\n",
        "res = alation.generic_api_get(f'/ajax/execution_result_data/{result_id}/')\n",
        "pd.DataFrame(res, columns=cols)"
      ],
      "execution_count": null,
      "outputs": []
    },
    {
      "cell_type": "markdown",
      "metadata": {
        "id": "t32bHIshkt1I"
      },
      "source": [
        "The email which we normally get contains a link to download the file. It is created like this..."
      ]
    },
    {
      "cell_type": "code",
      "metadata": {
        "id": "AZMw01yOkuQ9"
      },
      "source": [
        "print(f'{base_url}/ajax/get_result_table_data/{result_id}/?csv=1')"
      ],
      "execution_count": null,
      "outputs": []
    },
    {
      "cell_type": "markdown",
      "metadata": {
        "id": "NZTbY_0v-3Ep"
      },
      "source": [
        "# More fun with the unofficial API\n",
        "\n",
        "Let's see what the unofficial API reveals about our Query...\n"
      ]
    },
    {
      "cell_type": "code",
      "metadata": {
        "id": "2bR3UR46HJCL"
      },
      "source": [
        "otype='query'\n",
        "id=5\n",
        "t = alation.generic_api_get('/api/query/')\n",
        "\n",
        "#pp.pprint(t)\n",
        "pd.DataFrame(t)"
      ],
      "execution_count": null,
      "outputs": []
    },
    {
      "cell_type": "code",
      "metadata": {
        "id": "zhT1ZtZDJfd_"
      },
      "source": [
        "p = alation.generic_api_patch(f'/api/{otype}/{id}/', body=dict(discarded=True))\n",
        "p_parsed = json.loads(p)\n",
        "p_parsed['discarded']\n"
      ],
      "execution_count": null,
      "outputs": []
    },
    {
      "cell_type": "code",
      "metadata": {
        "id": "A4hyNRbWeXcW"
      },
      "source": [
        ""
      ],
      "execution_count": null,
      "outputs": []
    }
  ]
}