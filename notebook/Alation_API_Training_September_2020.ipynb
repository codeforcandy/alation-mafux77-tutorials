{
  "nbformat": 4,
  "nbformat_minor": 0,
  "metadata": {
    "colab": {
      "name": "Alation API Training September 2020.ipynb",
      "provenance": [],
      "collapsed_sections": [],
      "include_colab_link": true
    },
    "kernelspec": {
      "name": "python3",
      "display_name": "Python 3"
    }
  },
  "cells": [
    {
      "cell_type": "markdown",
      "metadata": {
        "id": "view-in-github",
        "colab_type": "text"
      },
      "source": [
        "<a href=\"https://colab.research.google.com/github/mafux777/Alation_Article/blob/master/Alation_API_Training_September_2020.ipynb\" target=\"_parent\"><img src=\"https://colab.research.google.com/assets/colab-badge.svg\" alt=\"Open In Colab\"/></a>"
      ]
    },
    {
      "cell_type": "markdown",
      "metadata": {
        "id": "iPgzL37e5JBu",
        "colab_type": "text"
      },
      "source": [
        "# Alation API Training Worksheet"
      ]
    },
    {
      "cell_type": "markdown",
      "metadata": {
        "id": "RuPGSHBxSyFa",
        "colab_type": "text"
      },
      "source": [
        "We need to import just a small number of libraries to create an Alation Instance. You can use this Class to test against any official or unofficial API."
      ]
    },
    {
      "cell_type": "code",
      "metadata": {
        "id": "7mjnMOlDBX08",
        "colab_type": "code",
        "colab": {}
      },
      "source": [
        "import pandas as pd\n",
        "import os\n",
        "import requests\n",
        "\n",
        "import time\n",
        "import json\n",
        "\n",
        "import pprint\n",
        "pp = pprint.PrettyPrinter(indent=4)"
      ],
      "execution_count": null,
      "outputs": []
    },
    {
      "cell_type": "markdown",
      "metadata": {
        "id": "UiDFzTYMS7xP",
        "colab_type": "text"
      },
      "source": [
        "The class AlationInstance is created with a URL, username and password."
      ]
    },
    {
      "cell_type": "code",
      "metadata": {
        "id": "4lM1LxeneWbV",
        "colab_type": "code",
        "colab": {}
      },
      "source": [
        "host = 'http://r8-sandbox.alationproserv.com'\n",
        "data = dict(refresh_token='...', user_id=7)\n",
        "response = requests.post(host +'/integration/v1/createAPIAccessToken/', json=data)\n",
        "api_token = response.json()\n"
      ],
      "execution_count": null,
      "outputs": []
    },
    {
      "cell_type": "code",
      "metadata": {
        "id": "GYdJuc_Iei9M",
        "colab_type": "code",
        "colab": {}
      },
      "source": [
        "api_token"
      ],
      "execution_count": null,
      "outputs": []
    },
    {
      "cell_type": "code",
      "metadata": {
        "id": "DBwueJF3fTF4",
        "colab_type": "code",
        "colab": {}
      },
      "source": [
        "api_token_2 = api_token.get('api_access_token')"
      ],
      "execution_count": null,
      "outputs": []
    },
    {
      "cell_type": "markdown",
      "metadata": {
        "id": "3RjKfVEepRVr",
        "colab_type": "text"
      },
      "source": [
        "# How to deal with results bigger than 100 (or some number)\n",
        "\n",
        "You can not too be sure how many results you get when you call an API. The safest way to deal with this issue is to iterate like this.\n",
        "\n",
        "Note that \"get\" on a dict returns null if the key is not there. So the loop will break when there is no X-Next-Page.\n",
        "\n",
        "The \"raw\" method returns the entire response object, which allows us to access the response headers. "
      ]
    },
    {
      "cell_type": "code",
      "metadata": {
        "id": "IomRCXCImWhZ",
        "colab_type": "code",
        "colab": {}
      },
      "source": [
        "next = '/integration/v1/article/'\n",
        "while next:\n",
        "  r = requests.get(host + next, headers=dict(token=api_token_2), params=dict(limit=10))\n",
        "  next = r.headers.get('X-Next-Page')\n",
        "  for n, a in enumerate(r.json()):\n",
        "    print(n, a.get('id'),a.get('title', 'No title'))\n",
        "  print(f\"Next URL would be ...{next}\")\n"
      ],
      "execution_count": null,
      "outputs": []
    },
    {
      "cell_type": "code",
      "metadata": {
        "id": "JnRCzSGoixiE",
        "colab_type": "code",
        "colab": {}
      },
      "source": [
        "r.json()"
      ],
      "execution_count": null,
      "outputs": []
    },
    {
      "cell_type": "markdown",
      "metadata": {
        "id": "CT0JERudM3c-",
        "colab_type": "text"
      },
      "source": [
        "Let's create an API Access Token on an instance which has lots of dataflow objects. See below how to obtain the numerical user ID if required. The refresh token is personal and can be created in the UI. "
      ]
    },
    {
      "cell_type": "code",
      "metadata": {
        "id": "lIiZojDqi1qj",
        "colab_type": "code",
        "colab": {}
      },
      "source": [
        "# demo-sales \n",
        "refresh_token='...'\n",
        "host = 'https://demo-sales.alationcatalog.com'\n",
        "data = dict(refresh_token=refresh_token, user_id=137)\n",
        "response = requests.post(host +'/integration/v1/createAPIAccessToken/', json=data)\n",
        "api_token = response.json().get('api_access_token')\n",
        "headers=dict(token=api_token)\n",
        "\n",
        "\n"
      ],
      "execution_count": null,
      "outputs": []
    },
    {
      "cell_type": "code",
      "metadata": {
        "id": "2oM1_tQjoAG-",
        "colab_type": "code",
        "colab": {}
      },
      "source": [
        "api_token"
      ],
      "execution_count": null,
      "outputs": []
    },
    {
      "cell_type": "markdown",
      "metadata": {
        "id": "Ah_h-lUSNFet",
        "colab_type": "text"
      },
      "source": [
        "Let's download all dataflow objects and stick into a pandas dataframe for further analysis"
      ]
    },
    {
      "cell_type": "code",
      "metadata": {
        "id": "de_U5o1OIojp",
        "colab_type": "code",
        "colab": {}
      },
      "source": [
        "next = '/integration/v2/dataflow/'\n",
        "all_df = []\n",
        "\n",
        "while next:\n",
        "  r = requests.get(host + next, headers=headers)\n",
        "  next = r.headers.get('X-Next-Page')\n",
        "  dataflow_objects = r.json().get('dataflow_objects')\n",
        "  for df in dataflow_objects:\n",
        "    all_df.append(df)\n",
        "\n",
        "  print(f\"Next URL would be ...{next}\")\n",
        "\n",
        "\n"
      ],
      "execution_count": null,
      "outputs": []
    },
    {
      "cell_type": "code",
      "metadata": {
        "id": "Q9mwYECdpGF0",
        "colab_type": "code",
        "colab": {}
      },
      "source": [
        "my_dataflows = pd.DataFrame(all_df)\n",
        "my_dataflows\n"
      ],
      "execution_count": null,
      "outputs": []
    },
    {
      "cell_type": "code",
      "metadata": {
        "id": "ErTnd6vd3R9H",
        "colab_type": "code",
        "colab": {}
      },
      "source": [
        "r = requests.get(host+'/integration/v1/user/', params=dict(display_name__icontains='sande'), headers=dict(token=api_token))"
      ],
      "execution_count": null,
      "outputs": []
    },
    {
      "cell_type": "code",
      "metadata": {
        "id": "6c77le515TVd",
        "colab_type": "code",
        "colab": {}
      },
      "source": [
        "r.json()"
      ],
      "execution_count": null,
      "outputs": []
    },
    {
      "cell_type": "code",
      "metadata": {
        "id": "j6Ng1bWG5Xv-",
        "colab_type": "code",
        "colab": {}
      },
      "source": [
        "r = requests.post(host+'/api/v1/bulk_metadata/custom_fields/default/article', params=dict(create_new=True, replace_values=True), \n",
        "                  json=dict(key=\"September 2020 API\", title=\"New title - October 2020\",description=\"This was asked by Vasanth and resolved\"),\n",
        "                  headers=dict(token=api_token))"
      ],
      "execution_count": null,
      "outputs": []
    },
    {
      "cell_type": "code",
      "metadata": {
        "id": "a4uhc07D5UMF",
        "colab_type": "code",
        "colab": {}
      },
      "source": [
        "r.json()"
      ],
      "execution_count": null,
      "outputs": []
    },
    {
      "cell_type": "code",
      "metadata": {
        "id": "8v1lHqPjpb2i",
        "colab_type": "code",
        "colab": {}
      },
      "source": [
        ""
      ],
      "execution_count": null,
      "outputs": []
    }
  ]
}