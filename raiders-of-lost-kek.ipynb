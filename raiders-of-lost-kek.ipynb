{
 "cells": [
  {
   "cell_type": "code",
   "execution_count": 5,
   "metadata": {},
   "outputs": [
    {
     "data": {
      "application/vnd.jupyter.widget-view+json": {
       "model_id": "e9fd8632bf234bf1b10c3f2b397df50f",
       "version_major": 2,
       "version_minor": 0
      },
      "text/plain": [
       "VBox()"
      ]
     },
     "metadata": {},
     "output_type": "display_data"
    },
    {
     "data": {
      "application/vnd.jupyter.widget-view+json": {
       "model_id": "",
       "version_major": 2,
       "version_minor": 0
      },
      "text/plain": [
       "FloatProgress(value=0.0, bar_style='info', description='Progress:', layout=Layout(height='25px', width='50%'),…"
      ]
     },
     "metadata": {},
     "output_type": "display_data"
    }
   ],
   "source": [
    "from pyspark.sql.functions import *\n",
    "#from pyspark.sql.functions import col"
   ]
  },
  {
   "cell_type": "markdown",
   "metadata": {},
   "source": [
    "## Raiders of the lost kek\n",
    "\n",
    "The dataset comes from an academic research project. It is semi-structured, that is it has a structure but it is also nested. The code below opens the raw file (already on S3) and shows the schema it found."
   ]
  },
  {
   "cell_type": "code",
   "execution_count": 6,
   "metadata": {},
   "outputs": [
    {
     "data": {
      "application/vnd.jupyter.widget-view+json": {
       "model_id": "7824dfabc2984f3ea92ab5e57810c46e",
       "version_major": 2,
       "version_minor": 0
      },
      "text/plain": [
       "VBox()"
      ]
     },
     "metadata": {},
     "output_type": "display_data"
    },
    {
     "data": {
      "application/vnd.jupyter.widget-view+json": {
       "model_id": "",
       "version_major": 2,
       "version_minor": 0
      },
      "text/plain": [
       "FloatProgress(value=0.0, bar_style='info', description='Progress:', layout=Layout(height='25px', width='50%'),…"
      ]
     },
     "metadata": {},
     "output_type": "display_data"
    },
    {
     "name": "stdout",
     "output_type": "stream",
     "text": [
      "root\n",
      " |-- posts: array (nullable = true)\n",
      " |    |-- element: struct (containsNull = true)\n",
      " |    |    |-- archived: long (nullable = true)\n",
      " |    |    |-- archived_on: long (nullable = true)\n",
      " |    |    |-- bumplimit: long (nullable = true)\n",
      " |    |    |-- capcode: string (nullable = true)\n",
      " |    |    |-- closed: long (nullable = true)\n",
      " |    |    |-- com: string (nullable = true)\n",
      " |    |    |-- country: string (nullable = true)\n",
      " |    |    |-- country_name: string (nullable = true)\n",
      " |    |    |-- entities: array (nullable = true)\n",
      " |    |    |    |-- element: struct (containsNull = true)\n",
      " |    |    |    |    |-- entity_end: long (nullable = true)\n",
      " |    |    |    |    |-- entity_label: string (nullable = true)\n",
      " |    |    |    |    |-- entity_start: long (nullable = true)\n",
      " |    |    |    |    |-- entity_text: string (nullable = true)\n",
      " |    |    |-- entitites: array (nullable = true)\n",
      " |    |    |    |-- element: string (containsNull = true)\n",
      " |    |    |-- ext: string (nullable = true)\n",
      " |    |    |-- extracted_poster_id: string (nullable = true)\n",
      " |    |    |-- filedeleted: long (nullable = true)\n",
      " |    |    |-- filename: string (nullable = true)\n",
      " |    |    |-- fsize: long (nullable = true)\n",
      " |    |    |-- h: long (nullable = true)\n",
      " |    |    |-- id: string (nullable = true)\n",
      " |    |    |-- imagelimit: long (nullable = true)\n",
      " |    |    |-- images: long (nullable = true)\n",
      " |    |    |-- m_img: long (nullable = true)\n",
      " |    |    |-- md5: string (nullable = true)\n",
      " |    |    |-- name: string (nullable = true)\n",
      " |    |    |-- no: long (nullable = true)\n",
      " |    |    |-- now: string (nullable = true)\n",
      " |    |    |-- perspectives: string (nullable = true)\n",
      " |    |    |-- replies: long (nullable = true)\n",
      " |    |    |-- resto: long (nullable = true)\n",
      " |    |    |-- semantic_url: string (nullable = true)\n",
      " |    |    |-- since4pass: string (nullable = true)\n",
      " |    |    |-- spoiler: long (nullable = true)\n",
      " |    |    |-- sticky: long (nullable = true)\n",
      " |    |    |-- sub: string (nullable = true)\n",
      " |    |    |-- tail_size: long (nullable = true)\n",
      " |    |    |-- tim: long (nullable = true)\n",
      " |    |    |-- time: long (nullable = true)\n",
      " |    |    |-- tn_h: long (nullable = true)\n",
      " |    |    |-- tn_w: long (nullable = true)\n",
      " |    |    |-- trip: string (nullable = true)\n",
      " |    |    |-- troll_country: string (nullable = true)\n",
      " |    |    |-- unique_ips: long (nullable = true)\n",
      " |    |    |-- w: long (nullable = true)\n",
      " |    |    |-- xa18: long (nullable = true)\n",
      " |    |    |-- xa19l: long (nullable = true)\n",
      " |    |    |-- xa19s: long (nullable = true)\n",
      " |    |    |-- xh17: long (nullable = true)\n",
      " |    |    |-- xh17c: string (nullable = true)"
     ]
    }
   ],
   "source": [
    "input_bucket = 's3://raiders-lost-kek-us-west-2'\n",
    "input_path = '/pol_062016-112019_labeled/pol_062016-112019_labeled.ndjson'\n",
    "df = spark.read.json(input_bucket + input_path)\n",
    "df.printSchema()\n"
   ]
  },
  {
   "cell_type": "markdown",
   "metadata": {},
   "source": [
    "Let's wrangle the data a bit by \"remembering\" the original post for each thread, and also having a measure of thread size available at each post level. Let's convert the array of posts into separate rows, one for each thread."
   ]
  },
  {
   "cell_type": "code",
   "execution_count": 7,
   "metadata": {},
   "outputs": [
    {
     "data": {
      "application/vnd.jupyter.widget-view+json": {
       "model_id": "24e7aab22a294975a87dfe6eef167657",
       "version_major": 2,
       "version_minor": 0
      },
      "text/plain": [
       "VBox()"
      ]
     },
     "metadata": {},
     "output_type": "display_data"
    },
    {
     "data": {
      "application/vnd.jupyter.widget-view+json": {
       "model_id": "",
       "version_major": 2,
       "version_minor": 0
      },
      "text/plain": [
       "FloatProgress(value=0.0, bar_style='info', description='Progress:', layout=Layout(height='25px', width='50%'),…"
      ]
     },
     "metadata": {},
     "output_type": "display_data"
    }
   ],
   "source": [
    "df2 = df.withColumn(\"ori_post\", df.posts[0].no).withColumn(\"replies_top\", df.posts[0].replies+1)\n",
    "df3 = df2.select(\"ori_post\",\n",
    "                 \"replies_top\",\n",
    "                 explode(df2.posts).alias(\"posts_exp\")\n",
    "                 )\n"
   ]
  },
  {
   "cell_type": "markdown",
   "metadata": {},
   "source": [
    "Next, here is a list of desirable columns from the data dictionary document, which I converted from PDF to XLS. The prefix 'posts_exp' is there to account for the field name above."
   ]
  },
  {
   "cell_type": "code",
   "execution_count": 8,
   "metadata": {},
   "outputs": [
    {
     "data": {
      "application/vnd.jupyter.widget-view+json": {
       "model_id": "6e08830fe5eb4f7a81cdcd7701be93e4",
       "version_major": 2,
       "version_minor": 0
      },
      "text/plain": [
       "VBox()"
      ]
     },
     "metadata": {},
     "output_type": "display_data"
    },
    {
     "data": {
      "application/vnd.jupyter.widget-view+json": {
       "model_id": "",
       "version_major": 2,
       "version_minor": 0
      },
      "text/plain": [
       "FloatProgress(value=0.0, bar_style='info', description='Progress:', layout=Layout(height='25px', width='50%'),…"
      ]
     },
     "metadata": {},
     "output_type": "display_data"
    }
   ],
   "source": [
    "my_select = ['posts_exp.no',\n",
    " 'posts_exp.resto',\n",
    " 'posts_exp.sticky',\n",
    " 'posts_exp.closed',\n",
    " 'posts_exp.now',\n",
    " 'posts_exp.time',\n",
    " 'posts_exp.name',\n",
    " 'posts_exp.trip',\n",
    " 'posts_exp.id',\n",
    " 'posts_exp.capcode',\n",
    " 'posts_exp.country',\n",
    " 'posts_exp.country_name',\n",
    " 'posts_exp.sub',\n",
    " 'posts_exp.com',\n",
    " 'posts_exp.tim',\n",
    " 'posts_exp.filename',\n",
    " 'posts_exp.ext',\n",
    " 'posts_exp.fsize',\n",
    " 'posts_exp.md5',\n",
    " 'posts_exp.w',\n",
    " 'posts_exp.h',\n",
    " 'posts_exp.tn_w',\n",
    " 'posts_exp.tn_h',\n",
    " 'posts_exp.filedeleted',\n",
    " 'posts_exp.spoiler',\n",
    " 'posts_exp.custom_spoiler',\n",
    " 'posts_exp.replies',\n",
    " 'posts_exp.images',\n",
    " 'posts_exp.bumplimit',\n",
    " 'posts_exp.imagelimit',\n",
    " 'posts_exp.semantic_url',\n",
    " 'posts_exp.since4pass',\n",
    " 'posts_exp.unique_ips',\n",
    " 'posts_exp.m_img',\n",
    " 'posts_exp.archived',\n",
    " 'posts_exp.archived_on',\n",
    " 'posts_exp.extracted_poster_id',\n",
    " 'posts_exp.troll_country']\n"
   ]
  },
  {
   "cell_type": "markdown",
   "metadata": {},
   "source": [
    "Next, let's make sure our final dataframe contains only valid columns."
   ]
  },
  {
   "cell_type": "code",
   "execution_count": 9,
   "metadata": {},
   "outputs": [
    {
     "data": {
      "application/vnd.jupyter.widget-view+json": {
       "model_id": "0f741f42794746388cb5b4e4ffa4ee8e",
       "version_major": 2,
       "version_minor": 0
      },
      "text/plain": [
       "VBox()"
      ]
     },
     "metadata": {},
     "output_type": "display_data"
    },
    {
     "data": {
      "application/vnd.jupyter.widget-view+json": {
       "model_id": "",
       "version_major": 2,
       "version_minor": 0
      },
      "text/plain": [
       "FloatProgress(value=0.0, bar_style='info', description='Progress:', layout=Layout(height='25px', width='50%'),…"
      ]
     },
     "metadata": {},
     "output_type": "display_data"
    },
    {
     "name": "stdout",
     "output_type": "stream",
     "text": [
      "posts_exp.custom_spoiler not found in schema."
     ]
    }
   ],
   "source": [
    "my_new_select = []\n",
    "for c in my_select:\n",
    "    try:\n",
    "        df3.select(c)\n",
    "        my_new_select.append(c)\n",
    "    except:\n",
    "        print(f\"{c} not found in schema.\")\n",
    "my_final_select = [\"ori_post\", \"replies_top\"] + my_new_select + [\"posts_exp.perspectives\", \"posts_exp.entities\"]"
   ]
  },
  {
   "cell_type": "markdown",
   "metadata": {},
   "source": [
    "Let's add partitioning to the data, so that people can run query against individual years / months and scan faster."
   ]
  },
  {
   "cell_type": "code",
   "execution_count": 10,
   "metadata": {},
   "outputs": [
    {
     "data": {
      "application/vnd.jupyter.widget-view+json": {
       "model_id": "b1023927629c4501b81bf09897de0347",
       "version_major": 2,
       "version_minor": 0
      },
      "text/plain": [
       "VBox()"
      ]
     },
     "metadata": {},
     "output_type": "display_data"
    },
    {
     "data": {
      "application/vnd.jupyter.widget-view+json": {
       "model_id": "",
       "version_major": 2,
       "version_minor": 0
      },
      "text/plain": [
       "FloatProgress(value=0.0, bar_style='info', description='Progress:', layout=Layout(height='25px', width='50%'),…"
      ]
     },
     "metadata": {},
     "output_type": "display_data"
    }
   ],
   "source": [
    "df4 = (df3.select(my_final_select)\n",
    "       .withColumn(\"full_date\", (from_unixtime(\"time\")))\n",
    "       .withColumn(\"year\",  year(from_unixtime(\"time\")))\n",
    "       .withColumn(\"month\", month(from_unixtime(\"time\")))\n",
    "       .withColumn(\"day\",   dayofmonth(from_unixtime(\"time\")))\n",
    "      ).repartition(\"year\", \"month\", \"day\")"
   ]
  },
  {
   "cell_type": "markdown",
   "metadata": {},
   "source": [
    "# Trying out different formats and partitioning schemes\n",
    "\n",
    "In all cases, we want to register the result in Glue.\n",
    "\n",
    "First let's stick with JSON to be able to inspect the files externally. The job seems to fail with an error message at the end, after about 5 minutes. The files have all been written to S3, as the next cell shows\n",
    "\n",
    "There are 1198 files, so the data seems complete.\n",
    "\n",
    "If you run the Glue crawler on it, the table gets registered properly. This remains to be investigated further.\n",
    "\n",
    "In any case we want to save the data in a binary, more efficient format, see further below."
   ]
  },
  {
   "cell_type": "code",
   "execution_count": 12,
   "metadata": {},
   "outputs": [
    {
     "data": {
      "application/vnd.jupyter.widget-view+json": {
       "model_id": "e64cbf90d07d4a37af0e453ea70a2707",
       "version_major": 2,
       "version_minor": 0
      },
      "text/plain": [
       "VBox()"
      ]
     },
     "metadata": {},
     "output_type": "display_data"
    },
    {
     "data": {
      "application/vnd.jupyter.widget-view+json": {
       "model_id": "",
       "version_major": 2,
       "version_minor": 0
      },
      "text/plain": [
       "FloatProgress(value=0.0, bar_style='info', description='Progress:', layout=Layout(height='25px', width='50%'),…"
      ]
     },
     "metadata": {},
     "output_type": "display_data"
    },
    {
     "name": "stderr",
     "output_type": "stream",
     "text": [
      "An error was encountered:\n",
      "Can not create a Path from an empty string\n",
      "Traceback (most recent call last):\n",
      "  File \"/usr/lib/spark/python/lib/pyspark.zip/pyspark/sql/readwriter.py\", line 868, in saveAsTable\n",
      "    self._jwrite.saveAsTable(name)\n",
      "  File \"/usr/lib/spark/python/lib/py4j-0.10.9-src.zip/py4j/java_gateway.py\", line 1305, in __call__\n",
      "    answer, self.gateway_client, self.target_id, self.name)\n",
      "  File \"/usr/lib/spark/python/lib/pyspark.zip/pyspark/sql/utils.py\", line 134, in deco\n",
      "    raise_from(converted)\n",
      "  File \"<string>\", line 3, in raise_from\n",
      "pyspark.sql.utils.IllegalArgumentException: Can not create a Path from an empty string\n",
      "\n"
     ]
    }
   ],
   "source": [
    "(df4.write\n",
    " .option(\"path\", f\"{input_bucket}/raiders-lost-kek/raiders-training-json-part/\")\n",
    " .option(\"mode\", \"overwrite\")\n",
    " .partitionBy(\"year\", \"month\", \"day\")\n",
    " .saveAsTable(\"raiders.raiders_partitioned\", mode='overwrite', format='json')\n",
    ")\n"
   ]
  },
  {
   "cell_type": "raw",
   "metadata": {},
   "source": [
    "2020-11-29 11:16:23   21776251 raiders-lost-kek/raiders-training-parquet-part/year=2019/month=4/day=25/part-00004-ae6da587-626b-4f78-ab52-bfea342df229.c000.snappy.parquet\n",
    "2020-11-29 11:16:23   21915954 raiders-lost-kek/raiders-training-parquet-part/year=2019/month=2/day=3/part-00022-ae6da587-626b-4f78-ab52-bfea342df229.c000.snappy.parquet\n",
    "2020-11-29 11:16:23   22543995 raiders-lost-kek/raiders-training-parquet-part/year=2018/month=11/day=17/part-00008-ae6da587-626b-4f78-ab52-bfea342df229.c000.snappy.parquet\n",
    "2020-11-29 11:16:23   23332997 raiders-lost-kek/raiders-training-parquet-part/year=2019/month=6/day=20/part-00031-ae6da587-626b-4f78-ab52-bfea342df229.c000.snappy.parquet\n",
    "2020-11-29 11:16:23   23790847 raiders-lost-kek/raiders-training-parquet-part/year=2016/month=8/day=18/part-00020-ae6da587-626b-4f78-ab52-bfea342df229.c000.snappy.parquet\n",
    ".....\n",
    "2020-11-29 11:18:11   22625525 raiders-lost-kek/raiders-training-parquet-part/year=2019/month=10/day=29/part-00902-ae6da587-626b-4f78-ab52-bfea342df229.c000.snappy.parquet\n",
    "2020-11-29 11:18:11   24063386 raiders-lost-kek/raiders-training-parquet-part/year=2018/month=9/day=12/part-00897-ae6da587-626b-4f78-ab52-bfea342df229.c000.snappy.parquet\n",
    "2020-11-29 11:18:11   24267387 raiders-lost-kek/raiders-training-parquet-part/year=2019/month=5/day=18/part-00899-ae6da587-626b-4f78-ab52-bfea342df229.c000.snappy.parquet\n",
    "2020-11-29 11:18:12   31715201 raiders-lost-kek/raiders-training-parquet-part/year=2017/month=1/day=18/part-00890-ae6da587-626b-4f78-ab52-bfea342df229.c000.snappy.parquet\n",
    "2020-11-29 11:18:13   25435071 raiders-lost-kek/raiders-training-parquet-part/year=2019/month=8/day=8/part-00890-ae6da587-626b-4f78-ab52-bfea342df229.c000.snappy.parquet\n",
    "2020-11-29 11:18:14          0 raiders-lost-kek/raiders-training-parquet-part/_SUCCESS\n",
    "\n"
   ]
  },
  {
   "cell_type": "markdown",
   "metadata": {},
   "source": [
    "# Parquet Format\n",
    "\n",
    "Next, we write the same dataframe as a parquet file with snappy compression. It takes about 5 minutes to do that."
   ]
  },
  {
   "cell_type": "code",
   "execution_count": 9,
   "metadata": {},
   "outputs": [
    {
     "data": {
      "application/vnd.jupyter.widget-view+json": {
       "model_id": "91228d7d80174c0790b161a0d1332f16",
       "version_major": 2,
       "version_minor": 0
      },
      "text/plain": [
       "VBox()"
      ]
     },
     "metadata": {},
     "output_type": "display_data"
    },
    {
     "data": {
      "application/vnd.jupyter.widget-view+json": {
       "model_id": "",
       "version_major": 2,
       "version_minor": 0
      },
      "text/plain": [
       "FloatProgress(value=0.0, bar_style='info', description='Progress:', layout=Layout(height='25px', width='50%'),…"
      ]
     },
     "metadata": {},
     "output_type": "display_data"
    }
   ],
   "source": [
    "(df4.write\n",
    " .option(\"path\", f\"{input_bucket}/raiders-lost-kek/raiders-training-parquet-part/\")\n",
    " .partitionBy(\"year\", \"month\", \"day\")\n",
    " .saveAsTable(\"raiders.kek\", mode='overwrite', format='parquet')\n",
    ")\n"
   ]
  },
  {
   "cell_type": "markdown",
   "metadata": {},
   "source": [
    "The previous code created 1198 files, one for each day with data. The progress bar says 905 tasks, these don't seem to map to partitions then.\n"
   ]
  },
  {
   "cell_type": "code",
   "execution_count": 2,
   "metadata": {},
   "outputs": [
    {
     "data": {
      "application/vnd.jupyter.widget-view+json": {
       "model_id": "e8f8081d116f4b068d1097297b7f54b0",
       "version_major": 2,
       "version_minor": 0
      },
      "text/plain": [
       "VBox()"
      ]
     },
     "metadata": {},
     "output_type": "display_data"
    },
    {
     "data": {
      "application/vnd.jupyter.widget-view+json": {
       "model_id": "",
       "version_major": 2,
       "version_minor": 0
      },
      "text/plain": [
       "FloatProgress(value=0.0, bar_style='info', description='Progress:', layout=Layout(height='25px', width='50%'),…"
      ]
     },
     "metadata": {},
     "output_type": "display_data"
    },
    {
     "name": "stdout",
     "output_type": "stream",
     "text": [
      "+--------------------------------------------------------------------------------------------+\n",
      "|count(DISTINCT date_trunc(day, CAST(from_unixtime(time, yyyy-MM-dd HH:mm:ss) AS TIMESTAMP)))|\n",
      "+--------------------------------------------------------------------------------------------+\n",
      "|                                                                                        1198|\n",
      "+--------------------------------------------------------------------------------------------+"
     ]
    }
   ],
   "source": [
    "spark.sql(\"\"\"\n",
    "SELECT COUNT(DISTINCT(DATE_TRUNC('day', from_unixtime(time))))\n",
    "FROM raiders.kek\n",
    "\"\"\").show()"
   ]
  },
  {
   "cell_type": "code",
   "execution_count": 13,
   "metadata": {},
   "outputs": [
    {
     "data": {
      "application/vnd.jupyter.widget-view+json": {
       "model_id": "1eec5655f5e0499fa0ce48b57f6ea137",
       "version_major": 2,
       "version_minor": 0
      },
      "text/plain": [
       "VBox()"
      ]
     },
     "metadata": {},
     "output_type": "display_data"
    },
    {
     "data": {
      "application/vnd.jupyter.widget-view+json": {
       "model_id": "",
       "version_major": 2,
       "version_minor": 0
      },
      "text/plain": [
       "FloatProgress(value=0.0, bar_style='info', description='Progress:', layout=Layout(height='25px', width='50%'),…"
      ]
     },
     "metadata": {},
     "output_type": "display_data"
    },
    {
     "name": "stdout",
     "output_type": "stream",
     "text": [
      "905"
     ]
    }
   ],
   "source": [
    "df4.rdd.getNumPartitions()"
   ]
  },
  {
   "cell_type": "code",
   "execution_count": null,
   "metadata": {},
   "outputs": [],
   "source": [
    "(df4.write\n",
    " .option(\"path\", f\"{input_bucket}/raiders-lost-kek/raiders-training-partitioned/\")\n",
    " .option(\"mode\", \"overwrite\")\n",
    " .saveAsTable(\"raiders.raiders_partitioned\", mode='overwrite')\n",
    ")\n"
   ]
  },
  {
   "cell_type": "markdown",
   "metadata": {},
   "source": [
    "## Word Counts, a simple text analysis tool"
   ]
  },
  {
   "cell_type": "code",
   "execution_count": 20,
   "metadata": {},
   "outputs": [
    {
     "data": {
      "application/vnd.jupyter.widget-view+json": {
       "model_id": "d655d01b5e204589995703d7f868de29",
       "version_major": 2,
       "version_minor": 0
      },
      "text/plain": [
       "VBox()"
      ]
     },
     "metadata": {},
     "output_type": "display_data"
    },
    {
     "data": {
      "application/vnd.jupyter.widget-view+json": {
       "model_id": "",
       "version_major": 2,
       "version_minor": 0
      },
      "text/plain": [
       "FloatProgress(value=0.0, bar_style='info', description='Progress:', layout=Layout(height='25px', width='50%'),…"
      ]
     },
     "metadata": {},
     "output_type": "display_data"
    },
    {
     "name": "stdout",
     "output_type": "stream",
     "text": [
      "+------------+----------+\n",
      "|        term|     count|\n",
      "+------------+----------+\n",
      "|            |4664059498|\n",
      "|           a| 300423377|\n",
      "|          gt| 280818845|\n",
      "|          br| 264087249|\n",
      "|       class| 162438118|\n",
      "|         the| 119401160|\n",
      "|           p| 117468840|\n",
      "|        href| 117054538|\n",
      "|   quotelink| 117031344|\n",
      "|        span|  89577138|\n",
      "|          to|  73549941|\n",
      "|         and|  65421255|\n",
      "|          of|  53657807|\n",
      "|         you|  51742275|\n",
      "|          is|  47302634|\n",
      "|           i|  46351162|\n",
      "|       quote|  44343516|\n",
      "|          it|  41625328|\n",
      "|          in|  39128534|\n",
      "|        that|  38048157|\n",
      "|           s|  30327598|\n",
      "|           t|  27651877|\n",
      "|         are|  26901296|\n",
      "|        they|  25686032|\n",
      "|         for|  25040658|\n",
      "|        this|  23299513|\n",
      "|        quot|  21222225|\n",
      "|          be|  20398454|\n",
      "|         not|  18060007|\n",
      "|          on|  18029284|\n",
      "|        have|  17801637|\n",
      "|        with|  17760286|\n",
      "|          he|  15036986|\n",
      "|         but|  14875509|\n",
      "|         was|  14324540|\n",
      "|          we|  14108210|\n",
      "|          as|  13618383|\n",
      "|         all|  13442416|\n",
      "|        your|  13038402|\n",
      "|          if|  12971305|\n",
      "|        like|  12883392|\n",
      "|        just|  12675977|\n",
      "|        what|  12563535|\n",
      "|         can|  12219664|\n",
      "|          so|  11662942|\n",
      "|      people|  11570735|\n",
      "|          or|  11076607|\n",
      "|        will|  11013775|\n",
      "|          do|  10822118|\n",
      "|          no|  10730970|\n",
      "|         wbr|   9925210|\n",
      "|       about|   9896550|\n",
      "|       their|   9614930|\n",
      "|          at|   9587123|\n",
      "|        from|   9518686|\n",
      "|          by|   9175515|\n",
      "|          my|   9020860|\n",
      "|        them|   9017283|\n",
      "|         don|   8979071|\n",
      "|       there|   8839720|\n",
      "|         who|   8685057|\n",
      "|         get|   8567307|\n",
      "|          re|   8366298|\n",
      "|       would|   8160978|\n",
      "|     because|   8087134|\n",
      "|          up|   7960196|\n",
      "|          an|   7938298|\n",
      "|         one|   7817881|\n",
      "|         how|   7722786|\n",
      "|         out|   7632365|\n",
      "|        more|   7617708|\n",
      "|     fucking|   7361663|\n",
      "|          me|   7164462|\n",
      "|       https|   6977361|\n",
      "|         why|   6843268|\n",
      "|        when|   6769838|\n",
      "|        shit|   6764562|\n",
      "|        even|   6710942|\n",
      "|           m|   6665883|\n",
      "|       white|   6641871|\n",
      "|        fuck|   6634622|\n",
      "|         has|   6606142|\n",
      "|         his|   6526799|\n",
      "|        only|   6379449|\n",
      "|        some|   6093039|\n",
      "|       trump|   5932228|\n",
      "|         now|   5811149|\n",
      "|        know|   5609966|\n",
      "|       think|   5578071|\n",
      "|         com|   5338620|\n",
      "|        than|   5317068|\n",
      "|          us|   5262845|\n",
      "|        were|   5241586|\n",
      "|       right|   5070876|\n",
      "|         she|   5049355|\n",
      "|        good|   5001254|\n",
      "|       being|   4980406|\n",
      "|        here|   4885842|\n",
      "|        then|   4884724|\n",
      "|          go|   4783180|\n",
      "|        time|   4736873|\n",
      "|        want|   4646073|\n",
      "|         www|   4601281|\n",
      "|        make|   4319800|\n",
      "|         our|   4260275|\n",
      "|         pol|   4256592|\n",
      "|       other|   4241450|\n",
      "|         her|   4217672|\n",
      "|        been|   4189170|\n",
      "|        also|   4173605|\n",
      "|         any|   4170304|\n",
      "|        into|   4089771|\n",
      "|         him|   4079849|\n",
      "|       going|   4060299|\n",
      "|         its|   3943312|\n",
      "|         see|   3910890|\n",
      "|      should|   3874384|\n",
      "|         too|   3849120|\n",
      "|        most|   3840802|\n",
      "|         had|   3840729|\n",
      "|         did|   3830311|\n",
      "|       never|   3826765|\n",
      "|      really|   3821226|\n",
      "|        over|   3774660|\n",
      "|         off|   3706791|\n",
      "|       these|   3697472|\n",
      "|       still|   3621682|\n",
      "|        much|   3510919|\n",
      "|      thread|   3506366|\n",
      "|       which|   3377646|\n",
      "|       watch|   3368250|\n",
      "|        need|   3363282|\n",
      "|         way|   3362439|\n",
      "|        jews|   3311184|\n",
      "|       world|   3306517|\n",
      "|           d|   3271841|\n",
      "|        back|   3249362|\n",
      "|       women|   3210642|\n",
      "|     country|   3139735|\n",
      "|       those|   3125456|\n",
      "|       could|   3120395|\n",
      "|       years|   3050577|\n",
      "|    actually|   3027229|\n",
      "|        same|   3005258|\n",
      "|        well|   2992349|\n",
      "|       where|   2939825|\n",
      "|          ve|   2934965|\n",
      "|         got|   2924872|\n",
      "|       every|   2892381|\n",
      "|          ll|   2878343|\n",
      "|         say|   2869648|\n",
      "|         man|   2856431|\n",
      "|       thing|   2830137|\n",
      "|        take|   2821542|\n",
      "|           v|   2815728|\n",
      "|     youtube|   2814737|\n",
      "|        look|   2759043|\n",
      "|       doesn|   2687029|\n",
      "|   something|   2676338|\n",
      "|       after|   2651419|\n",
      "|        does|   2636632|\n",
      "|         own|   2630144|\n",
      "|        down|   2581787|\n",
      "|     nothing|   2567251|\n",
      "|   literally|   2477580|\n",
      "|         new|   2459759|\n",
      "|        work|   2421425|\n",
      "|         god|   2416108|\n",
      "|      better|   2415351|\n",
      "|      nigger|   2388990|\n",
      "|        said|   2378120|\n",
      "|        real|   2360598|\n",
      "|       first|   2338155|\n",
      "|        life|   2337077|\n",
      "|      before|   2334669|\n",
      "|        very|   2306438|\n",
      "|        many|   2280424|\n",
      "|       black|   2273234|\n",
      "|         war|   2264269|\n",
      "|    anything|   2256756|\n",
      "|        didn|   2233763|\n",
      "|         day|   2192105|\n",
      "|     niggers|   2175695|\n",
      "|         isn|   2169451|\n",
      "|        stop|   2155086|\n",
      "|      though|   2148713|\n",
      "|        post|   2139077|\n",
      "|        ever|   2133446|\n",
      "|         let|   2116542|\n",
      "|      always|   2103720|\n",
      "|         bad|   2096775|\n",
      "|       money|   2072643|\n",
      "|        made|   2045237|\n",
      "|     against|   2044272|\n",
      "|        give|   2030100|\n",
      "|      things|   2022684|\n",
      "|       while|   2012843|\n",
      "|      faggot|   2000646|\n",
      "|       again|   1993344|\n",
      "|         men|   1971441|\n",
      "|       state|   1969135|\n",
      "|        live|   1958402|\n",
      "|    probably|   1948750|\n",
      "|         guy|   1948297|\n",
      "|    everyone|   1947437|\n",
      "|         yes|   1932926|\n",
      "|          am|   1926894|\n",
      "|       point|   1921925|\n",
      "|        sure|   1889573|\n",
      "|        come|   1887435|\n",
      "|        http|   1887377|\n",
      "|       based|   1882302|\n",
      "|     already|   1879520|\n",
      "|     america|   1875603|\n",
      "|      pretty|   1873962|\n",
      "|     someone|   1873921|\n",
      "|      around|   1870395|\n",
      "|        left|   1854555|\n",
      "|     getting|   1849479|\n",
      "|        hate|   1842757|\n",
      "|        keep|   1829380|\n",
      "|        mean|   1822327|\n",
      "|         use|   1777251|\n",
      "|         kek|   1770632|\n",
      "|       since|   1768552|\n",
      "|        yeah|   1740848|\n",
      "|     believe|   1737042|\n",
      "|       wrong|   1733359|\n",
      "|    american|   1727697|\n",
      "|  government|   1716093|\n",
      "|         jew|   1698511|\n",
      "|       doing|   1690497|\n",
      "|         old|   1688044|\n",
      "|         won|   1686069|\n",
      "|      anyone|   1677669|\n",
      "|        race|   1649497|\n",
      "|      enough|   1644053|\n",
      "|      trying|   1643065|\n",
      "|        year|   1641760|\n",
      "|        long|   1631225|\n",
      "|     without|   1630060|\n",
      "|        guys|   1622029|\n",
      "|  everything|   1607949|\n",
      "|        best|   1598836|\n",
      "|       great|   1588042|\n",
      "|        true|   1574782|\n",
      "|        kill|   1571085|\n",
      "|        love|   1569692|\n",
      "|        news|   1563103|\n",
      "|         lot|   1563021|\n",
      "|       makes|   1532000|\n",
      "|     another|   1523482|\n",
      "|        such|   1499704|\n",
      "|        dont|   1492546|\n",
      "|        last|   1492436|\n",
      "|         try|   1490664|\n",
      "|        tell|   1485776|\n",
      "|          oh|   1480464|\n",
      "|       maybe|   1468044|\n",
      "|    yourself|   1466436|\n",
      "|      jewish|   1456774|\n",
      "|        free|   1451717|\n",
      "|       least|   1445581|\n",
      "|         big|   1443135|\n",
      "|    retarded|   1440976|\n",
      "|        part|   1440180|\n",
      "|         two|   1435145|\n",
      "|           e|   1434829|\n",
      "|        find|   1427214|\n",
      "|      little|   1424526|\n",
      "|     through|   1420748|\n",
      "|        anon|   1420565|\n",
      "|        aren|   1412975|\n",
      "|       start|   1403008|\n",
      "|        used|   1397385|\n",
      "|      whites|   1397059|\n",
      "|         lol|   1395349|\n",
      "|         end|   1393340|\n",
      "|       media|   1384830|\n",
      "|       power|   1383146|\n",
      "|        meme|   1379641|\n",
      "|        read|   1379255|\n",
      "|      stupid|   1369954|\n",
      "|         few|   1363626|\n",
      "|         put|   1359310|\n",
      "|      israel|   1358877|\n",
      "|        away|   1355341|\n",
      "|        hard|   1352605|\n",
      "|       youtu|   1348733|\n",
      "|      reason|   1348288|\n",
      "|        nice|   1343575|\n",
      "|        feel|   1342098|\n",
      "|      europe|   1337426|\n",
      "|       place|   1330944|\n",
      "|        vote|   1329774|\n",
      "|     problem|   1326120|\n",
      "|        care|   1311090|\n",
      "|        both|   1300988|\n",
      "|      saying|   1297867|\n",
      "|      having|   1296768|\n",
      "|        kids|   1268339|\n",
      "|        else|   1259773|\n",
      "|        must|   1258035|\n",
      "|    children|   1254702|\n",
      "|         far|   1235845|\n",
      "|        less|   1228128|\n",
      "|      russia|   1222479|\n",
      "|         amp|   1220010|\n",
      "|     thought|   1214717|\n",
      "|        done|   1207432|\n",
      "|        full|   1205606|\n",
      "|        fact|   1202177|\n",
      "|       might|   1200071|\n",
      "|       until|   1196240|\n",
      "|        next|   1190980|\n",
      "|      either|   1188756|\n",
      "|  understand|   1185293|\n",
      "|      making|   1183727|\n",
      "|         org|   1180406|\n",
      "|     talking|   1167307|\n",
      "|       woman|   1161497|\n",
      "|        once|   1160319|\n",
      "|       looks|   1153959|\n",
      "|           u|   1153798|\n",
      "|        show|   1152607|\n",
      "|        high|   1150518|\n",
      "|      family|   1150217|\n",
      "|         pay|   1149754|\n",
      "|         yet|   1149124|\n",
      "|      person|   1145672|\n",
      "|         job|   1141646|\n",
      "|         die|   1135600|\n",
      "|   countries|   1134153|\n",
      "|           o|   1130707|\n",
      "|     society|   1126555|\n",
      "|        gets|   1124967|\n",
      "|         non|   1124448|\n",
      "|  themselves|   1123959|\n",
      "|       means|   1115398|\n",
      "|          op|   1114011|\n",
      "|        anti|   1113120|\n",
      "|      fucked|   1100297|\n",
      "|     instead|   1099168|\n",
      "|   different|   1096119|\n",
      "|        hope|   1093596|\n",
      "|       whole|   1090451|\n",
      "|           b|   1081063|\n",
      "|      become|   1080497|\n",
      "|       video|   1076164|\n",
      "|           k|   1075382|\n",
      "|        help|   1067302|\n",
      "|        kind|   1063124|\n",
      "|       under|   1057069|\n",
      "|   president|   1056885|\n",
      "|        call|   1052229|\n",
      "|         may|   1052228|\n",
      "|     hillary|   1048276|\n",
      "|      please|   1044187|\n",
      "|     culture|   1042117|\n",
      "|      wouldn|   1041685|\n",
      "|     history|   1039151|\n",
      "|         pic|   1031100|\n",
      "|       human|   1030096|\n",
      "|        says|   1020530|\n",
      "|      happen|   1014869|\n",
      "|     support|   1012367|\n",
      "|       times|   1008122|\n",
      "|     control|   1007807|\n",
      "|         etc|    992940|\n",
      "|      change|    989612|\n",
      "|      called|    979485|\n",
      "|         ass|    978614|\n",
      "|     germany|    976142|\n",
      "|        flag|    973001|\n",
      "|           c|    971918|\n",
      "|        kike|    969561|\n",
      "|        name|    967400|\n",
      "|      matter|    964995|\n",
      "|          im|    964648|\n",
      "|        idea|    959467|\n",
      "|           r|    957971|\n",
      "|         gay|    953983|\n",
      "|        seen|    952933|\n",
      "|      system|    950287|\n",
      "|       today|    941883|\n",
      "|         ago|    940115|\n",
      "|       gonna|    938710|\n",
      "|     between|    937796|\n",
      "|   political|    937397|\n",
      "|     muslims|    934457|\n",
      "|       house|    929177|\n",
      "|       jesus|    928006|\n",
      "|    remember|    926727|\n",
      "|         win|    921681|\n",
      "|    bullshit|    919249|\n",
      "|        dumb|    917066|\n",
      "|      almost|    916362|\n",
      "|      retard|    916315|\n",
      "|       death|    915373|\n",
      "|      school|    911795|\n",
      "|       party|    908477|\n",
      "|         muh|    897505|\n",
      "|      thanks|    896059|\n",
      "|   americans|    895686|\n",
      "|      single|    894187|\n",
      "|        went|    893392|\n",
      "|      social|    890204|\n",
      "|       china|    888669|\n",
      "|        dead|    888087|\n",
      "|       shill|    877329|\n",
      "|     faggots|    866337|\n",
      "|        face|    863692|\n",
      "|      states|    863299|\n",
      "|    happened|    861781|\n",
      "|       guess|    860933|\n",
      "|        ones|    860814|\n",
      "|        half|    860707|\n",
      "|      living|    857558|\n",
      "|      entire|    856730|\n",
      "|     twitter|    847316|\n",
      "|       wants|    844839|\n",
      "|         usa|    840364|\n",
      "|     related|    839293|\n",
      "|        home|    838964|\n",
      "|         law|    837875|\n",
      "|   basically|    837154|\n",
      "|  population|    834765|\n",
      "|       fight|    830259|\n",
      "|        wasn|    827885|\n",
      "|          uk|    826793|\n",
      "|       using|    825323|\n",
      "|         run|    823762|\n",
      "|        fake|    823283|\n",
      "|     looking|    822836|\n",
      "|     working|    822569|\n",
      "|       needs|    822351|\n",
      "|        each|    819679|\n",
      "|    military|    819377|\n",
      "|         sex|    816578|\n",
      "|      german|    816232|\n",
      "|        self|    815606|\n",
      "|      blacks|    812704|\n",
      "|       seems|    812031|\n",
      "|        side|    811386|\n",
      "|    european|    798734|\n",
      "|      hitler|    798365|\n",
      "|        girl|    797056|\n",
      "|        talk|    794346|\n",
      "|       leave|    794324|\n",
      "|       stuff|    790223|\n",
      "|        lost|    788128|\n",
      "|        hell|    787310|\n",
      "|      police|    786633|\n",
      "|         gun|    786222|\n",
      "|         top|    785719|\n",
      "|         red|    783378|\n",
      "|      killed|    780942|\n",
      "|        days|    774630|\n",
      "|      coming|    774614|\n",
      "|      racist|    773719|\n",
      "|      nation|    771254|\n",
      "|     started|    769972|\n",
      "|           n|    769727|\n",
      "|      public|    769002|\n",
      "|      course|    766951|\n",
      "|        mind|    765740|\n",
      "|        able|    763888|\n",
      "|          ok|    762198|\n",
      "|      nobody|    760892|\n",
      "|        dude|    758206|\n",
      "|          iq|    757899|\n",
      "|      during|    757021|\n",
      "|     russian|    755300|\n",
      "|    election|    754019|\n",
      "|    whatever|    752512|\n",
      "|        came|    751458|\n",
      "|      muslim|    747565|\n",
      "|       truth|    747013|\n",
      "|        wait|    746971|\n",
      "|         low|    746234|\n",
      "|     exactly|    742793|\n",
      "|      middle|    742693|\n",
      "|         buy|    737839|\n",
      "|       sense|    736208|\n",
      "|          eu|    736035|\n",
      "|        holy|    735201|\n",
      "|       child|    734953|\n",
      "|        land|    734583|\n",
      "|           f|    732072|\n",
      "|       group|    731056|\n",
      "|        food|    730428|\n",
      "|       board|    726303|\n",
      "|       thats|    726155|\n",
      "|     imagine|    724509|\n",
      "|        goes|    721801|\n",
      "|     western|    719546|\n",
      "|      actual|    719487|\n",
      "|    thinking|    718949|\n",
      "|        west|    718502|\n",
      "|  completely|    716205|\n",
      "|       cause|    714061|\n",
      "|        city|    712120|\n",
      "|       found|    710739|\n",
      "|     million|    710100|\n",
      "|       worse|    708778|\n",
      "|      wanted|    708580|\n",
      "|        soon|    708104|\n",
      "|        chan|    707888|\n",
      "|     threads|    707217|\n",
      "|        case|    706746|\n",
      "|        poor|    705741|\n",
      "|       south|    705057|\n",
      "|      future|    704168|\n",
      "|        rest|    703326|\n",
      "|     liberal|    702926|\n",
      "|      taking|    699721|\n",
      "|    question|    699361|\n",
      "|       comes|    698429|\n",
      "|        cuck|    696745|\n",
      "|        turn|    692501|\n",
      "|        stay|    691862|\n",
      "|       kikes|    689252|\n",
      "|        head|    686538|\n",
      "|       funny|    686363|\n",
      "|      rather|    684843|\n",
      "|        told|    683916|\n",
      "|       agree|    682035|\n",
      "|       obama|    681462|\n",
      "|      others|    680181|\n",
      "|    internet|    679224|\n",
      "|        deal|    677761|\n",
      "|       earth|    677225|\n",
      "|        dick|    670791|\n",
      "|      likely|    669453|\n",
      "|    politics|    669127|\n",
      "|    religion|    667296|\n",
      "|       girls|    662832|\n",
      "|        move|    660282|\n",
      "|    argument|    658963|\n",
      "|          en|    656471|\n",
      "|     friends|    655237|\n",
      "|           x|    652541|\n",
      "|       order|    647912|\n",
      "|     anymore|    646783|\n",
      "|       small|    646651|\n",
      "|       bitch|    645421|\n",
      "|   christian|    644156|\n",
      "|        guns|    638038|\n",
      "|        took|    637101|\n",
      "|      anyway|    635947|\n",
      "|    national|    634509|\n",
      "|       exist|    631467|\n",
      "|   happening|    631084|\n",
      "|       sorry|    630955|\n",
      "|         fun|    630084|\n",
      "|      second|    629857|\n",
      "|          th|    628814|\n",
      "|        open|    627190|\n",
      "|         bit|    626561|\n",
      "|         fat|    625815|\n",
      "|        lmao|    625518|\n",
      "|       story|    622785|\n",
      "|    possible|    622614|\n",
      "|       level|    622247|\n",
      "|         ask|    619946|\n",
      "|        wall|    618881|\n",
      "|   seriously|    616409|\n",
      "|         age|    613805|\n",
      "|      attack|    613620|\n",
      "|        cant|    613154|\n",
      "|       works|    611225|\n",
      "|     realize|    610273|\n",
      "|     average|    607550|\n",
      "|       knows|    606642|\n",
      "|        bump|    606465|\n",
      "|        word|    604747|\n",
      "|         kid|    603104|\n",
      "|     clinton|    602221|\n",
      "|         act|    599003|\n",
      "|       bunch|    598720|\n",
      "|       learn|    598625|\n",
      "|     general|    598540|\n",
      "|       force|    597173|\n",
      "|    majority|    597015|\n",
      "|    evidence|    596228|\n",
      "|        evil|    594492|\n",
      "|      behind|    594475|\n",
      "|        nazi|    592800|\n",
      "|       north|    591796|\n",
      "|        wife|    591595|\n",
      "|           y|    589170|\n",
      "|      canada|    588727|\n",
      "|        rape|    588187|\n",
      "|        rich|    588171|\n",
      "|     posting|    587438|\n",
      "|     happens|    587381|\n",
      "|         eat|    585904|\n",
      "|      shitty|    585300|\n",
      "|        hand|    585150|\n",
      "|        game|    583822|\n",
      "|        damn|    582619|\n",
      "|         tfw|    581131|\n",
      "|        wing|    579941|\n",
      "|     himself|    579392|\n",
      "|      shills|    578550|\n",
      "|       islam|    577193|\n",
      "|      modern|    576908|\n",
      "| immigration|    576667|\n",
      "|      africa|    576203|\n",
      "|        past|    576197|\n",
      "|         tax|    574203|\n",
      "|      christ|    573710|\n",
      "|        fine|    573125|\n",
      "|      except|    570019|\n",
      "|    implying|    566041|\n",
      "|     chinese|    565647|\n",
      "|     archive|    563137|\n",
      "|      unless|    562910|\n",
      "|       night|    561594|\n",
      "|           g|    559216|\n",
      "|     illegal|    557757|\n",
      "|        play|    554177|\n",
      "|       crime|    553782|\n",
      "|        lose|    553581|\n",
      "|       heard|    553449|\n",
      "|  absolutely|    552399|\n",
      "|     reality|    551283|\n",
      "|     english|    550963|\n",
      "|        east|    550355|\n",
      "|        shut|    549564|\n",
      "|  especially|    547622|\n",
      "|      friend|    547241|\n",
      "|       water|    545508|\n",
      "|       bring|    544556|\n",
      "|      cannot|    544338|\n",
      "|     outside|    542977|\n",
      "|        easy|    542253|\n",
      "|       haven|    541860|\n",
      "|      sounds|    541818|\n",
      "|        male|    540458|\n",
      "|        btfo|    540377|\n",
      "|         due|    538225|\n",
      "|        seem|    537968|\n",
      "|        week|    537811|\n",
      "|      wonder|    537808|\n",
      "|      rights|    537594|\n",
      "|     allowed|    534670|\n",
      "|      simply|    534036|\n",
      "|    together|    533217|\n",
      "|        wish|    533184|\n",
      "|       tried|    533173|\n",
      "|       young|    532993|\n",
      "|   important|    531727|\n",
      "|  degenerate|    530215|\n",
      "|        blue|    529925|\n",
      "|         wtf|    529204|\n",
      "|       worth|    528202|\n",
      "|      chance|    528036|\n",
      "|        save|    526829|\n",
      "|     retards|    524594|\n",
      "|       lives|    524224|\n",
      "|        mass|    519692|\n",
      "|    liberals|    519380|\n",
      "|     killing|    518709|\n",
      "|         saw|    518334|\n",
      "|           w|    517620|\n",
      "|     parents|    517536|\n",
      "|       given|    517523|\n",
      "|    honestly|    516831|\n",
      "|     british|    516356|\n",
      "|       memes|    516324|\n",
      "|    deadlink|    515397|\n",
      "|        laws|    514234|\n",
      "|         pro|    513424|\n",
      "|      myself|    512922|\n",
      "|    business|    509702|\n",
      "|        cunt|    508047|\n",
      "|       false|    507094|\n",
      "|     example|    506102|\n",
      "|   obviously|    505839|\n",
      "|        book|    503296|\n",
      "|        body|    503294|\n",
      "|       check|    502935|\n",
      "|     economy|    502795|\n",
      "|   wikipedia|    502389|\n",
      "|       later|    500197|\n",
      "|        jobs|    498077|\n",
      "|        plan|    497664|\n",
      "|        paid|    496977|\n",
      "|          co|    496749|\n",
      "|       blood|    496405|\n",
      "|        okay|    496271|\n",
      "|        shot|    495658|\n",
      "|      source|    495431|\n",
      "|     picture|    495307|\n",
      "|        knew|    495008|\n",
      "|       posts|    494943|\n",
      "|      giving|    494548|\n",
      "|christianity|    494463|\n",
      "|       close|    493927|\n",
      "|      mostly|    493860|\n",
      "|        fire|    493472|\n",
      "|        born|    491348|\n",
      "|        leaf|    490602|\n",
      "|        tier|    490427|\n",
      "|      french|    489657|\n",
      "|         sad|    489445|\n",
      "|        eyes|    489322|\n",
      "|      within|    486928|\n",
      "|       speak|    486149|\n",
      "|      number|    485373|\n",
      "|        form|    484748|\n",
      "|   communism|    483688|\n",
      "|   democrats|    483656|\n",
      "|           h|    483352|\n",
      "|       words|    483100|\n",
      "|      strong|    482748|\n",
      "|  propaganda|    482348|\n",
      "|       alone|    482334|\n",
      "|     destroy|    481902|\n",
      "|      france|    480539|\n",
      "|      common|    480538|\n",
      "|         wow|    478478|\n",
      "|      months|    478079|\n",
      "|       quite|    476948|\n",
      "|           l|    476712|\n",
      "|      church|    475509|\n",
      "|      itself|    474876|\n",
      "|       claim|    474703|\n",
      "|         set|    474277|\n",
      "|        wiki|    474203|\n",
      "|       thank|    473070|\n",
      "|          de|    471518|\n",
      "|     however|    470806|\n",
      "|    watching|    470762|\n",
      "|        huge|    470571|\n",
      "|      speech|    470242|\n",
      "|        cool|    468806|\n",
      "|      answer|    467995|\n",
      "|       worst|    466909|\n",
      "|       along|    465599|\n",
      "|     explain|    464499|\n",
      "|       hours|    464311|\n",
      "|         hey|    463206|\n",
      "|         hit|    462130|\n",
      "|       build|    461944|\n",
      "|      normal|    461931|\n",
      "|        line|    461662|\n",
      "|       happy|    461376|\n",
      "|      thinks|    460719|\n",
      "|        gave|    459643|\n",
      "|      couldn|    457504|\n",
      "|        army|    456527|\n",
      "|      google|    454779|\n",
      "|        desu|    453646|\n",
      "|     calling|    452353|\n",
      "|       brain|    451638|\n",
      "|         cut|    451590|\n",
      "|       enjoy|    450591|\n",
      "|       taken|    450408|\n",
      "|         alt|    449152|\n",
      "|     current|    449102|\n",
      "|      reddit|    448884|\n",
      "|      voting|    448196|\n",
      "|        hear|    448027|\n",
      "|         car|    447953|\n",
      "|       asian|    447728|\n",
      "|     leftist|    446037|\n",
      "|        gone|    445578|\n",
      "|     created|    444421|\n",
      "|     germans|    444401|\n",
      "|     college|    443573|\n",
      "|       idiot|    442781|\n",
      "|       image|    442244|\n",
      "|         gas|    441775|\n",
      "|       brown|    440803|\n",
      "|          tv|    439728|\n",
      "|      create|    439713|\n",
      "|    problems|    438931|\n",
      "|      father|    437858|\n",
      "|     clearly|    437158|\n",
      "|         son|    434617|\n",
      "|    reminder|    434376|\n",
      "|      market|    434132|\n",
      "|      higher|    432869|\n",
      "|    supposed|    432349|\n",
      "|       proof|    431508|\n",
      "|      female|    431131|\n",
      "|       syria|    430298|\n",
      "|        porn|    430289|\n",
      "|        term|    429748|\n",
      "|        html|    429179|\n",
      "|      mother|    429016|\n",
      "|   attention|    426385|\n",
      "|           q|    426208|\n",
      "|       space|    425813|\n",
      "|      united|    425537|\n",
      "|       gives|    425481|\n",
      "|     foreign|    425291|\n",
      "|         mad|    424528|\n",
      "|     freedom|    424157|\n",
      "|       issue|    422963|\n",
      "|    fighting|    422745|\n",
      "|       smart|    421024|\n",
      "|        died|    420540|\n",
      "|       takes|    420339|\n",
      "|  difference|    420321|\n",
      "|        fall|    419821|\n",
      "|       known|    419482|\n",
      "|       stand|    418038|\n",
      "|       nazis|    417400|\n",
      "|         lie|    416826|\n",
      "|     article|    416464|\n",
      "|        mini|    415765|\n",
      "|          id|    414947|\n",
      "|        bill|    414867|\n",
      "|         fag|    414372|\n",
      "|        sort|    414289|\n",
      "|       large|    414121|\n",
      "|         bet|    413703|\n",
      "|   communist|    413414|\n",
      "|     obvious|    413158|\n",
      "|       civil|    412507|\n",
      "|     reading|    411647|\n",
      "|       legal|    411467|\n",
      "|conservative|    411217|\n",
      "|     finally|    410685|\n",
      "|       three|    410554|\n",
      "|         boy|    410350|\n",
      "|  immigrants|    410208|\n",
      "|    millions|    407825|\n",
      "|        hold|    407457|\n",
      "|        link|    407405|\n",
      "|     massive|    407069|\n",
      "|      posted|    406923|\n",
      "|      amount|    406173|\n",
      "|       taxes|    405960|\n",
      "|     usually|    405153|\n",
      "|        team|    402911|\n",
      "|     shouldn|    402590|\n",
      "|       truly|    402153|\n",
      "|  christians|    401741|\n",
      "|       pussy|    401451|\n",
      "|     opinion|    400832|\n",
      "|     running|    399543|\n",
      "|      sweden|    398710|\n",
      "|   education|    398400|\n",
      "|      longer|    398239|\n",
      "|      cucked|    397962|\n",
      "|        none|    397371|\n",
      "|       prove|    395047|\n",
      "|        weak|    394528|\n",
      "|        area|    394343|\n",
      "|         cia|    392191|\n",
      "|        iran|    391574|\n",
      "|         bro|    391490|\n",
      "|          le|    391389|\n",
      "|        send|    391369|\n",
      "|        joke|    390795|\n",
      "|      groups|    390662|\n",
      "|       cares|    390265|\n",
      "|       third|    390161|\n",
      "|      mexico|    390000|\n",
      "|    language|    389937|\n",
      "|      couple|    389754|\n",
      "|       trust|    388435|\n",
      "|    absolute|    388356|\n",
      "|     science|    388172|\n",
      "|    campaign|    387088|\n",
      "|      forget|    387045|\n",
      "| information|    386977|\n",
      "|      humans|    386864|\n",
      "|        hair|    386467|\n",
      "|       voted|    384481|\n",
      "|         hot|    384113|\n",
      "|      cities|    383895|\n",
      "|      seeing|    383385|\n",
      "|        deep|    382814|\n",
      "|       early|    381390|\n",
      "|       japan|    381146|\n",
      "|        type|    380682|\n",
      "|        pick|    380448|\n",
      "|      nature|    380076|\n",
      "|     totally|    380020|\n",
      "|      donald|    379962|\n",
      "|      poland|    379711|\n",
      "|       value|    379217|\n",
      "|        baby|    379006|\n",
      "|      listen|    378149|\n",
      "|     nations|    377622|\n",
      "| interesting|    377119|\n",
      "|       daily|    376082|\n",
      "|       local|    375916|\n",
      "|      simple|    373221|\n",
      "|     literal|    372975|\n",
      "|       blame|    372073|\n",
      "|       cucks|    371972|\n",
      "|       sound|    371118|\n",
      "|     telling|    371082|\n",
      "|      easily|    370523|\n",
      "|          ww|    370314|\n",
      "|       month|    370131|\n",
      "|       meant|    369960|\n",
      "|      follow|    369700|\n",
      "|       doubt|    369261|\n",
      "|    pathetic|    369171|\n",
      "|     natural|    368857|\n",
      "|     correct|    368617|\n",
      "|       trash|    368613|\n",
      "|         fbi|    368607|\n",
      "|       major|    368233|\n",
      "|        isis|    368224|\n",
      "|      expect|    366939|\n",
      "|        near|    366931|\n",
      "|  disgusting|    366789|\n",
      "|       hands|    366635|\n",
      "|      forced|    366546|\n",
      "|       trade|    366196|\n",
      "|       often|    365856|\n",
      "|        sage|    365650|\n",
      "|       peace|    365530|\n",
      "|   europeans|    365465|\n",
      "|    economic|    365020|\n",
      "|        fags|    364832|\n",
      "|       front|    363494|\n",
      "|     nuclear|    363468|\n",
      "|     certain|    363205|\n",
      "|    violence|    362831|\n",
      "|     biggest|    361938|\n",
      "|       shows|    361752|\n",
      "|       crazy|    361593|\n",
      "|     serious|    361177|\n",
      "|       bible|    360589|\n",
      "|    straight|    359959|\n",
      "|         ban|    359176|\n",
      "|      empire|    359058|\n",
      "|       light|    358551|\n",
      "|    movement|    357593|\n",
      "|      energy|    357517|\n",
      "|        late|    357053|\n",
      "|    leftists|    356730|\n",
      "|      accept|    356587|\n",
      "|      border|    355874|\n",
      "|   situation|    355563|\n",
      "|       piece|    354195|\n",
      "|   socialism|    354142|\n",
      "|    russians|    353989|\n",
      "|        suck|    353357|\n",
      "|     african|    353329|\n",
      "|    shithole|    353294|\n",
      "|       break|    352497|\n",
      "|     numbers|    352287|\n",
      "|       fucks|    351681|\n",
      "|     towards|    351343|\n",
      "|      antifa|    351199|\n",
      "|         dog|    350672|\n",
      "|  definitely|    350341|\n",
      "|      mental|    349190|\n",
      "|     company|    348750|\n",
      "|       above|    348635|\n",
      "|      turned|    348553|\n",
      "|     welfare|    348484|\n",
      "|      paying|    347966|\n",
      "|      worked|    347406|\n",
      "|       weird|    346725|\n",
      "|    continue|    346564|\n",
      "|         goy|    346470|\n",
      "|   community|    345720|\n",
      "|   otherwise|    345409|\n",
      "|         per|    345003|\n",
      "|       total|    344507|\n",
      "|  experience|    344343|\n",
      "|        skin|    344046|\n",
      "|        lead|    343594|\n",
      "|     similar|    343208|\n",
      "|      defend|    342750|\n",
      "|       music|    342718|\n",
      "|      commie|    342518|\n",
      "|        safe|    342292|\n",
      "|        push|    342008|\n",
      "|     playing|    341894|\n",
      "|        list|    341840|\n",
      "|      inside|    341836|\n",
      "|        wars|    341553|\n",
      "|    shooting|    341180|\n",
      "|         nah|    340981|\n",
      "|      cancer|    340458|\n",
      "|         cnn|    340219|\n",
      "|     private|    339359|\n",
      "|  capitalism|    339242|\n",
      "|    consider|    337241|\n",
      "|    complete|    336763|\n",
      "|        rate|    336707|\n",
      "|   according|    336304|\n",
      "|  everywhere|    335115|\n",
      "|         kys|    334477|\n",
      "|        rule|    334422|\n",
      "|      places|    334042|\n",
      "|     deserve|    334011|\n",
      "|      sexual|    333910|\n",
      "+------------+----------+\n",
      "only showing top 1000 rows"
     ]
    }
   ],
   "source": [
    "df5 = df4.select(explode(split(lower(\"com\"), \"[\\W0-9]\")).alias(\"term\"))\n",
    "df6 = df5.groupBy(\"term\").count().sort(\"count\", ascending=False)\n",
    "\n"
   ]
  },
  {
   "cell_type": "code",
   "execution_count": 21,
   "metadata": {},
   "outputs": [
    {
     "data": {
      "application/vnd.jupyter.widget-view+json": {
       "model_id": "50fd90356a2d4c20b52d036266795704",
       "version_major": 2,
       "version_minor": 0
      },
      "text/plain": [
       "VBox()"
      ]
     },
     "metadata": {},
     "output_type": "display_data"
    },
    {
     "data": {
      "application/vnd.jupyter.widget-view+json": {
       "model_id": "",
       "version_major": 2,
       "version_minor": 0
      },
      "text/plain": [
       "FloatProgress(value=0.0, bar_style='info', description='Progress:', layout=Layout(height='25px', width='50%'),…"
      ]
     },
     "metadata": {},
     "output_type": "display_data"
    }
   ],
   "source": [
    "(df6.write\n",
    " .option(\"path\", f\"{input_bucket}/raiders-lost-kek/raiders-terms/\")\n",
    " .option(\"mode\", \"overwrite\")\n",
    " .saveAsTable(\"raiders.terms\", mode='overwrite', compression='gzip')\n",
    ")\n"
   ]
  },
  {
   "cell_type": "code",
   "execution_count": 17,
   "metadata": {},
   "outputs": [
    {
     "data": {
      "application/vnd.jupyter.widget-view+json": {
       "model_id": "0879cb09e0184f4d83a2b971679eccb5",
       "version_major": 2,
       "version_minor": 0
      },
      "text/plain": [
       "VBox()"
      ]
     },
     "metadata": {},
     "output_type": "display_data"
    },
    {
     "data": {
      "application/vnd.jupyter.widget-view+json": {
       "model_id": "",
       "version_major": 2,
       "version_minor": 0
      },
      "text/plain": [
       "FloatProgress(value=0.0, bar_style='info', description='Progress:', layout=Layout(height='25px', width='50%'),…"
      ]
     },
     "metadata": {},
     "output_type": "display_data"
    },
    {
     "name": "stdout",
     "output_type": "stream",
     "text": [
      "2880642"
     ]
    }
   ],
   "source": [
    "df5"
   ]
  },
  {
   "cell_type": "code",
   "execution_count": null,
   "metadata": {},
   "outputs": [],
   "source": [
    "spark.sql(\"\"\"\n",
    "describe table extended raiders.raiders_partitioned\n",
    "\"\"\")."
   ]
  },
  {
   "cell_type": "code",
   "execution_count": null,
   "metadata": {},
   "outputs": [],
   "source": []
  },
  {
   "cell_type": "markdown",
   "metadata": {},
   "source": [
    "In the section below, remove F. prefix"
   ]
  },
  {
   "cell_type": "code",
   "execution_count": null,
   "metadata": {},
   "outputs": [],
   "source": [
    "df2=df.select(explode(df.posts).alias(\"posts\"))\n",
    "df3=df2.select(df2.posts.no.alias('number'),\n",
    "              df2.posts.sub.alias('subject'),\n",
    "              df2.posts.country.alias('country'),\n",
    "              from_unixtime(df2.posts.time).alias('time'),\n",
    "              df2.posts.country_name.alias('country_name'),\n",
    "              df2.posts.troll_country.alias('troll_country'),\n",
    "              df2.posts.com.alias('text'),\n",
    "              df2.posts.replies.alias('replies'),\n",
    "              )\n",
    "#df3.show(10)\n",
    "#df3.write.parquet(path=f\"{input_bucket}/raiders-lost-kek/raiders-training-zstd/\", mode='overwrite')\n"
   ]
  },
  {
   "cell_type": "code",
   "execution_count": null,
   "metadata": {},
   "outputs": [],
   "source": [
    "df3.write.option(\"path\", f\"{input_bucket}/raiders-lost-kek/raiders-training-zstd/\").option(\"compression\", \"zstd\").saveAsTable(\"raiders_zstd\")"
   ]
  },
  {
   "cell_type": "code",
   "execution_count": null,
   "metadata": {},
   "outputs": [],
   "source": [
    "spark.sql(\"show tables in raiders like '^[^p].*'\").show()"
   ]
  },
  {
   "cell_type": "code",
   "execution_count": null,
   "metadata": {},
   "outputs": [],
   "source": [
    "df = spark.read.parquet(\"s3://raiders-lost-kek-us-west-2/raiders-lost-kek/raiders-training/\")\n",
    "df.printSchema()\n"
   ]
  },
  {
   "cell_type": "code",
   "execution_count": null,
   "metadata": {},
   "outputs": [],
   "source": [
    "spark.sql(\"show tables\").show()"
   ]
  },
  {
   "cell_type": "code",
   "execution_count": null,
   "metadata": {},
   "outputs": [],
   "source": [
    "df3.printSchema()"
   ]
  },
  {
   "cell_type": "code",
   "execution_count": null,
   "metadata": {},
   "outputs": [],
   "source": [
    "df2.write.parquet(path=f\"{input_bucket}/raiders-lost-kek/raiders-new-from-ori\", mode='overwrite',compression='zstd')\n",
    "#.saveAsTable(\"raiders_new_from_ori\", mode=\"overwrite\")"
   ]
  },
  {
   "cell_type": "code",
   "execution_count": null,
   "metadata": {},
   "outputs": [],
   "source": [
    "spark.sql(\"show tables in raiders\").show()\n"
   ]
  },
  {
   "cell_type": "code",
   "execution_count": null,
   "metadata": {},
   "outputs": [],
   "source": [
    "input_bucket"
   ]
  },
  {
   "cell_type": "code",
   "execution_count": null,
   "metadata": {},
   "outputs": [],
   "source": [
    "df3.write.saveAsTable(\"kek\", mode=\"overwrite\", format=\"parquet\", path=f\"{input_bucket}/raiders-lost-kek/raiders_2020/\")"
   ]
  },
  {
   "cell_type": "code",
   "execution_count": null,
   "metadata": {},
   "outputs": [],
   "source": [
    "spark.sql(\"show tables in default\").show()"
   ]
  },
  {
   "cell_type": "code",
   "execution_count": null,
   "metadata": {},
   "outputs": [],
   "source": [
    "spark.sql(\"\"\"\n",
    "\n",
    "select country_name, troll_country, count(*)/1e6 as count_in_million\n",
    "from raiders.kek\n",
    "group by 1, 2\n",
    "order by 3 desc;\n",
    "\n",
    "\"\"\").show()"
   ]
  },
  {
   "cell_type": "code",
   "execution_count": null,
   "metadata": {},
   "outputs": [],
   "source": [
    "spark.sql(\"\"\"\n",
    "with all_posts as\n",
    "(\n",
    "select explode(posts) as cols from raiders.kek\n",
    ")\n",
    "select cols.country, count(*) as count\n",
    "from all_posts\n",
    "group by cols.country\n",
    "order by count desc\n",
    "\"\"\").show()"
   ]
  },
  {
   "cell_type": "code",
   "execution_count": null,
   "metadata": {},
   "outputs": [],
   "source": [
    "df = spark.read.parquet(\"s3://raiders-lost-kek-us-west-2/raiders-lost-kek/raiders-new-from-ori\")\n",
    "sqlContext.registerDataFrameAsTable(df, \"raiders\")\n",
    "spark.sql(\"describe table raiders\")"
   ]
  },
  {
   "cell_type": "code",
   "execution_count": null,
   "metadata": {},
   "outputs": [],
   "source": [
    "spark.sql(\"\"\"\n",
    "select posts.country_name, count(*) as count\n",
    "from raiders\n",
    "where posts.country_name is not null\n",
    "group by 1\n",
    "order by count desc\n",
    "\"\"\").show()"
   ]
  },
  {
   "cell_type": "code",
   "execution_count": null,
   "metadata": {},
   "outputs": [],
   "source": [
    "spark.sql(\"\"\"\n",
    "select count(*) as count\n",
    "from raiders\n",
    "where posts.country_name IS NULL\n",
    "\"\"\").show()"
   ]
  },
  {
   "cell_type": "code",
   "execution_count": null,
   "metadata": {},
   "outputs": [],
   "source": [
    "spark.sql(\"show tables from raiders_2\").show()"
   ]
  },
  {
   "cell_type": "code",
   "execution_count": null,
   "metadata": {},
   "outputs": [],
   "source": [
    "df2 = df.select(F.explode(df.Records).alias(\"exploded\"))\n",
    "#df2.groupby(\"exploded.eventType\", \"exploded.eventName\").count().sort(\"eventName\", ascending=True).show(250)\n",
    "df3 = (df2.filter(df2.exploded.eventName=='StartQueryExecution')\n",
    "          .filter(df2.exploded.ErrorCode.isNull())\n",
    "          .filter(df2.exploded.requestParameters.queryString.rlike('^SHOW')==False)\n",
    "         .select(df2.exploded.requestParameters.queryString.alias(\"queryString\"),\n",
    "                   df2.exploded.responseElements.queryExecutionId.alias(\"sessionId\"),\n",
    "                   df2.exploded.eventtime.alias(\"startTime\"),\n",
    "                   df2.exploded.eventtime.alias(\"sessionStartTime\"),\n",
    "                   df2.exploded.userIdentity.type.alias(\"userType\"),\n",
    "                   df2.exploded.userIdentity.userName.alias(\"userName\"),\n",
    "                   df2.exploded.userIdentity.principalid.alias(\"principalid\"),\n",
    "          ))\n",
    "df4 = (df3.withColumn(\"defaultDatabases\", F.lit(\"\"))\n",
    "    .withColumn(\"userName\", F.when(df3.userType==\"IAMUSer\", df3.userName).otherwise(df3.userName)))\n",
    "df4.show()\n",
    "df4.write.saveAsTable(\"athena_qli\", mode=\"overwrite\", format=\"parquet\", path=f\"s3://com.alationpro/athena_qli_from_spark/\")"
   ]
  },
  {
   "cell_type": "code",
   "execution_count": null,
   "metadata": {},
   "outputs": [],
   "source": [
    "#my_df = df4.toPandas()\n",
    "my_df.to_parquet(path=\"s3://com.alationpro/athena_qli_from_spark_pd/\", egine=\"auto\")"
   ]
  },
  {
   "cell_type": "code",
   "execution_count": null,
   "metadata": {},
   "outputs": [],
   "source": [
    "import sys\n",
    "sys.path"
   ]
  },
  {
   "cell_type": "code",
   "execution_count": null,
   "metadata": {},
   "outputs": [],
   "source": [
    "sys.executable"
   ]
  },
  {
   "cell_type": "code",
   "execution_count": null,
   "metadata": {},
   "outputs": [],
   "source": [
    "spark.sql(\"describe table athena_qli\").show()"
   ]
  },
  {
   "cell_type": "code",
   "execution_count": null,
   "metadata": {},
   "outputs": [],
   "source": [
    "spark.sql(\"\"\"\n",
    "SELECT\n",
    "  CASE CAST(useridentity.type AS VARCHAR)\n",
    "  WHEN 'AssumedRole'\n",
    "  THEN SUBSTR(useridentity.principalid, position(':' IN useridentity.principalid)+1)\n",
    "  WHEN 'IAMUser'\n",
    "  THEN useridentity.username\n",
    "  ELSE useridentity.username\n",
    "  END AS userName\n",
    "  ,' ' AS defaultDatabases -- <--- changed from 0 to one space\n",
    "  ,json_extract_scalar(responseElements, '$.queryExecutionId') AS sessionId\n",
    "  ,eventtime AS sessionStartTime\n",
    "  ,eventtime AS startTime\n",
    "  ,json_extract_scalar(requestParameters, '$.queryString') AS queryString\n",
    "  ,'null' AS milliseconds\n",
    "  FROM default.athena_qli\n",
    "  WHERE 1=1\n",
    "  AND region = 'us-west-2'\n",
    "  AND json_extract_scalar(requestParameters, '$.queryString') <> 'SHOW SCHEMAS'\n",
    "  AND json_extract_scalar(requestParameters, '$.queryString') NOT LIKE 'SHOW TABLES IN%'\n",
    "  AND json_extract_scalar(requestParameters, '$.queryString') <> 'SELECT 1'\n",
    "  AND CAST(ErrorCode AS VARCHAR) IS NULL\n",
    "  AND eventname = 'StartQueryExecution'\n",
    "\"\"\")"
   ]
  },
  {
   "cell_type": "code",
   "execution_count": null,
   "metadata": {},
   "outputs": [],
   "source": [
    "df3"
   ]
  },
  {
   "cell_type": "code",
   "execution_count": null,
   "metadata": {},
   "outputs": [],
   "source": [
    "input_bucket = 's3://com.alationpro/'\n",
    "input_path = '/big-data-training/event_history.json.gz'\n",
    "df = spark.read.json(input_bucket + input_path)\n",
    "df.printSchema()\n"
   ]
  },
  {
   "cell_type": "code",
   "execution_count": null,
   "metadata": {},
   "outputs": [],
   "source": [
    "input_bucket = 's3://aws-cloudtrail-logs-255149284406-4cec155e/'\n",
    "input_path = 'AWSLogs/255149284406/CloudTrail/us-west-2/2020/11/26/255149284406_CloudTrail_us-west-2_20201126T1055Z_76IDD8USYxbV1OnC.json.gz'\n",
    "#df = spark.read.json(input_bucket + input_path)\n",
    "#df.printSchema()\n",
    "df2 = df.select(F.explode(df.Records))\n",
    "df3 = df2.groupby(col(\"col.eventName\")).count()\n",
    "df3.select(col(\"eventName\"), col(\"count\")).sort(\"count\", ascending=False).show()"
   ]
  },
  {
   "cell_type": "code",
   "execution_count": null,
   "metadata": {},
   "outputs": [],
   "source": []
  }
 ],
 "metadata": {
  "kernelspec": {
   "display_name": "PySpark",
   "language": "",
   "name": "pysparkkernel"
  },
  "language_info": {
   "codemirror_mode": {
    "name": "python",
    "version": 3
   },
   "mimetype": "text/x-python",
   "name": "pyspark",
   "pygments_lexer": "python3"
  }
 },
 "nbformat": 4,
 "nbformat_minor": 4
}
